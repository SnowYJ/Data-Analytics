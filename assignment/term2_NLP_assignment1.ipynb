{
 "cells": [
  {
   "cell_type": "markdown",
   "metadata": {},
   "source": [
    "# [COM4513-6513] Assignment 1: Text Classification with Logistic Regression\n",
    "\n",
    "### Instructor: Nikos Aletras\n",
    "\n",
    "\n",
    "The goal of this assignment is to develop and test two text classification systems: \n",
    "\n",
    "- **Task 1:** sentiment analysis, in particular to predict the sentiment of movie review, i.e. positive or negative (binary classification).\n",
    "- **Task 2:** topic classification, to predict whether a news article is about International issues, Sports or Business (multiclass classification).\n",
    "\n",
    "\n",
    "For that purpose, you will implement:\n",
    "\n",
    "- Text processing methods for extracting Bag-Of-Word features, using (1) unigrams, bigrams and trigrams to obtain vector representations of documents. Two vector weighting schemes should be tested: (1) raw frequencies (**3 marks; 1 for each ngram type**); (2) tf.idf (**1 marks**). \n",
    "- Binary Logistic Regression classifiers that will be able to accurately classify movie reviews trained with (1) BOW-count (raw frequencies); and (2) BOW-tfidf (tf.idf weighted) for Task 1. \n",
    "- Multiclass Logistic Regression classifiers that will be able to accurately classify news articles trained with (1) BOW-count (raw frequencies); and (2) BOW-tfidf (tf.idf weighted) for Task 2. \n",
    "- The Stochastic Gradient Descent (SGD) algorithm to estimate the parameters of your Logistic Regression models. Your SGD algorithm should:\n",
    "    - Minimise the Binary Cross-entropy loss function for Task 1 (**3 marks**)\n",
    "    - Minimise the Categorical Cross-entropy loss function for Task 2 (**3 marks**)\n",
    "    - Use L2 regularisation (both tasks) (**1 mark**)\n",
    "    - Perform multiple passes (epochs) over the training data (**1 mark**)\n",
    "    - Randomise the order of training data after each pass (**1 mark**)\n",
    "    - Stop training if the difference between the current and previous validation loss is smaller than a threshold (**1 mark**)\n",
    "    - After each epoch print the training and development loss (**1 mark**)\n",
    "- Discuss how did you choose hyperparameters (e.g. learning rate and regularisation strength)?  (**2 marks; 0.5 for each model in each task**).\n",
    "- After training the LR models, plot the learning process (i.e. training and validation loss in each epoch) using a line plot (**1 mark; 0.5 for both BOW-count and BOW-tfidf LR models in each task**) and discuss if your model overfits/underfits/is about right.\n",
    "- Model interpretability by showing the most important features for each class (i.e. most positive/negative weights). Give the top 10 for each class and comment on whether they make sense (if they don't you might have a bug!).  If we were to apply the classifier we've learned into a different domain such laptop reviews or restaurant reviews, do you think these features would generalise well? Can you propose what features the classifier could pick up as important in the new domain? (**2 marks; 0.5 for BOW-count and BOW-tfidf LR models respectively in each task**)\n",
    "\n",
    "\n",
    "### Data - Task 1 \n",
    "\n",
    "The data you will use for Task 1 are taken from here: [http://www.cs.cornell.edu/people/pabo/movie-review-data/](http://www.cs.cornell.edu/people/pabo/movie-review-data/) and you can find it in the `./data_sentiment` folder in CSV format:\n",
    "\n",
    "- `data_sentiment/train.csv`: contains 1,400 reviews, 700 positive (label: 1) and 700 negative (label: 0) to be used for training.\n",
    "- `data_sentiment/dev.csv`: contains 200 reviews, 100 positive and 100 negative to be used for hyperparameter selection and monitoring the training process.\n",
    "- `data_sentiment/test.csv`: contains 400 reviews, 200 positive and 200 negative to be used for testing.\n",
    "\n",
    "### Data - Task 2\n",
    "\n",
    "The data you will use for Task 2 is a subset of the [AG News Corpus](http://groups.di.unipi.it/~gulli/AG_corpus_of_news_articles.html) and you can find it in the `./data_topic` folder in CSV format:\n",
    "\n",
    "- `data_topic/train.csv`: contains 2,400 news articles, 800 for each class to be used for training.\n",
    "- `data_topic/dev.csv`: contains 150 news articles, 50 for each class to be used for hyperparameter selection and monitoring the training process.\n",
    "- `data_topic/test.csv`: contains 900 news articles, 300 for each class to be used for testing.\n",
    "\n",
    "\n",
    "### Submission Instructions\n",
    "\n",
    "You should submit a Jupyter Notebook file (assignment1.ipynb) and an exported PDF version (you can do it from Jupyter: `File->Download as->PDF via Latex`).\n",
    "\n",
    "You are advised to follow the code structure given in this notebook by completing all given funtions. You can also write any auxilliary/helper functions (and arguments for the functions) that you might need but note that you can provide a full solution without any such functions. Similarly, you can just use only the packages imported below but you are free to use any functionality from the [Python Standard Library](https://docs.python.org/2/library/index.html), NumPy, SciPy and Pandas. You are not allowed to use any third-party library such as Scikit-learn (apart from metric functions already provided), NLTK, Spacy, Keras etc..\n",
    "\n",
    "Please make sure to comment your code. You should also mention if you've used Windows (not recommended) to write and test your code. There is no single correct answer on what your accuracy should be, but correct implementations usually achieve F1-scores around 80\\% or higher. The quality of the analysis of the results is as important as the accuracy itself. \n",
    "\n",
    "This assignment will be marked out of 20. It is worth 20\\% of your final grade in the module.\n",
    "\n",
    "The deadline for this assignment is **23:59 on Fri, 20 Mar 2020** and it needs to be submitted via MOLE. Standard departmental penalties for lateness will be applied. We use a range of strategies to detect [unfair means](https://www.sheffield.ac.uk/ssid/unfair-means/index), including Turnitin which helps detect plagiarism, so make sure you do not plagiarise.\n",
    "\n"
   ]
  },
  {
   "cell_type": "code",
   "execution_count": 1,
   "metadata": {
    "ExecuteTime": {
     "end_time": "2020-02-15T14:31:36.292691Z",
     "start_time": "2020-02-15T14:31:35.549108Z"
    }
   },
   "outputs": [],
   "source": [
    "import pandas as pd\n",
    "import numpy as np\n",
    "from collections import Counter\n",
    "import re\n",
    "import matplotlib.pyplot as plt\n",
    "from sklearn.metrics import accuracy_score, precision_score, recall_score, f1_score\n",
    "import random\n",
    "\n",
    "# fixing random seed for reproducibility\n",
    "random.seed(123)\n",
    "np.random.seed(123)"
   ]
  },
  {
   "cell_type": "markdown",
   "metadata": {},
   "source": [
    "## Load Raw texts and labels into arrays\n",
    "\n",
    "First, you need to load the training, development and test sets from their corresponding CSV files (tip: you can use Pandas dataframes)."
   ]
  },
  {
   "cell_type": "code",
   "execution_count": 2,
   "metadata": {
    "ExecuteTime": {
     "end_time": "2020-02-15T14:17:28.145788Z",
     "start_time": "2020-02-15T14:17:28.066100Z"
    }
   },
   "outputs": [],
   "source": [
    "# fill in your code...\n",
    "train_sent = pd.read_csv(\"data_sentiment/train.csv\", header=None, names=[\"train\", \"label\"])\n",
    "valid_sent = pd.read_csv(\"data_sentiment/dev.csv\", header=None, names=[\"valid\", \"label\"])\n",
    "test_sent = pd.read_csv(\"data_sentiment/test.csv\", header=None, names=[\"test\", \"label\"])"
   ]
  },
  {
   "cell_type": "markdown",
   "metadata": {},
   "source": [
    "If you use Pandas you can see a sample of the data."
   ]
  },
  {
   "cell_type": "code",
   "execution_count": 3,
   "metadata": {
    "ExecuteTime": {
     "end_time": "2020-02-15T14:17:28.900892Z",
     "start_time": "2020-02-15T14:17:28.891221Z"
    }
   },
   "outputs": [
    {
     "data": {
      "text/html": [
       "<div>\n",
       "<style scoped>\n",
       "    .dataframe tbody tr th:only-of-type {\n",
       "        vertical-align: middle;\n",
       "    }\n",
       "\n",
       "    .dataframe tbody tr th {\n",
       "        vertical-align: top;\n",
       "    }\n",
       "\n",
       "    .dataframe thead th {\n",
       "        text-align: right;\n",
       "    }\n",
       "</style>\n",
       "<table border=\"1\" class=\"dataframe\">\n",
       "  <thead>\n",
       "    <tr style=\"text-align: right;\">\n",
       "      <th></th>\n",
       "      <th>valid</th>\n",
       "      <th>label</th>\n",
       "    </tr>\n",
       "  </thead>\n",
       "  <tbody>\n",
       "    <tr>\n",
       "      <th>0</th>\n",
       "      <td>if he doesn=92t watch out , mel gibson is in d...</td>\n",
       "      <td>1</td>\n",
       "    </tr>\n",
       "    <tr>\n",
       "      <th>1</th>\n",
       "      <td>wong kar-wei's \" fallen angels \" is , on a pur...</td>\n",
       "      <td>1</td>\n",
       "    </tr>\n",
       "    <tr>\n",
       "      <th>2</th>\n",
       "      <td>there is nothing like american history x in th...</td>\n",
       "      <td>1</td>\n",
       "    </tr>\n",
       "    <tr>\n",
       "      <th>3</th>\n",
       "      <td>an unhappy italian housewife , a lonely waiter...</td>\n",
       "      <td>1</td>\n",
       "    </tr>\n",
       "    <tr>\n",
       "      <th>4</th>\n",
       "      <td>when people are talking about good old times ,...</td>\n",
       "      <td>1</td>\n",
       "    </tr>\n",
       "  </tbody>\n",
       "</table>\n",
       "</div>"
      ],
      "text/plain": [
       "                                               valid  label\n",
       "0  if he doesn=92t watch out , mel gibson is in d...      1\n",
       "1  wong kar-wei's \" fallen angels \" is , on a pur...      1\n",
       "2  there is nothing like american history x in th...      1\n",
       "3  an unhappy italian housewife , a lonely waiter...      1\n",
       "4  when people are talking about good old times ,...      1"
      ]
     },
     "execution_count": 3,
     "metadata": {},
     "output_type": "execute_result"
    }
   ],
   "source": [
    "train_sent.head()\n",
    "\n",
    "valid_sent.head()"
   ]
  },
  {
   "cell_type": "markdown",
   "metadata": {},
   "source": [
    "The next step is to put the raw texts into Python lists and their corresponding labels into NumPy arrays:\n"
   ]
  },
  {
   "cell_type": "code",
   "execution_count": 4,
   "metadata": {
    "ExecuteTime": {
     "end_time": "2020-02-15T14:17:31.115577Z",
     "start_time": "2020-02-15T14:17:31.108038Z"
    }
   },
   "outputs": [],
   "source": [
    "# fill in your code...\n",
    "train_sent_list = list(train_sent.loc[:, \"train\"])\n",
    "train_sent_label_arr = np.array(train_sent.loc[:, \"label\"]).reshape(1, -1)\n",
    "\n",
    "valid_sent_list = list(valid_sent.loc[:, \"valid\"])\n",
    "valid_sent_label_arr = np.array(valid_sent.loc[:, \"label\"]).reshape(1, -1)\n",
    "\n",
    "test_sent_list = list(test_sent.loc[:, \"test\"])\n",
    "test_sent_label_arr = np.array(test_sent.loc[:, \"label\"])"
   ]
  },
  {
   "cell_type": "markdown",
   "metadata": {},
   "source": [
    "# Bag-of-Words Representation \n",
    "\n",
    "\n",
    "To train and test Logisitc Regression models, you first need to obtain vector representations for all documents given a vocabulary of features (unigrams, bigrams, trigrams).\n",
    "\n",
    "\n",
    "## Text Pre-Processing Pipeline\n",
    "\n",
    "To obtain a vocabulary of features, you should: \n",
    "- tokenise all texts into a list of unigrams (tip: using a regular expression) \n",
    "- remove stop words (using the one provided or one of your preference) \n",
    "- compute bigrams, trigrams given the remaining unigrams\n",
    "- remove ngrams appearing in less than K documents\n",
    "- use the remaining to create a vocabulary of unigrams, bigrams and trigrams (you can keep top N if you encounter memory issues).\n"
   ]
  },
  {
   "cell_type": "code",
   "execution_count": 5,
   "metadata": {
    "ExecuteTime": {
     "end_time": "2020-02-15T14:17:31.860420Z",
     "start_time": "2020-02-15T14:17:31.855439Z"
    }
   },
   "outputs": [],
   "source": [
    "stop_words = ['a','in','on','at','and','or', \n",
    "              'to', 'the', 'of', 'an', 'by', \n",
    "              'as', 'is', 'was', 'were', 'been', 'be', \n",
    "              'are','for', 'this', 'that', 'these', 'those', 'you', 'i',\n",
    "             'it', 'he', 'she', 'we', 'they' 'will', 'have', 'has',\n",
    "              'do', 'did', 'can', 'could', 'who', 'which', 'what', \n",
    "             'his', 'her', 'they', 'them', 'from', 'with', 'its']"
   ]
  },
  {
   "cell_type": "markdown",
   "metadata": {},
   "source": [
    "### N-gram extraction from a document\n",
    "\n",
    "You first need to implement the `extract_ngrams` function. It takes as input:\n",
    "- `x_raw`: a string corresponding to the raw text of a document\n",
    "- `ngram_range`: a tuple of two integers denoting the type of ngrams you want to extract, e.g. (1,2) denotes extracting unigrams and bigrams.\n",
    "- `token_pattern`: a string to be used within a regular expression to extract all tokens. Note that data is already tokenised so you could opt for a simple white space tokenisation.\n",
    "- `stop_words`: a list of stop words\n",
    "- `vocab`: a given vocabulary. It should be used to extract specific features.\n",
    "\n",
    "and returns:\n",
    "\n",
    "- a list of all extracted features.\n",
    "\n",
    "See the examples below to see how this function should work."
   ]
  },
  {
   "cell_type": "code",
   "execution_count": 6,
   "metadata": {
    "ExecuteTime": {
     "end_time": "2020-02-15T14:17:33.169090Z",
     "start_time": "2020-02-15T14:17:33.161268Z"
    }
   },
   "outputs": [],
   "source": [
    "def extract_ngrams(x_raw, ngram_range=(1,3), token_pattern=r'\\b[A-Za-z][A-Za-z]+\\b', stop_words=[], vocab=set()):\n",
    "    # fill in your code...\n",
    "    pattern = re.compile(token_pattern)\n",
    "    x= []\n",
    "    # 1. tokenise all texts into a list of unigrams.\n",
    "    x_raw = pattern.findall(x_raw.lower())\n",
    "\n",
    "    # 2. remove stop words.\n",
    "    x_new = [i for i in x_raw if i not in stop_words]\n",
    "    len_x_new = len(x_new)\n",
    "    \n",
    "    # 3. compute ngram.\n",
    "    for n in range(ngram_range[0]+1, ngram_range[1]+1): \n",
    "        for i in range(len_x_new-n+1):\n",
    "            x_new.append(tuple(x_new[i:i+n]))\n",
    "    \n",
    "    # 4. create a vocabulary(list) of uni, bi, tri.\n",
    "    for i in x_new:\n",
    "        if len(vocab) != 0:\n",
    "            if i in vocab:\n",
    "                x.append(i)\n",
    "        else:\n",
    "            x.append(i)\n",
    "        \n",
    "    return x"
   ]
  },
  {
   "cell_type": "code",
   "execution_count": 7,
   "metadata": {
    "scrolled": true
   },
   "outputs": [
    {
     "data": {
      "text/plain": [
       "['great',\n",
       " 'movie',\n",
       " 'watch',\n",
       " ('great', 'movie'),\n",
       " ('movie', 'watch'),\n",
       " ('great', 'movie', 'watch')]"
      ]
     },
     "execution_count": 7,
     "metadata": {},
     "output_type": "execute_result"
    }
   ],
   "source": [
    "extract_ngrams(\"this is a great movie to watch\", \n",
    "               ngram_range=(1,3), \n",
    "               stop_words=stop_words)"
   ]
  },
  {
   "cell_type": "code",
   "execution_count": 8,
   "metadata": {
    "ExecuteTime": {
     "end_time": "2020-02-15T14:17:34.278189Z",
     "start_time": "2020-02-15T14:17:34.273722Z"
    }
   },
   "outputs": [
    {
     "data": {
      "text/plain": [
       "['great', ('great', 'movie')]"
      ]
     },
     "execution_count": 8,
     "metadata": {},
     "output_type": "execute_result"
    }
   ],
   "source": [
    "extract_ngrams(\"this is a great movie to watch\", \n",
    "               ngram_range=(1,2), \n",
    "               stop_words=stop_words, \n",
    "               vocab=set(['great', ('great','movie')]) )"
   ]
  },
  {
   "cell_type": "markdown",
   "metadata": {},
   "source": [
    "Note that it is OK to represent n-grams using lists instead of tuples: e.g. `['great', ['great', 'movie']]`"
   ]
  },
  {
   "cell_type": "markdown",
   "metadata": {},
   "source": [
    "### Create a vocabulary of n-grams\n",
    "\n",
    "Then the `get_vocab` function will be used to (1) create a vocabulary of ngrams; (2) count the document frequencies of ngrams; (3) their raw frequency. It takes as input:\n",
    "- `X_raw`: a list of strings each corresponding to the raw text of a document\n",
    "- `ngram_range`: a tuple of two integers denoting the type of ngrams you want to extract, e.g. (1,2) denotes extracting unigrams and bigrams.\n",
    "- `token_pattern`: a string to be used within a regular expression to extract all tokens. Note that data is already tokenised so you could opt for a simple white space tokenisation.\n",
    "- `stop_words`: a list of stop words\n",
    "- `vocab`: a given vocabulary. It should be used to extract specific features.\n",
    "- `min_df`: keep ngrams with a minimum document frequency.\n",
    "- `keep_topN`: keep top-N more frequent ngrams.\n",
    "\n",
    "and returns:\n",
    "\n",
    "- `vocab`: a set of the n-grams that will be used as features.\n",
    "- `df`: a Counter (or dict) that contains ngrams as keys and their corresponding document frequency as values.\n",
    "- `ngram_counts`: counts of each ngram in vocab\n",
    "\n",
    "Hint: it should make use of the `extract_ngrams` function."
   ]
  },
  {
   "cell_type": "code",
   "execution_count": 9,
   "metadata": {},
   "outputs": [],
   "source": [
    "def get_vocab(X_raw, ngram_range=(1,3), token_pattern=r'\\b[A-Za-z][A-Za-z]+\\b', min_df=0, keep_topN=0, stop_words=[]):\n",
    "    # fill in your code...\n",
    "    df, ngram_counts = dict(), dict()\n",
    "    \n",
    "    for l in X_raw:\n",
    "        doc_list = extract_ngrams(l, ngram_range, token_pattern, stop_words, set()) \n",
    "        # key and counts have the same keys.\n",
    "        key = list(set(doc_list))\n",
    "        counts = Counter(doc_list) \n",
    "        for k in key:\n",
    "            # df.\n",
    "            df[k] = (df[k]+1) if k in df else 1\n",
    "            # tf.\n",
    "            ngram_counts[k] = (ngram_counts[k]+counts[k]) if k in ngram_counts else counts[k]   \n",
    "            \n",
    "    # min_df.\n",
    "    if min_df != 0:\n",
    "        df_values = np.array(list(df.values())) # to array.\n",
    "        df_values[df_values < min_df] = min_df\n",
    "        df = dict(zip(df.keys(), df_values))\n",
    "    \n",
    "    # sort df and ngram_counts.\n",
    "    df = Counter(dict(sorted(df.items(),key=lambda x:x[1], reverse=True)))\n",
    "    ngram_counts = dict(sorted(ngram_counts.items(),key=lambda x:x[1], reverse=True))\n",
    "    vocab = list(ngram_counts.keys()) # using tf.\n",
    "    \n",
    "    # Top n: update vocab, df and ngram_counts.\n",
    "    if keep_topN != 0:\n",
    "        # don't choose topN df.\n",
    "        df = Counter(dict(zip(list(df.keys()), list(df.values()))))\n",
    "        ngram_counts = dict(zip(list(ngram_counts.keys())[:keep_topN], list(ngram_counts.values())[:keep_topN]))\n",
    "        # using topN tf as vocab.\n",
    "        vocab = list(ngram_counts.keys())[:keep_topN]\n",
    "        \n",
    "    return vocab, df, ngram_counts"
   ]
  },
  {
   "cell_type": "markdown",
   "metadata": {},
   "source": [
    "Now you should use `get_vocab` to create your vocabulary and get document and raw frequencies of n-grams:"
   ]
  },
  {
   "cell_type": "code",
   "execution_count": 10,
   "metadata": {
    "ExecuteTime": {
     "end_time": "2020-02-15T14:17:39.319793Z",
     "start_time": "2020-02-15T14:17:36.836545Z"
    }
   },
   "outputs": [
    {
     "name": "stdout",
     "output_type": "stream",
     "text": [
      "5000\n"
     ]
    }
   ],
   "source": [
    "# train_sent_df is not sorted and has the different order with features.\n",
    "features, train_sent_df, _ = get_vocab(train_sent_list, ngram_range=(1,3), keep_topN=5000, stop_words=stop_words)\n",
    "\n",
    "print(len(features)) # from training set."
   ]
  },
  {
   "cell_type": "markdown",
   "metadata": {},
   "source": [
    "Then, you need to create vocabulary id -> word and id -> word dictionaries for reference:"
   ]
  },
  {
   "cell_type": "code",
   "execution_count": 11,
   "metadata": {
    "ExecuteTime": {
     "end_time": "2020-02-15T14:17:39.326811Z",
     "start_time": "2020-02-15T14:17:39.322256Z"
    },
    "scrolled": true
   },
   "outputs": [],
   "source": [
    "# the dictionary will be created in vectorise(). see below."
   ]
  },
  {
   "cell_type": "markdown",
   "metadata": {},
   "source": [
    "Now you should be able to extract n-grams for each text in the training, development and test sets:"
   ]
  },
  {
   "cell_type": "markdown",
   "metadata": {},
   "source": [
    "## Vectorise documents "
   ]
  },
  {
   "cell_type": "markdown",
   "metadata": {},
   "source": [
    "Next, write a function `vectoriser` to obtain Bag-of-ngram representations for a list of documents. The function should take as input:\n",
    "- `X_ngram`: a list of texts (documents), where each text is represented as list of n-grams in the `vocab`\n",
    "- `vocab`: a set of n-grams to be used for representing the documents\n",
    "\n",
    "and return:\n",
    "- `X_vec`: an array with dimensionality Nx|vocab| where N is the number of documents and |vocab| is the size of the vocabulary. Each element of the array should represent the frequency of a given n-gram in a document.\n"
   ]
  },
  {
   "cell_type": "code",
   "execution_count": 12,
   "metadata": {
    "ExecuteTime": {
     "end_time": "2020-02-15T14:17:40.219201Z",
     "start_time": "2020-02-15T14:17:40.215129Z"
    }
   },
   "outputs": [],
   "source": [
    "def vectorise(X_ngram, vocab):\n",
    "    X_ngram_dict = dict()\n",
    "    for i, l in enumerate(X_ngram):\n",
    "        # create a dict that follows vocab order.\n",
    "        X_ngram_dict[i] = dict(zip(vocab, len(vocab)*[0]))\n",
    "        # extract features from doc.\n",
    "        doc_ngrams = extract_ngrams(l, ngram_range=(1,3), token_pattern=r'\\b[A-Za-z][A-Za-z]+\\b', stop_words=stop_words, vocab=vocab) \n",
    "        # update this dict by doc_ngrams.\n",
    "        X_ngram_dict[i].update(dict(Counter(doc_ngrams).most_common()))\n",
    "        \n",
    "    # change X_ngram from dict to list.\n",
    "    X_ngram_list = list()\n",
    "    for k, v in X_ngram_dict.items():\n",
    "        X_ngram_list.append(list(v.values()))    \n",
    "    \n",
    "    # change to array.\n",
    "    X_vec = np.array(X_ngram_list)\n",
    "    \n",
    "    return X_vec"
   ]
  },
  {
   "cell_type": "markdown",
   "metadata": {},
   "source": [
    "Finally, use `vectorise` to obtain document vectors for each document in the train, development and test set. You should extract both count and tf.idf vectors respectively:"
   ]
  },
  {
   "cell_type": "markdown",
   "metadata": {},
   "source": [
    "#### Count vectors"
   ]
  },
  {
   "cell_type": "code",
   "execution_count": 13,
   "metadata": {
    "ExecuteTime": {
     "end_time": "2020-02-15T14:17:41.999574Z",
     "start_time": "2020-02-15T14:17:40.376534Z"
    }
   },
   "outputs": [
    {
     "name": "stdout",
     "output_type": "stream",
     "text": [
      "(1400, 5000)\n",
      "(200, 5000)\n",
      "(400, 5000)\n"
     ]
    }
   ],
   "source": [
    "# fill in your code...\n",
    "vocab = set(features)\n",
    "X_tr_tf = vectorise(train_sent_list, vocab)\n",
    "X_val_tf = vectorise(valid_sent_list, vocab)\n",
    "X_te_tf = vectorise(test_sent_list, vocab)\n",
    "\n",
    "print(X_tr_tf.shape)\n",
    "print(X_val_tf.shape)\n",
    "print(X_te_tf.shape)"
   ]
  },
  {
   "cell_type": "markdown",
   "metadata": {},
   "source": [
    "#### TF.IDF vectors\n",
    "\n",
    "First compute `idfs` an array containing inverted document frequencies (Note: its elements should correspond to your `vocab`)"
   ]
  },
  {
   "cell_type": "code",
   "execution_count": 14,
   "metadata": {},
   "outputs": [
    {
     "name": "stdout",
     "output_type": "stream",
     "text": [
      "5000\n"
     ]
    }
   ],
   "source": [
    "# df of training set keeps same order with vocab.\n",
    "train_sent_df_order = dict(zip(vocab, len(vocab)*[0]))\n",
    "\n",
    "for i in vocab:\n",
    "    train_sent_df_order[i] = train_sent_df[i]\n",
    "    \n",
    "print(len(train_sent_df_order))"
   ]
  },
  {
   "cell_type": "code",
   "execution_count": 15,
   "metadata": {
    "ExecuteTime": {
     "end_time": "2020-02-15T14:17:42.022692Z",
     "start_time": "2020-02-15T14:17:42.012315Z"
    }
   },
   "outputs": [
    {
     "name": "stdout",
     "output_type": "stream",
     "text": [
      "(5000,)\n",
      "(5000,)\n",
      "(5000,)\n"
     ]
    }
   ],
   "source": [
    "# training df, idfs.\n",
    "X_tr_df = np.array(list(train_sent_df_order.values()))\n",
    "X_tr_idfs = np.log10(X_tr_tf.shape[0]/X_tr_df)\n",
    "\n",
    "# valid df, idfs.\n",
    "X_val_df = sum(X_val_tf != 0) + 1\n",
    "X_val_idfs = np.log10(X_val_tf.shape[0]/X_val_df)\n",
    "\n",
    "# testing df, idfs.\n",
    "X_te_df = sum(X_te_tf != 0) + 1\n",
    "X_te_idfs = np.log10(X_te_tf.shape[0]/X_te_df)\n",
    "\n",
    "print(X_tr_idfs.shape)\n",
    "print(X_val_idfs.shape)\n",
    "print(X_te_idfs.shape)"
   ]
  },
  {
   "cell_type": "markdown",
   "metadata": {},
   "source": [
    "Then transform your count vectors to tf.idf vectors:"
   ]
  },
  {
   "cell_type": "code",
   "execution_count": 16,
   "metadata": {
    "ExecuteTime": {
     "end_time": "2020-02-15T14:17:42.802265Z",
     "start_time": "2020-02-15T14:17:42.752448Z"
    }
   },
   "outputs": [
    {
     "name": "stdout",
     "output_type": "stream",
     "text": [
      "(1400, 5000)\n",
      "(200, 5000)\n",
      "(400, 5000)\n"
     ]
    }
   ],
   "source": [
    "# training tf.idf.\n",
    "X_tr_tfidf = X_tr_tf*X_tr_idfs\n",
    "\n",
    "# valid tf.idf.\n",
    "X_val_tfidf = X_val_tf*X_val_idfs\n",
    "\n",
    "# testing tf.idf.\n",
    "X_te_tfidf = X_te_tf*X_te_idfs\n",
    "\n",
    "print(X_tr_tfidf.shape)\n",
    "print(X_val_tfidf.shape)\n",
    "print(X_te_tfidf.shape)"
   ]
  },
  {
   "cell_type": "markdown",
   "metadata": {},
   "source": [
    "# Binary Logistic Regression\n",
    "\n",
    "After obtaining vector representations of the data, now you are ready to implement Binary Logistic Regression for classifying sentiment."
   ]
  },
  {
   "cell_type": "markdown",
   "metadata": {},
   "source": [
    "First, you need to implement the `sigmoid` function. It takes as input:\n",
    "\n",
    "- `z`: a real number or an array of real numbers \n",
    "\n",
    "and returns:\n",
    "\n",
    "- `sig`: the sigmoid of `z`"
   ]
  },
  {
   "cell_type": "code",
   "execution_count": 17,
   "metadata": {
    "ExecuteTime": {
     "end_time": "2020-02-15T14:17:44.160661Z",
     "start_time": "2020-02-15T14:17:44.157902Z"
    }
   },
   "outputs": [],
   "source": [
    "def sigmoid(z):\n",
    "    z = 1 / (1 + np.exp(-z)) \n",
    "    return z"
   ]
  },
  {
   "cell_type": "code",
   "execution_count": 18,
   "metadata": {
    "ExecuteTime": {
     "end_time": "2020-02-15T14:17:44.351292Z",
     "start_time": "2020-02-15T14:17:44.346822Z"
    }
   },
   "outputs": [
    {
     "name": "stdout",
     "output_type": "stream",
     "text": [
      "0.5\n",
      "[0.00669285 0.76852478]\n"
     ]
    }
   ],
   "source": [
    "print(sigmoid(0)) \n",
    "print(sigmoid(np.array([-5., 1.2])))"
   ]
  },
  {
   "cell_type": "markdown",
   "metadata": {},
   "source": [
    "Then, implement the `predict_proba` function to obtain prediction probabilities. It takes as input:\n",
    "\n",
    "- `X`: an array of inputs, i.e. documents represented by bag-of-ngram vectors ($N \\times |vocab|$)\n",
    "- `weights`: a 1-D array of the model's weights $(1, |vocab|)$\n",
    "\n",
    "and returns:\n",
    "\n",
    "- `preds_proba`: the prediction probabilities of X given the weights"
   ]
  },
  {
   "cell_type": "code",
   "execution_count": 19,
   "metadata": {
    "ExecuteTime": {
     "end_time": "2020-02-15T14:17:44.718566Z",
     "start_time": "2020-02-15T14:17:44.715017Z"
    }
   },
   "outputs": [],
   "source": [
    "def predict_proba(X, weights):\n",
    "    preds_proba = sigmoid(np.dot(X, weights.T))\n",
    "    return preds_proba"
   ]
  },
  {
   "cell_type": "markdown",
   "metadata": {},
   "source": [
    "Then, implement the `predict_class` function to obtain the most probable class for each vector in an array of input vectors. It takes as input:\n",
    "\n",
    "- `X`: an array of documents represented by bag-of-ngram vectors ($N \\times |vocab|$)\n",
    "- `weights`: a 1-D array of the model's weights $(1, |vocab|)$\n",
    "\n",
    "and returns:\n",
    "\n",
    "- `preds_class`: the predicted class for each x in X given the weights"
   ]
  },
  {
   "cell_type": "code",
   "execution_count": 20,
   "metadata": {
    "ExecuteTime": {
     "end_time": "2020-02-15T14:17:45.002125Z",
     "start_time": "2020-02-15T14:17:44.998668Z"
    }
   },
   "outputs": [],
   "source": [
    "def predict_class(X, weights):\n",
    "    \n",
    "    # fill in your code...\n",
    "    preds_class = (predict_proba(X, weights) > 0.5).astype(int)\n",
    "    \n",
    "    return preds_class"
   ]
  },
  {
   "cell_type": "markdown",
   "metadata": {},
   "source": [
    "To learn the weights from data, we need to minimise the binary cross-entropy loss. Implement `binary_loss` that takes as input:\n",
    "\n",
    "- `X`: input vectors\n",
    "- `Y`: labels\n",
    "- `weights`: model weights\n",
    "- `alpha`: regularisation strength\n",
    "\n",
    "and return:\n",
    "\n",
    "- `l`: the loss score"
   ]
  },
  {
   "cell_type": "code",
   "execution_count": 21,
   "metadata": {
    "ExecuteTime": {
     "end_time": "2020-02-15T14:17:45.455533Z",
     "start_time": "2020-02-15T14:17:45.451475Z"
    }
   },
   "outputs": [],
   "source": [
    "def binary_loss(X, Y, weights, alpha=0.00001):\n",
    "    \n",
    "    # fill in your code...\n",
    "    prob = predict_proba(X, weights) # (1, 1400)\n",
    "    l = np.mean(-Y*np.log(prob) - (1 - Y)*np.log(1-prob)) + (weights**2).sum() / Y.shape[1]\n",
    "\n",
    "    return l"
   ]
  },
  {
   "cell_type": "markdown",
   "metadata": {},
   "source": [
    "Now, you can implement Stochastic Gradient Descent to learn the weights of your sentiment classifier. The `SGD` function takes as input:\n",
    "\n",
    "- `X_tr`: array of training data (vectors)\n",
    "- `Y_tr`: labels of `X_tr`\n",
    "- `X_dev`: array of development (i.e. validation) data (vectors)\n",
    "- `Y_dev`: labels of `X_dev`\n",
    "- `lr`: learning rate\n",
    "- `alpha`: regularisation strength\n",
    "- `epochs`: number of full passes over the training data\n",
    "- `tolerance`: stop training if the difference between the current and previous validation loss is smaller than a threshold\n",
    "- `print_progress`: flag for printing the training progress (train/validation loss)\n",
    "\n",
    "\n",
    "and returns:\n",
    "\n",
    "- `weights`: the weights learned\n",
    "- `training_loss_history`: an array with the average losses of the whole training set after each epoch\n",
    "- `validation_loss_history`: an array with the average losses of the whole development set after each epoch"
   ]
  },
  {
   "cell_type": "code",
   "execution_count": 22,
   "metadata": {
    "ExecuteTime": {
     "end_time": "2020-02-15T14:17:45.968510Z",
     "start_time": "2020-02-15T14:17:45.958185Z"
    }
   },
   "outputs": [],
   "source": [
    "def SGD(X_tr, Y_tr, X_dev=[], Y_dev=[], loss=\"binary\", lr=0.1, alpha=0.00001, tolerance=0, epochs=5, print_progress=True):\n",
    "    \n",
    "    cur_loss_tr = 1.\n",
    "    cur_loss_dev = 1.\n",
    "    training_loss_history = []\n",
    "    validation_loss_history = []\n",
    "    \n",
    "    # weights and gradient of weights.\n",
    "    w = np.zeros(X_tr.shape[1])\n",
    "    \n",
    "    # index of dataset for shuffle.\n",
    "    X_tr_len = X_tr.shape[0]\n",
    "    index = [i for i in range(X_tr_len)]\n",
    "    \n",
    "    for epo in range(1, epochs+1):\n",
    "        # shuffle index.\n",
    "        random.shuffle(index)\n",
    "        for i in index:\n",
    "            x_tr, y_tr = X_tr[i], Y_tr[0, i]\n",
    "            gW = (predict_proba(x_tr, w) - y_tr)*x_tr  + 2*alpha*w\n",
    "            w -= lr*gW\n",
    "            \n",
    "        # loss.\n",
    "        tr_loss = binary_loss(X_tr, Y_tr, w, alpha)\n",
    "        val_loss = binary_loss(X_dev, Y_dev, w, alpha)\n",
    "        \n",
    "        training_loss_history.append(tr_loss)\n",
    "        validation_loss_history.append(val_loss)\n",
    "        \n",
    "        if print_progress == True:\n",
    "            print(\"Epoch: \",epo, \"| Training loss: \", tr_loss,\"| Validation loss: \", val_loss)\n",
    "            \n",
    "        # the last 1 valid loss < last 2 valid loss && the difference between them < tolerance. \n",
    "        if epo >= 2:\n",
    "            if  (tolerance != 0) & ((validation_loss_history[-2] - validation_loss_history[-1]) <= tolerance) & (validation_loss_history[-2] > validation_loss_history[-1]):\n",
    "                print(\"stop training.\")\n",
    "                break;\n",
    "    \n",
    "    return w, training_loss_history, validation_loss_history"
   ]
  },
  {
   "cell_type": "markdown",
   "metadata": {},
   "source": [
    "## task1.1 Train and Evaluate Logistic Regression with Count vectors\n",
    "\n",
    "First train the model using SGD:"
   ]
  },
  {
   "cell_type": "code",
   "execution_count": 23,
   "metadata": {
    "scrolled": true
   },
   "outputs": [
    {
     "name": "stdout",
     "output_type": "stream",
     "text": [
      "Epoch:  1 | Training loss:  0.628182700346381 | Validation loss:  0.6463229793929016\n",
      "Epoch:  2 | Training loss:  0.5841374938885272 | Validation loss:  0.6161727621698808\n",
      "Epoch:  3 | Training loss:  0.5513529118126342 | Validation loss:  0.5954022769727237\n",
      "Epoch:  4 | Training loss:  0.5231557488290833 | Validation loss:  0.5751733456073743\n",
      "Epoch:  5 | Training loss:  0.500692719743889 | Validation loss:  0.560427429659141\n",
      "Epoch:  6 | Training loss:  0.48150814808641307 | Validation loss:  0.5482805646680041\n",
      "Epoch:  7 | Training loss:  0.46478220404705595 | Validation loss:  0.5385129781925732\n",
      "Epoch:  8 | Training loss:  0.4500614231746038 | Validation loss:  0.5298982291565775\n",
      "Epoch:  9 | Training loss:  0.4369409903532592 | Validation loss:  0.5223618432284192\n",
      "Epoch:  10 | Training loss:  0.4248456112195385 | Validation loss:  0.5141616479767984\n",
      "Epoch:  11 | Training loss:  0.4140755927621455 | Validation loss:  0.508966578744997\n",
      "Epoch:  12 | Training loss:  0.4059949086402756 | Validation loss:  0.5028871897587728\n",
      "Epoch:  13 | Training loss:  0.3947568641951841 | Validation loss:  0.49692522043324916\n",
      "Epoch:  14 | Training loss:  0.38620182191890934 | Validation loss:  0.4929023126331365\n",
      "Epoch:  15 | Training loss:  0.37810172086712235 | Validation loss:  0.48783047930909545\n",
      "Epoch:  16 | Training loss:  0.3708053089119468 | Validation loss:  0.4836499443478846\n",
      "Epoch:  17 | Training loss:  0.36371073864151904 | Validation loss:  0.48054511143588785\n",
      "Epoch:  18 | Training loss:  0.35700683805080735 | Validation loss:  0.4765002414503829\n",
      "Epoch:  19 | Training loss:  0.3510633027118247 | Validation loss:  0.47414605037723784\n",
      "Epoch:  20 | Training loss:  0.34530861442600835 | Validation loss:  0.47138512931283805\n",
      "Epoch:  21 | Training loss:  0.33962840551076934 | Validation loss:  0.4683758860748413\n",
      "Epoch:  22 | Training loss:  0.3345079769505139 | Validation loss:  0.4647609660283284\n",
      "Epoch:  23 | Training loss:  0.3289582331860168 | Validation loss:  0.4621295890536205\n",
      "Epoch:  24 | Training loss:  0.3243035013944724 | Validation loss:  0.4607400241734842\n",
      "Epoch:  25 | Training loss:  0.32039852242386824 | Validation loss:  0.45967423620230224\n",
      "Epoch:  26 | Training loss:  0.31494159684267886 | Validation loss:  0.4557762641900444\n",
      "Epoch:  27 | Training loss:  0.31109100458501804 | Validation loss:  0.45467563030791036\n",
      "Epoch:  28 | Training loss:  0.3068432931607215 | Validation loss:  0.4525207614752544\n",
      "Epoch:  29 | Training loss:  0.30329233957047935 | Validation loss:  0.45136935975308196\n",
      "Epoch:  30 | Training loss:  0.2994334837983169 | Validation loss:  0.44860848629722355\n",
      "Epoch:  31 | Training loss:  0.29528745994442795 | Validation loss:  0.44682219308718174\n",
      "Epoch:  32 | Training loss:  0.29201180441155955 | Validation loss:  0.44605882242312\n",
      "Epoch:  33 | Training loss:  0.2884088605337608 | Validation loss:  0.44420033866160785\n",
      "Epoch:  34 | Training loss:  0.285113204326519 | Validation loss:  0.44278174461910275\n",
      "Epoch:  35 | Training loss:  0.28199581237290205 | Validation loss:  0.4415781498523201\n",
      "Epoch:  36 | Training loss:  0.27889832504066325 | Validation loss:  0.4402654055775793\n",
      "Epoch:  37 | Training loss:  0.2760357936396309 | Validation loss:  0.43927443310244146\n",
      "Epoch:  38 | Training loss:  0.27315948711993815 | Validation loss:  0.4377220633562265\n",
      "Epoch:  39 | Training loss:  0.2704710227977784 | Validation loss:  0.43717435411284783\n",
      "Epoch:  40 | Training loss:  0.26762541930760586 | Validation loss:  0.43562826283566664\n",
      "Epoch:  41 | Training loss:  0.26497008257347826 | Validation loss:  0.4348099508111701\n",
      "Epoch:  42 | Training loss:  0.26278756248543206 | Validation loss:  0.43454070020849744\n",
      "Epoch:  43 | Training loss:  0.25995311137024185 | Validation loss:  0.4328795075215746\n",
      "Epoch:  44 | Training loss:  0.257623292739984 | Validation loss:  0.43200772957810646\n",
      "Epoch:  45 | Training loss:  0.25526606572484417 | Validation loss:  0.4313934461049027\n",
      "Epoch:  46 | Training loss:  0.25294586990845497 | Validation loss:  0.43048946435198515\n",
      "Epoch:  47 | Training loss:  0.2507376397952011 | Validation loss:  0.4297407312358341\n",
      "Epoch:  48 | Training loss:  0.2487462308862033 | Validation loss:  0.429370330390829\n",
      "Epoch:  49 | Training loss:  0.24672013186592512 | Validation loss:  0.4284042207878775\n",
      "Epoch:  50 | Training loss:  0.24446396071560467 | Validation loss:  0.42773466101497365\n",
      "Epoch:  51 | Training loss:  0.2426206586303573 | Validation loss:  0.427080759296113\n",
      "Epoch:  52 | Training loss:  0.24054734683009413 | Validation loss:  0.4264288147983305\n",
      "Epoch:  53 | Training loss:  0.23876240966049453 | Validation loss:  0.4259289082227146\n",
      "Epoch:  54 | Training loss:  0.23691889587864773 | Validation loss:  0.4256475977845737\n",
      "Epoch:  55 | Training loss:  0.23496109875861593 | Validation loss:  0.4248361053827651\n",
      "Epoch:  56 | Training loss:  0.23320758968062272 | Validation loss:  0.42423274760518703\n",
      "Epoch:  57 | Training loss:  0.23158190022704603 | Validation loss:  0.4240346858740687\n",
      "Epoch:  58 | Training loss:  0.2298145449148101 | Validation loss:  0.42329759801199035\n",
      "Epoch:  59 | Training loss:  0.22819956700573585 | Validation loss:  0.42305415296104487\n",
      "Epoch:  60 | Training loss:  0.22655193066146412 | Validation loss:  0.4225567746115165\n",
      "Epoch:  61 | Training loss:  0.22501789531935917 | Validation loss:  0.4222063131234801\n",
      "Epoch:  62 | Training loss:  0.22344497746244313 | Validation loss:  0.4217536290824439\n",
      "Epoch:  63 | Training loss:  0.22188499635627318 | Validation loss:  0.4212114090985617\n",
      "Epoch:  64 | Training loss:  0.22039636921162367 | Validation loss:  0.42085388520234923\n",
      "Epoch:  65 | Training loss:  0.21894727373540018 | Validation loss:  0.4205158726308972\n",
      "Epoch:  66 | Training loss:  0.21752918865002785 | Validation loss:  0.4201866147634699\n",
      "Epoch:  67 | Training loss:  0.21615414779207295 | Validation loss:  0.4199316146389865\n",
      "Epoch:  68 | Training loss:  0.21480752155460758 | Validation loss:  0.4196601052901915\n",
      "Epoch:  69 | Training loss:  0.2137153554801119 | Validation loss:  0.41974585803425735\n",
      "Epoch:  70 | Training loss:  0.21228596342003414 | Validation loss:  0.4192851558546216\n",
      "Epoch:  71 | Training loss:  0.21086834569071883 | Validation loss:  0.41873653666293276\n",
      "Epoch:  72 | Training loss:  0.2096150340668611 | Validation loss:  0.41855037369871034\n",
      "Epoch:  73 | Training loss:  0.20836956981892854 | Validation loss:  0.41823114823591406\n",
      "Epoch:  74 | Training loss:  0.20714841749330637 | Validation loss:  0.41799289254274263\n",
      "Epoch:  75 | Training loss:  0.20596152731467615 | Validation loss:  0.417787851488531\n",
      "Epoch:  76 | Training loss:  0.20490613950024342 | Validation loss:  0.417611632568078\n",
      "Epoch:  77 | Training loss:  0.20380319469807973 | Validation loss:  0.4176325658387622\n",
      "Epoch:  78 | Training loss:  0.20254632206643727 | Validation loss:  0.417208684847158\n",
      "Epoch:  79 | Training loss:  0.20142243927971926 | Validation loss:  0.41695312139940227\n",
      "Epoch:  80 | Training loss:  0.20034205509488864 | Validation loss:  0.416781651913387\n",
      "Epoch:  81 | Training loss:  0.19941515404221616 | Validation loss:  0.4168292451287109\n",
      "Epoch:  82 | Training loss:  0.1982258061311496 | Validation loss:  0.41638544789116416\n",
      "Epoch:  83 | Training loss:  0.1972009086333762 | Validation loss:  0.4161958540327151\n",
      "Epoch:  84 | Training loss:  0.1964160602908316 | Validation loss:  0.4164239137440093\n",
      "Epoch:  85 | Training loss:  0.1953294038802536 | Validation loss:  0.4159867335279985\n",
      "Epoch:  86 | Training loss:  0.1942785263043155 | Validation loss:  0.41575736988378514\n",
      "Epoch:  87 | Training loss:  0.1936511813218048 | Validation loss:  0.41597466879652\n",
      "Epoch:  88 | Training loss:  0.19231382866974844 | Validation loss:  0.41542631341996633\n",
      "Epoch:  89 | Training loss:  0.19145126952148678 | Validation loss:  0.41531976376438623\n",
      "Epoch:  90 | Training loss:  0.19049324841374152 | Validation loss:  0.41516403670851904\n",
      "Epoch:  91 | Training loss:  0.18959044802258723 | Validation loss:  0.4150465663566204\n",
      "Epoch:  92 | Training loss:  0.18870789635108826 | Validation loss:  0.4149498743738398\n",
      "stop training.\n"
     ]
    }
   ],
   "source": [
    "# X_tr_tfidf = (1400, 5000); train_sent_label_arr = (1, 1400); w = (5000,)\n",
    "\n",
    "w_count, loss_tr_count, dev_loss_count = SGD(X_tr_tf, train_sent_label_arr, \n",
    "                                             X_dev=X_val_tf, \n",
    "                                             Y_dev=valid_sent_label_arr, \n",
    "                                             lr=0.0001, \n",
    "                                             alpha=0.01, \n",
    "                                             tolerance=0.0001,\n",
    "                                             epochs=100)"
   ]
  },
  {
   "cell_type": "markdown",
   "metadata": {},
   "source": [
    "Now plot the training and validation history per epoch. Does your model underfit, overfit or is it about right? Explain why."
   ]
  },
  {
   "cell_type": "markdown",
   "metadata": {},
   "source": [
    "## task1.1.1 hyperparameter choose:"
   ]
  },
  {
   "cell_type": "code",
   "execution_count": 24,
   "metadata": {},
   "outputs": [
    {
     "name": "stdout",
     "output_type": "stream",
     "text": [
      "alpha: 0.0001\n",
      "alpha: 0.001\n",
      "alpha: 0.01\n",
      "alpha: 0.1\n",
      "alpha: 0.5\n"
     ]
    },
    {
     "data": {
      "text/plain": [
       "<matplotlib.legend.Legend at 0x1a2c0b2978>"
      ]
     },
     "execution_count": 24,
     "metadata": {},
     "output_type": "execute_result"
    },
    {
     "data": {
      "image/png": "[encoded data removed]",
      "text/plain": [
       "<Figure size 432x288 with 1 Axes>"
      ]
     },
     "metadata": {
      "needs_background": "light"
     },
     "output_type": "display_data"
    }
   ],
   "source": [
    "alpha = [0.0001, 0.001, 0.01, 0.1, 0.5]\n",
    "dev_loss_count_list = list()\n",
    "\n",
    "for a in alpha:\n",
    "    print(\"alpha: \"+str(a))\n",
    "    _, _, dev_loss_count_1 = SGD(X_tr_tf, train_sent_label_arr, X_dev=X_val_tf, Y_dev=valid_sent_label_arr, lr=0.0001, alpha=a, epochs=100, print_progress=False)\n",
    "    dev_loss_count_list.append(dev_loss_count_1)\n",
    "\n",
    "plt.figure()\n",
    "for i in range(5):\n",
    "    l = [i for i in range(1, len(dev_loss_count_list[i])+1)]\n",
    "    plt.plot(l, dev_loss_count_list[i], label=alpha[i])\n",
    "plt.legend()"
   ]
  },
  {
   "cell_type": "code",
   "execution_count": 25,
   "metadata": {},
   "outputs": [
    {
     "name": "stdout",
     "output_type": "stream",
     "text": [
      "learning rate: 5e-05\n",
      "learning rate: 0.0001\n",
      "learning rate: 0.001\n",
      "learning rate: 0.005\n"
     ]
    },
    {
     "data": {
      "text/plain": [
       "<matplotlib.legend.Legend at 0x1a1d9040b8>"
      ]
     },
     "execution_count": 25,
     "metadata": {},
     "output_type": "execute_result"
    },
    {
     "data": {
      "image/png": "[encoded data removed]",
      "text/plain": [
       "<Figure size 432x288 with 1 Axes>"
      ]
     },
     "metadata": {
      "needs_background": "light"
     },
     "output_type": "display_data"
    }
   ],
   "source": [
    "lr = [0.00005, 0.0001, 0.001, 0.005]\n",
    "dev_loss_count_list = list()\n",
    "\n",
    "for l in lr:\n",
    "    print(\"learning rate: \"+str(l))\n",
    "    _, _, dev_loss_count_1 = SGD(X_tr_tf, train_sent_label_arr, X_dev=X_val_tf, Y_dev=valid_sent_label_arr, lr=l, alpha=0.01, epochs=100, print_progress=False)\n",
    "    dev_loss_count_list.append(dev_loss_count_1)\n",
    "\n",
    "plt.figure()\n",
    "for i in range(4):\n",
    "    l = [i for i in range(1, len(dev_loss_count_list[i])+1)]\n",
    "    plt.plot(l, dev_loss_count_list[i], label=lr[i])\n",
    "plt.legend()"
   ]
  },
  {
   "cell_type": "markdown",
   "metadata": {},
   "source": [
    "**According to the result above, learning rate and regularisation strength should be  0.0001 and 0.001 respectively.**"
   ]
  },
  {
   "cell_type": "markdown",
   "metadata": {},
   "source": [
    "## task1.1.2 plot train and valid loss:"
   ]
  },
  {
   "cell_type": "code",
   "execution_count": 26,
   "metadata": {
    "ExecuteTime": {
     "end_time": "2020-02-15T14:17:51.598911Z",
     "start_time": "2020-02-15T14:17:51.482307Z"
    }
   },
   "outputs": [
    {
     "data": {
      "text/plain": [
       "<matplotlib.legend.Legend at 0x1a1ffc5f60>"
      ]
     },
     "execution_count": 26,
     "metadata": {},
     "output_type": "execute_result"
    },
    {
     "data": {
      "image/png": "[encoded data removed]",
      "text/plain": [
       "<Figure size 432x288 with 1 Axes>"
      ]
     },
     "metadata": {
      "needs_background": "light"
     },
     "output_type": "display_data"
    }
   ],
   "source": [
    "# loss_tr_count, dev_loss_count\n",
    "epochs = [i for i in range(1, len(loss_tr_count)+1)]\n",
    "plt.figure()\n",
    "plt.plot(epochs, loss_tr_count, label=\"train\")\n",
    "plt.plot(epochs, dev_loss_count, label=\"validation\")\n",
    "plt.legend()"
   ]
  },
  {
   "cell_type": "markdown",
   "metadata": {
    "ExecuteTime": {
     "end_time": "2020-01-21T16:52:26.583150Z",
     "start_time": "2020-01-21T16:52:26.578754Z"
    }
   },
   "source": [
    "**Conclusion : the model is overfitting because the train loss is far smaller than validation loss. Moreover, the validation loss is stable after 20 epoch however, training loss is still decreasing.**"
   ]
  },
  {
   "cell_type": "markdown",
   "metadata": {},
   "source": [
    "## task1.1.3 Compute accuracy, precision, recall and F1-scores:"
   ]
  },
  {
   "cell_type": "code",
   "execution_count": 27,
   "metadata": {
    "ExecuteTime": {
     "end_time": "2020-02-15T14:37:40.569499Z",
     "start_time": "2020-02-15T14:37:40.566796Z"
    }
   },
   "outputs": [
    {
     "name": "stdout",
     "output_type": "stream",
     "text": [
      "Accuracy: 0.8375\n",
      "Precision: 0.8325123152709359\n",
      "Recall: 0.845\n",
      "F1-Score: 0.8387096774193549\n"
     ]
    }
   ],
   "source": [
    "# fill in your code...\n",
    "preds_te_count = predict_class(X_te_tf, w_count)\n",
    "Y_te = test_sent_label_arr\n",
    "\n",
    "print('Accuracy:', accuracy_score(Y_te,preds_te_count))\n",
    "print('Precision:', precision_score(Y_te,preds_te_count))\n",
    "print('Recall:', recall_score(Y_te,preds_te_count))\n",
    "print('F1-Score:', f1_score(Y_te,preds_te_count))"
   ]
  },
  {
   "cell_type": "markdown",
   "metadata": {},
   "source": [
    "## task1.1.4 Print the top-10 words for the negative and positive class respectively:"
   ]
  },
  {
   "cell_type": "code",
   "execution_count": 28,
   "metadata": {
    "ExecuteTime": {
     "end_time": "2020-02-15T14:37:07.638179Z",
     "start_time": "2020-02-15T14:37:07.635838Z"
    }
   },
   "outputs": [
    {
     "name": "stdout",
     "output_type": "stream",
     "text": [
      "['great', 'well', 'seen', 'fun', 'also', 'many', 'life', 'movies', 'both', 'world']\n"
     ]
    }
   ],
   "source": [
    "# positive.\n",
    "dict_vocab_w = dict(zip(w_count, vocab))\n",
    "dict_vocab_w_order = dict(sorted(dict_vocab_w.items(), key=lambda item: item[0], reverse=True))\n",
    "print(list(dict_vocab_w_order.values())[:10])"
   ]
  },
  {
   "cell_type": "code",
   "execution_count": 29,
   "metadata": {
    "ExecuteTime": {
     "end_time": "2020-02-15T14:37:08.381103Z",
     "start_time": "2020-02-15T14:37:08.378641Z"
    }
   },
   "outputs": [
    {
     "name": "stdout",
     "output_type": "stream",
     "text": [
      "['supposed', 'nothing', 'any', 'plot', 'why', 'boring', 'worst', 'script', 'only', 'unfortunately']\n"
     ]
    }
   ],
   "source": [
    "# negative.\n",
    "print(list(dict_vocab_w_order.values())[-11:-1])"
   ]
  },
  {
   "cell_type": "markdown",
   "metadata": {},
   "source": [
    "**If we were to apply the classifier we've learned into a different domain such laptop reviews or restaurant reviews, do you think these features would generalise well? Can you propose what features the classifier could pick up as important in the new domain?**"
   ]
  },
  {
   "cell_type": "markdown",
   "metadata": {},
   "source": [
    "Provide your answer here...\n",
    "\n",
    "**those sentiment words, such as 'great', 'worst', might be useful in new domain because these words are very common to use when people express their emotion. In laptop review, for example, the review could be expressed as 'this laptop is great' or 'it is the worst'.**"
   ]
  },
  {
   "cell_type": "markdown",
   "metadata": {},
   "source": [
    "## task1.2 Train and Evaluate Logistic Regression with TF.IDF vectors\n",
    "\n",
    "Follow the same steps as above (i.e. evaluating count n-gram representations).\n"
   ]
  },
  {
   "cell_type": "code",
   "execution_count": 30,
   "metadata": {
    "ExecuteTime": {
     "end_time": "2020-02-15T14:17:54.414637Z",
     "start_time": "2020-02-15T14:17:51.625934Z"
    },
    "scrolled": true
   },
   "outputs": [
    {
     "name": "stdout",
     "output_type": "stream",
     "text": [
      "Epoch:  1 | Training loss:  0.6388326166558195 | Validation loss:  0.6659941224189072\n",
      "Epoch:  2 | Training loss:  0.597003531844976 | Validation loss:  0.6452233084393001\n",
      "Epoch:  3 | Training loss:  0.5624917002857718 | Validation loss:  0.628021064764728\n",
      "Epoch:  4 | Training loss:  0.5334677529991304 | Validation loss:  0.6131912195444543\n",
      "Epoch:  5 | Training loss:  0.5082750536595131 | Validation loss:  0.600616648501783\n",
      "Epoch:  6 | Training loss:  0.48636411944582036 | Validation loss:  0.5896196036728479\n",
      "Epoch:  7 | Training loss:  0.4669325787791221 | Validation loss:  0.5797479463432231\n",
      "Epoch:  8 | Training loss:  0.44956457978397907 | Validation loss:  0.5708960113663518\n",
      "Epoch:  9 | Training loss:  0.4338652326332494 | Validation loss:  0.5629063509785364\n",
      "Epoch:  10 | Training loss:  0.4195831153862801 | Validation loss:  0.5556723506387417\n",
      "Epoch:  11 | Training loss:  0.40652600765824853 | Validation loss:  0.5490434058712494\n",
      "Epoch:  12 | Training loss:  0.3944919644549594 | Validation loss:  0.543009401611267\n",
      "Epoch:  13 | Training loss:  0.3833299941773997 | Validation loss:  0.5374298958190252\n",
      "Epoch:  14 | Training loss:  0.3729759569125978 | Validation loss:  0.5322348822654837\n",
      "Epoch:  15 | Training loss:  0.3633104566519897 | Validation loss:  0.5274264744109378\n",
      "Epoch:  16 | Training loss:  0.35427248427609537 | Validation loss:  0.5229028030023825\n",
      "Epoch:  17 | Training loss:  0.34576804878993406 | Validation loss:  0.5186833679031267\n",
      "Epoch:  18 | Training loss:  0.3377628395317395 | Validation loss:  0.5147537163470305\n",
      "Epoch:  19 | Training loss:  0.3302040163694917 | Validation loss:  0.5110147327195237\n",
      "Epoch:  20 | Training loss:  0.3230512030613035 | Validation loss:  0.5075100329203538\n",
      "Epoch:  21 | Training loss:  0.3162664194734219 | Validation loss:  0.5041675205229563\n",
      "Epoch:  22 | Training loss:  0.30981830806170807 | Validation loss:  0.5010145295529765\n",
      "Epoch:  23 | Training loss:  0.3036865857410909 | Validation loss:  0.4980733380778792\n",
      "Epoch:  24 | Training loss:  0.2978316640775037 | Validation loss:  0.4952131206411231\n",
      "Epoch:  25 | Training loss:  0.2922424212122056 | Validation loss:  0.49251007483446946\n",
      "Epoch:  26 | Training loss:  0.28689668243099065 | Validation loss:  0.48990557931694406\n",
      "Epoch:  27 | Training loss:  0.28177871057867565 | Validation loss:  0.48742758255846497\n",
      "Epoch:  28 | Training loss:  0.27687240941051555 | Validation loss:  0.48510594003162505\n",
      "Epoch:  29 | Training loss:  0.2721622908944235 | Validation loss:  0.48284754215414133\n",
      "Epoch:  30 | Training loss:  0.2676373168281663 | Validation loss:  0.4807307188860194\n",
      "Epoch:  31 | Training loss:  0.26328348500087434 | Validation loss:  0.4786550749524696\n",
      "Epoch:  32 | Training loss:  0.2590925045678886 | Validation loss:  0.4766823467357151\n",
      "Epoch:  33 | Training loss:  0.2550540880733383 | Validation loss:  0.4748196426819068\n",
      "Epoch:  34 | Training loss:  0.2511589580346788 | Validation loss:  0.472991771013881\n",
      "Epoch:  35 | Training loss:  0.24739954135688205 | Validation loss:  0.4711964159160704\n",
      "Epoch:  36 | Training loss:  0.24376678819257877 | Validation loss:  0.4695220617180893\n",
      "Epoch:  37 | Training loss:  0.24025419917426138 | Validation loss:  0.46794679582925924\n",
      "Epoch:  38 | Training loss:  0.23685879972831733 | Validation loss:  0.46643126758286496\n",
      "Epoch:  39 | Training loss:  0.23356994684424484 | Validation loss:  0.4649511874487911\n",
      "Epoch:  40 | Training loss:  0.23038441885399724 | Validation loss:  0.46352464842045826\n",
      "Epoch:  41 | Training loss:  0.22729403530809694 | Validation loss:  0.462106642576136\n",
      "Epoch:  42 | Training loss:  0.22429840743933285 | Validation loss:  0.4607601916274245\n",
      "Epoch:  43 | Training loss:  0.22139214499332235 | Validation loss:  0.45948056954683303\n",
      "Epoch:  44 | Training loss:  0.21857083125571336 | Validation loss:  0.4582452498169771\n",
      "Epoch:  45 | Training loss:  0.21582930554949953 | Validation loss:  0.45699939959302155\n",
      "Epoch:  46 | Training loss:  0.2131657346921506 | Validation loss:  0.4558555804601081\n",
      "Epoch:  47 | Training loss:  0.21057574860054878 | Validation loss:  0.45472856936769784\n",
      "Epoch:  48 | Training loss:  0.2080574831619134 | Validation loss:  0.4536184055679858\n",
      "Epoch:  49 | Training loss:  0.2056045047930255 | Validation loss:  0.4526121097611273\n",
      "Epoch:  50 | Training loss:  0.2032174034028286 | Validation loss:  0.45159733979917605\n",
      "Epoch:  51 | Training loss:  0.2008920315109702 | Validation loss:  0.45064277853983553\n",
      "Epoch:  52 | Training loss:  0.19862723521682807 | Validation loss:  0.4496656038007014\n",
      "Epoch:  53 | Training loss:  0.19641937288647127 | Validation loss:  0.4487458625884419\n",
      "Epoch:  54 | Training loss:  0.19426456176893167 | Validation loss:  0.44789846923548915\n",
      "Epoch:  55 | Training loss:  0.1921639531451876 | Validation loss:  0.4470602083193033\n",
      "Epoch:  56 | Training loss:  0.19011421702832032 | Validation loss:  0.44624290359600693\n",
      "Epoch:  57 | Training loss:  0.1881132083873108 | Validation loss:  0.44538725219810604\n",
      "Epoch:  58 | Training loss:  0.18616006897405427 | Validation loss:  0.4446034688975408\n",
      "Epoch:  59 | Training loss:  0.18425214231949086 | Validation loss:  0.4438428993083233\n",
      "Epoch:  60 | Training loss:  0.18238697014214944 | Validation loss:  0.44312822401174673\n",
      "Epoch:  61 | Training loss:  0.18056596241718306 | Validation loss:  0.44239003838583485\n",
      "Epoch:  62 | Training loss:  0.17878305195528085 | Validation loss:  0.4417456742172807\n",
      "Epoch:  63 | Training loss:  0.17704164665179 | Validation loss:  0.4410639817570263\n",
      "Epoch:  64 | Training loss:  0.17533671982766946 | Validation loss:  0.44046602218178116\n",
      "Epoch:  65 | Training loss:  0.17366994916995254 | Validation loss:  0.43980555927532716\n",
      "Epoch:  66 | Training loss:  0.17203783460800995 | Validation loss:  0.4392250111872722\n",
      "Epoch:  67 | Training loss:  0.1704404807890381 | Validation loss:  0.4386401026294958\n",
      "Epoch:  68 | Training loss:  0.16887659591668197 | Validation loss:  0.4380992036963952\n",
      "Epoch:  69 | Training loss:  0.16734468812871953 | Validation loss:  0.43751907861077255\n",
      "Epoch:  70 | Training loss:  0.1658440596914255 | Validation loss:  0.43699328346797633\n",
      "Epoch:  71 | Training loss:  0.16437372113425058 | Validation loss:  0.4364880073277538\n",
      "Epoch:  72 | Training loss:  0.16293288009432455 | Validation loss:  0.4359934518860475\n",
      "Epoch:  73 | Training loss:  0.1615205506129209 | Validation loss:  0.4355174963150945\n",
      "Epoch:  74 | Training loss:  0.16013507333632818 | Validation loss:  0.4350333745384609\n",
      "Epoch:  75 | Training loss:  0.15877717105157438 | Validation loss:  0.43459137225041694\n",
      "Epoch:  76 | Training loss:  0.15744445737282634 | Validation loss:  0.434122809299312\n",
      "Epoch:  77 | Training loss:  0.15613737450312193 | Validation loss:  0.43367254933387134\n",
      "Epoch:  78 | Training loss:  0.1548550825004539 | Validation loss:  0.4332309321898444\n",
      "Epoch:  79 | Training loss:  0.15359612646847454 | Validation loss:  0.4328534284413263\n",
      "Epoch:  80 | Training loss:  0.15236064091472878 | Validation loss:  0.4324755177564752\n",
      "Epoch:  81 | Training loss:  0.15114746418182662 | Validation loss:  0.43208840736332027\n",
      "Epoch:  82 | Training loss:  0.14995630325250947 | Validation loss:  0.4317022392567414\n",
      "Epoch:  83 | Training loss:  0.14878665911831476 | Validation loss:  0.43132974941683827\n",
      "Epoch:  84 | Training loss:  0.14763751664740996 | Validation loss:  0.4309838538994481\n",
      "Epoch:  85 | Training loss:  0.14650857949137688 | Validation loss:  0.43064386857512993\n",
      "Epoch:  86 | Training loss:  0.14539926804614026 | Validation loss:  0.43031753668632183\n",
      "Epoch:  87 | Training loss:  0.14430899575776096 | Validation loss:  0.43000323316444927\n",
      "Epoch:  88 | Training loss:  0.14323743366788738 | Validation loss:  0.42969496771178267\n",
      "Epoch:  89 | Training loss:  0.14218392155952655 | Validation loss:  0.42940679299919177\n",
      "Epoch:  90 | Training loss:  0.14114819507453033 | Validation loss:  0.42913169585906014\n",
      "Epoch:  91 | Training loss:  0.14012980904797512 | Validation loss:  0.42883374201793695\n",
      "Epoch:  92 | Training loss:  0.139128043916498 | Validation loss:  0.42857531644958435\n",
      "Epoch:  93 | Training loss:  0.1381427476500313 | Validation loss:  0.4283117880330944\n",
      "Epoch:  94 | Training loss:  0.13717349867426065 | Validation loss:  0.42804817270754886\n"
     ]
    },
    {
     "name": "stdout",
     "output_type": "stream",
     "text": [
      "Epoch:  95 | Training loss:  0.13621978261915357 | Validation loss:  0.4278162437753444\n",
      "Epoch:  96 | Training loss:  0.1352813855339232 | Validation loss:  0.42759181419203846\n",
      "Epoch:  97 | Training loss:  0.13435783452241729 | Validation loss:  0.4273663919444557\n",
      "Epoch:  98 | Training loss:  0.13344875198082917 | Validation loss:  0.42711927212639944\n",
      "Epoch:  99 | Training loss:  0.13255401649445156 | Validation loss:  0.4269254715457745\n",
      "Epoch:  100 | Training loss:  0.1316729706440353 | Validation loss:  0.4266959737930688\n",
      "Epoch:  101 | Training loss:  0.13080557888945232 | Validation loss:  0.4264969876532727\n",
      "Epoch:  102 | Training loss:  0.12995143623705044 | Validation loss:  0.4263172124991756\n",
      "Epoch:  103 | Training loss:  0.12911001540924955 | Validation loss:  0.4260939036648945\n",
      "Epoch:  104 | Training loss:  0.12828142806138512 | Validation loss:  0.4258966362120965\n",
      "Epoch:  105 | Training loss:  0.1274649498723281 | Validation loss:  0.42573861357064324\n",
      "Epoch:  106 | Training loss:  0.12666069107980124 | Validation loss:  0.4255867188301384\n",
      "Epoch:  107 | Training loss:  0.12586824274673394 | Validation loss:  0.42542289708606634\n",
      "Epoch:  108 | Training loss:  0.12508741981172197 | Validation loss:  0.42523140382675145\n",
      "Epoch:  109 | Training loss:  0.12431773448420418 | Validation loss:  0.42508325804553204\n",
      "Epoch:  110 | Training loss:  0.12355919877050825 | Validation loss:  0.4249391263727788\n",
      "Epoch:  111 | Training loss:  0.12281157146605719 | Validation loss:  0.42479384000022213\n",
      "Epoch:  112 | Training loss:  0.12207451321216091 | Validation loss:  0.4246568372147216\n",
      "Epoch:  113 | Training loss:  0.12134795738764431 | Validation loss:  0.4245561457134506\n",
      "Epoch:  114 | Training loss:  0.12063123835519726 | Validation loss:  0.4244128605393131\n",
      "Epoch:  115 | Training loss:  0.11992461797533652 | Validation loss:  0.4242743901105384\n",
      "Epoch:  116 | Training loss:  0.11922814169376607 | Validation loss:  0.4242051981789754\n",
      "stop training.\n"
     ]
    }
   ],
   "source": [
    "w_tfidf, trl, devl = SGD(X_tr_tfidf, train_sent_label_arr, \n",
    "                         X_dev=X_val_tfidf, \n",
    "                         Y_dev=valid_sent_label_arr, \n",
    "                         lr=0.0001, \n",
    "                         alpha=0.001, \n",
    "                         tolerance=0.0001,\n",
    "                         epochs=200)"
   ]
  },
  {
   "cell_type": "markdown",
   "metadata": {},
   "source": [
    "## task1.2.1 Hyperparameter choose:"
   ]
  },
  {
   "cell_type": "code",
   "execution_count": 31,
   "metadata": {},
   "outputs": [
    {
     "name": "stdout",
     "output_type": "stream",
     "text": [
      "alpha: 1e-05\n",
      "alpha: 0.001\n",
      "alpha: 0.01\n",
      "alpha: 0.1\n",
      "alpha: 0.5\n"
     ]
    },
    {
     "data": {
      "text/plain": [
       "<matplotlib.legend.Legend at 0x1a20c8f2b0>"
      ]
     },
     "execution_count": 31,
     "metadata": {},
     "output_type": "execute_result"
    },
    {
     "data": {
      "image/png": "[encoded data removed]",
      "text/plain": [
       "<Figure size 432x288 with 1 Axes>"
      ]
     },
     "metadata": {
      "needs_background": "light"
     },
     "output_type": "display_data"
    }
   ],
   "source": [
    "alpha = [0.00001, 0.001, 0.01, 0.1, 0.5]\n",
    "dev_loss_count_list = list()\n",
    "\n",
    "for a in alpha:\n",
    "    print(\"alpha: \"+str(a))\n",
    "    _, _, dev_loss_count = SGD(X_tr_tfidf, train_sent_label_arr, X_dev=X_val_tfidf, Y_dev=valid_sent_label_arr, lr=0.0001, alpha=a, epochs=100, print_progress=False)\n",
    "    dev_loss_count_list.append(dev_loss_count)\n",
    "\n",
    "plt.figure()\n",
    "for i in range(5):\n",
    "    l = [i for i in range(1, len(dev_loss_count_list[i])+1)]\n",
    "    plt.plot(l, dev_loss_count_list[i], label=alpha[i])\n",
    "plt.legend()"
   ]
  },
  {
   "cell_type": "code",
   "execution_count": 32,
   "metadata": {},
   "outputs": [
    {
     "name": "stdout",
     "output_type": "stream",
     "text": [
      "learning rate: 5e-05\n",
      "learning rate: 0.0001\n",
      "learning rate: 0.0005\n",
      "learning rate: 0.001\n"
     ]
    },
    {
     "data": {
      "text/plain": [
       "<matplotlib.legend.Legend at 0x1a21d1d8d0>"
      ]
     },
     "execution_count": 32,
     "metadata": {},
     "output_type": "execute_result"
    },
    {
     "data": {
      "image/png": "[encoded data removed]",
      "text/plain": [
       "<Figure size 432x288 with 1 Axes>"
      ]
     },
     "metadata": {
      "needs_background": "light"
     },
     "output_type": "display_data"
    }
   ],
   "source": [
    "lr = [0.00005, 0.0001, 0.0005, 0.001]\n",
    "dev_loss_count_list = list()\n",
    "\n",
    "for l in lr:\n",
    "    print(\"learning rate: \"+str(l))\n",
    "    _, _, dev_loss_count = SGD(X_tr_tfidf, train_sent_label_arr, X_dev=X_val_tfidf, Y_dev=valid_sent_label_arr, lr=l, alpha=0.01, epochs=100, print_progress=False)\n",
    "    dev_loss_count_list.append(dev_loss_count)\n",
    "\n",
    "plt.figure()\n",
    "for i in range(4):\n",
    "    l = [i for i in range(1, len(dev_loss_count_list[i])+1)]\n",
    "    plt.plot(l, dev_loss_count_list[i], label=lr[i])\n",
    "plt.legend()"
   ]
  },
  {
   "cell_type": "markdown",
   "metadata": {},
   "source": [
    "**Conclusion: learning rate and regularisation strength should be 0.0001 and 0.001 respectively.**"
   ]
  },
  {
   "cell_type": "markdown",
   "metadata": {},
   "source": [
    "Now plot the training and validation history per epoch. Does your model underfit, overfit or is it about right? Explain why."
   ]
  },
  {
   "cell_type": "markdown",
   "metadata": {},
   "source": [
    "## task1.2.2 Plot train and valid loss:"
   ]
  },
  {
   "cell_type": "code",
   "execution_count": 33,
   "metadata": {
    "ExecuteTime": {
     "end_time": "2020-02-15T14:17:54.517668Z",
     "start_time": "2020-02-15T14:17:54.417118Z"
    }
   },
   "outputs": [
    {
     "data": {
      "text/plain": [
       "<matplotlib.legend.Legend at 0x1a21e5a7f0>"
      ]
     },
     "execution_count": 33,
     "metadata": {},
     "output_type": "execute_result"
    },
    {
     "data": {
      "image/png": "[encoded data removed]",
      "text/plain": [
       "<Figure size 432x288 with 1 Axes>"
      ]
     },
     "metadata": {
      "needs_background": "light"
     },
     "output_type": "display_data"
    }
   ],
   "source": [
    "# fill in your code...\n",
    "# loss_tr_count, dev_loss_count\n",
    "epochs = [i for i in range(1, len(trl)+1)]\n",
    "plt.figure()\n",
    "plt.plot(epochs, trl, label=\"train\")\n",
    "plt.plot(epochs, devl, label=\"validation\")\n",
    "plt.legend()"
   ]
  },
  {
   "cell_type": "markdown",
   "metadata": {},
   "source": [
    "**the model is overfitting because the train loss is far smaller than validation loss we could increase regularisation strength to improve overfitting.**"
   ]
  },
  {
   "cell_type": "markdown",
   "metadata": {},
   "source": [
    "## task1.2.3 Compute accuracy, precision, recall and F1-scores:"
   ]
  },
  {
   "cell_type": "code",
   "execution_count": 34,
   "metadata": {
    "ExecuteTime": {
     "end_time": "2020-02-15T14:37:56.489814Z",
     "start_time": "2020-02-15T14:37:56.487014Z"
    }
   },
   "outputs": [
    {
     "name": "stdout",
     "output_type": "stream",
     "text": [
      "Accuracy: 0.8425\n",
      "Precision: 0.9202453987730062\n",
      "Recall: 0.75\n",
      "F1-Score: 0.8264462809917356\n"
     ]
    }
   ],
   "source": [
    "# fill in your code...\n",
    "preds_te = predict_class(X_te_tf, w_tfidf)\n",
    "Y_te = test_sent_label_arr\n",
    "\n",
    "print('Accuracy:', accuracy_score(Y_te,preds_te))\n",
    "print('Precision:', precision_score(Y_te,preds_te))\n",
    "print('Recall:', recall_score(Y_te,preds_te))\n",
    "print('F1-Score:', f1_score(Y_te,preds_te))"
   ]
  },
  {
   "cell_type": "markdown",
   "metadata": {},
   "source": [
    "## task1.2.4 Print top-10 most positive and negative words:"
   ]
  },
  {
   "cell_type": "code",
   "execution_count": 35,
   "metadata": {
    "ExecuteTime": {
     "end_time": "2020-02-15T14:38:17.845485Z",
     "start_time": "2020-02-15T14:38:17.842557Z"
    }
   },
   "outputs": [
    {
     "name": "stdout",
     "output_type": "stream",
     "text": [
      "['great', 'truman', 'hilarious', 'perfectly', 'terrific', 'fun', 'memorable', 'overall', 'definitely', 'excellent']\n"
     ]
    }
   ],
   "source": [
    "# fill in your code...\n",
    "dict_vocab_w_tfidf = dict(zip(w_tfidf, vocab))\n",
    "dict_vocab_w_order_tfidf = dict(sorted(dict_vocab_w_tfidf.items(), key=lambda item: item[0], reverse=True))\n",
    "\n",
    "# positive.\n",
    "print(list(dict_vocab_w_order_tfidf.values())[:10])"
   ]
  },
  {
   "cell_type": "code",
   "execution_count": 36,
   "metadata": {
    "ExecuteTime": {
     "end_time": "2020-02-15T14:38:22.781128Z",
     "start_time": "2020-02-15T14:38:22.778590Z"
    }
   },
   "outputs": [
    {
     "name": "stdout",
     "output_type": "stream",
     "text": [
      "['waste', 'stupid', 'ridiculous', 'script', 'nothing', 'why', 'unfortunately', 'supposed', 'boring', 'worst']\n"
     ]
    }
   ],
   "source": [
    "# negative.\n",
    "print(list(dict_vocab_w_order_tfidf.values())[-11:-1])"
   ]
  },
  {
   "cell_type": "markdown",
   "metadata": {},
   "source": [
    "**Similarly, we could use the model in new domain because those emotional word could be used generally in different domain such as great, fun as well as boring, worst.**"
   ]
  },
  {
   "cell_type": "markdown",
   "metadata": {},
   "source": [
    "**Discuss how did you choose model hyperparameters (e.g. learning rate and regularisation strength)? What is the relation between training epochs and learning rate? How the regularisation strength affects performance?**"
   ]
  },
  {
   "cell_type": "markdown",
   "metadata": {},
   "source": [
    "* tf: lr: 0.0001, alpha: 0.01.\n",
    "\n",
    "* tf.idf: both are 0.0001.\n",
    "\n",
    "**learning rate and regularisation strength shouldn't be too big or too small. As for learning rate, if lr is too big, the gradient descent might ignore the global minimum points. Otherwise, it needs a long training time to reach this point. Moreover, there is a relationship between epochs and lr, smaller lr might needs more training epochs. With aspect to regularisation strength, big strength could cause model underfitting. small strength could cause overfitting. we could use k fold cross validation to choose best hyperparameter.**"
   ]
  },
  {
   "cell_type": "markdown",
   "metadata": {},
   "source": [
    "\n",
    "\n",
    "## Full Results\n",
    "\n",
    "Add here your results:\n",
    "\n",
    "| LR | Precision  | Recall  | F1-Score  |\n",
    "|:-:|:-:|:-:|:-:|\n",
    "| BOW-count  | 0.83  |  0.84 |  0.83 |\n",
    "| BOW-tfidf  | 0.92  | 0.75  | 0.82  |\n"
   ]
  },
  {
   "cell_type": "markdown",
   "metadata": {},
   "source": [
    "# Multi-class Logistic Regression \n",
    "\n",
    "Now you need to train a Multiclass Logistic Regression (MLR) Classifier by extending the Binary model you developed above. You will use the MLR model to perform topic classification on the AG news dataset consisting of three classes:"
   ]
  },
  {
   "cell_type": "markdown",
   "metadata": {},
   "source": [
    "- Class 1: World\n",
    "- Class 2: Sports\n",
    "- Class 3: Business"
   ]
  },
  {
   "cell_type": "markdown",
   "metadata": {},
   "source": [
    "You need to follow the same process as in Task 1 for data processing and feature extraction by reusing the functions you wrote."
   ]
  },
  {
   "cell_type": "code",
   "execution_count": 37,
   "metadata": {
    "ExecuteTime": {
     "end_time": "2020-02-15T14:18:03.212229Z",
     "start_time": "2020-02-15T14:18:03.185261Z"
    }
   },
   "outputs": [],
   "source": [
    "# fill in your code...\n",
    "train_topic = pd.read_csv(\"data_topic/train.csv\", header=None, names=[\"label\", \"train\"])\n",
    "valid_topic = pd.read_csv(\"data_topic/dev.csv\", header=None, names=[\"label\", \"valid\"])\n",
    "test_topic = pd.read_csv(\"data_topic/test.csv\", header=None, names=[\"label\", \"test\"])\n",
    "\n",
    "# list, array.\n",
    "train_topic_list = list(train_topic.loc[:, \"train\"])\n",
    "train_topic_label_arr = np.array(train_topic.loc[:, \"label\"]).reshape(1, -1)\n",
    "\n",
    "valid_topic_list = list(valid_topic.loc[:, \"valid\"])\n",
    "valid_topic_label_arr = np.array(valid_topic.loc[:, \"label\"]).reshape(1, -1)\n",
    "\n",
    "test_topic_list = list(test_topic.loc[:, \"test\"])\n",
    "test_topic_label_arr = np.array(test_topic.loc[:, \"label\"])"
   ]
  },
  {
   "cell_type": "code",
   "execution_count": 38,
   "metadata": {
    "ExecuteTime": {
     "end_time": "2020-02-15T14:18:03.515585Z",
     "start_time": "2020-02-15T14:18:03.508299Z"
    }
   },
   "outputs": [
    {
     "data": {
      "text/html": [
       "<div>\n",
       "<style scoped>\n",
       "    .dataframe tbody tr th:only-of-type {\n",
       "        vertical-align: middle;\n",
       "    }\n",
       "\n",
       "    .dataframe tbody tr th {\n",
       "        vertical-align: top;\n",
       "    }\n",
       "\n",
       "    .dataframe thead th {\n",
       "        text-align: right;\n",
       "    }\n",
       "</style>\n",
       "<table border=\"1\" class=\"dataframe\">\n",
       "  <thead>\n",
       "    <tr style=\"text-align: right;\">\n",
       "      <th></th>\n",
       "      <th>label</th>\n",
       "      <th>train</th>\n",
       "    </tr>\n",
       "  </thead>\n",
       "  <tbody>\n",
       "    <tr>\n",
       "      <th>0</th>\n",
       "      <td>1</td>\n",
       "      <td>Reuters - Venezuelans turned out early\\and in ...</td>\n",
       "    </tr>\n",
       "    <tr>\n",
       "      <th>1</th>\n",
       "      <td>1</td>\n",
       "      <td>Reuters - South Korean police used water canno...</td>\n",
       "    </tr>\n",
       "    <tr>\n",
       "      <th>2</th>\n",
       "      <td>1</td>\n",
       "      <td>Reuters - Thousands of Palestinian\\prisoners i...</td>\n",
       "    </tr>\n",
       "    <tr>\n",
       "      <th>3</th>\n",
       "      <td>1</td>\n",
       "      <td>AFP - Sporadic gunfire and shelling took place...</td>\n",
       "    </tr>\n",
       "    <tr>\n",
       "      <th>4</th>\n",
       "      <td>1</td>\n",
       "      <td>AP - Dozens of Rwandan soldiers flew into Suda...</td>\n",
       "    </tr>\n",
       "  </tbody>\n",
       "</table>\n",
       "</div>"
      ],
      "text/plain": [
       "   label                                              train\n",
       "0      1  Reuters - Venezuelans turned out early\\and in ...\n",
       "1      1  Reuters - South Korean police used water canno...\n",
       "2      1  Reuters - Thousands of Palestinian\\prisoners i...\n",
       "3      1  AFP - Sporadic gunfire and shelling took place...\n",
       "4      1  AP - Dozens of Rwandan soldiers flew into Suda..."
      ]
     },
     "execution_count": 38,
     "metadata": {},
     "output_type": "execute_result"
    }
   ],
   "source": [
    "train_topic.head()"
   ]
  },
  {
   "cell_type": "code",
   "execution_count": 39,
   "metadata": {
    "ExecuteTime": {
     "end_time": "2020-02-15T14:18:04.508938Z",
     "start_time": "2020-02-15T14:18:04.171071Z"
    }
   },
   "outputs": [
    {
     "name": "stdout",
     "output_type": "stream",
     "text": [
      "5000\n",
      "\n",
      "['talents', 'established', 'risk', ('little', 'more'), 'fresh', 'oscar', ('plot', 'twists'), 'devoted', 'front', 'fat', 'lucas', 'farm', 'cinematographer', 'fairy', 'care', 'kenobi', 'state', 'cast', 'appearance', 'parker', 'shrek', 'guessed', 'rival', 'conceived', 'bloody', 'saw', 'french', 'ramsey', ('best', 'friend'), 'lee', 'stanley', ('film', 'so'), 'fool', 'chuckle', 'forty', 'help', 'controversial', 'virtually', ('de', 'niro'), 'realism', 'opposite', ('certainly', 'not'), 'fine', 'central', 'tragic', 'spoken', 'yeah', ('each', 'other'), ('production', 'design'), 'novel', 'lead', 'philip', ('probably', 'best'), 'slowly', 'leads', 'anything', ('when', 'one'), 'act', 'alan', 'hilarious', ('if', 'anything'), 'kevin', 'due', 'elfman', ('steve', 'martin'), 'cartoonish', ('dante', 'peak'), 'pregnant', 'however', ('about', 'their'), 'spending', 'combat', 'influence', 'soul', 'angel', ('makes', 'film'), ('movie', 'will'), 'steal', 'explosions', 'bits', 'basic', 'audiences', 'nervous', 'thoughtful', 'zero', 'screenplay', 'bridges', ('but', 'only'), 'jedi', 'somebody', 'mass', 'connected', 'serving', 'giving', 'worthwhile', ('mel', 'gibson'), ('serial', 'killer'), 'murderer', 'close', 'likable']\n",
      "\n",
      "[('reuters', 631), ('said', 432), ('tuesday', 413), ('wednesday', 344), ('new', 325), ('after', 295), ('ap', 275), ('athens', 245), ('monday', 221), ('first', 210)]\n"
     ]
    }
   ],
   "source": [
    "features, train_topic_df, ngram_counts = get_vocab(train_topic_list, ngram_range=(1,3), keep_topN=5000, stop_words=stop_words)\n",
    "print(len(vocab))\n",
    "print()\n",
    "print(list(vocab)[:100])\n",
    "print()\n",
    "print(train_topic_df.most_common()[:10])"
   ]
  },
  {
   "cell_type": "code",
   "execution_count": 40,
   "metadata": {
    "ExecuteTime": {
     "end_time": "2020-02-15T14:18:04.706802Z",
     "start_time": "2020-02-15T14:18:04.511061Z"
    }
   },
   "outputs": [
    {
     "name": "stdout",
     "output_type": "stream",
     "text": [
      "(2400, 5000)\n",
      "(150, 5000)\n",
      "(900, 5000)\n"
     ]
    }
   ],
   "source": [
    "# fill in your code...\n",
    "# fill in your code...\n",
    "vocab = set(features)\n",
    "X_tr_tf = vectorise(train_topic_list, vocab)\n",
    "X_val_tf = vectorise(valid_topic_list, vocab)\n",
    "X_te_tf = vectorise(test_topic_list, vocab)\n",
    "\n",
    "print(X_tr_tf.shape)\n",
    "print(X_val_tf.shape)\n",
    "print(X_te_tf.shape)"
   ]
  },
  {
   "cell_type": "code",
   "execution_count": 41,
   "metadata": {},
   "outputs": [
    {
     "name": "stdout",
     "output_type": "stream",
     "text": [
      "5000\n"
     ]
    }
   ],
   "source": [
    "# df of training set keeps same order with vocab.\n",
    "train_topic_df_order = dict(zip(vocab, len(vocab)*[0]))\n",
    "\n",
    "for i in vocab:\n",
    "    train_topic_df_order[i] = train_topic_df[i]\n",
    "    \n",
    "print(len(train_topic_df_order))"
   ]
  },
  {
   "cell_type": "code",
   "execution_count": 42,
   "metadata": {},
   "outputs": [
    {
     "name": "stdout",
     "output_type": "stream",
     "text": [
      "(5000,)\n",
      "(5000,)\n",
      "(5000,)\n"
     ]
    }
   ],
   "source": [
    "X_tr_df = np.array(list(train_topic_df_order.values()))\n",
    "X_tr_idfs = np.log10(X_tr_tf.shape[0]/X_tr_df) \n",
    "\n",
    "# valid df, idfs.\n",
    "X_val_df = sum(X_val_tf != 0) + 1\n",
    "X_val_idfs = np.log10(X_val_tf.shape[0]/X_val_df)\n",
    "\n",
    "# testing df, idfs.\n",
    "X_te_df = sum(X_te_tf != 0) + 1\n",
    "X_te_idfs = np.log10(X_te_tf.shape[0]/X_te_df) \n",
    "\n",
    "print(X_tr_idfs.shape)\n",
    "print(X_val_idfs.shape)\n",
    "print(X_te_idfs.shape)"
   ]
  },
  {
   "cell_type": "code",
   "execution_count": 43,
   "metadata": {},
   "outputs": [
    {
     "name": "stdout",
     "output_type": "stream",
     "text": [
      "(2400, 5000)\n",
      "(150, 5000)\n",
      "(900, 5000)\n"
     ]
    }
   ],
   "source": [
    "# training tf.idf.\n",
    "X_tr_tfidf = X_tr_tf*X_tr_idfs\n",
    "\n",
    "# valid tf.idf.\n",
    "X_val_tfidf = X_val_tf*X_val_idfs\n",
    "\n",
    "# testing tf.idf.\n",
    "X_te_tfidf = X_te_tf*X_te_idfs\n",
    "\n",
    "print(X_tr_tfidf.shape)\n",
    "print(X_val_tfidf.shape)\n",
    "print(X_te_tfidf.shape)"
   ]
  },
  {
   "cell_type": "markdown",
   "metadata": {},
   "source": [
    "Now you need to change `SGD` to support multiclass datasets. First you need to develop a `softmax` function. It takes as input:\n",
    "\n",
    "- `z`: array of real numbers \n",
    "\n",
    "and returns:\n",
    "\n",
    "- `smax`: the softmax of `z`"
   ]
  },
  {
   "cell_type": "code",
   "execution_count": 44,
   "metadata": {
    "ExecuteTime": {
     "end_time": "2020-02-15T14:18:07.440998Z",
     "start_time": "2020-02-15T14:18:07.437915Z"
    }
   },
   "outputs": [],
   "source": [
    "def softmax(z):\n",
    "    \n",
    "    smax = np.exp(z) / np.exp(z).sum(axis=0)\n",
    "    \n",
    "    return smax"
   ]
  },
  {
   "cell_type": "markdown",
   "metadata": {},
   "source": [
    "Then modify `predict_proba` and `predict_class` functions for the multiclass case:"
   ]
  },
  {
   "cell_type": "code",
   "execution_count": 45,
   "metadata": {
    "ExecuteTime": {
     "end_time": "2020-02-15T14:18:07.445451Z",
     "start_time": "2020-02-15T14:18:07.442851Z"
    }
   },
   "outputs": [],
   "source": [
    "# weights = (class, features).\n",
    "\n",
    "def predict_proba(X, weights):\n",
    "\n",
    "    preds_proba = softmax((weights @ X.T)).T\n",
    "        \n",
    "    return preds_proba"
   ]
  },
  {
   "cell_type": "code",
   "execution_count": 46,
   "metadata": {
    "ExecuteTime": {
     "end_time": "2020-02-15T14:18:07.449814Z",
     "start_time": "2020-02-15T14:18:07.447145Z"
    }
   },
   "outputs": [],
   "source": [
    "def predict_class(X, weights):\n",
    "    \n",
    "    # fill in your code...\n",
    "    p = predict_proba(X, weights)\n",
    "    preds_class = np.argmax(p, axis=1) + 1\n",
    "    \n",
    "    return preds_class"
   ]
  },
  {
   "cell_type": "markdown",
   "metadata": {},
   "source": [
    "Now you need to compute the categorical cross entropy loss (extending the binary loss to support multiple classes)."
   ]
  },
  {
   "cell_type": "code",
   "execution_count": 47,
   "metadata": {
    "ExecuteTime": {
     "end_time": "2020-02-15T14:30:48.047338Z",
     "start_time": "2020-02-15T14:30:48.044395Z"
    }
   },
   "outputs": [],
   "source": [
    "def categorical_loss(X, Y, weights, num_classes=5, alpha=0.00001):\n",
    "    \n",
    "    # fill in your code...\n",
    "    prob = predict_proba(X, weights)\n",
    "    loss = 0\n",
    "    for i in range(0, prob.shape[0]):\n",
    "        loss-=np.log(prob[i][Y[0, i]-1])\n",
    "        \n",
    "    loss = loss/X.shape[0] + alpha*np.dot(weights, weights.T).sum()\n",
    "    \n",
    "    return loss"
   ]
  },
  {
   "cell_type": "markdown",
   "metadata": {
    "ExecuteTime": {
     "end_time": "2020-02-15T14:08:59.937442Z",
     "start_time": "2020-02-15T14:08:59.932221Z"
    }
   },
   "source": [
    "Finally you need to modify SGD to support the categorical cross entropy loss:"
   ]
  },
  {
   "cell_type": "code",
   "execution_count": 48,
   "metadata": {
    "ExecuteTime": {
     "end_time": "2020-02-15T14:18:10.176885Z",
     "start_time": "2020-02-15T14:18:10.165021Z"
    }
   },
   "outputs": [],
   "source": [
    "def SGD(X_tr, Y_tr, X_dev=[], Y_dev=[], num_classes=5, lr=0.01, alpha=0.00001, epochs=30, tolerance=0, print_progress=True):\n",
    "    \n",
    "    # fill in your code...\n",
    "    cur_loss_tr = 1.\n",
    "    cur_loss_dev = 1.\n",
    "    training_loss_history = []\n",
    "    validation_loss_history = []\n",
    "    \n",
    "    # weights and gradient of weights.\n",
    "    w = np.zeros(X_tr.shape[1]*num_classes).reshape(num_classes, -1)\n",
    "    \n",
    "    # index of dataset for shuffle.\n",
    "    X_tr_len = X_tr.shape[0]\n",
    "    index = [i for i in range(X_tr_len)]\n",
    "    \n",
    "    for epo in range(1, epochs+1):\n",
    "        # shuffle index.\n",
    "        random.shuffle(index)\n",
    "        for i in index:\n",
    "            x_tr, y_tr = X_tr[i], Y_tr[0, i]\n",
    "            predict = predict_proba(x_tr, w)\n",
    "            # here for true class, we need to sub 1.\n",
    "            predict[y_tr - 1] -= 1\n",
    "            predict, x_tr = predict.reshape(-1, 1), x_tr.reshape(1, -1)\n",
    "            gW = predict*x_tr + 2*alpha*w\n",
    "            w -= lr*gW\n",
    "            \n",
    "        # loss.\n",
    "        tr_loss = categorical_loss(X_tr, Y_tr, w, alpha)\n",
    "        val_loss = categorical_loss(X_dev, Y_dev, w, alpha)\n",
    "        \n",
    "        training_loss_history.append(tr_loss)\n",
    "        validation_loss_history.append(val_loss)\n",
    "        \n",
    "        if print_progress == True:\n",
    "            print(\"Epoch: \",epo, \"| Training loss: \", tr_loss,\"| Validation loss: \", val_loss)\n",
    "        \n",
    "        if epo >= 2:\n",
    "            if  (tolerance != 0) & ((validation_loss_history[-2] - validation_loss_history[-1]) <= tolerance) & (validation_loss_history[-2] > validation_loss_history[-1]):\n",
    "                print(\"stop training.\")\n",
    "                break;\n",
    "\n",
    "    return w, training_loss_history, validation_loss_history"
   ]
  },
  {
   "cell_type": "markdown",
   "metadata": {
    "ExecuteTime": {
     "end_time": "2020-02-15T14:10:15.772383Z",
     "start_time": "2020-02-15T14:10:15.767855Z"
    }
   },
   "source": [
    "Now you are ready to train and evaluate you MLR following the same steps as in Task 1 for both Count and tfidf features:"
   ]
  },
  {
   "cell_type": "markdown",
   "metadata": {},
   "source": [
    "## task2.1 Train and Evaluate multi-class Logistic Regression with Count vectors:"
   ]
  },
  {
   "cell_type": "code",
   "execution_count": 49,
   "metadata": {
    "scrolled": true
   },
   "outputs": [
    {
     "name": "stdout",
     "output_type": "stream",
     "text": [
      "Epoch:  1 | Training loss:  0.8952743928164559 | Validation loss:  0.9780940225558068\n",
      "Epoch:  2 | Training loss:  0.783324942533245 | Validation loss:  0.8961715926094455\n",
      "Epoch:  3 | Training loss:  0.7077824352793674 | Validation loss:  0.8348204815371797\n",
      "Epoch:  4 | Training loss:  0.6522436181044833 | Validation loss:  0.7868142719152398\n",
      "Epoch:  5 | Training loss:  0.6092332220430559 | Validation loss:  0.7480790513843104\n",
      "Epoch:  6 | Training loss:  0.5745219013558768 | Validation loss:  0.7161242242186275\n",
      "Epoch:  7 | Training loss:  0.5457161020638224 | Validation loss:  0.6891556344934799\n",
      "Epoch:  8 | Training loss:  0.5213214297070522 | Validation loss:  0.6661224755738977\n",
      "Epoch:  9 | Training loss:  0.5002384811688905 | Validation loss:  0.6460921436678466\n",
      "Epoch:  10 | Training loss:  0.48178295828854006 | Validation loss:  0.6286006795953534\n",
      "Epoch:  11 | Training loss:  0.46542109421023553 | Validation loss:  0.613079986985742\n",
      "Epoch:  12 | Training loss:  0.4507800697340703 | Validation loss:  0.599168312083211\n",
      "Epoch:  13 | Training loss:  0.43758286509918276 | Validation loss:  0.5866986070809959\n",
      "Epoch:  14 | Training loss:  0.4255993579505963 | Validation loss:  0.5754687417400373\n",
      "Epoch:  15 | Training loss:  0.41463669623404875 | Validation loss:  0.5652018139291861\n",
      "Epoch:  16 | Training loss:  0.4045616675319359 | Validation loss:  0.5557731046634404\n",
      "Epoch:  17 | Training loss:  0.39526636215075833 | Validation loss:  0.5471414374569756\n",
      "Epoch:  18 | Training loss:  0.38664693153530294 | Validation loss:  0.5391513202164836\n",
      "Epoch:  19 | Training loss:  0.3786221234504784 | Validation loss:  0.5317751797009572\n",
      "Epoch:  20 | Training loss:  0.3711373685981138 | Validation loss:  0.5249523515483745\n",
      "Epoch:  21 | Training loss:  0.3641239655912644 | Validation loss:  0.5185464602341796\n",
      "Epoch:  22 | Training loss:  0.35753878095162317 | Validation loss:  0.5125975969246696\n",
      "Epoch:  23 | Training loss:  0.35134040225145197 | Validation loss:  0.5070003066386793\n",
      "Epoch:  24 | Training loss:  0.3454919267448667 | Validation loss:  0.5017090257413448\n",
      "Epoch:  25 | Training loss:  0.3399614691111793 | Validation loss:  0.4968218073306621\n",
      "Epoch:  26 | Training loss:  0.33472239519021724 | Validation loss:  0.49218095047282817\n",
      "Epoch:  27 | Training loss:  0.32975023320085656 | Validation loss:  0.4877972519373616\n",
      "Epoch:  28 | Training loss:  0.3250250884871676 | Validation loss:  0.48369696991501454\n",
      "Epoch:  29 | Training loss:  0.320521380283178 | Validation loss:  0.4797464451471274\n",
      "Epoch:  30 | Training loss:  0.3162288099784838 | Validation loss:  0.4760310187344215\n",
      "Epoch:  31 | Training loss:  0.3121284165859287 | Validation loss:  0.4724517001355413\n",
      "Epoch:  32 | Training loss:  0.30820883207361205 | Validation loss:  0.4690388477540126\n",
      "Epoch:  33 | Training loss:  0.30445958868712203 | Validation loss:  0.46584491864775845\n",
      "Epoch:  34 | Training loss:  0.30086540790541233 | Validation loss:  0.4628164761735788\n",
      "Epoch:  35 | Training loss:  0.2974169625258894 | Validation loss:  0.45988569756351666\n",
      "Epoch:  36 | Training loss:  0.29410185819763796 | Validation loss:  0.4570601681118873\n",
      "Epoch:  37 | Training loss:  0.29091650164049154 | Validation loss:  0.45434005102751956\n",
      "Epoch:  38 | Training loss:  0.2878521402378579 | Validation loss:  0.4517652496757507\n",
      "Epoch:  39 | Training loss:  0.2849026080181181 | Validation loss:  0.44934465093798387\n",
      "Epoch:  40 | Training loss:  0.2820574762649613 | Validation loss:  0.4469467986660035\n",
      "Epoch:  41 | Training loss:  0.27931523644990636 | Validation loss:  0.4447249448017151\n",
      "Epoch:  42 | Training loss:  0.27666560846998267 | Validation loss:  0.4425383149785884\n",
      "Epoch:  43 | Training loss:  0.2741072216884961 | Validation loss:  0.440445289813094\n",
      "Epoch:  44 | Training loss:  0.2716354932140825 | Validation loss:  0.43845964284618816\n",
      "Epoch:  45 | Training loss:  0.26924266908760874 | Validation loss:  0.4364998206865701\n",
      "Epoch:  46 | Training loss:  0.2669299627334084 | Validation loss:  0.4346666342878402\n",
      "Epoch:  47 | Training loss:  0.264686703843203 | Validation loss:  0.4328348624819926\n",
      "Epoch:  48 | Training loss:  0.2625135588624161 | Validation loss:  0.4310768953829907\n",
      "Epoch:  49 | Training loss:  0.2604073603299976 | Validation loss:  0.42940709490970147\n",
      "Epoch:  50 | Training loss:  0.2583643158240277 | Validation loss:  0.4277620749956577\n",
      "Epoch:  51 | Training loss:  0.2563802969645143 | Validation loss:  0.42618264679635576\n",
      "Epoch:  52 | Training loss:  0.2544549871827546 | Validation loss:  0.4246702576257095\n",
      "Epoch:  53 | Training loss:  0.2525836199794747 | Validation loss:  0.4231992906758263\n",
      "Epoch:  54 | Training loss:  0.2507669909456641 | Validation loss:  0.42181293735257014\n",
      "Epoch:  55 | Training loss:  0.24900131657206506 | Validation loss:  0.42046630932293644\n",
      "Epoch:  56 | Training loss:  0.24728158440394316 | Validation loss:  0.41911031707048824\n",
      "Epoch:  57 | Training loss:  0.24560951196046532 | Validation loss:  0.41783520866833695\n",
      "Epoch:  58 | Training loss:  0.24398120254418523 | Validation loss:  0.41659550913051074\n",
      "Epoch:  59 | Training loss:  0.24239518504951088 | Validation loss:  0.41537081600650516\n",
      "Epoch:  60 | Training loss:  0.24085086296933303 | Validation loss:  0.41422510687350833\n",
      "Epoch:  61 | Training loss:  0.23934520933652248 | Validation loss:  0.41309765226207024\n",
      "Epoch:  62 | Training loss:  0.23787851185257253 | Validation loss:  0.4120184997166605\n",
      "Epoch:  63 | Training loss:  0.23644568607821378 | Validation loss:  0.41089632323179937\n",
      "Epoch:  64 | Training loss:  0.23505040834861363 | Validation loss:  0.40986359140520706\n",
      "Epoch:  65 | Training loss:  0.23368785362012726 | Validation loss:  0.408842392886098\n",
      "Epoch:  66 | Training loss:  0.23235791329742003 | Validation loss:  0.40784931877075903\n",
      "Epoch:  67 | Training loss:  0.23106001639276716 | Validation loss:  0.40688038848611896\n",
      "Epoch:  68 | Training loss:  0.22979314187769737 | Validation loss:  0.40596538900812584\n",
      "Epoch:  69 | Training loss:  0.22855361738567267 | Validation loss:  0.4050452244883432\n",
      "Epoch:  70 | Training loss:  0.2273426138847095 | Validation loss:  0.4041258366393555\n",
      "Epoch:  71 | Training loss:  0.22615997831818438 | Validation loss:  0.40328025188701017\n",
      "Epoch:  72 | Training loss:  0.225004390466836 | Validation loss:  0.40245519355780657\n",
      "Epoch:  73 | Training loss:  0.22387358372316699 | Validation loss:  0.4016263335182032\n",
      "Epoch:  74 | Training loss:  0.2227690500521151 | Validation loss:  0.4008415504867991\n",
      "Epoch:  75 | Training loss:  0.2216883097563322 | Validation loss:  0.4000713728448471\n",
      "Epoch:  76 | Training loss:  0.220628784235985 | Validation loss:  0.39930995363396155\n",
      "Epoch:  77 | Training loss:  0.21959269703712314 | Validation loss:  0.39856780333908165\n",
      "Epoch:  78 | Training loss:  0.21857834600730716 | Validation loss:  0.3978326342726835\n",
      "Epoch:  79 | Training loss:  0.217585565407988 | Validation loss:  0.3971271470116725\n",
      "Epoch:  80 | Training loss:  0.21661479879940393 | Validation loss:  0.396484161072482\n",
      "Epoch:  81 | Training loss:  0.21566273607918088 | Validation loss:  0.39583309135819084\n",
      "Epoch:  82 | Training loss:  0.21473092926457701 | Validation loss:  0.3951848014617676\n",
      "Epoch:  83 | Training loss:  0.213817529227884 | Validation loss:  0.3945530108838162\n",
      "Epoch:  84 | Training loss:  0.21292283151454433 | Validation loss:  0.39394602898285364\n",
      "Epoch:  85 | Training loss:  0.21204611095558407 | Validation loss:  0.3933474786820441\n",
      "Epoch:  86 | Training loss:  0.21118628618603913 | Validation loss:  0.39275881575707694\n",
      "Epoch:  87 | Training loss:  0.21034145262401438 | Validation loss:  0.39215677955559824\n",
      "Epoch:  88 | Training loss:  0.20951499905543697 | Validation loss:  0.39159250723020067\n",
      "Epoch:  89 | Training loss:  0.20870466917794891 | Validation loss:  0.39104903713533795\n",
      "Epoch:  90 | Training loss:  0.2079090658501263 | Validation loss:  0.39050849418021744\n",
      "Epoch:  91 | Training loss:  0.20712872251239828 | Validation loss:  0.38998106767742236\n",
      "Epoch:  92 | Training loss:  0.20636263205606553 | Validation loss:  0.3894584123340647\n",
      "Epoch:  93 | Training loss:  0.20561092543343795 | Validation loss:  0.3889585318806164\n",
      "Epoch:  94 | Training loss:  0.2048732333148556 | Validation loss:  0.3884562729652466\n"
     ]
    },
    {
     "name": "stdout",
     "output_type": "stream",
     "text": [
      "Epoch:  95 | Training loss:  0.2041491450179184 | Validation loss:  0.38797310648033945\n",
      "Epoch:  96 | Training loss:  0.20343751930284015 | Validation loss:  0.38748426016882914\n",
      "Epoch:  97 | Training loss:  0.20273869065130692 | Validation loss:  0.38700269059295406\n",
      "Epoch:  98 | Training loss:  0.20205261148854722 | Validation loss:  0.38653825916932016\n",
      "Epoch:  99 | Training loss:  0.20137977969286547 | Validation loss:  0.3861000529162139\n",
      "Epoch:  100 | Training loss:  0.2007184003286161 | Validation loss:  0.38565237405589703\n",
      "Epoch:  101 | Training loss:  0.20006971715947125 | Validation loss:  0.38524340441194266\n",
      "Epoch:  102 | Training loss:  0.19943187132993914 | Validation loss:  0.38482681377366734\n",
      "Epoch:  103 | Training loss:  0.19880631117056863 | Validation loss:  0.3844526380845061\n",
      "Epoch:  104 | Training loss:  0.19819025256907408 | Validation loss:  0.3840583498895111\n",
      "Epoch:  105 | Training loss:  0.19758503714746076 | Validation loss:  0.383673908418623\n",
      "Epoch:  106 | Training loss:  0.19699011164707367 | Validation loss:  0.38330000848219486\n",
      "Epoch:  107 | Training loss:  0.19640507818582928 | Validation loss:  0.382926440710711\n",
      "Epoch:  108 | Training loss:  0.19583000245707494 | Validation loss:  0.3825698643790488\n",
      "Epoch:  109 | Training loss:  0.19526404349768212 | Validation loss:  0.38220239549697155\n",
      "Epoch:  110 | Training loss:  0.19470799546349646 | Validation loss:  0.3818464889926307\n",
      "Epoch:  111 | Training loss:  0.19416086386132608 | Validation loss:  0.3815056220951081\n",
      "Epoch:  112 | Training loss:  0.1936235854935475 | Validation loss:  0.38117624264953615\n",
      "Epoch:  113 | Training loss:  0.1930940114144186 | Validation loss:  0.3808321899256344\n",
      "Epoch:  114 | Training loss:  0.19257404401482842 | Validation loss:  0.38051366161653055\n",
      "Epoch:  115 | Training loss:  0.19206210991682487 | Validation loss:  0.3801876562653769\n",
      "Epoch:  116 | Training loss:  0.19155839812728212 | Validation loss:  0.37987647958702286\n",
      "Epoch:  117 | Training loss:  0.1910644785459005 | Validation loss:  0.3796062217079469\n",
      "Epoch:  118 | Training loss:  0.19057600271640315 | Validation loss:  0.37929937607986364\n",
      "Epoch:  119 | Training loss:  0.19009609936238103 | Validation loss:  0.37900905586519057\n",
      "Epoch:  120 | Training loss:  0.18962200327821976 | Validation loss:  0.37869236453403443\n",
      "Epoch:  121 | Training loss:  0.18915664688494863 | Validation loss:  0.3783989756787186\n",
      "Epoch:  122 | Training loss:  0.18869970633175484 | Validation loss:  0.3781210488764787\n",
      "Epoch:  123 | Training loss:  0.18824984933622393 | Validation loss:  0.37785698559855857\n",
      "Epoch:  124 | Training loss:  0.1878061565116233 | Validation loss:  0.37758979201457854\n",
      "Epoch:  125 | Training loss:  0.1873699967521016 | Validation loss:  0.37733920851339403\n",
      "Epoch:  126 | Training loss:  0.18694034671787596 | Validation loss:  0.37708391157469023\n",
      "Epoch:  127 | Training loss:  0.18651755375367132 | Validation loss:  0.37684688707907876\n",
      "Epoch:  128 | Training loss:  0.1861001500511489 | Validation loss:  0.37660164354716635\n",
      "Epoch:  129 | Training loss:  0.18568919471152653 | Validation loss:  0.3763465413467618\n",
      "Epoch:  130 | Training loss:  0.18528460150108364 | Validation loss:  0.37609922276860785\n",
      "Epoch:  131 | Training loss:  0.1848866654043347 | Validation loss:  0.37587177059261684\n",
      "Epoch:  132 | Training loss:  0.18449375611376867 | Validation loss:  0.3756429885134867\n",
      "Epoch:  133 | Training loss:  0.18410780879662791 | Validation loss:  0.3754344903871334\n",
      "Epoch:  134 | Training loss:  0.18372571717499508 | Validation loss:  0.3751987211792715\n",
      "Epoch:  135 | Training loss:  0.1833508822291273 | Validation loss:  0.37497500240254045\n",
      "Epoch:  136 | Training loss:  0.18298211682889984 | Validation loss:  0.37477540218914396\n",
      "Epoch:  137 | Training loss:  0.1826181052472041 | Validation loss:  0.37457108213780216\n",
      "Epoch:  138 | Training loss:  0.18225907893356508 | Validation loss:  0.3743645522690416\n",
      "Epoch:  139 | Training loss:  0.18190567395804674 | Validation loss:  0.37416776715885547\n",
      "Epoch:  140 | Training loss:  0.18155630458271638 | Validation loss:  0.37395160987990494\n",
      "Epoch:  141 | Training loss:  0.18121290148549024 | Validation loss:  0.3737585949909709\n",
      "Epoch:  142 | Training loss:  0.18087388812987037 | Validation loss:  0.3735626860075944\n",
      "Epoch:  143 | Training loss:  0.18054043882557097 | Validation loss:  0.3733779600018416\n",
      "Epoch:  144 | Training loss:  0.18021092087176568 | Validation loss:  0.3731889976326478\n",
      "Epoch:  145 | Training loss:  0.1798862989535423 | Validation loss:  0.37300208266668466\n",
      "Epoch:  146 | Training loss:  0.17956760726251178 | Validation loss:  0.37285422093106607\n",
      "Epoch:  147 | Training loss:  0.17925231977206435 | Validation loss:  0.37268305854206046\n",
      "Epoch:  148 | Training loss:  0.1789405183447037 | Validation loss:  0.37249551624447413\n",
      "Epoch:  149 | Training loss:  0.17863332011979086 | Validation loss:  0.3723211280240699\n",
      "Epoch:  150 | Training loss:  0.17833075248981448 | Validation loss:  0.3721429207129242\n",
      "Epoch:  151 | Training loss:  0.17803265320649342 | Validation loss:  0.37197640578485364\n",
      "Epoch:  152 | Training loss:  0.17773883339388907 | Validation loss:  0.37182641872087663\n",
      "Epoch:  153 | Training loss:  0.17744903944085846 | Validation loss:  0.37167890910690615\n",
      "Epoch:  154 | Training loss:  0.1771625817196333 | Validation loss:  0.37151139778379566\n",
      "Epoch:  155 | Training loss:  0.1768804423522713 | Validation loss:  0.371354993179834\n",
      "Epoch:  156 | Training loss:  0.1766026520099729 | Validation loss:  0.37120600500496864\n",
      "Epoch:  157 | Training loss:  0.17632835710669814 | Validation loss:  0.37106768664545026\n",
      "Epoch:  158 | Training loss:  0.17605812146091723 | Validation loss:  0.3709390832094838\n",
      "Epoch:  159 | Training loss:  0.1757902711586978 | Validation loss:  0.3707855578593832\n",
      "Epoch:  160 | Training loss:  0.17552759283316424 | Validation loss:  0.3706753799236301\n",
      "Epoch:  161 | Training loss:  0.17526622869222833 | Validation loss:  0.3705209634521014\n",
      "Epoch:  162 | Training loss:  0.17500932070210642 | Validation loss:  0.37037816389666506\n",
      "Epoch:  163 | Training loss:  0.17475631300851827 | Validation loss:  0.3702379283945632\n",
      "Epoch:  164 | Training loss:  0.17450675857748005 | Validation loss:  0.37011907701971064\n",
      "Epoch:  165 | Training loss:  0.17426018815632638 | Validation loss:  0.3699924859527901\n",
      "Epoch:  166 | Training loss:  0.17401697345403583 | Validation loss:  0.3698718187307534\n",
      "Epoch:  167 | Training loss:  0.1737772233216536 | Validation loss:  0.3697525825377958\n",
      "Epoch:  168 | Training loss:  0.1735398345743551 | Validation loss:  0.36961433336080923\n",
      "Epoch:  169 | Training loss:  0.17330633826331518 | Validation loss:  0.36951365996962143\n",
      "Epoch:  170 | Training loss:  0.1730763929501128 | Validation loss:  0.3694115040256115\n",
      "Epoch:  171 | Training loss:  0.17284921752676388 | Validation loss:  0.3693094942167602\n",
      "Epoch:  172 | Training loss:  0.17262449849351033 | Validation loss:  0.3692008576775555\n",
      "Epoch:  173 | Training loss:  0.17240210090457467 | Validation loss:  0.3690871649728401\n",
      "Epoch:  174 | Training loss:  0.1721835406302481 | Validation loss:  0.36898551584485617\n",
      "Epoch:  175 | Training loss:  0.17196812615048365 | Validation loss:  0.3688882681206441\n",
      "stop training.\n"
     ]
    }
   ],
   "source": [
    "w_count, loss_tr_count, dev_loss_count = SGD(X_tr_tf, train_topic_label_arr, \n",
    "                                             X_dev=X_val_tf, \n",
    "                                             Y_dev=valid_topic_label_arr,\n",
    "                                             num_classes=3,\n",
    "                                             lr=0.001, \n",
    "                                             alpha=0.001,\n",
    "                                             tolerance=0.0001,\n",
    "                                             epochs=200)"
   ]
  },
  {
   "cell_type": "markdown",
   "metadata": {},
   "source": [
    "## task2.1.1 Hyperparameter choose:"
   ]
  },
  {
   "cell_type": "code",
   "execution_count": 50,
   "metadata": {},
   "outputs": [
    {
     "name": "stdout",
     "output_type": "stream",
     "text": [
      "alpha: 0.0001\n",
      "alpha: 0.001\n",
      "alpha: 0.01\n"
     ]
    },
    {
     "data": {
      "text/plain": [
       "<matplotlib.legend.Legend at 0x1a2ed335f8>"
      ]
     },
     "execution_count": 50,
     "metadata": {},
     "output_type": "execute_result"
    },
    {
     "data": {
      "image/png": "[encoded data removed]",
      "text/plain": [
       "<Figure size 432x288 with 1 Axes>"
      ]
     },
     "metadata": {
      "needs_background": "light"
     },
     "output_type": "display_data"
    }
   ],
   "source": [
    "alpha = [0.0001, 0.001, 0.01]\n",
    "dev_loss_count_list = list()\n",
    "\n",
    "for a in alpha:\n",
    "    print(\"alpha: \"+str(a))\n",
    "    _, _, dev_loss_count_1 = SGD(X_tr_tf, train_topic_label_arr,X_dev=X_val_tf, Y_dev=valid_topic_label_arr, num_classes=3, lr=0.001, alpha=a, epochs=100, print_progress=False)\n",
    "    dev_loss_count_list.append(dev_loss_count_1)\n",
    "\n",
    "plt.figure()\n",
    "for i in range(3):\n",
    "    l = [i for i in range(1, len(dev_loss_count_list[i])+1)]\n",
    "    plt.plot(l, dev_loss_count_list[i], label=alpha[i])\n",
    "plt.legend()"
   ]
  },
  {
   "cell_type": "code",
   "execution_count": 51,
   "metadata": {},
   "outputs": [
    {
     "name": "stdout",
     "output_type": "stream",
     "text": [
      "learning rate: 0.0001\n",
      "learning rate: 0.001\n",
      "learning rate: 0.01\n"
     ]
    },
    {
     "data": {
      "text/plain": [
       "<matplotlib.legend.Legend at 0x1a2245e4e0>"
      ]
     },
     "execution_count": 51,
     "metadata": {},
     "output_type": "execute_result"
    },
    {
     "data": {
      "image/png": "[encoded data removed]",
      "text/plain": [
       "<Figure size 432x288 with 1 Axes>"
      ]
     },
     "metadata": {
      "needs_background": "light"
     },
     "output_type": "display_data"
    }
   ],
   "source": [
    "lr = [0.0001, 0.001, 0.01]\n",
    "dev_loss_count_list = list()\n",
    "\n",
    "for l in lr:\n",
    "    print(\"learning rate: \"+str(l))\n",
    "    _, _, dev_loss_count_1 = SGD(X_tr_tf, train_topic_label_arr,X_dev=X_val_tf, Y_dev=valid_topic_label_arr, num_classes=3, lr=l, alpha=0.001, epochs=100, print_progress=False)\n",
    "    dev_loss_count_list.append(dev_loss_count_1)\n",
    "\n",
    "plt.figure()\n",
    "for i in range(3):\n",
    "    l = [i for i in range(1, len(dev_loss_count_list[i])+1)]\n",
    "    plt.plot(l, dev_loss_count_list[i], label=lr[i])\n",
    "plt.legend()"
   ]
  },
  {
   "cell_type": "markdown",
   "metadata": {},
   "source": [
    "**Conclusion: According to the result, learning rate and regularisation strength is 0.001 and 0.001 respectively.**"
   ]
  },
  {
   "cell_type": "markdown",
   "metadata": {},
   "source": [
    "## task2.1.2 Plot train and valid loss:"
   ]
  },
  {
   "cell_type": "markdown",
   "metadata": {},
   "source": [
    "Plot training and validation process and explain if your model overfit, underfit or is about right:"
   ]
  },
  {
   "cell_type": "code",
   "execution_count": 52,
   "metadata": {
    "ExecuteTime": {
     "end_time": "2020-02-15T14:31:09.903453Z",
     "start_time": "2020-02-15T14:31:09.901360Z"
    }
   },
   "outputs": [
    {
     "data": {
      "text/plain": [
       "<matplotlib.legend.Legend at 0x1a20d66390>"
      ]
     },
     "execution_count": 52,
     "metadata": {},
     "output_type": "execute_result"
    },
    {
     "data": {
      "image/png": "[encoded data removed]",
      "text/plain": [
       "<Figure size 432x288 with 1 Axes>"
      ]
     },
     "metadata": {
      "needs_background": "light"
     },
     "output_type": "display_data"
    }
   ],
   "source": [
    "# fill in your code...\n",
    "epochs = [i for i in range(1, len(loss_tr_count)+1)]\n",
    "plt.figure()\n",
    "plt.plot(epochs, loss_tr_count, label=\"train\")\n",
    "plt.plot(epochs, dev_loss_count, label=\"validation\")\n",
    "plt.legend()"
   ]
  },
  {
   "cell_type": "markdown",
   "metadata": {},
   "source": [
    "**obviously, training loss is less than valid loss. this model is a little overfitting. However, valid loss and training loss have the same decreasing tendency. Therefore, we could conclude that this model is not overfitting as serious as former model.**"
   ]
  },
  {
   "cell_type": "markdown",
   "metadata": {},
   "source": [
    "## task2.1.3 Compute accuracy, precision, recall and F1-scores:"
   ]
  },
  {
   "cell_type": "code",
   "execution_count": 53,
   "metadata": {
    "ExecuteTime": {
     "end_time": "2020-02-15T14:32:12.606498Z",
     "start_time": "2020-02-15T14:32:12.604164Z"
    }
   },
   "outputs": [
    {
     "name": "stdout",
     "output_type": "stream",
     "text": [
      "Accuracy: 0.8655555555555555\n",
      "Precision: 0.8663904085034629\n",
      "Recall: 0.8655555555555555\n",
      "F1-Score: 0.8650120615156233\n"
     ]
    }
   ],
   "source": [
    "# fill in your code...\n",
    "preds_te = predict_class(X_te_tf, w_count)\n",
    "Y_te = test_topic_label_arr\n",
    "\n",
    "print('Accuracy:', accuracy_score(Y_te,preds_te))\n",
    "print('Precision:', precision_score(Y_te,preds_te,average='macro'))\n",
    "print('Recall:', recall_score(Y_te,preds_te,average='macro'))\n",
    "print('F1-Score:', f1_score(Y_te,preds_te,average='macro'))"
   ]
  },
  {
   "cell_type": "markdown",
   "metadata": {},
   "source": [
    "## task2.1.4 Top 10 features for each class:"
   ]
  },
  {
   "cell_type": "code",
   "execution_count": 54,
   "metadata": {
    "ExecuteTime": {
     "end_time": "2020-02-15T14:32:26.224693Z",
     "start_time": "2020-02-15T14:32:26.221886Z"
    }
   },
   "outputs": [
    {
     "name": "stdout",
     "output_type": "stream",
     "text": [
      "The  1 class: \n",
      "['afp', ('athens', 'greece'), 'murder', 'najaf', 'leader', 'president', 'said', 'monday', 'minister', 'troops']\n",
      "The  2 class: \n",
      "['athens', 'ap', 'team', ('athens', 'reuters'), 'season', 'olympic', 'game', 'coach', 'players', 'win']\n",
      "The  3 class: \n",
      "['company', 'business', 'inc', 'corp', 'market', 'oil', 'google', 'based', 'bank', 'million']\n"
     ]
    }
   ],
   "source": [
    "# fill in your code...\n",
    "for i in range(0, 3):\n",
    "    dict_vocab_w_count = dict(zip(w_count[i], vocab))\n",
    "    dict_vocab_w_order_count = dict(sorted(dict_vocab_w_count.items(), key=lambda item: item[0], reverse=True))\n",
    "    # class 1.\n",
    "    print(\"The \",i+1,\"class: \")\n",
    "    print(list(dict_vocab_w_order_count.values())[:10])"
   ]
  },
  {
   "cell_type": "markdown",
   "metadata": {},
   "source": [
    "**According to the result above, the first class might about politics/goverment. the second is about sport/olympic. the third is about ecomony/ market/business. the performance of this model seems not bad and it could be used in new domain. for example, we want to classify sports between basketball and football. we could used this model to classify the documents from second class by using additional features such as named entity.**"
   ]
  },
  {
   "cell_type": "markdown",
   "metadata": {},
   "source": [
    "## task2.2 tf.idf:"
   ]
  },
  {
   "cell_type": "code",
   "execution_count": 55,
   "metadata": {
    "scrolled": true
   },
   "outputs": [
    {
     "name": "stdout",
     "output_type": "stream",
     "text": [
      "Epoch:  1 | Training loss:  0.6939417700216738 | Validation loss:  0.8750028573585632\n",
      "Epoch:  2 | Training loss:  0.5432367680150262 | Validation loss:  0.7643652368106392\n",
      "Epoch:  3 | Training loss:  0.45987342153624683 | Validation loss:  0.6957535529740575\n",
      "Epoch:  4 | Training loss:  0.40519546623923874 | Validation loss:  0.6478472915317646\n",
      "Epoch:  5 | Training loss:  0.3657613878048224 | Validation loss:  0.6121311524945536\n",
      "Epoch:  6 | Training loss:  0.3355818900464804 | Validation loss:  0.5841390024888936\n",
      "Epoch:  7 | Training loss:  0.3114480571932809 | Validation loss:  0.5614803634326953\n",
      "Epoch:  8 | Training loss:  0.2915510928203865 | Validation loss:  0.5428826259972069\n",
      "Epoch:  9 | Training loss:  0.27481063920387855 | Validation loss:  0.5267788557468771\n",
      "Epoch:  10 | Training loss:  0.26040692334532345 | Validation loss:  0.5130758904844182\n",
      "Epoch:  11 | Training loss:  0.24787665438776102 | Validation loss:  0.5012248144728174\n",
      "Epoch:  12 | Training loss:  0.2368529798740626 | Validation loss:  0.490856908695504\n",
      "Epoch:  13 | Training loss:  0.22703332543325216 | Validation loss:  0.4815823797402455\n",
      "Epoch:  14 | Training loss:  0.21823989369990737 | Validation loss:  0.4731446317580497\n",
      "Epoch:  15 | Training loss:  0.21028977899715218 | Validation loss:  0.4655751157854029\n",
      "Epoch:  16 | Training loss:  0.2030588879279445 | Validation loss:  0.4586931641787513\n",
      "Epoch:  17 | Training loss:  0.19643871726815326 | Validation loss:  0.45243158040304027\n",
      "Epoch:  18 | Training loss:  0.19036899237812518 | Validation loss:  0.44654100398421614\n",
      "Epoch:  19 | Training loss:  0.18479228256163474 | Validation loss:  0.44129959891588283\n",
      "Epoch:  20 | Training loss:  0.17961449378084982 | Validation loss:  0.43628893174410405\n",
      "Epoch:  21 | Training loss:  0.1748298835858671 | Validation loss:  0.4317510188996125\n",
      "Epoch:  22 | Training loss:  0.17034166808044454 | Validation loss:  0.4275099621821959\n",
      "Epoch:  23 | Training loss:  0.16619259870627648 | Validation loss:  0.42355430612450856\n",
      "Epoch:  24 | Training loss:  0.16224977937684792 | Validation loss:  0.41992750396191714\n",
      "Epoch:  25 | Training loss:  0.1585859205757745 | Validation loss:  0.4164951902859701\n",
      "Epoch:  26 | Training loss:  0.15512662077747047 | Validation loss:  0.413242602531325\n",
      "Epoch:  27 | Training loss:  0.1518785247871476 | Validation loss:  0.41025541389139697\n",
      "Epoch:  28 | Training loss:  0.14879561748874956 | Validation loss:  0.4073364244202147\n",
      "Epoch:  29 | Training loss:  0.14590172895593 | Validation loss:  0.4046617426470841\n",
      "Epoch:  30 | Training loss:  0.14313400316305186 | Validation loss:  0.4021480924930728\n",
      "Epoch:  31 | Training loss:  0.14052030372550517 | Validation loss:  0.3997921311084503\n",
      "Epoch:  32 | Training loss:  0.13803387605339676 | Validation loss:  0.3975310390417207\n",
      "Epoch:  33 | Training loss:  0.1356877394643544 | Validation loss:  0.3953301759778716\n",
      "Epoch:  34 | Training loss:  0.13342160654850796 | Validation loss:  0.3933825199930474\n",
      "Epoch:  35 | Training loss:  0.1312729930307869 | Validation loss:  0.3914455899981421\n",
      "Epoch:  36 | Training loss:  0.12923320118323356 | Validation loss:  0.38958164419104524\n",
      "Epoch:  37 | Training loss:  0.1272757593069402 | Validation loss:  0.3877990142688542\n",
      "Epoch:  38 | Training loss:  0.12540440128530958 | Validation loss:  0.38613072173064533\n",
      "Epoch:  39 | Training loss:  0.1235894664115605 | Validation loss:  0.38457422958141757\n",
      "Epoch:  40 | Training loss:  0.12187365099110889 | Validation loss:  0.38307918160383786\n",
      "Epoch:  41 | Training loss:  0.12022185454171463 | Validation loss:  0.3815932701654519\n",
      "Epoch:  42 | Training loss:  0.11864565304197294 | Validation loss:  0.3801892567295535\n",
      "Epoch:  43 | Training loss:  0.1171047514452556 | Validation loss:  0.37888381610776095\n",
      "Epoch:  44 | Training loss:  0.11564559545204396 | Validation loss:  0.37757827981901804\n",
      "Epoch:  45 | Training loss:  0.11424308426082824 | Validation loss:  0.37632863696872837\n",
      "Epoch:  46 | Training loss:  0.112871628681871 | Validation loss:  0.37525561129084717\n",
      "Epoch:  47 | Training loss:  0.11156740403992851 | Validation loss:  0.3741661671565958\n",
      "Epoch:  48 | Training loss:  0.11030204024700833 | Validation loss:  0.37309175982783743\n",
      "Epoch:  49 | Training loss:  0.109093145073399 | Validation loss:  0.3720381409825435\n",
      "Epoch:  50 | Training loss:  0.10791460099845397 | Validation loss:  0.37109789469142\n",
      "Epoch:  51 | Training loss:  0.10677645850734953 | Validation loss:  0.37018348035523585\n",
      "Epoch:  52 | Training loss:  0.10568300681790861 | Validation loss:  0.3692785264956956\n",
      "Epoch:  53 | Training loss:  0.10461596044748953 | Validation loss:  0.36837486187444246\n",
      "Epoch:  54 | Training loss:  0.10359792671168863 | Validation loss:  0.3675137306457548\n",
      "Epoch:  55 | Training loss:  0.10260038093136706 | Validation loss:  0.3667201620079966\n",
      "Epoch:  56 | Training loss:  0.10163716636447848 | Validation loss:  0.3659107580138834\n",
      "Epoch:  57 | Training loss:  0.10070918337216826 | Validation loss:  0.3652066168587053\n",
      "Epoch:  58 | Training loss:  0.09981142416030232 | Validation loss:  0.364545455034939\n",
      "Epoch:  59 | Training loss:  0.09893627456197158 | Validation loss:  0.3638289304077548\n",
      "Epoch:  60 | Training loss:  0.09808726978279642 | Validation loss:  0.363131163749451\n",
      "Epoch:  61 | Training loss:  0.09726335066015497 | Validation loss:  0.36248116984408624\n",
      "Epoch:  62 | Training loss:  0.09646077795187037 | Validation loss:  0.3618120571608448\n",
      "Epoch:  63 | Training loss:  0.0956893911073079 | Validation loss:  0.36121189955155636\n",
      "Epoch:  64 | Training loss:  0.09493825836493508 | Validation loss:  0.3606719491605589\n",
      "Epoch:  65 | Training loss:  0.09421308460230052 | Validation loss:  0.3600887536182418\n",
      "Epoch:  66 | Training loss:  0.09349476432393784 | Validation loss:  0.3595198155811701\n",
      "Epoch:  67 | Training loss:  0.09281165339537338 | Validation loss:  0.35898113096177486\n",
      "Epoch:  68 | Training loss:  0.09214295082025528 | Validation loss:  0.3584988766294927\n",
      "Epoch:  69 | Training loss:  0.09147633370443879 | Validation loss:  0.35800695469787774\n",
      "Epoch:  70 | Training loss:  0.0908366566189935 | Validation loss:  0.35753631838530203\n",
      "Epoch:  71 | Training loss:  0.09021730645787217 | Validation loss:  0.35709587897247425\n",
      "Epoch:  72 | Training loss:  0.08961900436203145 | Validation loss:  0.3566400424066626\n",
      "Epoch:  73 | Training loss:  0.08903054277735087 | Validation loss:  0.35624617417114957\n",
      "Epoch:  74 | Training loss:  0.08846398899977634 | Validation loss:  0.35582024396802436\n",
      "Epoch:  75 | Training loss:  0.08791132146101142 | Validation loss:  0.35539235497339583\n",
      "Epoch:  76 | Training loss:  0.08735751454745525 | Validation loss:  0.3550425197644622\n",
      "Epoch:  77 | Training loss:  0.08683703304772741 | Validation loss:  0.35466071269682903\n",
      "Epoch:  78 | Training loss:  0.08631300583188764 | Validation loss:  0.35435956914623856\n",
      "Epoch:  79 | Training loss:  0.08581309591564396 | Validation loss:  0.35405283245812263\n",
      "Epoch:  80 | Training loss:  0.08532193838315585 | Validation loss:  0.35371872490062856\n",
      "Epoch:  81 | Training loss:  0.0848423118228498 | Validation loss:  0.35338801530035624\n",
      "Epoch:  82 | Training loss:  0.08437395212413434 | Validation loss:  0.3530588346461018\n",
      "Epoch:  83 | Training loss:  0.08391828073373224 | Validation loss:  0.35273326962734547\n",
      "Epoch:  84 | Training loss:  0.08347385118131634 | Validation loss:  0.352424642156645\n",
      "Epoch:  85 | Training loss:  0.08304512284825685 | Validation loss:  0.3521311014047178\n",
      "Epoch:  86 | Training loss:  0.08261734331999586 | Validation loss:  0.3518475282067287\n",
      "Epoch:  87 | Training loss:  0.08220325524551554 | Validation loss:  0.35163397307874844\n",
      "Epoch:  88 | Training loss:  0.08179801247006235 | Validation loss:  0.35136204502955964\n",
      "Epoch:  89 | Training loss:  0.0814017355171519 | Validation loss:  0.3510635847717207\n",
      "Epoch:  90 | Training loss:  0.08101420932335181 | Validation loss:  0.35084958699616625\n",
      "Epoch:  91 | Training loss:  0.08063606695171097 | Validation loss:  0.35061271832167124\n",
      "Epoch:  92 | Training loss:  0.08026578584868796 | Validation loss:  0.35040268125219537\n",
      "Epoch:  93 | Training loss:  0.07990540524306113 | Validation loss:  0.3502063377705309\n",
      "Epoch:  94 | Training loss:  0.0795528964752574 | Validation loss:  0.35002880029831507\n",
      "Epoch:  95 | Training loss:  0.07921012122594927 | Validation loss:  0.3498296190298372\n"
     ]
    },
    {
     "name": "stdout",
     "output_type": "stream",
     "text": [
      "Epoch:  96 | Training loss:  0.07887265626642624 | Validation loss:  0.34964810195980806\n",
      "Epoch:  97 | Training loss:  0.07854112801881497 | Validation loss:  0.3494544688048311\n",
      "Epoch:  98 | Training loss:  0.07821826785948624 | Validation loss:  0.349221227157945\n",
      "Epoch:  99 | Training loss:  0.07790119073178711 | Validation loss:  0.34907020475334993\n",
      "Epoch:  100 | Training loss:  0.07759215698273193 | Validation loss:  0.34885307352258554\n",
      "Epoch:  101 | Training loss:  0.077287462654778 | Validation loss:  0.34870098648474057\n",
      "Epoch:  102 | Training loss:  0.07699041816823665 | Validation loss:  0.34851794508910455\n",
      "Epoch:  103 | Training loss:  0.07670045612554223 | Validation loss:  0.3483757164464765\n",
      "Epoch:  104 | Training loss:  0.07641637121143927 | Validation loss:  0.3481890401651445\n",
      "Epoch:  105 | Training loss:  0.07613644654175285 | Validation loss:  0.3480689074871249\n",
      "Epoch:  106 | Training loss:  0.07586627668477593 | Validation loss:  0.3479165871482821\n",
      "Epoch:  107 | Training loss:  0.0755955641067519 | Validation loss:  0.34778386086974056\n",
      "Epoch:  108 | Training loss:  0.07533815380814958 | Validation loss:  0.3476130680026508\n",
      "Epoch:  109 | Training loss:  0.07508036923858429 | Validation loss:  0.347492303105764\n",
      "Epoch:  110 | Training loss:  0.07482754646404258 | Validation loss:  0.34736868789974706\n",
      "Epoch:  111 | Training loss:  0.07458109558006565 | Validation loss:  0.3472619209176327\n",
      "Epoch:  112 | Training loss:  0.0743419740683798 | Validation loss:  0.3471376863378043\n",
      "Epoch:  113 | Training loss:  0.07410276843883379 | Validation loss:  0.3470042788964669\n",
      "Epoch:  114 | Training loss:  0.0738721467230406 | Validation loss:  0.34686160110551795\n",
      "Epoch:  115 | Training loss:  0.07364646395331752 | Validation loss:  0.3467446209202508\n",
      "Epoch:  116 | Training loss:  0.07341945190410645 | Validation loss:  0.34665833069693835\n",
      "stop training.\n"
     ]
    }
   ],
   "source": [
    "w_tfidf, loss_tr_tfidf, dev_loss_tfidf = SGD(X_tr_tfidf, train_topic_label_arr, \n",
    "                                             X_dev=X_val_tfidf, \n",
    "                                             Y_dev=valid_topic_label_arr,\n",
    "                                             num_classes=3,\n",
    "                                             lr=0.001, \n",
    "                                             alpha=0.001, \n",
    "                                             tolerance=0.0001,\n",
    "                                             epochs=300)"
   ]
  },
  {
   "cell_type": "markdown",
   "metadata": {},
   "source": [
    "## task 2.2.1 Hyperparameter choose:"
   ]
  },
  {
   "cell_type": "code",
   "execution_count": 56,
   "metadata": {},
   "outputs": [
    {
     "name": "stdout",
     "output_type": "stream",
     "text": [
      "alpha: 0.0001\n",
      "alpha: 0.001\n",
      "alpha: 0.01\n"
     ]
    },
    {
     "data": {
      "text/plain": [
       "<matplotlib.legend.Legend at 0x1a20ce7208>"
      ]
     },
     "execution_count": 56,
     "metadata": {},
     "output_type": "execute_result"
    },
    {
     "data": {
      "image/png": "[encoded data removed]",
      "text/plain": [
       "<Figure size 432x288 with 1 Axes>"
      ]
     },
     "metadata": {
      "needs_background": "light"
     },
     "output_type": "display_data"
    }
   ],
   "source": [
    "alpha = [0.0001, 0.001, 0.01]\n",
    "dev_loss_count_list = list()\n",
    "\n",
    "for a in alpha:\n",
    "    print(\"alpha: \"+str(a))\n",
    "    _, _, dev_loss_count_1 = SGD(X_tr_tfidf, train_topic_label_arr,X_dev=X_val_tfidf, Y_dev=valid_topic_label_arr, num_classes=3, lr=0.0001, alpha=a, epochs=100, print_progress=False)\n",
    "    dev_loss_count_list.append(dev_loss_count_1)\n",
    "\n",
    "plt.figure()\n",
    "for i in range(3):\n",
    "    l = [i for i in range(1, len(dev_loss_count_list[i])+1)]\n",
    "    plt.plot(l, dev_loss_count_list[i], label=alpha[i])\n",
    "plt.legend()"
   ]
  },
  {
   "cell_type": "code",
   "execution_count": 57,
   "metadata": {},
   "outputs": [
    {
     "name": "stdout",
     "output_type": "stream",
     "text": [
      "learning rate: 0.0001\n",
      "learning rate: 0.001\n",
      "learning rate: 0.01\n"
     ]
    },
    {
     "data": {
      "text/plain": [
       "<matplotlib.legend.Legend at 0x1a1ecca828>"
      ]
     },
     "execution_count": 57,
     "metadata": {},
     "output_type": "execute_result"
    },
    {
     "data": {
      "image/png": "[encoded data removed]",
      "text/plain": [
       "<Figure size 432x288 with 1 Axes>"
      ]
     },
     "metadata": {
      "needs_background": "light"
     },
     "output_type": "display_data"
    }
   ],
   "source": [
    "lr = [0.0001, 0.001, 0.01]\n",
    "dev_loss_count_list = list()\n",
    "\n",
    "for l in lr:\n",
    "    print(\"learning rate: \"+str(l))\n",
    "    _, _, dev_loss_count_1 = SGD(X_tr_tfidf, train_topic_label_arr,X_dev=X_val_tfidf, Y_dev=valid_topic_label_arr, num_classes=3, lr=l, alpha=0.001, epochs=100, print_progress=False)\n",
    "    dev_loss_count_list.append(dev_loss_count_1)\n",
    "\n",
    "plt.figure()\n",
    "for i in range(3):\n",
    "    l = [i for i in range(1, len(dev_loss_count_list[i])+1)]\n",
    "    plt.plot(l, dev_loss_count_list[i], label=alpha[i])\n",
    "plt.legend()"
   ]
  },
  {
   "cell_type": "markdown",
   "metadata": {},
   "source": [
    "**Conclusion: According to the figure above, learning rate and regularisation strength are both 0.001.**"
   ]
  },
  {
   "cell_type": "markdown",
   "metadata": {},
   "source": [
    "## task2.2.2 Plot train and valid loss:"
   ]
  },
  {
   "cell_type": "code",
   "execution_count": 58,
   "metadata": {},
   "outputs": [
    {
     "data": {
      "text/plain": [
       "<matplotlib.legend.Legend at 0x1a1ecdaf60>"
      ]
     },
     "execution_count": 58,
     "metadata": {},
     "output_type": "execute_result"
    },
    {
     "data": {
      "image/png": "[encoded data removed]",
      "text/plain": [
       "<Figure size 432x288 with 1 Axes>"
      ]
     },
     "metadata": {
      "needs_background": "light"
     },
     "output_type": "display_data"
    }
   ],
   "source": [
    "# fill in your code...\n",
    "epochs = [i for i in range(1, len(loss_tr_tfidf)+1)]\n",
    "plt.figure()\n",
    "plt.plot(epochs, loss_tr_tfidf, label=\"train\")\n",
    "plt.plot(epochs, dev_loss_tfidf, label=\"validation\")\n",
    "plt.legend()"
   ]
  },
  {
   "cell_type": "markdown",
   "metadata": {},
   "source": [
    "**the model is a little overfitting because training loss is less than valid loss and this difference might be increased with the increasing of epoch.**"
   ]
  },
  {
   "cell_type": "markdown",
   "metadata": {},
   "source": [
    "## task2.2.3 Compute accuracy, precision, recall and F1-scores:"
   ]
  },
  {
   "cell_type": "code",
   "execution_count": 59,
   "metadata": {},
   "outputs": [
    {
     "name": "stdout",
     "output_type": "stream",
     "text": [
      "Accuracy: 0.8744444444444445\n",
      "Precision: 0.8751265313802796\n",
      "Recall: 0.8744444444444445\n",
      "F1-Score: 0.8737528192226761\n"
     ]
    }
   ],
   "source": [
    "# fill in your code...\n",
    "preds_te = predict_class(X_te_tfidf, w_tfidf)\n",
    "Y_te = test_topic_label_arr\n",
    "\n",
    "print('Accuracy:', accuracy_score(Y_te,preds_te))\n",
    "print('Precision:', precision_score(Y_te,preds_te,average='macro'))\n",
    "print('Recall:', recall_score(Y_te,preds_te,average='macro'))\n",
    "print('F1-Score:', f1_score(Y_te,preds_te,average='macro'))"
   ]
  },
  {
   "cell_type": "markdown",
   "metadata": {},
   "source": [
    "### task2.2.4 Top 10 features for every classes:"
   ]
  },
  {
   "cell_type": "code",
   "execution_count": 60,
   "metadata": {},
   "outputs": [
    {
     "name": "stdout",
     "output_type": "stream",
     "text": [
      "The  1 class: \n",
      "['afp', ('athens', 'greece'), 'beijing', 'murder', 'said', 'leader', 'najaf', 'india', 'monday', 'president']\n",
      "The  2 class: \n",
      "['ap', 'athens', 'team', 'olympic', ('athens', 'reuters'), 'season', 'game', 'players', 'coach', 'games']\n",
      "The  3 class: \n",
      "['company', 'business', 'market', 'oil', 'corp', 'inc', 'google', 'based', 'bank', 'sales']\n"
     ]
    }
   ],
   "source": [
    "# fill in your code...\n",
    "for i in range(0, 3):\n",
    "    dict_vocab_w_tfidf = dict(zip(w_tfidf[i], vocab))\n",
    "    dict_vocab_w_order_count = dict(sorted(dict_vocab_w_tfidf.items(), key=lambda item: item[0], reverse=True))\n",
    "    # class 1.\n",
    "    print(\"The \",i+1,\"class: \")\n",
    "    print(list(dict_vocab_w_order_count.values())[:10])"
   ]
  },
  {
   "cell_type": "markdown",
   "metadata": {},
   "source": [
    "**Similarly, this model using tf.idf could also perform very well and it could be used in new domain. for example, the documents about oil and agriculture could be classify based on the feature such as oil and corp in third class.**"
   ]
  },
  {
   "cell_type": "markdown",
   "metadata": {},
   "source": [
    "**Discuss how did you choose model hyperparameters (e.g. learning rate and regularisation strength)? What is the relation between training epochs and learning rate? How the regularisation strength affects performance?**"
   ]
  },
  {
   "cell_type": "markdown",
   "metadata": {
    "ExecuteTime": {
     "end_time": "2020-02-15T14:16:19.856538Z",
     "start_time": "2020-02-15T14:16:19.852547Z"
    }
   },
   "source": [
    "* tf: both are 0.001.\n",
    "\n",
    "* tf.idf: both are 0.001.\n",
    "\n",
    "**As i have discussed above, bigger strength could cause underfitting. smaller strength could cause overfitting. there is a relationship between lr and training epochs. smaller epoches could increase training epoches. Otherwise, training epoches could be decreased. However, it might not reach global minimal point.**"
   ]
  },
  {
   "cell_type": "markdown",
   "metadata": {
    "ExecuteTime": {
     "end_time": "2020-02-15T14:16:42.567569Z",
     "start_time": "2020-02-15T14:16:42.562560Z"
    }
   },
   "source": [
    "## Full Results\n",
    "\n",
    "Add here your results:\n",
    "\n",
    "| LR | Precision  | Recall  | F1-Score  |\n",
    "|:-:|:-:|:-:|:-:|\n",
    "| BOW-count  | 0.87  |  0.87 |  0.87 |\n",
    "| BOW-tfidf  | 0.88  | 0.88  | 0.88 |\n"
   ]
  }
 ],
 "metadata": {
  "kernelspec": {
   "display_name": "Python 3",
   "language": "python",
   "name": "python3"
  },
  "language_info": {
   "codemirror_mode": {
    "name": "ipython",
    "version": 3
   },
   "file_extension": ".py",
   "mimetype": "text/x-python",
   "name": "python",
   "nbconvert_exporter": "python",
   "pygments_lexer": "ipython3",
   "version": "3.7.3"
  }
 },
 "nbformat": 4,
 "nbformat_minor": 2
}
