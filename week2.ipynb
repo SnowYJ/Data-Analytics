{
 "cells": [
  {
   "cell_type": "markdown",
   "metadata": {},
   "source": [
    "## Week 2:"
   ]
  },
  {
   "cell_type": "markdown",
   "metadata": {},
   "source": [
    "1. 感知机介绍：\n",
    "\n",
    "    1.1 代码。\n",
    "\n",
    "    1.2 sklearn代码。\n",
    "\n",
    "\n",
    "2. 优化算法介绍：\n",
    "\n",
    "    2.1 批量梯度下降，随机梯度下降，小批量梯度下降。\n",
    "\n",
    "    2.2 pytorch中几种学习率更新函数。\n",
    "\n",
    "    2.2 其他优化算法 动量梯度下降，RMSprop，Adam等。\n",
    "\n",
    "\n",
    "3. 推荐系统介绍：\n",
    "\n",
    "    3.1 使用BGD更新参数。\n",
    "    \n",
    "    3.2 使用SGD更新参数。"
   ]
  },
  {
   "cell_type": "markdown",
   "metadata": {},
   "source": [
    "### 1. Perceptron Linear Algorithm："
   ]
  },
  {
   "cell_type": "markdown",
   "metadata": {},
   "source": [
    "**感知机算法属于线性分类的二分类算法**，此算法只能处**理线性可分**的数据。其输入输出映射关系如下：\n",
    "\n",
    "$$f(\\mathbf{x}_i) = \\text{sign}\\left(\\mathbf{w}^\\top \\mathbf{x}_i + b\\right)$$\n",
    "\n",
    "其中sign为符号函数：\n",
    "\n",
    "\\begin{equation}\n",
    "g(z)=\\text{sign}(z)=\n",
    "\\begin{cases}\n",
    "+1 & z>0\\\\\n",
    "-1 & z<0\n",
    "\\end{cases}\n",
    "\\end{equation}\n",
    "\n",
    "\n",
    "$\\mathbf{w}^\\top \\mathbf{x}_i + b = 0 $ 为超平面 (hypterplane)。\n",
    "\n",
    "\n",
    "算法流程：\n",
    "\n",
    "1. 初始化参数w, b, $\\eta$ 以及两类数据点 x_plus, x_minus，绘图。\n",
    "2. 随机选择数据点，判断条件。\n",
    "3. 更新hypterplane参数:\n",
    " \n",
    " * $\\mathbf{x}_i$ 为 \"+1\"，但是 $\\mathbf{w}^\\top \\mathbf{x}_i + b < 0$ : \n",
    "    \\begin{cases}\n",
    "      \\mathbf{w}_{\\text{new}} & = \\mathbf{w} + \\eta \\mathbf{x}_i\\\\\n",
    "                            b_{\\text{new}} & = b + \\eta \n",
    "    \\end{cases}\n",
    " * $\\mathbf{x}_i$ 为 \"-1\"，但是 $\\mathbf{w}^\\top \\mathbf{x}_i + b > 0$ :\n",
    "     \\begin{cases}\n",
    "      \\mathbf{w}_{\\text{new}} & = \\mathbf{w} - \\eta \\mathbf{x}_i\\\\\n",
    "                            b_{\\text{new}} & = b - \\eta \n",
    "    \\end{cases}\n",
    "    \n",
    "    \n",
    " 对于上述两种情况可以整合成一个等式，其公式推导如下：\n",
    "    \n",
    " 分类错误的情况一共两种：\n",
    "   * $\\mathbf{y}_i = +1,  \\mathbf{w}^\\top \\mathbf{x}_i + b < 0$\n",
    "   * $\\mathbf{y}_i = -1,  \\mathbf{w}^\\top \\mathbf{x}_i + b > 0$\n",
    " \n",
    " 上述两种错误情况可以写成：\n",
    " \n",
    " $$\\mathbf{y}_i(\\mathbf{w}^\\top\\mathbf{x}_i + b) > 0$$  \n",
    " \n",
    " 所有错误分类的数据点到超平面的距离为：\n",
    " \n",
    " $$ D = \\frac{\\mathbf{y}_i(\\mathbf{w}^\\top\\mathbf{x}_i + b)}{||\\mathbf{w}||} $$\n",
    " \n",
    " 忽略分母，感知机算法的代价函数可表示为：\n",
    " \n",
    " $$ L(w, b) = \\mathbf{y}_i(\\mathbf{w}^\\top\\mathbf{x}_i + b)$$\n",
    " \n",
    " 对代价函数求导可得：\n",
    " $$ \\frac{\\text{d}L(w, b)}{\\text{w}} = \\mathbf{y}_i\\mathbf{x}_i $$\n",
    " \n",
    " $$ \\frac{\\text{d}L(w, b)}{\\text{b}} = \\mathbf{y}_i $$\n",
    " \n",
    " 因此函数参数更新可表示为：\n",
    "  \\begin{cases}\n",
    "      \\mathbf{w}_{\\text{new}} & = \\mathbf{w} + \\eta \\mathbf{y}_i\\mathbf{x}_i\\\\\n",
    "                            b_{\\text{new}} & = b + \\eta \\mathbf{y}_i\n",
    "    \\end{cases}\n",
    "    \n",
    " 其中$\\mathbf{y}_i$代表$\\mathbf{x}_i$对应的类别 \"+1\", \"-1\"。\n",
    " \n",
    " \n",
    " **由于感知机算法是对数据点逐个排查，因此感知机的更新参数部分为随机梯度下降。**"
   ]
  },
  {
   "cell_type": "code",
   "execution_count": 3,
   "metadata": {},
   "outputs": [],
   "source": [
    "import numpy as np\n",
    "import matplotlib.pyplot as plt\n",
    "from IPython import display"
   ]
  },
  {
   "cell_type": "code",
   "execution_count": 15,
   "metadata": {},
   "outputs": [
    {
     "name": "stdout",
     "output_type": "stream",
     "text": [
      "this is the 30  iteration.\n"
     ]
    },
    {
     "data": {
      "image/png": "[encoded data removed]",
      "text/plain": [
       "<Figure size 400x400 with 1 Axes>"
      ]
     },
     "metadata": {
      "needs_background": "light"
     },
     "output_type": "display_data"
    }
   ],
   "source": [
    "\n",
    "\n",
    "def boundary_points(w, b, x_plus, x_minus):\n",
    "    display.clear_output(wait = True)\n",
    "    plt.figure(figsize = (5, 5), dpi = 80)\n",
    "    \n",
    "    # draw points.\n",
    "    plt.plot(x_plus[:, 0], x_plus[:, 1], 'rx')\n",
    "    plt.plot(x_minus[:, 0], x_minus[:, 1], 'go')\n",
    "\n",
    "    xlim = [-3.5, 3.5]\n",
    "    ylim = xlim\n",
    "\n",
    "    plt.xlim(xlim[0], xlim[1])\n",
    "    plt.ylim(ylim[0], ylim[1])\n",
    "    \n",
    "    # draw boundary.\n",
    "    x1 = np.linspace(xlim, 3)\n",
    "    x2 = ( -b - w[0]*x1 ) / w[1]\n",
    "\n",
    "    plt.plot(x1, x2, 'b--')\n",
    "    \n",
    "# Secondly, update w and b.\n",
    "def update_boundary(x_plus, x_minus, w, b, rate):\n",
    "    # positive or negative.\n",
    "    choose = np.random.uniform(size = 1) > 0.5\n",
    "    update = False\n",
    "    if choose:\n",
    "        # choose a point randomly.\n",
    "        index = np.random.randint(x_plus.shape[0])\n",
    "        cond = np.dot(w, x_plus[index, :]) + b \n",
    "        if cond < 0: # positive but less than 0.\n",
    "            w += x_plus[index, :]*rate\n",
    "            b += rate\n",
    "            update = True\n",
    "    else: \n",
    "        index = np.random.randint(x_minus.shape[0])\n",
    "        cond = np.dot(w, x_minus[index, :]) + b \n",
    "        if cond > 0: #negative but bigger than 0.\n",
    "            w -= x_minus[index, :]*rate\n",
    "            b -= rate\n",
    "            update = True\n",
    "    return w, b, update\n",
    "\n",
    "def run_perceptron():\n",
    "    rate = 0.1\n",
    "    w = 0.5*np.random.randn(2)\n",
    "    b = 0.5*np.random.randn(1)\n",
    "    \n",
    "    x_plus = np.random.normal(loc = 1.3, size = (30, 2)) \n",
    "    x_minus = np.random.normal(loc = -1.3, size = (30, 2))\n",
    "    \n",
    "    for i in range(30):\n",
    "        boundary_points(w, b, x_plus, x_minus)\n",
    "        w, b, update = update_boundary(x_plus, x_minus, w, b, rate)\n",
    "        print(\"this is the\", i + 1, \" iteration.\")\n",
    "        if update:\n",
    "            plt.title(\"incorrect prediction!\")\n",
    "            plt.pause(1)\n",
    "        else:\n",
    "            plt.title(\"correct prediction!\")\n",
    "            plt.pause(1)\n",
    "                \n",
    "        \n",
    "run_perceptron()"
   ]
  },
  {
   "cell_type": "code",
   "execution_count": 49,
   "metadata": {},
   "outputs": [
    {
     "name": "stdout",
     "output_type": "stream",
     "text": [
      "[[-0.64006867  2.67683437]]\n",
      "0.99\n"
     ]
    },
    {
     "data": {
      "text/plain": [
       "[<matplotlib.lines.Line2D at 0x1a1dd836d8>]"
      ]
     },
     "execution_count": 49,
     "metadata": {},
     "output_type": "execute_result"
    },
    {
     "data": {
      "image/png": "[encoded data removed]",
      "text/plain": [
       "<Figure size 400x400 with 1 Axes>"
      ]
     },
     "metadata": {
      "needs_background": "light"
     },
     "output_type": "display_data"
    }
   ],
   "source": [
    "# sklearn \n",
    "from sklearn.datasets import make_classification\n",
    "from sklearn.linear_model import Perceptron\n",
    "\n",
    "X, y = make_classification(n_samples=100, n_features=2,n_redundant=0,n_informative=1,n_clusters_per_class=1)\n",
    "\n",
    "X_plus, X_minus = X[y == 1], X[y == 0]\n",
    "\n",
    "clf = Perceptron(fit_intercept=True, max_iter=100, shuffle=True)\n",
    "\n",
    "clf.fit(X, y) # clf.coef_  clf.intercept_\n",
    "print(clf.coef_)\n",
    "\n",
    "result = clf.score(X, y)\n",
    "print(result)\n",
    "\n",
    "# plot points.\n",
    "plt.figure(figsize = (5, 5), dpi = 80)\n",
    "plt.plot(X_plus[:, 0], X_plus[:, 1], 'rx')\n",
    "plt.plot(X_minus[:, 0], X_minus[:, 1], 'bo')\n",
    "\n",
    "line_x = np.linspace(-3, 3, 100)\n",
    "\n",
    "plt.plot(line_x, (-clf.coef_[0][0]/clf.coef_[0][1])*line_x, 'b--')\n"
   ]
  },
  {
   "cell_type": "markdown",
   "metadata": {},
   "source": [
    "### 2. 优化算法："
   ]
  },
  {
   "cell_type": "markdown",
   "metadata": {},
   "source": [
    "#### 2.1 梯度下降 (BGD, SGD, MGD):"
   ]
  },
  {
   "cell_type": "markdown",
   "metadata": {},
   "source": [
    "1. 批量梯度下降 BGD:\n",
    "\n",
    "\n",
    "* 目标函数:\n",
    "\n",
    "$$f(x_i) = mx_i + c$$\n",
    "\n",
    "* 损失函数（n 为数据集样本数）:\n",
    "\n",
    "$$E(m, c) = \\sum_{i=1}^n (y_i - f(x_i))^2 $$\n",
    "\n",
    "* Offset gradient:\n",
    "\n",
    "$$\\frac{\\text{d}E(m, c)}{\\text{d} c} = -2\\sum_{i=1}^n (y_i - mx_i - c)$$\n",
    "\n",
    "* Slope gradient:\n",
    "\n",
    "$$\\frac{\\text{d}E(m, c)}{\\text{d} m} = -2\\sum_{i=1}^n x_i(y_i - mx_i - c)$$\n",
    "\n",
    "* update parameters:\n",
    "\n",
    "$$c_\\text{new} \\leftarrow c_{\\text{old}} - \\eta \\frac{\\text{d}E(m, c)}{\\text{d}c}$$ \n",
    "\n",
    "$$m_\\text{new} \\leftarrow m_{\\text{old}} - \\eta \\frac{\\text{d}E(m, c)}{\\text{d}m}$$\n",
    "\n",
    "\n",
    "2. 随机梯度下降 SGD:\n",
    "\n",
    "\n",
    "* 损失函数:\n",
    "\n",
    "$$E(m, c) = (y_i - f(x_i))^2 $$\n",
    "\n",
    "     \n",
    "3. 小批量梯度下降 MGD:\n",
    "\n",
    "\n",
    "* 损失函数（k 为每一个batch的样本数）:\n",
    "\n",
    "$$E(m, c) = \\sum_{i=1}^k (y_i - f(x_i))^2 $$"
   ]
  },
  {
   "cell_type": "markdown",
   "metadata": {},
   "source": [
    "**一个函数在某点沿着梯度的方向增长最快，而逆着梯度的方向则减小最快**。"
   ]
  },
  {
   "cell_type": "markdown",
   "metadata": {},
   "source": [
    "#### 2.2 三种梯度下降总结: "
   ]
  },
  {
   "cell_type": "markdown",
   "metadata": {},
   "source": [
    "1. 收敛现象：\n",
    "\n",
    "    随机梯度下降以及小批量梯度下降是否会收敛? 不会，因此使用不固定的 learning rate 可以有效的改善算法不收敛的现象，例如：torch. optim. lr_scheduler。然而，大批量梯度下降一定会收敛，因此不需要更改 learning rate。"
   ]
  },
  {
   "cell_type": "code",
   "execution_count": 50,
   "metadata": {},
   "outputs": [
    {
     "data": {
      "text/plain": [
       "[<matplotlib.lines.Line2D at 0x11cc844e0>]"
      ]
     },
     "execution_count": 50,
     "metadata": {},
     "output_type": "execute_result"
    },
    {
     "data": {
      "image/png": "[encoded data removed]",
      "text/plain": [
       "<Figure size 1080x360 with 3 Axes>"
      ]
     },
     "metadata": {
      "needs_background": "light"
     },
     "output_type": "display_data"
    }
   ],
   "source": [
    "import torch\n",
    "import torch.optim as optim\n",
    "from torch.optim import lr_scheduler\n",
    "from torchvision.models import AlexNet\n",
    "import matplotlib.pyplot as plt\n",
    "\n",
    "x = list(range(100))\n",
    "y = []\n",
    "plt.figure(figsize=(15, 5))\n",
    "model = AlexNet(num_classes=2)\n",
    "optimizer = optim.SGD(params=model.parameters(), lr=0.05)\n",
    "\n",
    "# ----------------------------------------- 1. StepLR --------------------------------------------------------\n",
    "scheduler = lr_scheduler.StepLR(optimizer, step_size=30, gamma=0.1) # lr*gamma every 30 epoch.\n",
    "\n",
    "for epoch in range(100):\n",
    "    scheduler.step()\n",
    "    lr = scheduler.get_lr()\n",
    "    y.append(scheduler.get_lr()[0])\n",
    "\n",
    "plt.subplot(1, 3, 1)\n",
    "plt.title(\"StepLR\")\n",
    "plt.plot(x, y)\n",
    "# ---------------------------------------- 2. MultiStepLR ----------------------------------------------------\n",
    "y.clear()\n",
    "scheduler = lr_scheduler.MultiStepLR(optimizer, [30, 80], 0.1)\n",
    "for epoch in range(100):\n",
    "    scheduler.step()\n",
    "    y.append(scheduler.get_lr()[0])\n",
    "\n",
    "plt.subplot(1, 3, 2)\n",
    "plt.title(\"MultiStepLR\")\n",
    "plt.plot(x, y)\n",
    "# -------------------------------------- 3. ExponentialLR ----------------------------------------------------\n",
    "scheduler = lr_scheduler.ExponentialLR(optimizer, gamma=0.9)\n",
    "y.clear()\n",
    "for epoch in range(100):\n",
    "    scheduler.step()\n",
    "    y.append(scheduler.get_lr()[0])\n",
    "\n",
    "plt.subplot(1, 3, 3)\n",
    "plt.title(\"ExponentialLR\")\n",
    "plt.plot(x, y)\n"
   ]
  },
  {
   "cell_type": "markdown",
   "metadata": {},
   "source": [
    "2. 训练速度:\n",
    "\n",
    "    BGD 单次迭代时间过长，但是由于使用矩阵计算，因此当最后到达相同精确性的情况下，**BGD训练时间不一定最长**。相反，由于SGD或mini BGD在每次迭代中使用了更少的数据集，因此，可能需要更多次迭代才能到达全剧最优。注意，当训练集过大时，BGD不是一个很好的选择，考虑计算机内存。"
   ]
  },
  {
   "cell_type": "markdown",
   "metadata": {},
   "source": [
    "#### 2.3 其他优化算法: \n",
    "\n",
    "1. 动量梯度下降 (Momentum):\n",
    "\n",
    "    $$V_{dm_i} = \\beta V_{dw_{i-1}} + (1 - \\beta)  \\nabla_m E(m, c) $$\n",
    "    \n",
    "    $$V_{dc_i} = \\beta V_{dc_{i-1}} + (1 - \\beta) \\nabla_c E(m, c)$$\n",
    "    \n",
    "    将之前数据的梯度与要更新数据的梯度联系到一起，防止梯度过于抖动，不会存在急转弯的现象。\n",
    "    \n",
    "\n",
    "2. RMSprop (root mean square prop):\n",
    "    \n",
    "    \\begin{cases}\n",
    "          s = \\beta s + (1 - \\beta)dw^2\\\\\n",
    "          w = w - \\alpha \\frac{dw}{\\sqrt{s + \\epsilon}}\n",
    "    \\end{cases}\n",
    "    \n",
    "    震荡较大方向上的梯度较大，对应s较大，梯度更新缓慢，从而减小震荡。反之，梯度较小，s较小，梯度更新增快。通常，$\\beta$ 为0.999，$\\epsilon$ 为 10e-8。\n",
    "    \n",
    "\n",
    "3. **Adam (Adaptive Moment Estimation)**:\n",
    "\n",
    "    此算法为上述二者的结合，更新公式如下：\n",
    "    \n",
    "    \\begin{cases}\n",
    "          v = \\beta v + (1 - \\beta_1)dw\\\\\n",
    "          s = \\beta s + (1 - \\beta_2)dw^2\\\\\n",
    "          w = w - \\alpha \\frac{v}{\\sqrt{s + \\epsilon}}\n",
    "    \\end{cases}\n",
    "    \n",
    "    通常，$\\beta_1$为0.9，$\\beta_2$为0.999，$\\epsilon$为10e-8。\n",
    "\n",
    "    \n",
    "https://ruder.io/optimizing-gradient-descent/index.html\n",
    "\n",
    "https://www.cnblogs.com/jiaxblog/p/9695042.html"
   ]
  },
  {
   "cell_type": "markdown",
   "metadata": {},
   "source": [
    "### 3. 推荐系统（使用SGD，BGD更新）: "
   ]
  },
  {
   "cell_type": "code",
   "execution_count": 51,
   "metadata": {},
   "outputs": [
    {
     "name": "stdout",
     "output_type": "stream",
     "text": [
      "[547 241 277 348 218 407 352  97 381 607]\n",
      "   users  movies  ratingOrg    rating\n",
      "0  547.0   541.0        5.0  1.247744\n",
      "1  547.0  1131.0        4.0  0.247744\n",
      "2  547.0  1189.0        4.0  0.247744\n",
      "3  547.0  1199.0        5.0  1.247744\n",
      "4  547.0  1211.0        5.0  1.247744\n"
     ]
    }
   ],
   "source": [
    "import pandas as pd\n",
    "import numpy as np\n",
    "import operator  \n",
    "from functools import reduce\n",
    "\n",
    "rating = pd.read_csv(\"./ml-latest-small/ratings.csv\")\n",
    "user_id_total = rating['userId'].unique()\n",
    "np.random.seed(10)\n",
    "user_id_ten = ( np.random.permutation(user_id_total.shape[0]) )[0: 10]\n",
    "print(user_id_ten)\n",
    "\n",
    "# two dimension\n",
    "list_movie = [[] for _ in range(10)]\n",
    "list_rating = [[] for _ in range(10)]\n",
    "list_user = [[] for _ in range(10)]\n",
    "\n",
    "# one dimension\n",
    "list_movie_1D = []\n",
    "list_rating_1D = []\n",
    "list_user_1D = []\n",
    "for i in range(0, 10):\n",
    "    list_movie[i] = rating[rating.userId == user_id_ten[i]].movieId.values # change series to list\n",
    "    list_movie_1D = np.append(list_movie_1D, list_movie[i])\n",
    "    \n",
    "    list_rating[i] = rating[rating.userId == user_id_ten[i]].rating.values \n",
    "    list_rating_1D = np.append(list_rating_1D, list_rating[i])\n",
    "    \n",
    "    list_user[i] = user_id_ten[i]*(np.ones(list_movie[i].shape[0]))\n",
    "    list_user_1D = np.append(list_user_1D, list_user[i])\n",
    "\n",
    "# create dataframe with NaN\n",
    "list_movie_unique = np.unique(list_movie_1D) # list don't have unique().\n",
    "n_movie = list_movie_unique.shape[0]\n",
    "\n",
    "temp = np.zeros((n_movie, 10))\n",
    "temp[:] = np.nan\n",
    "Y_with_NaN = pd.DataFrame(temp)\n",
    "\n",
    "for i in range(10):\n",
    "    local_movie = list_movie[i]\n",
    "    ixs = np.in1d(list_movie_unique, local_movie)\n",
    "    Y_with_NaN.loc[ixs, i] = list_rating_1D[i]\n",
    "\n",
    "Y_with_NaN.index = list_movie_unique\n",
    "Y_with_NaN.columns = user_id_ten\n",
    "\n",
    "# create dataframe without NaN\n",
    "list_rating_without_mean = list_rating_1D - np.mean(list_rating_1D)\n",
    "Y = pd.DataFrame({\n",
    "    'users': list_user_1D,\n",
    "    'movies': list_movie_1D,\n",
    "    'ratingOrg': list_rating_1D,\n",
    "    'rating': list_rating_without_mean\n",
    "})\n",
    "\n",
    "print(Y.head())"
   ]
  },
  {
   "cell_type": "code",
   "execution_count": 52,
   "metadata": {},
   "outputs": [],
   "source": [
    "# initilization U, V (user feature matrix, movie feature matrix)\n",
    "q = 2 # the size of feature vector of user and movie.\n",
    "learn_rate = 0.01\n",
    "U = pd.DataFrame(np.random.normal(size=(10, q))*0.001, index=user_id_ten)\n",
    "V = pd.DataFrame(np.random.normal(size=(n_movie, q))*0.001, index=list_movie_unique)"
   ]
  },
  {
   "cell_type": "code",
   "execution_count": 53,
   "metadata": {
    "scrolled": true
   },
   "outputs": [
    {
     "name": "stdout",
     "output_type": "stream",
     "text": [
      "This is the  1 times. Loss function is :  974.1815315269604\n",
      "This is the  2 times. Loss function is :  974.1813241944535\n",
      "This is the  3 times. Loss function is :  974.1811741786859\n",
      "This is the  4 times. Loss function is :  974.1810063361511\n",
      "This is the  5 times. Loss function is :  974.1807563192532\n",
      "This is the  6 times. Loss function is :  974.180335394607\n",
      "This is the  7 times. Loss function is :  974.1795919042527\n",
      "This is the  8 times. Loss function is :  974.1782497489015\n",
      "This is the  9 times. Loss function is :  974.175797112984\n",
      "This is the  10 times. Loss function is :  974.1712787641126\n",
      "This is the  11 times. Loss function is :  974.1629051027189\n",
      "This is the  12 times. Loss function is :  974.1473139583452\n",
      "This is the  13 times. Loss function is :  974.1181741550301\n",
      "This is the  14 times. Loss function is :  974.0635405312855\n",
      "This is the  15 times. Loss function is :  973.9608399010845\n",
      "This is the  16 times. Loss function is :  973.7673638408212\n",
      "This is the  17 times. Loss function is :  973.4022557753195\n",
      "This is the  18 times. Loss function is :  972.7124703428004\n",
      "This is the  19 times. Loss function is :  971.4088261390476\n",
      "This is the  20 times. Loss function is :  968.9473755614941\n",
      "This is the  21 times. Loss function is :  964.3149423251349\n",
      "This is the  22 times. Loss function is :  955.6618826318239\n",
      "This is the  23 times. Loss function is :  939.7462122215113\n",
      "This is the  24 times. Loss function is :  911.3455775288086\n",
      "This is the  25 times. Loss function is :  863.5049202982094\n"
     ]
    }
   ],
   "source": [
    "def BGD(Y, U, V):\n",
    "    gU = pd.DataFrame(np.zeros(U.shape), index = U.index)\n",
    "    gV = pd.DataFrame(np.zeros(V.shape), index = V.index)\n",
    "    obj =  0.\n",
    "    for i in range(Y.shape[0]):\n",
    "        row = Y.iloc[i]\n",
    "        user = row['users']\n",
    "        movie = row['movies']\n",
    "        rating = row['rating']\n",
    "        prediction = np.dot(U.loc[user], V.loc[movie])\n",
    "        diff = prediction - rating\n",
    "        obj += diff*diff\n",
    "        gU.loc[user] += 2*diff*V.loc[movie]\n",
    "        gV.loc[movie] += 2*diff*U.loc[user]\n",
    "    return obj, gU, gV\n",
    "\n",
    "def run_BGD(Y, U, V):\n",
    "    for i in range(25): \n",
    "        obj, gU, gV = BGD(Y, U, V)\n",
    "        U -= learn_rate*gU\n",
    "        V -= learn_rate*gV\n",
    "        print(\"This is the \",i+1,\"times. Loss function is : \", obj)\n",
    "    \n",
    "run_BGD(Y, U, V)"
   ]
  },
  {
   "cell_type": "code",
   "execution_count": 54,
   "metadata": {
    "scrolled": false
   },
   "outputs": [
    {
     "name": "stdout",
     "output_type": "stream",
     "text": [
      "Loss function is :  773.3773831204736\n",
      "Loss function is :  737.3288670744331\n",
      "Loss function is :  701.4184249002616\n",
      "Loss function is :  659.8665177650126\n",
      "Loss function is :  613.2959402967797\n",
      "Loss function is :  573.1278498822403\n",
      "Loss function is :  539.8482996708508\n",
      "Loss function is :  501.45253818971116\n",
      "Loss function is :  464.6324443056561\n",
      "Loss function is :  425.09300161176697\n"
     ]
    }
   ],
   "source": [
    "# create diff_arr for calculating loss function.\n",
    "import random\n",
    "diff_arr = np.zeros(Y.shape[0])\n",
    "for i in range(Y.shape[0]):\n",
    "    row = Y.iloc[i]\n",
    "    user = row['users']\n",
    "    movie = row['movies']\n",
    "    rating = row['rating']\n",
    "    prediction = np.dot(U.loc[user], V.loc[movie]) \n",
    "    diff_arr[i] = (prediction - rating)**2\n",
    "    \n",
    "def SGD(Y, U, V):\n",
    "    # Attention: after update U and V, gU and gV should be reset.\n",
    "    gU = pd.DataFrame(np.zeros(U.shape), index = U.index)\n",
    "    gV = pd.DataFrame(np.zeros(V.shape), index = V.index)\n",
    "    obj =  []\n",
    "    arr = range(Y.shape[0])\n",
    "    i = random.sample(arr, 1)[0] # random select one sample.\n",
    "    row = Y.iloc[i]\n",
    "    user = row['users']\n",
    "    movie = row['movies']\n",
    "    rating = row['rating']\n",
    "    prediction = np.dot(U.loc[user], V.loc[movie])\n",
    "    diff = prediction - rating\n",
    "    diff_arr[i] = diff**2 \n",
    "    gU.loc[user] += 2*diff*V.loc[movie]\n",
    "    gV.loc[movie] += 2*diff*U.loc[user]\n",
    "    return diff_arr, gU, gV\n",
    "\n",
    "def run_SGD(Y, U, V):\n",
    "    for i in range(800):\n",
    "        diff_arr, gU, gV = SGD(Y, U, V)\n",
    "        U -= learn_rate*gU\n",
    "        V -= learn_rate*gV\n",
    "    print(\"Loss function is : \", diff_arr.sum())\n",
    "    \n",
    "for i in range(10):\n",
    "    run_SGD(Y, U, V)"
   ]
  },
  {
   "cell_type": "code",
   "execution_count": null,
   "metadata": {},
   "outputs": [],
   "source": []
  }
 ],
 "metadata": {
  "kernelspec": {
   "display_name": "Python 3",
   "language": "python",
   "name": "python3"
  },
  "language_info": {
   "codemirror_mode": {
    "name": "ipython",
    "version": 3
   },
   "file_extension": ".py",
   "mimetype": "text/x-python",
   "name": "python",
   "nbconvert_exporter": "python",
   "pygments_lexer": "ipython3",
   "version": "3.7.3"
  }
 },
 "nbformat": 4,
 "nbformat_minor": 2
}
