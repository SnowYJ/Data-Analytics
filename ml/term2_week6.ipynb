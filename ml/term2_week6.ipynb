{
 "cells": [
  {
   "cell_type": "markdown",
   "metadata": {},
   "source": [
    "## 决策树："
   ]
  },
  {
   "cell_type": "markdown",
   "metadata": {},
   "source": [
    "### 1. 决策树介绍：\n",
    "\n",
    "> 根节点：特征内部节点：特征叶子节点：分类\n",
    "\n",
    "<img src=\"image_github/decision_tree.png\" width=\"400\" height=\"400\">\n",
    "\n",
    "**如何选择树结构？依据奥卡姆剃刀，选择更简单的结构 shallower trees**。例如，下图中，右边树结构更好。\n",
    "\n",
    "<img src=\"image_github/decision_tree_example.png\" width=\"400\" height=\"400\">"
   ]
  },
  {
   "cell_type": "markdown",
   "metadata": {},
   "source": [
    "### 2. 熵：\n",
    "\n",
    "> 信息理论：当数据量一致时，**系统越有序，熵值越低**；**系统越混乱或者分散，熵值越高**。简单来说，熵用于表示不确定性。熵越大代表概率越小，在机器学习中，熵越大即这个类别的不确定性更大，反之越小。\n",
    "\n",
    "<img src=\"image_github/poker.png\" width=\"500\" height=\"500\">\n",
    "$$\n",
    "\\text{H}(t) = - \\sum_{i=1}^l\\left(\\text{P}(t=i) \\log\\text{P}(t=i)\\right)\n",
    "$$"
   ]
  },
  {
   "cell_type": "markdown",
   "metadata": {},
   "source": [
    "### 3. 信息增益：\n",
    "\n",
    "> 信息增益在决策树算法中是用来选择特征的指标，**信息增益越大，则这个特征的选择性越好。**\n",
    "\n",
    "例如，垃圾邮件分类，数据集如下：\n",
    "<img src=\"image_github/spam.png\" width=\"500\" height=\"500\">\n",
    "\n",
    "第一步，根据目标分类计算数据集的熵。\n",
    "\n",
    "$$\n",
    "\\text{H}(t, D) = - \\sum_{l \\in {\\text{spam}, \\text{ham}}} \\text{P}(t=l) \\log\\text{P}(t=l) = - \\left(\\text{P}(t=\\text{spam}) \\log\\text{P}(t=\\text{spam}) + \\text{P}(t=\\text{ham}) \\log\\text{P}(t=\\text{ham}) \\right) = -(0.5 \\times log_2^{0.5} + 0.5 \\times log_2^{0.5}) = 1\n",
    "$$\n",
    "\n",
    "第二步，计算每个特征的reminder，公式如下：\n",
    "$$\n",
    "rem(d, D) = \\sum_{l \\in levels(d)} \\frac{|D_{d=l}|}{|D|} \\times H(t, D_{d=l})\n",
    "$$\n",
    "\n",
    "* 计算第一个特征：\n",
    "\n",
    "$$\n",
    "rem(words, D) = \\left(\\frac{\\left|D_{words=T}\\right|}{\\left|D\\right|} \\times H(t,D_{words=T}) + \\frac{\\left|D_{words=F}\\right|}{\\left|D\\right|} \\times H(t, D_{words=F}) \\right)\n",
    "$$\n",
    "\n",
    "$$\n",
    " = 0.5 \\times \\left(- \\sum_{l \\in {spam, ham}} \\text{P}(t=l) \\log\\text{P}(t=l) \\right) + 0.5 \\times \\left(- \\sum_{l \\in {spam, ham}} \\text{P}(t=l) \\log\\text{P}(t=l) \\right)\n",
    "$$\n",
    "\n",
    "$$\n",
    " = \\left(0.5 \\times \\left(-\\left(\\frac{3}{3} \\times log_2{\\frac{3}{3}} + \\frac{0}{3} \\times log_2{\\frac{0}{3}} \\right)\\right) \\right) + \\left(0.5 \\times \\left(-\\left(\\frac{0}{3} \\times log_2{\\frac{0}{3}} + \\frac{3}{3} \\times log_2{\\frac{3}{3}} \\right)\\right) \\right) = 0  bit\n",
    "$$\n",
    "\n",
    "* 同理，计算其余的特征。\n",
    "\n",
    "$$\n",
    "rem(sender, D) = 0.9183 bit, rem(images, D) = 1 bit\n",
    "$$\n",
    "\n",
    "第三步，计算信息增益IG，公式如下：\n",
    "$$\n",
    "\\text{IG}(d, D) = \\text{H}(t, D) - \\text{rem}(d, D)\n",
    "$$\n",
    "\n",
    "$$\n",
    "\\text{IG}(\\text{suspicious words}, D) = 1 - 0 = 1 bit\n",
    "$$\n",
    "\n",
    "$$\n",
    "\\text{IG}(\\text{unknown sender}, D) = 1 − 0.9183 = 0.0817 bits\n",
    "$$\n",
    "\n",
    "$$\n",
    "\\text{IG}(\\text{contain images}, D) = 1 − 1 = 0 bits\n",
    "$$\n"
   ]
  },
  {
   "cell_type": "markdown",
   "metadata": {},
   "source": [
    "### 4. ID3算法 Iterative Dichotomizer 3：\n",
    "\n",
    "> 创建最浅的树结构。ID3算法的核心是在决策树各个节点上应用信息增益准则来选择特征，递归的构建决策树。\n",
    "\n",
    "> 具体方法是：从根节点开始，对节点计算所有可能的特征的信息增益，选择信息增益最大的特征作为节点的特征，**由该特征的不同取值建立子节点**：再对子节点递归的调用以上方法，构建决策树：直到所有的特征信息增益均很小或没有特征可以选择为止。"
   ]
  },
  {
   "cell_type": "markdown",
   "metadata": {},
   "source": [
    "### 5. 处理连续的特征值：\n",
    "\n",
    "> 定义threshold（例如：term2_week4的RFM分析）。然后，根据信息增益进行选择。\n",
    "\n",
    "例如下图所示，将ELEVATION特征进行处理。\n",
    "<img src=\"image_github/threshold.png\" width=\"500\" height=\"500\">\n",
    "\n",
    "首先，将elevation进行排序。\n",
    "<img src=\"image_github/decision_tree_sort.png\" width=\"500\" height=\"500\">\n",
    "\n",
    "然后，设置不同的门槛。\n",
    "<img src=\"image_github/decision_tree_IG.png\" width=\"500\" height=\"500\">\n",
    "\n",
    "first split\n",
    "\n",
    "<img src=\"image_github/first_split.png\" width=\"500\" height=\"500\">\n",
    "\n",
    "second split\n",
    "\n",
    "<img src=\"image_github/second_split.png\" width=\"400\" height=\"400\">"
   ]
  },
  {
   "cell_type": "markdown",
   "metadata": {},
   "source": [
    "### 6. Sklearn："
   ]
  },
  {
   "cell_type": "code",
   "execution_count": 1,
   "metadata": {
    "collapsed": true
   },
   "outputs": [],
   "source": [
    "import os\n",
    "import subprocess\n",
    "def module(*args):        \n",
    "    if isinstance(args[0], list):        \n",
    "        args = args[0]        \n",
    "    else:        \n",
    "        args = list(args)        \n",
    "    (output, error) = subprocess.Popen(['/usr/bin/modulecmd', 'python'] + args, stdout=subprocess.PIPE).communicate()\n",
    "    exec(output)    \n",
    "module('load', 'apps/java/jdk1.8.0_102/binary')    \n",
    "os.environ['PYSPARK_PYTHON'] = os.environ['HOME'] + '/.conda/envs/jupyter-spark/bin/python'"
   ]
  },
  {
   "cell_type": "code",
   "execution_count": 2,
   "metadata": {
    "collapsed": true
   },
   "outputs": [],
   "source": [
    "import pyspark\n",
    "from pyspark.sql import SparkSession\n",
    "\n",
    "spark = SparkSession.builder \\\n",
    "    .master(\"local[2]\") \\\n",
    "    .appName(\"COM6012 DT\") \\\n",
    "    .getOrCreate()\n",
    "\n",
    "sc = spark.sparkContext"
   ]
  },
  {
   "cell_type": "code",
   "execution_count": 2,
   "metadata": {
    "collapsed": true
   },
   "outputs": [],
   "source": [
    "import pandas as pd\n",
    "import numpy as np\n",
    "spam_data = pd.read_csv('Data/spambase.data')\n",
    "spam_names = [spam_names.rstrip('\\n') for spam_names in open('Data/spambase.data.names')]\n",
    "number_names = np.shape(spam_names)[0]\n",
    "for i in range(number_names):\n",
    "    local = spam_names[i]\n",
    "    colon_pos = local.find(':')\n",
    "    spam_names[i] = local[:colon_pos]\n",
    "spam_data.columns = spam_names\n",
    "X = spam_data.iloc[:, 0:57]\n",
    "y = spam_data.iloc[:, 57]"
   ]
  },
  {
   "cell_type": "code",
   "execution_count": 3,
   "metadata": {
    "collapsed": true
   },
   "outputs": [],
   "source": [
    "from sklearn import tree\n",
    "clf = tree.DecisionTreeClassifier(criterion='entropy', max_depth=3)\n",
    "clf = clf.fit(X, y)"
   ]
  },
  {
   "cell_type": "code",
   "execution_count": 4,
   "metadata": {},
   "outputs": [
    {
     "data": {
      "text/plain": [
       "DecisionTreeClassifier(class_weight=None, criterion='entropy', max_depth=3,\n",
       "                       max_features=None, max_leaf_nodes=None,\n",
       "                       min_impurity_decrease=0.0, min_impurity_split=None,\n",
       "                       min_samples_leaf=1, min_samples_split=2,\n",
       "                       min_weight_fraction_leaf=0.0, presort=False,\n",
       "                       random_state=None, splitter='best')"
      ]
     },
     "execution_count": 4,
     "metadata": {},
     "output_type": "execute_result"
    }
   ],
   "source": [
    "clf"
   ]
  },
  {
   "cell_type": "markdown",
   "metadata": {},
   "source": [
    "### 展示决策树 graphviz："
   ]
  },
  {
   "cell_type": "code",
   "execution_count": 7,
   "metadata": {},
   "outputs": [
    {
     "data": {
      "text/plain": [
       "'spam.pdf'"
      ]
     },
     "execution_count": 7,
     "metadata": {},
     "output_type": "execute_result"
    }
   ],
   "source": [
    "import graphviz # this cannot be installed on HPC.\n",
    "dot_data = tree.export_graphviz(clf, out_file=None) \n",
    "graph = graphviz.Source(dot_data) \n",
    "graph.render(\"spam\")"
   ]
  },
  {
   "cell_type": "code",
   "execution_count": 8,
   "metadata": {
    "collapsed": true
   },
   "outputs": [],
   "source": [
    "dot_data = tree.export_graphviz(clf, out_file=None, \n",
    "                      feature_names=spam_names[0:57],  \n",
    "                      class_names=spam_names[57],  \n",
    "                      filled=True, rounded=True,  \n",
    "                      special_characters=True)  \n",
    "graph = graphviz.Source(dot_data)  "
   ]
  },
  {
   "cell_type": "code",
   "execution_count": 9,
   "metadata": {},
   "outputs": [
    {
     "data": {
      "image/svg+xml": [
       "<?xml version=\"1.0\" encoding=\"UTF-8\" standalone=\"no\"?>\n",
       "<!DOCTYPE svg PUBLIC \"-//W3C//DTD SVG 1.1//EN\"\n",
       " \"http://www.w3.org/Graphics/SVG/1.1/DTD/svg11.dtd\">\n",
       "<!-- Generated by graphviz version 2.40.1 (20161225.0304)\n",
       " -->\n",
       "<!-- Title: Tree Pages: 1 -->\n",
       "<svg width=\"1064pt\" height=\"433pt\"\n",
       " viewBox=\"0.00 0.00 1063.50 433.00\" xmlns=\"http://www.w3.org/2000/svg\" xmlns:xlink=\"http://www.w3.org/1999/xlink\">\n",
       "<g id=\"graph0\" class=\"graph\" transform=\"scale(1 1) rotate(0) translate(4 429)\">\n",
       "<title>Tree</title>\n",
       "<polygon fill=\"#ffffff\" stroke=\"transparent\" points=\"-4,4 -4,-429 1059.5,-429 1059.5,4 -4,4\"/>\n",
       "<!-- 0 -->\n",
       "<g id=\"node1\" class=\"node\">\n",
       "<title>0</title>\n",
       "<path fill=\"#f6d3ba\" stroke=\"#000000\" d=\"M603,-425C603,-425 483,-425 483,-425 477,-425 471,-419 471,-413 471,-413 471,-354 471,-354 471,-348 477,-342 483,-342 483,-342 603,-342 603,-342 609,-342 615,-348 615,-354 615,-354 615,-413 615,-413 615,-419 609,-425 603,-425\"/>\n",
       "<text text-anchor=\"start\" x=\"480\" y=\"-409.8\" font-family=\"Helvetica,sans-Serif\" font-size=\"14.00\" fill=\"#000000\">char_freq_$ ≤ 0.056</text>\n",
       "<text text-anchor=\"start\" x=\"494\" y=\"-394.8\" font-family=\"Helvetica,sans-Serif\" font-size=\"14.00\" fill=\"#000000\">entropy = 0.967</text>\n",
       "<text text-anchor=\"start\" x=\"493\" y=\"-379.8\" font-family=\"Helvetica,sans-Serif\" font-size=\"14.00\" fill=\"#000000\">samples = 4600</text>\n",
       "<text text-anchor=\"start\" x=\"479\" y=\"-364.8\" font-family=\"Helvetica,sans-Serif\" font-size=\"14.00\" fill=\"#000000\">value = [2788, 1812]</text>\n",
       "<text text-anchor=\"start\" x=\"515.5\" y=\"-349.8\" font-family=\"Helvetica,sans-Serif\" font-size=\"14.00\" fill=\"#000000\">class = s</text>\n",
       "</g>\n",
       "<!-- 1 -->\n",
       "<g id=\"node2\" class=\"node\">\n",
       "<title>1</title>\n",
       "<path fill=\"#eda876\" stroke=\"#000000\" d=\"M533,-306C533,-306 373,-306 373,-306 367,-306 361,-300 361,-294 361,-294 361,-235 361,-235 361,-229 367,-223 373,-223 373,-223 533,-223 533,-223 539,-223 545,-229 545,-235 545,-235 545,-294 545,-294 545,-300 539,-306 533,-306\"/>\n",
       "<text text-anchor=\"start\" x=\"369\" y=\"-290.8\" font-family=\"Helvetica,sans-Serif\" font-size=\"14.00\" fill=\"#000000\">word_freq_remove ≤ 0.055</text>\n",
       "<text text-anchor=\"start\" x=\"404\" y=\"-275.8\" font-family=\"Helvetica,sans-Serif\" font-size=\"14.00\" fill=\"#000000\">entropy = 0.786</text>\n",
       "<text text-anchor=\"start\" x=\"403\" y=\"-260.8\" font-family=\"Helvetica,sans-Serif\" font-size=\"14.00\" fill=\"#000000\">samples = 3470</text>\n",
       "<text text-anchor=\"start\" x=\"393\" y=\"-245.8\" font-family=\"Helvetica,sans-Serif\" font-size=\"14.00\" fill=\"#000000\">value = [2655, 815]</text>\n",
       "<text text-anchor=\"start\" x=\"425.5\" y=\"-230.8\" font-family=\"Helvetica,sans-Serif\" font-size=\"14.00\" fill=\"#000000\">class = s</text>\n",
       "</g>\n",
       "<!-- 0&#45;&gt;1 -->\n",
       "<g id=\"edge1\" class=\"edge\">\n",
       "<title>0&#45;&gt;1</title>\n",
       "<path fill=\"none\" stroke=\"#000000\" d=\"M511.5224,-341.8796C504.8471,-333.0534 497.7342,-323.6485 490.8504,-314.5466\"/>\n",
       "<polygon fill=\"#000000\" stroke=\"#000000\" points=\"493.4357,-312.1626 484.612,-306.2981 487.8526,-316.3852 493.4357,-312.1626\"/>\n",
       "<text text-anchor=\"middle\" x=\"481.176\" y=\"-327.3608\" font-family=\"Helvetica,sans-Serif\" font-size=\"14.00\" fill=\"#000000\">True</text>\n",
       "</g>\n",
       "<!-- 8 -->\n",
       "<g id=\"node9\" class=\"node\">\n",
       "<title>8</title>\n",
       "<path fill=\"#53aae8\" stroke=\"#000000\" d=\"M714.5,-306C714.5,-306 601.5,-306 601.5,-306 595.5,-306 589.5,-300 589.5,-294 589.5,-294 589.5,-235 589.5,-235 589.5,-229 595.5,-223 601.5,-223 601.5,-223 714.5,-223 714.5,-223 720.5,-223 726.5,-229 726.5,-235 726.5,-235 726.5,-294 726.5,-294 726.5,-300 720.5,-306 714.5,-306\"/>\n",
       "<text text-anchor=\"start\" x=\"597.5\" y=\"-290.8\" font-family=\"Helvetica,sans-Serif\" font-size=\"14.00\" fill=\"#000000\">word_freq_hp ≤ 0.4</text>\n",
       "<text text-anchor=\"start\" x=\"609\" y=\"-275.8\" font-family=\"Helvetica,sans-Serif\" font-size=\"14.00\" fill=\"#000000\">entropy = 0.523</text>\n",
       "<text text-anchor=\"start\" x=\"608\" y=\"-260.8\" font-family=\"Helvetica,sans-Serif\" font-size=\"14.00\" fill=\"#000000\">samples = 1130</text>\n",
       "<text text-anchor=\"start\" x=\"602\" y=\"-245.8\" font-family=\"Helvetica,sans-Serif\" font-size=\"14.00\" fill=\"#000000\">value = [133, 997]</text>\n",
       "<text text-anchor=\"start\" x=\"630\" y=\"-230.8\" font-family=\"Helvetica,sans-Serif\" font-size=\"14.00\" fill=\"#000000\">class = p</text>\n",
       "</g>\n",
       "<!-- 0&#45;&gt;8 -->\n",
       "<g id=\"edge8\" class=\"edge\">\n",
       "<title>0&#45;&gt;8</title>\n",
       "<path fill=\"none\" stroke=\"#000000\" d=\"M583.2214,-341.8796C592.012,-332.7832 601.3966,-323.0722 610.4426,-313.7116\"/>\n",
       "<polygon fill=\"#000000\" stroke=\"#000000\" points=\"613.1745,-315.9212 617.6069,-306.2981 608.1409,-311.0568 613.1745,-315.9212\"/>\n",
       "<text text-anchor=\"middle\" x=\"618.0342\" y=\"-327.5944\" font-family=\"Helvetica,sans-Serif\" font-size=\"14.00\" fill=\"#000000\">False</text>\n",
       "</g>\n",
       "<!-- 2 -->\n",
       "<g id=\"node3\" class=\"node\">\n",
       "<title>2</title>\n",
       "<path fill=\"#ea9a60\" stroke=\"#000000\" d=\"M275,-187C275,-187 161,-187 161,-187 155,-187 149,-181 149,-175 149,-175 149,-116 149,-116 149,-110 155,-104 161,-104 161,-104 275,-104 275,-104 281,-104 287,-110 287,-116 287,-116 287,-175 287,-175 287,-181 281,-187 275,-187\"/>\n",
       "<text text-anchor=\"start\" x=\"157\" y=\"-171.8\" font-family=\"Helvetica,sans-Serif\" font-size=\"14.00\" fill=\"#000000\">char_freq_! ≤ 0.191</text>\n",
       "<text text-anchor=\"start\" x=\"169\" y=\"-156.8\" font-family=\"Helvetica,sans-Serif\" font-size=\"14.00\" fill=\"#000000\">entropy = 0.644</text>\n",
       "<text text-anchor=\"start\" x=\"168\" y=\"-141.8\" font-family=\"Helvetica,sans-Serif\" font-size=\"14.00\" fill=\"#000000\">samples = 3140</text>\n",
       "<text text-anchor=\"start\" x=\"158\" y=\"-126.8\" font-family=\"Helvetica,sans-Serif\" font-size=\"14.00\" fill=\"#000000\">value = [2625, 515]</text>\n",
       "<text text-anchor=\"start\" x=\"190.5\" y=\"-111.8\" font-family=\"Helvetica,sans-Serif\" font-size=\"14.00\" fill=\"#000000\">class = s</text>\n",
       "</g>\n",
       "<!-- 1&#45;&gt;2 -->\n",
       "<g id=\"edge2\" class=\"edge\">\n",
       "<title>1&#45;&gt;2</title>\n",
       "<path fill=\"none\" stroke=\"#000000\" d=\"M370.8084,-222.8796C346.6314,-210.6367 320.2557,-197.2805 296.3275,-185.1637\"/>\n",
       "<polygon fill=\"#000000\" stroke=\"#000000\" points=\"297.7888,-181.9806 287.2863,-180.5854 294.6265,-188.2256 297.7888,-181.9806\"/>\n",
       "</g>\n",
       "<!-- 5 -->\n",
       "<g id=\"node6\" class=\"node\">\n",
       "<title>5</title>\n",
       "<path fill=\"#4da7e8\" stroke=\"#000000\" d=\"M527.5,-187C527.5,-187 378.5,-187 378.5,-187 372.5,-187 366.5,-181 366.5,-175 366.5,-175 366.5,-116 366.5,-116 366.5,-110 372.5,-104 378.5,-104 378.5,-104 527.5,-104 527.5,-104 533.5,-104 539.5,-110 539.5,-116 539.5,-116 539.5,-175 539.5,-175 539.5,-181 533.5,-187 527.5,-187\"/>\n",
       "<text text-anchor=\"start\" x=\"374.5\" y=\"-171.8\" font-family=\"Helvetica,sans-Serif\" font-size=\"14.00\" fill=\"#000000\">word_freq_george ≤ 0.14</text>\n",
       "<text text-anchor=\"start\" x=\"404\" y=\"-156.8\" font-family=\"Helvetica,sans-Serif\" font-size=\"14.00\" fill=\"#000000\">entropy = 0.439</text>\n",
       "<text text-anchor=\"start\" x=\"407\" y=\"-141.8\" font-family=\"Helvetica,sans-Serif\" font-size=\"14.00\" fill=\"#000000\">samples = 330</text>\n",
       "<text text-anchor=\"start\" x=\"401\" y=\"-126.8\" font-family=\"Helvetica,sans-Serif\" font-size=\"14.00\" fill=\"#000000\">value = [30, 300]</text>\n",
       "<text text-anchor=\"start\" x=\"425\" y=\"-111.8\" font-family=\"Helvetica,sans-Serif\" font-size=\"14.00\" fill=\"#000000\">class = p</text>\n",
       "</g>\n",
       "<!-- 1&#45;&gt;5 -->\n",
       "<g id=\"edge5\" class=\"edge\">\n",
       "<title>1&#45;&gt;5</title>\n",
       "<path fill=\"none\" stroke=\"#000000\" d=\"M453,-222.8796C453,-214.6838 453,-205.9891 453,-197.5013\"/>\n",
       "<polygon fill=\"#000000\" stroke=\"#000000\" points=\"456.5001,-197.298 453,-187.2981 449.5001,-197.2981 456.5001,-197.298\"/>\n",
       "</g>\n",
       "<!-- 3 -->\n",
       "<g id=\"node4\" class=\"node\">\n",
       "<title>3</title>\n",
       "<path fill=\"#e78c4b\" stroke=\"#000000\" d=\"M124,-68C124,-68 12,-68 12,-68 6,-68 0,-62 0,-56 0,-56 0,-12 0,-12 0,-6 6,0 12,0 12,0 124,0 124,0 130,0 136,-6 136,-12 136,-12 136,-56 136,-56 136,-62 130,-68 124,-68\"/>\n",
       "<text text-anchor=\"start\" x=\"19\" y=\"-52.8\" font-family=\"Helvetica,sans-Serif\" font-size=\"14.00\" fill=\"#000000\">entropy = 0.412</text>\n",
       "<text text-anchor=\"start\" x=\"18\" y=\"-37.8\" font-family=\"Helvetica,sans-Serif\" font-size=\"14.00\" fill=\"#000000\">samples = 2524</text>\n",
       "<text text-anchor=\"start\" x=\"8\" y=\"-22.8\" font-family=\"Helvetica,sans-Serif\" font-size=\"14.00\" fill=\"#000000\">value = [2315, 209]</text>\n",
       "<text text-anchor=\"start\" x=\"40.5\" y=\"-7.8\" font-family=\"Helvetica,sans-Serif\" font-size=\"14.00\" fill=\"#000000\">class = s</text>\n",
       "</g>\n",
       "<!-- 2&#45;&gt;3 -->\n",
       "<g id=\"edge3\" class=\"edge\">\n",
       "<title>2&#45;&gt;3</title>\n",
       "<path fill=\"none\" stroke=\"#000000\" d=\"M162.1455,-103.9815C149.1632,-94.3313 135.3606,-84.0714 122.4403,-74.4673\"/>\n",
       "<polygon fill=\"#000000\" stroke=\"#000000\" points=\"124.2083,-71.4204 114.0946,-68.2637 120.0322,-77.0384 124.2083,-71.4204\"/>\n",
       "</g>\n",
       "<!-- 4 -->\n",
       "<g id=\"node5\" class=\"node\">\n",
       "<title>4</title>\n",
       "<path fill=\"#fffdfc\" stroke=\"#000000\" d=\"M270,-68C270,-68 166,-68 166,-68 160,-68 154,-62 154,-56 154,-56 154,-12 154,-12 154,-6 160,0 166,0 166,0 270,0 270,0 276,0 282,-6 282,-12 282,-12 282,-56 282,-56 282,-62 276,-68 270,-68\"/>\n",
       "<text text-anchor=\"start\" x=\"176.5\" y=\"-52.8\" font-family=\"Helvetica,sans-Serif\" font-size=\"14.00\" fill=\"#000000\">entropy = 1.0</text>\n",
       "<text text-anchor=\"start\" x=\"172\" y=\"-37.8\" font-family=\"Helvetica,sans-Serif\" font-size=\"14.00\" fill=\"#000000\">samples = 616</text>\n",
       "<text text-anchor=\"start\" x=\"162\" y=\"-22.8\" font-family=\"Helvetica,sans-Serif\" font-size=\"14.00\" fill=\"#000000\">value = [310, 306]</text>\n",
       "<text text-anchor=\"start\" x=\"190.5\" y=\"-7.8\" font-family=\"Helvetica,sans-Serif\" font-size=\"14.00\" fill=\"#000000\">class = s</text>\n",
       "</g>\n",
       "<!-- 2&#45;&gt;4 -->\n",
       "<g id=\"edge4\" class=\"edge\">\n",
       "<title>2&#45;&gt;4</title>\n",
       "<path fill=\"none\" stroke=\"#000000\" d=\"M218,-103.9815C218,-95.618 218,-86.7965 218,-78.3409\"/>\n",
       "<polygon fill=\"#000000\" stroke=\"#000000\" points=\"221.5001,-78.2636 218,-68.2637 214.5001,-78.2637 221.5001,-78.2636\"/>\n",
       "</g>\n",
       "<!-- 6 -->\n",
       "<g id=\"node7\" class=\"node\">\n",
       "<title>6</title>\n",
       "<path fill=\"#44a3e6\" stroke=\"#000000\" d=\"M408,-68C408,-68 312,-68 312,-68 306,-68 300,-62 300,-56 300,-56 300,-12 300,-12 300,-6 306,0 312,0 312,0 408,0 408,0 414,0 420,-6 420,-12 420,-12 420,-56 420,-56 420,-62 414,-68 408,-68\"/>\n",
       "<text text-anchor=\"start\" x=\"311\" y=\"-52.8\" font-family=\"Helvetica,sans-Serif\" font-size=\"14.00\" fill=\"#000000\">entropy = 0.302</text>\n",
       "<text text-anchor=\"start\" x=\"314\" y=\"-37.8\" font-family=\"Helvetica,sans-Serif\" font-size=\"14.00\" fill=\"#000000\">samples = 317</text>\n",
       "<text text-anchor=\"start\" x=\"308\" y=\"-22.8\" font-family=\"Helvetica,sans-Serif\" font-size=\"14.00\" fill=\"#000000\">value = [17, 300]</text>\n",
       "<text text-anchor=\"start\" x=\"332\" y=\"-7.8\" font-family=\"Helvetica,sans-Serif\" font-size=\"14.00\" fill=\"#000000\">class = p</text>\n",
       "</g>\n",
       "<!-- 5&#45;&gt;6 -->\n",
       "<g id=\"edge6\" class=\"edge\">\n",
       "<title>5&#45;&gt;6</title>\n",
       "<path fill=\"none\" stroke=\"#000000\" d=\"M418.3702,-103.9815C410.7811,-94.8828 402.74,-85.242 395.1314,-76.1199\"/>\n",
       "<polygon fill=\"#000000\" stroke=\"#000000\" points=\"397.6717,-73.7012 388.5787,-68.2637 392.2961,-78.1849 397.6717,-73.7012\"/>\n",
       "</g>\n",
       "<!-- 7 -->\n",
       "<g id=\"node8\" class=\"node\">\n",
       "<title>7</title>\n",
       "<path fill=\"#e58139\" stroke=\"#000000\" d=\"M531.5,-68C531.5,-68 450.5,-68 450.5,-68 444.5,-68 438.5,-62 438.5,-56 438.5,-56 438.5,-12 438.5,-12 438.5,-6 444.5,0 450.5,0 450.5,0 531.5,0 531.5,0 537.5,0 543.5,-6 543.5,-12 543.5,-12 543.5,-56 543.5,-56 543.5,-62 537.5,-68 531.5,-68\"/>\n",
       "<text text-anchor=\"start\" x=\"449.5\" y=\"-52.8\" font-family=\"Helvetica,sans-Serif\" font-size=\"14.00\" fill=\"#000000\">entropy = 0.0</text>\n",
       "<text text-anchor=\"start\" x=\"449\" y=\"-37.8\" font-family=\"Helvetica,sans-Serif\" font-size=\"14.00\" fill=\"#000000\">samples = 13</text>\n",
       "<text text-anchor=\"start\" x=\"446.5\" y=\"-22.8\" font-family=\"Helvetica,sans-Serif\" font-size=\"14.00\" fill=\"#000000\">value = [13, 0]</text>\n",
       "<text text-anchor=\"start\" x=\"463.5\" y=\"-7.8\" font-family=\"Helvetica,sans-Serif\" font-size=\"14.00\" fill=\"#000000\">class = s</text>\n",
       "</g>\n",
       "<!-- 5&#45;&gt;7 -->\n",
       "<g id=\"edge7\" class=\"edge\">\n",
       "<title>5&#45;&gt;7</title>\n",
       "<path fill=\"none\" stroke=\"#000000\" d=\"M467.1498,-103.9815C470.0628,-95.4342 473.1388,-86.4086 476.0781,-77.7839\"/>\n",
       "<polygon fill=\"#000000\" stroke=\"#000000\" points=\"479.4096,-78.8582 479.3227,-68.2637 472.7839,-76.6 479.4096,-78.8582\"/>\n",
       "</g>\n",
       "<!-- 9 -->\n",
       "<g id=\"node10\" class=\"node\">\n",
       "<title>9</title>\n",
       "<path fill=\"#47a4e7\" stroke=\"#000000\" d=\"M722.5,-187C722.5,-187 593.5,-187 593.5,-187 587.5,-187 581.5,-181 581.5,-175 581.5,-175 581.5,-116 581.5,-116 581.5,-110 587.5,-104 593.5,-104 593.5,-104 722.5,-104 722.5,-104 728.5,-104 734.5,-110 734.5,-116 734.5,-116 734.5,-175 734.5,-175 734.5,-181 728.5,-187 722.5,-187\"/>\n",
       "<text text-anchor=\"start\" x=\"589.5\" y=\"-171.8\" font-family=\"Helvetica,sans-Serif\" font-size=\"14.00\" fill=\"#000000\">word_freq_edu ≤ 0.49</text>\n",
       "<text text-anchor=\"start\" x=\"609\" y=\"-156.8\" font-family=\"Helvetica,sans-Serif\" font-size=\"14.00\" fill=\"#000000\">entropy = 0.351</text>\n",
       "<text text-anchor=\"start\" x=\"608\" y=\"-141.8\" font-family=\"Helvetica,sans-Serif\" font-size=\"14.00\" fill=\"#000000\">samples = 1060</text>\n",
       "<text text-anchor=\"start\" x=\"606\" y=\"-126.8\" font-family=\"Helvetica,sans-Serif\" font-size=\"14.00\" fill=\"#000000\">value = [70, 990]</text>\n",
       "<text text-anchor=\"start\" x=\"630\" y=\"-111.8\" font-family=\"Helvetica,sans-Serif\" font-size=\"14.00\" fill=\"#000000\">class = p</text>\n",
       "</g>\n",
       "<!-- 8&#45;&gt;9 -->\n",
       "<g id=\"edge9\" class=\"edge\">\n",
       "<title>8&#45;&gt;9</title>\n",
       "<path fill=\"none\" stroke=\"#000000\" d=\"M658,-222.8796C658,-214.6838 658,-205.9891 658,-197.5013\"/>\n",
       "<polygon fill=\"#000000\" stroke=\"#000000\" points=\"661.5001,-197.298 658,-187.2981 654.5001,-197.2981 661.5001,-197.298\"/>\n",
       "</g>\n",
       "<!-- 12 -->\n",
       "<g id=\"node13\" class=\"node\">\n",
       "<title>12</title>\n",
       "<path fill=\"#e88f4f\" stroke=\"#000000\" d=\"M961,-187C961,-187 801,-187 801,-187 795,-187 789,-181 789,-175 789,-175 789,-116 789,-116 789,-110 795,-104 801,-104 801,-104 961,-104 961,-104 967,-104 973,-110 973,-116 973,-116 973,-175 973,-175 973,-181 967,-187 961,-187\"/>\n",
       "<text text-anchor=\"start\" x=\"797\" y=\"-171.8\" font-family=\"Helvetica,sans-Serif\" font-size=\"14.00\" fill=\"#000000\">word_freq_remove ≤ 0.075</text>\n",
       "<text text-anchor=\"start\" x=\"832\" y=\"-156.8\" font-family=\"Helvetica,sans-Serif\" font-size=\"14.00\" fill=\"#000000\">entropy = 0.469</text>\n",
       "<text text-anchor=\"start\" x=\"839\" y=\"-141.8\" font-family=\"Helvetica,sans-Serif\" font-size=\"14.00\" fill=\"#000000\">samples = 70</text>\n",
       "<text text-anchor=\"start\" x=\"836.5\" y=\"-126.8\" font-family=\"Helvetica,sans-Serif\" font-size=\"14.00\" fill=\"#000000\">value = [63, 7]</text>\n",
       "<text text-anchor=\"start\" x=\"853.5\" y=\"-111.8\" font-family=\"Helvetica,sans-Serif\" font-size=\"14.00\" fill=\"#000000\">class = s</text>\n",
       "</g>\n",
       "<!-- 8&#45;&gt;12 -->\n",
       "<g id=\"edge12\" class=\"edge\">\n",
       "<title>8&#45;&gt;12</title>\n",
       "<path fill=\"none\" stroke=\"#000000\" d=\"M726.727,-227.8251C748.0796,-216.4306 771.899,-203.7198 794.3098,-191.7607\"/>\n",
       "<polygon fill=\"#000000\" stroke=\"#000000\" points=\"795.9763,-194.8386 803.151,-187.0428 792.6807,-188.6629 795.9763,-194.8386\"/>\n",
       "</g>\n",
       "<!-- 10 -->\n",
       "<g id=\"node11\" class=\"node\">\n",
       "<title>10</title>\n",
       "<path fill=\"#44a2e6\" stroke=\"#000000\" d=\"M670,-68C670,-68 574,-68 574,-68 568,-68 562,-62 562,-56 562,-56 562,-12 562,-12 562,-6 568,0 574,0 574,0 670,0 670,0 676,0 682,-6 682,-12 682,-12 682,-56 682,-56 682,-62 676,-68 670,-68\"/>\n",
       "<text text-anchor=\"start\" x=\"573\" y=\"-52.8\" font-family=\"Helvetica,sans-Serif\" font-size=\"14.00\" fill=\"#000000\">entropy = 0.297</text>\n",
       "<text text-anchor=\"start\" x=\"572\" y=\"-37.8\" font-family=\"Helvetica,sans-Serif\" font-size=\"14.00\" fill=\"#000000\">samples = 1045</text>\n",
       "<text text-anchor=\"start\" x=\"570\" y=\"-22.8\" font-family=\"Helvetica,sans-Serif\" font-size=\"14.00\" fill=\"#000000\">value = [55, 990]</text>\n",
       "<text text-anchor=\"start\" x=\"594\" y=\"-7.8\" font-family=\"Helvetica,sans-Serif\" font-size=\"14.00\" fill=\"#000000\">class = p</text>\n",
       "</g>\n",
       "<!-- 9&#45;&gt;10 -->\n",
       "<g id=\"edge10\" class=\"edge\">\n",
       "<title>9&#45;&gt;10</title>\n",
       "<path fill=\"none\" stroke=\"#000000\" d=\"M644.5949,-103.9815C641.8353,-95.4342 638.9212,-86.4086 636.1365,-77.7839\"/>\n",
       "<polygon fill=\"#000000\" stroke=\"#000000\" points=\"639.466,-76.7046 633.0627,-68.2637 632.8046,-78.8554 639.466,-76.7046\"/>\n",
       "</g>\n",
       "<!-- 11 -->\n",
       "<g id=\"node12\" class=\"node\">\n",
       "<title>11</title>\n",
       "<path fill=\"#e58139\" stroke=\"#000000\" d=\"M793.5,-68C793.5,-68 712.5,-68 712.5,-68 706.5,-68 700.5,-62 700.5,-56 700.5,-56 700.5,-12 700.5,-12 700.5,-6 706.5,0 712.5,0 712.5,0 793.5,0 793.5,0 799.5,0 805.5,-6 805.5,-12 805.5,-12 805.5,-56 805.5,-56 805.5,-62 799.5,-68 793.5,-68\"/>\n",
       "<text text-anchor=\"start\" x=\"711.5\" y=\"-52.8\" font-family=\"Helvetica,sans-Serif\" font-size=\"14.00\" fill=\"#000000\">entropy = 0.0</text>\n",
       "<text text-anchor=\"start\" x=\"711\" y=\"-37.8\" font-family=\"Helvetica,sans-Serif\" font-size=\"14.00\" fill=\"#000000\">samples = 15</text>\n",
       "<text text-anchor=\"start\" x=\"708.5\" y=\"-22.8\" font-family=\"Helvetica,sans-Serif\" font-size=\"14.00\" fill=\"#000000\">value = [15, 0]</text>\n",
       "<text text-anchor=\"start\" x=\"725.5\" y=\"-7.8\" font-family=\"Helvetica,sans-Serif\" font-size=\"14.00\" fill=\"#000000\">class = s</text>\n",
       "</g>\n",
       "<!-- 9&#45;&gt;11 -->\n",
       "<g id=\"edge11\" class=\"edge\">\n",
       "<title>9&#45;&gt;11</title>\n",
       "<path fill=\"none\" stroke=\"#000000\" d=\"M693.3745,-103.9815C701.1268,-94.8828 709.3409,-85.242 717.1131,-76.1199\"/>\n",
       "<polygon fill=\"#000000\" stroke=\"#000000\" points=\"719.9854,-78.1454 723.8067,-68.2637 714.6572,-73.6056 719.9854,-78.1454\"/>\n",
       "</g>\n",
       "<!-- 13 -->\n",
       "<g id=\"node14\" class=\"node\">\n",
       "<title>13</title>\n",
       "<path fill=\"#e5833c\" stroke=\"#000000\" d=\"M926,-68C926,-68 836,-68 836,-68 830,-68 824,-62 824,-56 824,-56 824,-12 824,-12 824,-6 830,0 836,0 836,0 926,0 926,0 932,0 938,-6 938,-12 938,-12 938,-56 938,-56 938,-62 932,-68 926,-68\"/>\n",
       "<text text-anchor=\"start\" x=\"832\" y=\"-52.8\" font-family=\"Helvetica,sans-Serif\" font-size=\"14.00\" fill=\"#000000\">entropy = 0.116</text>\n",
       "<text text-anchor=\"start\" x=\"839\" y=\"-37.8\" font-family=\"Helvetica,sans-Serif\" font-size=\"14.00\" fill=\"#000000\">samples = 64</text>\n",
       "<text text-anchor=\"start\" x=\"836.5\" y=\"-22.8\" font-family=\"Helvetica,sans-Serif\" font-size=\"14.00\" fill=\"#000000\">value = [63, 1]</text>\n",
       "<text text-anchor=\"start\" x=\"853.5\" y=\"-7.8\" font-family=\"Helvetica,sans-Serif\" font-size=\"14.00\" fill=\"#000000\">class = s</text>\n",
       "</g>\n",
       "<!-- 12&#45;&gt;13 -->\n",
       "<g id=\"edge13\" class=\"edge\">\n",
       "<title>12&#45;&gt;13</title>\n",
       "<path fill=\"none\" stroke=\"#000000\" d=\"M881,-103.9815C881,-95.618 881,-86.7965 881,-78.3409\"/>\n",
       "<polygon fill=\"#000000\" stroke=\"#000000\" points=\"884.5001,-78.2636 881,-68.2637 877.5001,-78.2637 884.5001,-78.2636\"/>\n",
       "</g>\n",
       "<!-- 14 -->\n",
       "<g id=\"node15\" class=\"node\">\n",
       "<title>14</title>\n",
       "<path fill=\"#399de5\" stroke=\"#000000\" d=\"M1043.5,-68C1043.5,-68 968.5,-68 968.5,-68 962.5,-68 956.5,-62 956.5,-56 956.5,-56 956.5,-12 956.5,-12 956.5,-6 962.5,0 968.5,0 968.5,0 1043.5,0 1043.5,0 1049.5,0 1055.5,-6 1055.5,-12 1055.5,-12 1055.5,-56 1055.5,-56 1055.5,-62 1049.5,-68 1043.5,-68\"/>\n",
       "<text text-anchor=\"start\" x=\"964.5\" y=\"-52.8\" font-family=\"Helvetica,sans-Serif\" font-size=\"14.00\" fill=\"#000000\">entropy = 0.0</text>\n",
       "<text text-anchor=\"start\" x=\"968\" y=\"-37.8\" font-family=\"Helvetica,sans-Serif\" font-size=\"14.00\" fill=\"#000000\">samples = 6</text>\n",
       "<text text-anchor=\"start\" x=\"965.5\" y=\"-22.8\" font-family=\"Helvetica,sans-Serif\" font-size=\"14.00\" fill=\"#000000\">value = [0, 6]</text>\n",
       "<text text-anchor=\"start\" x=\"978\" y=\"-7.8\" font-family=\"Helvetica,sans-Serif\" font-size=\"14.00\" fill=\"#000000\">class = p</text>\n",
       "</g>\n",
       "<!-- 12&#45;&gt;14 -->\n",
       "<g id=\"edge14\" class=\"edge\">\n",
       "<title>12&#45;&gt;14</title>\n",
       "<path fill=\"none\" stroke=\"#000000\" d=\"M927.5454,-103.9815C938.1579,-94.5151 949.4282,-84.462 960.0171,-75.0168\"/>\n",
       "<polygon fill=\"#000000\" stroke=\"#000000\" points=\"962.4551,-77.5322 967.5878,-68.2637 957.7954,-72.3084 962.4551,-77.5322\"/>\n",
       "</g>\n",
       "</g>\n",
       "</svg>\n"
      ],
      "text/plain": [
       "<graphviz.files.Source at 0x116356828>"
      ]
     },
     "execution_count": 9,
     "metadata": {},
     "output_type": "execute_result"
    }
   ],
   "source": [
    "graph # see spam.pdf "
   ]
  },
  {
   "cell_type": "code",
   "execution_count": 10,
   "metadata": {
    "collapsed": true
   },
   "outputs": [],
   "source": [
    "# We first split the data into a train and a test set. \n",
    "from sklearn.model_selection import ShuffleSplit\n",
    "ss = ShuffleSplit(n_splits=1, test_size=0.3, random_state=42)\n",
    "indexes = list(ss.split(X, y))\n",
    "train_set  = indexes[0][0]\n",
    "test_set  = indexes[0][1]\n",
    "Xtrain = X.iloc[train_set, :]\n",
    "ytrain = y.iloc[train_set]\n",
    "Xtest = X.iloc[test_set, :]\n",
    "ytest = y.iloc[test_set]"
   ]
  },
  {
   "cell_type": "code",
   "execution_count": 11,
   "metadata": {},
   "outputs": [
    {
     "data": {
      "text/plain": [
       "GridSearchCV(cv=ShuffleSplit(n_splits=1, random_state=42, test_size=0.3, train_size=None),\n",
       "             error_score='raise-deprecating',\n",
       "             estimator=DecisionTreeClassifier(class_weight=None,\n",
       "                                              criterion='gini', max_depth=None,\n",
       "                                              max_features=None,\n",
       "                                              max_leaf_nodes=None,\n",
       "                                              min_impurity_decrease=0.0,\n",
       "                                              min_impurity_split=None,\n",
       "                                              min_samples_leaf=1,\n",
       "                                              min_samples_split=2,\n",
       "                                              min_weight_fraction_leaf=0.0,\n",
       "                                              presort=False, random_state=None,\n",
       "                                              splitter='best'),\n",
       "             iid='warn', n_jobs=None,\n",
       "             param_grid={'criterion': array(['entropy', 'gini'], dtype='<U7'),\n",
       "                         'max_depth': [3, 5, 10, 15]},\n",
       "             pre_dispatch='2*n_jobs', refit=True, return_train_score=False,\n",
       "             scoring='accuracy', verbose=0)"
      ]
     },
     "execution_count": 11,
     "metadata": {},
     "output_type": "execute_result"
    }
   ],
   "source": [
    "from sklearn.model_selection import GridSearchCV # For model selection\n",
    "criterion_opts = np.array(['entropy', 'gini'])\n",
    "max_depth_opts = [3, 5, 10, 15]\n",
    "param_grid = dict(criterion = criterion_opts, max_depth = max_depth_opts)\n",
    "cv = ShuffleSplit(n_splits=1, test_size=0.3, random_state=42)\n",
    "grid = GridSearchCV(tree.DecisionTreeClassifier(), param_grid=param_grid, cv=cv, scoring='accuracy')\n",
    "grid.fit(Xtrain, ytrain)"
   ]
  },
  {
   "cell_type": "code",
   "execution_count": 13,
   "metadata": {},
   "outputs": [
    {
     "data": {
      "text/plain": [
       "{'criterion': 'gini', 'max_depth': 10}"
      ]
     },
     "execution_count": 13,
     "metadata": {},
     "output_type": "execute_result"
    }
   ],
   "source": [
    "grid.best_params_ # best parameters."
   ]
  },
  {
   "cell_type": "code",
   "execution_count": 14,
   "metadata": {
    "collapsed": true
   },
   "outputs": [],
   "source": [
    "clf = tree.DecisionTreeClassifier(criterion=grid.best_params_[\"criterion\"],max_depth=grid.best_params_[\"max_depth\"])\n",
    "clf.fit(Xtrain, ytrain)\n",
    "ypred = clf.predict(Xtest)  "
   ]
  },
  {
   "cell_type": "code",
   "execution_count": 15,
   "metadata": {},
   "outputs": [
    {
     "name": "stdout",
     "output_type": "stream",
     "text": [
      "0.9028985507246376\n"
     ]
    }
   ],
   "source": [
    "from sklearn.metrics import accuracy_score # Accuracy score\n",
    "accuracy = accuracy_score(ytest, ypred)\n",
    "print(accuracy) "
   ]
  },
  {
   "cell_type": "markdown",
   "metadata": {},
   "source": [
    "### unbalanced dataset：\n",
    "> **1. 使用 sklearn 下的 StratifiedShuffleSplit。**\n",
    "\n",
    "> **2. 使用 recall，F1作为度量。**"
   ]
  },
  {
   "cell_type": "code",
   "execution_count": 16,
   "metadata": {},
   "outputs": [
    {
     "data": {
      "image/png": "[encoded data removed]",
      "text/plain": [
       "<Figure size 432x288 with 1 Axes>"
      ]
     },
     "metadata": {
      "needs_background": "light"
     },
     "output_type": "display_data"
    }
   ],
   "source": [
    "%matplotlib inline \n",
    "import matplotlib.pyplot as plt\n",
    "y.hist()\n",
    "plt.ylabel('Number of instances')\n",
    "plt.xlabel('Class label')\n",
    "plt.title('Class distribution for X')\n",
    "plt.show()"
   ]
  },
  {
   "cell_type": "code",
   "execution_count": 17,
   "metadata": {},
   "outputs": [
    {
     "data": {
      "image/png": "[encoded data removed]",
      "text/plain": [
       "<Figure size 432x288 with 1 Axes>"
      ]
     },
     "metadata": {
      "needs_background": "light"
     },
     "output_type": "display_data"
    }
   ],
   "source": [
    "ytrain.hist()\n",
    "plt.ylabel('Number of instances')\n",
    "plt.xlabel('Class label')\n",
    "plt.title('Class distribution for Xtrain')\n",
    "plt.show()"
   ]
  },
  {
   "cell_type": "markdown",
   "metadata": {},
   "source": [
    "### 7. Spark："
   ]
  },
  {
   "cell_type": "code",
   "execution_count": 20,
   "metadata": {},
   "outputs": [],
   "source": [
    "rawdata = spark.read.csv('../Data/spambase.data')\n",
    "rawdata.cache()\n",
    "ncolumns = len(rawdata.columns)\n",
    "spam_names = [spam_names.rstrip('\\n') for spam_names in open('../Data/spambase.data.names')]\n",
    "number_names = np.shape(spam_names)[0]\n",
    "for i in range(number_names):\n",
    "    local = spam_names[i]\n",
    "    colon_pos = local.find(':')\n",
    "    spam_names[i] = local[:colon_pos]"
   ]
  },
  {
   "cell_type": "code",
   "execution_count": 21,
   "metadata": {
    "collapsed": true
   },
   "outputs": [],
   "source": [
    "schemaNames = rawdata.schema.names\n",
    "spam_names[ncolumns-1] = 'labels'\n",
    "for i in range(ncolumns):\n",
    "    rawdata = rawdata.withColumnRenamed(schemaNames[i], spam_names[i])"
   ]
  },
  {
   "cell_type": "code",
   "execution_count": 23,
   "metadata": {},
   "outputs": [],
   "source": [
    "from pyspark.sql.types import DoubleType\n",
    "for i in range(ncolumns):\n",
    "    rawdata = rawdata.withColumn(spam_names[i], rawdata[spam_names[i]].cast(DoubleType()))"
   ]
  },
  {
   "cell_type": "code",
   "execution_count": 24,
   "metadata": {
    "scrolled": true
   },
   "outputs": [
    {
     "name": "stdout",
     "output_type": "stream",
     "text": [
      "root\n",
      " |-- word_freq_make: double (nullable = true)\n",
      " |-- word_freq_address: double (nullable = true)\n",
      " |-- word_freq_all: double (nullable = true)\n",
      " |-- word_freq_3d: double (nullable = true)\n",
      " |-- word_freq_our: double (nullable = true)\n",
      " |-- word_freq_over: double (nullable = true)\n",
      " |-- word_freq_remove: double (nullable = true)\n",
      " |-- word_freq_internet: double (nullable = true)\n",
      " |-- word_freq_order: double (nullable = true)\n",
      " |-- word_freq_mail: double (nullable = true)\n",
      " |-- word_freq_receive: double (nullable = true)\n",
      " |-- word_freq_will: double (nullable = true)\n",
      " |-- word_freq_people: double (nullable = true)\n",
      " |-- word_freq_report: double (nullable = true)\n",
      " |-- word_freq_addresses: double (nullable = true)\n",
      " |-- word_freq_free: double (nullable = true)\n",
      " |-- word_freq_business: double (nullable = true)\n",
      " |-- word_freq_email: double (nullable = true)\n",
      " |-- word_freq_you: double (nullable = true)\n",
      " |-- word_freq_credit: double (nullable = true)\n",
      " |-- word_freq_your: double (nullable = true)\n",
      " |-- word_freq_font: double (nullable = true)\n",
      " |-- word_freq_000: double (nullable = true)\n",
      " |-- word_freq_money: double (nullable = true)\n",
      " |-- word_freq_hp: double (nullable = true)\n",
      " |-- word_freq_hpl: double (nullable = true)\n",
      " |-- word_freq_george: double (nullable = true)\n",
      " |-- word_freq_650: double (nullable = true)\n",
      " |-- word_freq_lab: double (nullable = true)\n",
      " |-- word_freq_labs: double (nullable = true)\n",
      " |-- word_freq_telnet: double (nullable = true)\n",
      " |-- word_freq_857: double (nullable = true)\n",
      " |-- word_freq_data: double (nullable = true)\n",
      " |-- word_freq_415: double (nullable = true)\n",
      " |-- word_freq_85: double (nullable = true)\n",
      " |-- word_freq_technology: double (nullable = true)\n",
      " |-- word_freq_1999: double (nullable = true)\n",
      " |-- word_freq_parts: double (nullable = true)\n",
      " |-- word_freq_pm: double (nullable = true)\n",
      " |-- word_freq_direct: double (nullable = true)\n",
      " |-- word_freq_cs: double (nullable = true)\n",
      " |-- word_freq_meeting: double (nullable = true)\n",
      " |-- word_freq_original: double (nullable = true)\n",
      " |-- word_freq_project: double (nullable = true)\n",
      " |-- word_freq_re: double (nullable = true)\n",
      " |-- word_freq_edu: double (nullable = true)\n",
      " |-- word_freq_table: double (nullable = true)\n",
      " |-- word_freq_conference: double (nullable = true)\n",
      " |-- char_freq_;: double (nullable = true)\n",
      " |-- char_freq_(: double (nullable = true)\n",
      " |-- char_freq_[: double (nullable = true)\n",
      " |-- char_freq_!: double (nullable = true)\n",
      " |-- char_freq_$: double (nullable = true)\n",
      " |-- char_freq_#: double (nullable = true)\n",
      " |-- capital_run_length_average: double (nullable = true)\n",
      " |-- capital_run_length_longest: double (nullable = true)\n",
      " |-- capital_run_length_total: double (nullable = true)\n",
      " |-- labels: double (nullable = true)\n",
      "\n"
     ]
    }
   ],
   "source": [
    "rawdata.printSchema()"
   ]
  },
  {
   "cell_type": "code",
   "execution_count": 25,
   "metadata": {
    "collapsed": true
   },
   "outputs": [],
   "source": [
    "from pyspark.ml.feature import VectorAssembler\n",
    "assembler = VectorAssembler(inputCols = spam_names[0:ncolumns-1], outputCol = 'features') \n",
    "raw_plus_vector = assembler.transform(rawdata)"
   ]
  },
  {
   "cell_type": "code",
   "execution_count": 31,
   "metadata": {},
   "outputs": [
    {
     "name": "stdout",
     "output_type": "stream",
     "text": [
      "root\n",
      " |-- features: vector (nullable = true)\n",
      " |-- labels: double (nullable = true)\n",
      "\n"
     ]
    }
   ],
   "source": [
    "data = raw_plus_vector.select('features','labels')\n",
    "data.printSchema()"
   ]
  },
  {
   "cell_type": "code",
   "execution_count": 32,
   "metadata": {},
   "outputs": [
    {
     "name": "stdout",
     "output_type": "stream",
     "text": [
      "+--------------------+------+\n",
      "|            features|labels|\n",
      "+--------------------+------+\n",
      "|(57,[1,2,4,11,15,...|   1.0|\n",
      "|(57,[0,1,2,4,5,6,...|   1.0|\n",
      "|(57,[0,2,4,5,6,7,...|   1.0|\n",
      "|(57,[4,6,7,8,9,10...|   1.0|\n",
      "|(57,[4,6,7,8,9,10...|   1.0|\n",
      "+--------------------+------+\n",
      "only showing top 5 rows\n",
      "\n"
     ]
    }
   ],
   "source": [
    "data.show(5)"
   ]
  },
  {
   "cell_type": "code",
   "execution_count": 33,
   "metadata": {
    "collapsed": true
   },
   "outputs": [],
   "source": [
    "(trainingData, testData) = data.randomSplit([0.7, 0.3], 42)"
   ]
  },
  {
   "cell_type": "code",
   "execution_count": 34,
   "metadata": {
    "collapsed": true
   },
   "outputs": [],
   "source": [
    "from pyspark.ml.classification import DecisionTreeClassifier\n",
    "dt = DecisionTreeClassifier(labelCol=\"labels\", featuresCol=\"features\", maxDepth=10, impurity='entropy')\n",
    "model = dt.fit(trainingData)\n",
    "predictions = model.transform(testData)"
   ]
  },
  {
   "cell_type": "markdown",
   "metadata": {},
   "source": [
    "> **maxDepth**: it corresponds to the maximum depth of the tree. The default is 5.<p>\n",
    "> **maxBins**: it determines how many bins should be created from continuous features. The default is 32.<p>\n",
    "> **impurity**: it is the metric used to compute information gain. The options are \"gini\" or \"entropy\". The default is \"gini\".<p>\n",
    "> **minInfoGain**: it determines the minimum information gain that will be used for a split. The default is zero."
   ]
  },
  {
   "cell_type": "code",
   "execution_count": 35,
   "metadata": {},
   "outputs": [
    {
     "name": "stdout",
     "output_type": "stream",
     "text": [
      "Accuracy = 0.92371 \n"
     ]
    }
   ],
   "source": [
    "from pyspark.ml.evaluation import MulticlassClassificationEvaluator\n",
    "evaluator = MulticlassClassificationEvaluator(labelCol=\"labels\", predictionCol=\"prediction\", metricName=\"accuracy\")\n",
    "accuracy = evaluator.evaluate(predictions)\n",
    "print(\"Accuracy = %g \" % accuracy)"
   ]
  },
  {
   "cell_type": "code",
   "execution_count": 36,
   "metadata": {
    "collapsed": true
   },
   "outputs": [],
   "source": [
    "fi = model.featureImportances # show the importance of those features."
   ]
  },
  {
   "cell_type": "code",
   "execution_count": 37,
   "metadata": {
    "collapsed": true
   },
   "outputs": [],
   "source": [
    "imp_feat = np.zeros(ncolumns-1)\n",
    "imp_feat[fi.indices] = fi.values"
   ]
  },
  {
   "cell_type": "code",
   "execution_count": 39,
   "metadata": {},
   "outputs": [
    {
     "data": {
      "text/plain": [
       "<BarContainer object of 57 artists>"
      ]
     },
     "execution_count": 39,
     "metadata": {},
     "output_type": "execute_result"
    },
    {
     "data": {
      "image/png": "[encoded data removed]",
      "text/plain": [
       "<Figure size 432x288 with 1 Axes>"
      ]
     },
     "metadata": {},
     "output_type": "display_data"
    }
   ],
   "source": [
    "%matplotlib inline \n",
    "import matplotlib.pyplot as plt\n",
    "x = np.arange(ncolumns-1)\n",
    "plt.bar(x, imp_feat)"
   ]
  },
  {
   "cell_type": "code",
   "execution_count": 40,
   "metadata": {},
   "outputs": [
    {
     "data": {
      "text/plain": [
       "'char_freq_$'"
      ]
     },
     "execution_count": 40,
     "metadata": {},
     "output_type": "execute_result"
    }
   ],
   "source": [
    "spam_names[np.argmax(imp_feat)] # The feature with the highest importance"
   ]
  },
  {
   "cell_type": "code",
   "execution_count": 41,
   "metadata": {},
   "outputs": [
    {
     "name": "stdout",
     "output_type": "stream",
     "text": [
      "DecisionTreeClassificationModel (uid=DecisionTreeClassifier_442483a4b222eeb7759b) of depth 10 with 201 nodes\n",
      "  If (feature 52 <= 0.0525)\n",
      "   If (feature 6 <= 0.055)\n",
      "    If (feature 51 <= 0.3805)\n",
      "     If (feature 26 <= 0.005)\n",
      "      If (feature 15 <= 0.025)\n",
      "       If (feature 23 <= 0.01)\n",
      "        If (feature 24 <= 0.01)\n",
      "         If (feature 56 <= 28.5)\n",
      "          If (feature 7 <= 0.005)\n",
      "           If (feature 17 <= 0.005)\n",
      "            Predict: 0.0\n",
      "           Else (feature 17 > 0.005)\n",
      "            Predict: 0.0\n",
      "          Else (feature 7 > 0.005)\n",
      "           If (feature 20 <= 0.01)\n",
      "            Predict: 0.0\n",
      "           Else (feature 20 > 0.01)\n",
      "            Predict: 1.0\n",
      "         Else (feature 56 > 28.5)\n",
      "          If (feature 4 <= 1.835)\n",
      "           If (feature 36 <= 0.125)\n",
      "            Predict: 0.0\n",
      "           Else (feature 36 > 0.125)\n",
      "            Predict: 0.0\n",
      "          Else (feature 4 > 1.835)\n",
      "           If (feature 35 <= 0.005)\n",
      "            Predict: 1.0\n",
      "           Else (feature 35 > 0.005)\n",
      "            Predict: 0.0\n",
      "        Else (feature 24 > 0.01)\n",
      "         If (feature 10 <= 0.295)\n",
      "          If (feature 11 <= 0.01)\n",
      "           If (feature 43 <= 0.335)\n",
      "            Predict: 0.0\n",
      "           Else (feature 43 > 0.335)\n",
      "            Predict: 0.0\n",
      "          Else (feature 11 > 0.01)\n",
      "           Predict: 0.0\n",
      "         Else (feature 10 > 0.295)\n",
      "          If (feature 20 <= 0.515)\n",
      "           Predict: 0.0\n",
      "          Else (feature 20 > 0.515)\n",
      "           If (feature 1 <= 0.005)\n",
      "            Predict: 0.0\n",
      "           Else (feature 1 > 0.005)\n",
      "            Predict: 1.0\n",
      "       Else (feature 23 > 0.01)\n",
      "        If (feature 44 <= 0.385)\n",
      "         If (feature 24 <= 0.01)\n",
      "          If (feature 18 <= 5.535)\n",
      "           Predict: 1.0\n",
      "          Else (feature 18 > 5.535)\n",
      "           If (feature 20 <= 0.01)\n",
      "            Predict: 1.0\n",
      "           Else (feature 20 > 0.01)\n",
      "            Predict: 0.0\n",
      "         Else (feature 24 > 0.01)\n",
      "          Predict: 0.0\n",
      "        Else (feature 44 > 0.385)\n",
      "         Predict: 0.0\n",
      "      Else (feature 15 > 0.025)\n",
      "       If (feature 24 <= 0.025)\n",
      "        If (feature 4 <= 0.01)\n",
      "         If (feature 45 <= 0.015)\n",
      "          If (feature 55 <= 43.5)\n",
      "           If (feature 55 <= 6.5)\n",
      "            Predict: 0.0\n",
      "           Else (feature 55 > 6.5)\n",
      "            Predict: 1.0\n",
      "          Else (feature 55 > 43.5)\n",
      "           If (feature 9 <= 0.015)\n",
      "            Predict: 0.0\n",
      "           Else (feature 9 > 0.015)\n",
      "            Predict: 1.0\n",
      "         Else (feature 45 > 0.015)\n",
      "          If (feature 27 <= 0.01)\n",
      "           Predict: 0.0\n",
      "          Else (feature 27 > 0.01)\n",
      "           Predict: 1.0\n",
      "        Else (feature 4 > 0.01)\n",
      "         If (feature 0 <= 0.175)\n",
      "          If (feature 12 <= 0.545)\n",
      "           If (feature 40 <= 0.01)\n",
      "            Predict: 1.0\n",
      "           Else (feature 40 > 0.01)\n",
      "            Predict: 0.0\n",
      "          Else (feature 12 > 0.545)\n",
      "           Predict: 0.0\n",
      "         Else (feature 0 > 0.175)\n",
      "          Predict: 0.0\n",
      "       Else (feature 24 > 0.025)\n",
      "        If (feature 11 <= 0.10500000000000001)\n",
      "         If (feature 18 <= 0.605)\n",
      "          Predict: 1.0\n",
      "         Else (feature 18 > 0.605)\n",
      "          If (feature 18 <= 1.9449999999999998)\n",
      "           Predict: 0.0\n",
      "          Else (feature 18 > 1.9449999999999998)\n",
      "           Predict: 1.0\n",
      "        Else (feature 11 > 0.10500000000000001)\n",
      "         Predict: 0.0\n",
      "     Else (feature 26 > 0.005)\n",
      "      Predict: 0.0\n",
      "    Else (feature 51 > 0.3805)\n",
      "     If (feature 56 <= 52.5)\n",
      "      If (feature 15 <= 0.615)\n",
      "       If (feature 51 <= 0.9974999999999999)\n",
      "        If (feature 54 <= 3.701)\n",
      "         If (feature 23 <= 0.01)\n",
      "          If (feature 51 <= 0.7745)\n",
      "           Predict: 0.0\n",
      "          Else (feature 51 > 0.7745)\n",
      "           If (feature 55 <= 3.5)\n",
      "            Predict: 0.0\n",
      "           Else (feature 55 > 3.5)\n",
      "            Predict: 0.0\n",
      "         Else (feature 23 > 0.01)\n",
      "          Predict: 1.0\n",
      "        Else (feature 54 > 3.701)\n",
      "         Predict: 1.0\n",
      "       Else (feature 51 > 0.9974999999999999)\n",
      "        If (feature 45 <= 0.015)\n",
      "         If (feature 56 <= 17.5)\n",
      "          If (feature 18 <= 1.645)\n",
      "           If (feature 56 <= 4.5)\n",
      "            Predict: 0.0\n",
      "           Else (feature 56 > 4.5)\n",
      "            Predict: 0.0\n",
      "          Else (feature 18 > 1.645)\n",
      "           If (feature 55 <= 3.5)\n",
      "            Predict: 0.0\n",
      "           Else (feature 55 > 3.5)\n",
      "            Predict: 1.0\n",
      "         Else (feature 56 > 17.5)\n",
      "          If (feature 11 <= 1.3250000000000002)\n",
      "           If (feature 24 <= 0.01)\n",
      "            Predict: 1.0\n",
      "           Else (feature 24 > 0.01)\n",
      "            Predict: 0.0\n",
      "          Else (feature 11 > 1.3250000000000002)\n",
      "           Predict: 0.0\n",
      "        Else (feature 45 > 0.015)\n",
      "         Predict: 0.0\n",
      "      Else (feature 15 > 0.615)\n",
      "       If (feature 8 <= 0.005)\n",
      "        Predict: 1.0\n",
      "       Else (feature 8 > 0.005)\n",
      "        Predict: 0.0\n",
      "     Else (feature 56 > 52.5)\n",
      "      If (feature 45 <= 0.015)\n",
      "       If (feature 51 <= 0.7745)\n",
      "        If (feature 24 <= 0.01)\n",
      "         If (feature 44 <= 0.675)\n",
      "          If (feature 18 <= 4.525)\n",
      "           If (feature 20 <= 0.645)\n",
      "            Predict: 1.0\n",
      "           Else (feature 20 > 0.645)\n",
      "            Predict: 1.0\n",
      "          Else (feature 18 > 4.525)\n",
      "           Predict: 0.0\n",
      "         Else (feature 44 > 0.675)\n",
      "          Predict: 0.0\n",
      "        Else (feature 24 > 0.01)\n",
      "         Predict: 0.0\n",
      "       Else (feature 51 > 0.7745)\n",
      "        If (feature 55 <= 4.5)\n",
      "         Predict: 0.0\n",
      "        Else (feature 55 > 4.5)\n",
      "         If (feature 9 <= 0.675)\n",
      "          Predict: 1.0\n",
      "         Else (feature 9 > 0.675)\n",
      "          If (feature 0 <= 0.005)\n",
      "           Predict: 1.0\n",
      "          Else (feature 0 > 0.005)\n",
      "           Predict: 0.0\n",
      "      Else (feature 45 > 0.015)\n",
      "       Predict: 0.0\n",
      "   Else (feature 6 > 0.055)\n",
      "    If (feature 26 <= 0.005)\n",
      "     If (feature 45 <= 0.015)\n",
      "      If (feature 29 <= 0.185)\n",
      "       If (feature 15 <= 0.005)\n",
      "        If (feature 20 <= 0.375)\n",
      "         If (feature 55 <= 12.5)\n",
      "          If (feature 18 <= 0.845)\n",
      "           Predict: 1.0\n",
      "          Else (feature 18 > 0.845)\n",
      "           If (feature 10 <= 0.14500000000000002)\n",
      "            Predict: 0.0\n",
      "           Else (feature 10 > 0.14500000000000002)\n",
      "            Predict: 1.0\n",
      "         Else (feature 55 > 12.5)\n",
      "          If (feature 44 <= 0.535)\n",
      "           Predict: 1.0\n",
      "          Else (feature 44 > 0.535)\n",
      "           Predict: 0.0\n",
      "        Else (feature 20 > 0.375)\n",
      "         If (feature 24 <= 0.265)\n",
      "          Predict: 1.0\n",
      "         Else (feature 24 > 0.265)\n",
      "          Predict: 0.0\n",
      "       Else (feature 15 > 0.005)\n",
      "        Predict: 1.0\n",
      "      Else (feature 29 > 0.185)\n",
      "       Predict: 0.0\n",
      "     Else (feature 45 > 0.015)\n",
      "      If (feature 4 <= 0.685)\n",
      "       Predict: 0.0\n",
      "      Else (feature 4 > 0.685)\n",
      "       Predict: 1.0\n",
      "    Else (feature 26 > 0.005)\n",
      "     Predict: 0.0\n",
      "  Else (feature 52 > 0.0525)\n",
      "   If (feature 24 <= 0.175)\n",
      "    If (feature 54 <= 2.339)\n",
      "     If (feature 6 <= 0.01)\n",
      "      If (feature 55 <= 7.5)\n",
      "       If (feature 18 <= 4.525)\n",
      "        Predict: 0.0\n",
      "       Else (feature 18 > 4.525)\n",
      "        If (feature 17 <= 0.005)\n",
      "         Predict: 0.0\n",
      "        Else (feature 17 > 0.005)\n",
      "         Predict: 1.0\n",
      "      Else (feature 55 > 7.5)\n",
      "       If (feature 20 <= 0.515)\n",
      "        If (feature 7 <= 0.005)\n",
      "         If (feature 9 <= 0.675)\n",
      "          If (feature 55 <= 15.5)\n",
      "           Predict: 0.0\n",
      "          Else (feature 55 > 15.5)\n",
      "           If (feature 11 <= 0.615)\n",
      "            Predict: 1.0\n",
      "           Else (feature 11 > 0.615)\n",
      "            Predict: 0.0\n",
      "         Else (feature 9 > 0.675)\n",
      "          Predict: 1.0\n",
      "        Else (feature 7 > 0.005)\n",
      "         If (feature 5 <= 0.005)\n",
      "          Predict: 1.0\n",
      "         Else (feature 5 > 0.005)\n",
      "          Predict: 0.0\n",
      "       Else (feature 20 > 0.515)\n",
      "        If (feature 1 <= 0.065)\n",
      "         If (feature 55 <= 9.5)\n",
      "          Predict: 0.0\n",
      "         Else (feature 55 > 9.5)\n",
      "          Predict: 1.0\n",
      "        Else (feature 1 > 0.065)\n",
      "         If (feature 44 <= 0.005)\n",
      "          If (feature 45 <= 0.015)\n",
      "           Predict: 1.0\n",
      "          Else (feature 45 > 0.015)\n",
      "           Predict: 0.0\n",
      "         Else (feature 44 > 0.005)\n",
      "          If (feature 4 <= 0.305)\n",
      "           Predict: 0.0\n",
      "          Else (feature 4 > 0.305)\n",
      "           Predict: 1.0\n",
      "     Else (feature 6 > 0.01)\n",
      "      If (feature 45 <= 0.015)\n",
      "       Predict: 1.0\n",
      "      Else (feature 45 > 0.015)\n",
      "       Predict: 0.0\n",
      "    Else (feature 54 > 2.339)\n",
      "     If (feature 45 <= 0.335)\n",
      "      If (feature 49 <= 0.646)\n",
      "       If (feature 54 <= 2.9939999999999998)\n",
      "        If (feature 10 <= 0.20500000000000002)\n",
      "         Predict: 1.0\n",
      "        Else (feature 10 > 0.20500000000000002)\n",
      "         If (feature 56 <= 187.5)\n",
      "          Predict: 1.0\n",
      "         Else (feature 56 > 187.5)\n",
      "          If (feature 49 <= 0.0365)\n",
      "           Predict: 0.0\n",
      "          Else (feature 49 > 0.0365)\n",
      "           Predict: 1.0\n",
      "       Else (feature 54 > 2.9939999999999998)\n",
      "        Predict: 1.0\n",
      "      Else (feature 49 > 0.646)\n",
      "       If (feature 54 <= 4.894)\n",
      "        Predict: 0.0\n",
      "       Else (feature 54 > 4.894)\n",
      "        Predict: 1.0\n",
      "     Else (feature 45 > 0.335)\n",
      "      If (feature 0 <= 0.135)\n",
      "       Predict: 0.0\n",
      "      Else (feature 0 > 0.135)\n",
      "       Predict: 1.0\n",
      "   Else (feature 24 > 0.175)\n",
      "    If (feature 51 <= 0.4395)\n",
      "     If (feature 53 <= 0.1175)\n",
      "      Predict: 0.0\n",
      "     Else (feature 53 > 0.1175)\n",
      "      If (feature 4 <= 1.0550000000000002)\n",
      "       Predict: 1.0\n",
      "      Else (feature 4 > 1.0550000000000002)\n",
      "       Predict: 0.0\n",
      "    Else (feature 51 > 0.4395)\n",
      "     Predict: 1.0\n",
      "\n"
     ]
    }
   ],
   "source": [
    "print(model.toDebugString)"
   ]
  },
  {
   "cell_type": "code",
   "execution_count": null,
   "metadata": {
    "collapsed": true
   },
   "outputs": [],
   "source": []
  }
 ],
 "metadata": {
  "anaconda-cloud": {},
  "kernelspec": {
   "display_name": "Python [conda env:jupyter-spark]",
   "language": "python",
   "name": "conda-env-jupyter-spark-py"
  },
  "language_info": {
   "codemirror_mode": {
    "name": "ipython",
    "version": 3
   },
   "file_extension": ".py",
   "mimetype": "text/x-python",
   "name": "python",
   "nbconvert_exporter": "python",
   "pygments_lexer": "ipython3",
   "version": "3.6.5"
  }
 },
 "nbformat": 4,
 "nbformat_minor": 2
}
