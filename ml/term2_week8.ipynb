{
 "cells": [
  {
   "cell_type": "markdown",
   "metadata": {},
   "source": [
    "## 1. 熵："
   ]
  },
  {
   "cell_type": "markdown",
   "metadata": {},
   "source": [
    "* **信息量：一条信息的信息量大小和它的不确定性有很大的关系。**\n",
    "$$\n",
    "\\text{I}(x) = - \\log(\\text{P}(x))\n",
    "$$\n",
    "\n",
    "\n",
    "* **熵：表示随机变量不确定的度量，是对所有可能发生的事件产生的信息量的期望。**\n",
    "\n",
    "$$\n",
    "H(x) = - \\sum_{i=1}^N \\text{P}(x_i) \\log(\\text{P}(x_i))\n",
    "$$\n",
    "\n",
    "* **相对熵：又称KL散度，用于衡量对于同一个随机变量x的两个分布p(x)和q(x)之间的差异。**\n",
    "\n",
    "$$\n",
    "D_{kl}(p||q) = \\sum_{i=1}^N \\text{P}(x_i) \\log (\\frac{\\text{P}(x_i)}{\\text{q}(x_i)})\n",
    "$$\n",
    "\n",
    "* **交叉熵：将KL散度的公式进行变形得到交叉熵。**\n",
    "\n",
    "$$\n",
    "\\text{H}(p, q) = - \\sum_{i=1}^N \\text{p}(x_i) \\log(\\text{q}(x_i))\n",
    "$$\n",
    "\n",
    "**为什么交叉熵用于分类问题 - 误差越大下降越快。MSE用于分类问题的话并非如此，具体参考下方链接。**\n",
    "\n",
    "https://zhuanlan.zhihu.com/p/61944055"
   ]
  },
  {
   "cell_type": "markdown",
   "metadata": {},
   "source": [
    "## 2. 逻辑回归的损失函数：\n",
    "\n",
    "### 2.1 logistic loss: \n",
    "\n",
    "**logistic loss是交叉熵在二分类问题下的特例。**\n",
    "\n",
    "<img src=\"image_github/logistic_regression.png\" width=\"600\" height=\"500\">\n",
    "\n",
    "* **雅可比矩阵形式：一个多元函数的一阶偏导数构成的矩阵。**\n",
    "\n",
    "<img src=\"image_github/LR_1.png\" width=\"600\" height=\"500\">\n",
    "\n",
    "* **海森矩阵形式：一个多元函数的二阶偏导数构成的方阵。**\n",
    "\n",
    "<img src=\"image_github/LR_2.png\" width=\"600\" height=\"500\">\n",
    "\n",
    "### 2.2 交叉熵 cross-entropy: \n",
    "\n",
    "* **雅可比矩阵形式：一个多元函数的一阶偏导数构成的矩阵。**\n",
    "\n",
    "$$\n",
    "\\text{g}(\\text{W}) = \\text{X}^\\text{T} (\\sigma - \\text{y}), \\sigma = [\\sigma(\\text{W}^\\text{T} \\text{x}_1), \\dots, \\sigma(\\text{W}^\\text{T} \\text{x}_n)]^\\text{T}\n",
    "$$\n",
    "\n",
    "\n",
    "* **海森矩阵形式：一个多元函数的二阶偏导数构成的方阵。**\n",
    "\n",
    "$$\n",
    "\\text{H}(W) = \\frac{\\mathrm{d} \\text{g}(W)^\\text{T}}{\\mathrm{d}W} = \\text{X}^\\text{T} \\Sigma \\text{X}\n",
    "$$\n",
    "\n",
    "$$\n",
    "\\Sigma = \\text{diag}([\\sigma(\\text{W}^\\text{T}\\text{x}_1)[1 - \\sigma(\\text{W}^\\text{T}\\text{x}_1)], \\dots, \\sigma(\\text{W}^\\text{T}\\text{x}_n)[1 - \\sigma(\\text{W}^\\text{T}\\text{x}_n)]])\n",
    "$$"
   ]
  },
  {
   "cell_type": "markdown",
   "metadata": {},
   "source": [
    "## 3. 线搜索 line search：\n",
    "\n",
    "最优化问题中，线搜索是一种寻找目标函数的局部最小值的近似方法。它是最基础的迭代近似方法之一，另一种是置信域方法。线搜索近似首先找到一个使目标函数下降的方向，然后计算应该沿着这个方向移动的步长。下降方向可以通过多种方法计算，比如梯度下降法，牛顿法和拟牛顿法。\n",
    "\n",
    "<img src=\"image_github/search_direction.png\" width=\"400\" height=\"400\">"
   ]
  },
  {
   "cell_type": "markdown",
   "metadata": {},
   "source": [
    "\n"
   ]
  },
  {
   "cell_type": "markdown",
   "metadata": {
    "collapsed": true
   },
   "source": [
    "### 3.1 牛顿法：\n",
    "\n",
    "牛顿法的基本思想是利用迭代点处的一阶导数(梯度)和二阶导数(Hessen矩阵)对目标函数进行二次函数近似，然后把二次模型的极小点作为新的迭代点，并不断重复这一过程，直至求得满足精度的近似极小值。牛顿法的速度相当快，而且能高度逼近最优值。牛顿法分为基本的牛顿法和全局牛顿法。\n",
    "\n",
    "* **泰勒公式：如果函数平滑且某点存在各阶导数，则可以用一个多项式来描述该点邻域的近似值。**\n",
    ">$$\n",
    "f(x) = \\sum_{i=0}^\\infty f^{(n)}(x_0) \\frac{1}{n!} (x-x_0)^n\n",
    "$$\n",
    "<img src=\"image_github/tayler.png\" width=\"400\" height=\"400\">\n",
    "\n",
    "* **牛顿法：海森矩阵必须是正定矩阵。**\n",
    ">对函数在某一点二次泰勒展开求导等于0。公式如下所示：\n",
    "$$\n",
    "f(x) \\approx g(x) = f(x_k) + f(x_k)^\\prime (x-x_k) + f(x_k)^{\\prime \\prime} (x-x_k)^2\n",
    "$$\n",
    "$$\n",
    "f(x_k)^\\prime + f(x_k)^{\\prime \\prime} (x-x_k) = 0\n",
    "$$\n",
    "$$\n",
    "x = x_k - \\frac{f^\\prime (x_k)}{f^{\\prime \\prime} (x_k)}\n",
    "$$\n",
    "<img src=\"image_github/newton3.png\" width=\"300\" height=\"200\">\n",
    "对于多元函数，函数极值可以通过判断海森矩阵是否为正定。\n",
    "<img src=\"image_github/newton1.png\" width=\"600\" height=\"500\">\n",
    "<img src=\"image_github/newton2.png\" width=\"600\" height=\"500\">"
   ]
  },
  {
   "cell_type": "markdown",
   "metadata": {},
   "source": [
    "**如何处理海森矩阵非正定情况？**\n",
    "\n",
    "<img src=\"image_github/newton4.png\" width=\"500\" height=\"500\">\n",
    "\n",
    "LM: https://blog.csdn.net/mingtian715/article/details/53579379\n",
    "\n",
    "**由于海森矩阵计算困难，无法应用于机器学习中，通过BFGS算法逼近海森矩阵。**"
   ]
  },
  {
   "cell_type": "markdown",
   "metadata": {},
   "source": [
    "### 3.2 拟牛顿法 - BFGS：\n",
    "\n",
    "<img src=\"image_github/BFGS.png\" width=\"500\" height=\"500\">\n",
    "\n",
    "\n",
    "<img src=\"image_github/BFGS1.png\" width=\"500\" height=\"500\">\n",
    "$C_0$为单位矩阵。\n",
    "\n",
    "**虽然我们使用了BFGS算法来利用单位矩阵逐步逼近H矩阵,但是每次计算的时候都要存储C矩阵,C矩阵有多大呢.假设我们的数据集有十万个维度(不算特别大),那么每次迭代所要存储D矩阵的结果是74.5GB.我们无法保存如此巨大的矩阵内容,如何解决呢?**"
   ]
  },
  {
   "cell_type": "markdown",
   "metadata": {},
   "source": [
    "### 3.3 L-BFGS:\n",
    "\n",
    "<img src=\"image_github/BFGS2.png\" width=\"700\" height=\"500\">\n",
    "\n",
    "原文链接：https://blog.csdn.net/weixin_39445556/java/article/details/84502260"
   ]
  },
  {
   "cell_type": "markdown",
   "metadata": {},
   "source": [
    "## 4. Regularisation：\n",
    "\n",
    "<img src=\"image_github/reg.png\" width=\"500\" height=\"500\">"
   ]
  },
  {
   "cell_type": "markdown",
   "metadata": {},
   "source": [
    "## 5. learning rate:\n",
    "\n",
    "<img src=\"image_github/lr.png\" width=\"500\" height=\"500\">"
   ]
  },
  {
   "cell_type": "markdown",
   "metadata": {},
   "source": [
    "## 6. pySpark:"
   ]
  },
  {
   "cell_type": "code",
   "execution_count": 1,
   "metadata": {
    "collapsed": true
   },
   "outputs": [],
   "source": [
    "import os\n",
    "import subprocess\n",
    "def module(*args):        \n",
    "    if isinstance(args[0], list):        \n",
    "        args = args[0]        \n",
    "    else:        \n",
    "        args = list(args)        \n",
    "    (output, error) = subprocess.Popen(['/usr/bin/modulecmd', 'python'] + args, stdout=subprocess.PIPE).communicate()\n",
    "    exec(output)    \n",
    "module('load', 'apps/java/jdk1.8.0_102/binary')    \n",
    "os.environ['PYSPARK_PYTHON'] = os.environ['HOME'] + '/.conda/envs/jupyter-spark/bin/python'"
   ]
  },
  {
   "cell_type": "code",
   "execution_count": 2,
   "metadata": {
    "collapsed": true
   },
   "outputs": [],
   "source": [
    "import pyspark\n",
    "from pyspark.sql import SparkSession\n",
    "\n",
    "spark = SparkSession.builder \\\n",
    "    .master(\"local[2]\") \\\n",
    "    .appName(\"COM6012 DT\") \\\n",
    "    .getOrCreate()"
   ]
  },
  {
   "cell_type": "code",
   "execution_count": 7,
   "metadata": {},
   "outputs": [],
   "source": [
    "import numpy as np\n",
    "rawdata = spark.read.csv('../Data/spambase.data')\n",
    "rawdata.cache()\n",
    "ncolumns = len(rawdata.columns)\n",
    "spam_names = [spam_names.rstrip('\\n') for spam_names in open('../Data/spambase.data.names')]\n",
    "number_names = np.shape(spam_names)[0]\n",
    "for i in range(number_names):\n",
    "    local = spam_names[i]\n",
    "    colon_pos = local.find(':')\n",
    "    spam_names[i] = local[:colon_pos]"
   ]
  },
  {
   "cell_type": "code",
   "execution_count": 8,
   "metadata": {
    "collapsed": true
   },
   "outputs": [],
   "source": [
    "schemaNames = rawdata.schema.names\n",
    "spam_names[ncolumns-1] = 'labels'\n",
    "for i in range(ncolumns):\n",
    "    rawdata = rawdata.withColumnRenamed(schemaNames[i], spam_names[i])"
   ]
  },
  {
   "cell_type": "code",
   "execution_count": 9,
   "metadata": {
    "collapsed": true
   },
   "outputs": [],
   "source": [
    "from pyspark.sql.types import DoubleType\n",
    "for i in range(ncolumns):\n",
    "    rawdata = rawdata.withColumn(spam_names[i], rawdata[spam_names[i]].cast(DoubleType()))"
   ]
  },
  {
   "cell_type": "code",
   "execution_count": 10,
   "metadata": {
    "collapsed": true
   },
   "outputs": [],
   "source": [
    "from pyspark.ml.feature import VectorAssembler\n",
    "assembler = VectorAssembler(inputCols = spam_names[0:ncolumns-1], outputCol = 'features') \n",
    "raw_plus_vector = assembler.transform(rawdata)\n",
    "data = raw_plus_vector.select('features','labels')"
   ]
  },
  {
   "cell_type": "code",
   "execution_count": 11,
   "metadata": {
    "collapsed": true
   },
   "outputs": [],
   "source": [
    "(trainingData, testData) = data.randomSplit([0.7, 0.3], 42)"
   ]
  },
  {
   "cell_type": "code",
   "execution_count": 12,
   "metadata": {
    "collapsed": true
   },
   "outputs": [],
   "source": [
    "from pyspark.ml.classification import LogisticRegression\n",
    "lr = LogisticRegression(featuresCol='features', labelCol='labels', maxIter=50, regParam=0, family=\"binomial\")\n",
    "lrModel1 = lr.fit(trainingData)\n",
    "predictions = lrModel1.transform(testData)"
   ]
  },
  {
   "cell_type": "code",
   "execution_count": 13,
   "metadata": {},
   "outputs": [
    {
     "name": "stdout",
     "output_type": "stream",
     "text": [
      "Accuracy = 0.928945 \n"
     ]
    }
   ],
   "source": [
    "from pyspark.ml.evaluation import MulticlassClassificationEvaluator\n",
    "evaluator = MulticlassClassificationEvaluator(labelCol=\"labels\", predictionCol=\"prediction\", metricName=\"accuracy\")\n",
    "accuracy = evaluator.evaluate(predictions)\n",
    "print(\"Accuracy = %g \" % accuracy)"
   ]
  },
  {
   "cell_type": "code",
   "execution_count": 14,
   "metadata": {
    "collapsed": true
   },
   "outputs": [],
   "source": [
    "w_no_reg = lrModel1.coefficients.values"
   ]
  },
  {
   "cell_type": "code",
   "execution_count": 15,
   "metadata": {},
   "outputs": [
    {
     "name": "stdout",
     "output_type": "stream",
     "text": [
      "Accuracy = 0.907255 \n"
     ]
    }
   ],
   "source": [
    "lrL1 = LogisticRegression(featuresCol='features', labelCol='labels', maxIter=50, regParam=0.01, elasticNetParam=1, family=\"binomial\")\n",
    "lrModelL1 = lrL1.fit(trainingData)\n",
    "predictions = lrModelL1.transform(testData)\n",
    "# With Predictions\n",
    "evaluator = MulticlassClassificationEvaluator\\\n",
    "      (labelCol=\"labels\", predictionCol=\"prediction\", metricName=\"accuracy\")\n",
    "accuracy = evaluator.evaluate(predictions)\n",
    "print(\"Accuracy = %g \" % accuracy)"
   ]
  },
  {
   "cell_type": "code",
   "execution_count": 16,
   "metadata": {
    "collapsed": true
   },
   "outputs": [],
   "source": [
    "w_L1 = lrModelL1.coefficients.values"
   ]
  },
  {
   "cell_type": "code",
   "execution_count": 17,
   "metadata": {},
   "outputs": [
    {
     "data": {
      "text/plain": [
       "Text(0.5, 1.0, 'L1 regularisation')"
      ]
     },
     "execution_count": 17,
     "metadata": {},
     "output_type": "execute_result"
    },
    {
     "data": {
      "image/png": "[encoded data removed]",
      "text/plain": [
       "<Figure size 432x288 with 2 Axes>"
      ]
     },
     "metadata": {},
     "output_type": "display_data"
    }
   ],
   "source": [
    "%matplotlib inline \n",
    "import matplotlib.pyplot as plt\n",
    "f, (ax1, ax2) = plt.subplots(1, 2, sharey=True)\n",
    "ax1.plot(w_no_reg)\n",
    "ax1.set_title('No regularisation')\n",
    "ax2.plot(w_L1)\n",
    "ax2.set_title('L1 regularisation')"
   ]
  },
  {
   "cell_type": "code",
   "execution_count": 18,
   "metadata": {},
   "outputs": [
    {
     "data": {
      "text/plain": [
       "'word_freq_cs'"
      ]
     },
     "execution_count": 18,
     "metadata": {},
     "output_type": "execute_result"
    }
   ],
   "source": [
    "spam_names[np.argmax(np.abs(w_no_reg))]"
   ]
  },
  {
   "cell_type": "code",
   "execution_count": 19,
   "metadata": {},
   "outputs": [
    {
     "data": {
      "text/plain": [
       "'char_freq_$'"
      ]
     },
     "execution_count": 19,
     "metadata": {},
     "output_type": "execute_result"
    }
   ],
   "source": [
    "spam_names[np.argmax(np.abs(w_L1))]"
   ]
  },
  {
   "cell_type": "code",
   "execution_count": null,
   "metadata": {
    "collapsed": true
   },
   "outputs": [],
   "source": []
  }
 ],
 "metadata": {
  "anaconda-cloud": {},
  "kernelspec": {
   "display_name": "Python [conda env:jupyter-spark]",
   "language": "python",
   "name": "conda-env-jupyter-spark-py"
  },
  "language_info": {
   "codemirror_mode": {
    "name": "ipython",
    "version": 3
   },
   "file_extension": ".py",
   "mimetype": "text/x-python",
   "name": "python",
   "nbconvert_exporter": "python",
   "pygments_lexer": "ipython3",
   "version": "3.6.5"
  }
 },
 "nbformat": 4,
 "nbformat_minor": 2
}
