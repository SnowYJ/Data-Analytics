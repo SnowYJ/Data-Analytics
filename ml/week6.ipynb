{
 "cells": [
  {
   "cell_type": "markdown",
   "metadata": {},
   "source": [
    "## week6:"
   ]
  },
  {
   "cell_type": "markdown",
   "metadata": {},
   "source": [
    "1. 贝叶斯推断\n",
    "\n",
    "2. 贝叶斯线性回归\n",
    "\n",
    "    2.1 流程\n",
    "    \n",
    "    2.2 公式 (MAP, MLE)\n",
    "    \n",
    "    2.3 python \n",
    "    \n",
    "3. Pytorch"
   ]
  },
  {
   "cell_type": "markdown",
   "metadata": {},
   "source": [
    "## 1. 贝叶斯推断 Bayesian Inference:\n",
    "先验概率(prior):\n",
    "\n",
    "$$p\\left(\\mathbf{w}\\right)$$\n",
    "\n",
    "似然(likelihood):\n",
    "\n",
    "$$p\\left(\\mathbf{y}|\\mathbf{w}, \\mathbf{X}\\right)$$\n",
    "\n",
    "后验概率(posterior):\n",
    "\n",
    "$$p(\\mathbf{w}|\\mathbf{y}, \\mathbf{X}) = \\frac{p(\\mathbf{y}|\\mathbf{w}, \\mathbf{X})p(\\mathbf{w})}{p(\\mathbf{y}|\\mathbf{X})}$$\n",
    "\n",
    "边缘似然(marginal likelihood, marginalisation):\n",
    "\n",
    "$$\n",
    "p(\\mathbf{y}|\\mathbf{X}) = \\int p(\\mathbf{y}|\\mathbf{w},\\mathbf{X})p(\\mathbf{w}) \\text{d}\\mathbf{w}\n",
    "$$\n",
    "\n",
    "**将$\\mathbf{w}$所有的值全部考虑进去，因此，可以忽略$\\mathbf{w}$对$\\mathbf{y}$的影响。**\n",
    "\n",
    "例如：篮球队选拔，是否成功进入篮球队主要取决于身高，体重，投篮命中率。因此，某人能被选进篮球队的概率可表示为：P(选拔成功|身高，体重，投篮命中率)，根据往年选拔的信息，历届球员的体重为100kg, 85kg, 79kg, 70kg。在忽略体重因素的前提下，选拔成功的概率为：P(选拔成功|身高，投篮命中率) = P(选拔成功|身高，100kg，投篮命中率) + P(选拔成功|身高，85kg，投篮命中率) + P(选拔成功|身高，79kg，投篮命中率) + P(选拔成功|身高，70kg，投篮命中率)。\n",
    "\n",
    "由于，X，y为固定值，也就说，P(y|X)为常数。因此，可以忽略 P(y|X) 后验概率可表示为：\n",
    "\n",
    "$$p(\\mathbf{w}|\\mathbf{y}, \\mathbf{X}) \\propto p(\\mathbf{y}|\\mathbf{w}, \\mathbf{X})p(\\mathbf{w})$$\n"
   ]
  },
  {
   "cell_type": "markdown",
   "metadata": {},
   "source": [
    "## 2. 贝叶斯线性回归 Bayesian Linear Regression（MAP）"
   ]
  },
  {
   "cell_type": "markdown",
   "metadata": {},
   "source": [
    "<img src=\"ml_github/Baysian_LR.png\" width=\"500\" height=\"500\" align=center>"
   ]
  },
  {
   "cell_type": "markdown",
   "metadata": {},
   "source": [
    "### 2.1 贝叶斯线性回归流程："
   ]
  },
  {
   "cell_type": "markdown",
   "metadata": {},
   "source": [
    "假设先验概率服从正态分布：\n",
    "$$\n",
    "P(\\mathbf{w}) \\sim \\mathcal{N}(0,\\alpha^{-1})\n",
    "$$\n",
    "\n",
    "预测函数如下：\n",
    "$$\n",
    "y = \\mathbf{w}_0 + \\mathbf{w}_1x\n",
    "$$\n",
    "\n",
    "因此，关于$w_0, w_1$的正态分布，以及样本空间如下图所示。"
   ]
  },
  {
   "cell_type": "markdown",
   "metadata": {},
   "source": [
    "<img src=\"ml_github/bayesian_1.png\" width=\"500\" height=\"500\" align=center>"
   ]
  },
  {
   "cell_type": "markdown",
   "metadata": {},
   "source": [
    "在样本空间内随机选择一个样本，例如：P(0.8, 0.3) 左图所示。$0.3 = w_0 + 0.8w_1$ 得到新的$w_0, w_1$分布（右图所示）。\n",
    "\n",
    "<img src=\"ml_github/bayesian_2.png\" width=\"500\" height=\"500\">\n"
   ]
  },
  {
   "cell_type": "markdown",
   "metadata": {},
   "source": [
    "根据贝叶斯定理，其后验概率（prior * likelihood）分布如下图所示：\n",
    "\n",
    "<img src=\"ml_github/bayesian_3.png\" width=\"500\" height=\"500\">"
   ]
  },
  {
   "cell_type": "markdown",
   "metadata": {},
   "source": [
    "选择第二个样本，例如左图所示，得到关于$w_0, w_1$的分布（右图所示）。\n",
    "\n",
    "<img src=\"ml_github/bayesian_4.png\" width=\"500\" height=\"500\">\n",
    "\n",
    "根据上一步的后验概率，可得此次的后验概率：\n",
    "\n",
    "<img src=\"ml_github/bayesian_5.png\" width=\"300\" height=\"300\">\n",
    "\n",
    "重复上述步骤，$w_0, w_1$的分布会逐渐缩小，但是始终存在一个范围。因此，对于未知数据的预测贝叶斯线性回归存在置信区间，这是正常线性回归所不具备的。\n",
    "\n",
    "**注意：除第一次外，每一次的先验概率为上一次的后验概率**\n",
    "\n",
    "$$P(w_i|x_{i}, y_{i}) = P(y_{i}|w_{i-1}, x_{i})P(w_{i-1})$$\n",
    "\n",
    "$$\n",
    "P(\\mathbf{w}|\\mathbf{X}, \\mathbf{y}) = P(\\mathbf{w})P(y_1|\\mathbf{w}, x_1)P(y_2|\\mathbf{w}^*, x_2)...P(y_n|\\mathbf{w}^*, x_n) = \\prod_{i=1}^nP(y_i|\\mathbf{w}, x_i)P(\\mathbf{w})\n",
    "$$"
   ]
  },
  {
   "cell_type": "markdown",
   "metadata": {},
   "source": [
    "### 2.2 贝叶斯线性回归公式："
   ]
  },
  {
   "cell_type": "markdown",
   "metadata": {},
   "source": [
    "(1) 只有一个变量的线性回归，即：$\\mathbf{y} = \\beta  \\mathbf{x} $\n",
    "\n",
    "* 数据集分布（关于某一条直线呈正态分布）：\n",
    "$$\n",
    "y = \\beta x + e,\n",
    "$$\n",
    "其中，$e \\sim \\mathcal{N}(0,\\alpha_e^{-1}) $\n",
    "\n",
    "* 先验概率 prior：\n",
    "$$ P(\\beta) \\sim \\mathcal{N}(\\mu_{\\beta},\\alpha_p^{-1})$$\n",
    "    **先验概率未知假设服从正态分布。**\n",
    "\n",
    "\n",
    "* 似然 likelihood：\n",
    "$$p(\\mathbf{y}| \\beta) \\sim \\mathcal{N}(\\mu_{\\beta}x, \\alpha_e^{-1})$$\n",
    "    **注意：此处均值来源于先验概率，方差来源于数据集。**\n",
    "\n",
    "* 后验概率 posterior：\n",
    "$$P(\\beta| \\mathbf{y}) = p(\\mathbf{y}| \\beta)P(\\beta) \\sim \\mathcal{N}(\\mu, \\alpha^{-1})$$\n",
    "其中:\n",
    "\n",
    "    $\\alpha = \\alpha_e x^2 + \\alpha_p$ \n",
    "\n",
    "    $ \\mu = \\alpha^{-1}(\\alpha_e xy + \\alpha_p \\mu_p)$\n",
    "    \n",
    "\n",
    "(2) 多变量的线性回归，即：$\\mathbf{y} = \\mathbf{X} \\beta $\n",
    "\n",
    "* 数据集分布（关于某一条直线呈正态分布）：\n",
    "$$\n",
    "y = \\beta x + e,\n",
    "$$\n",
    "其中，$e \\sim \\mathcal{N}(0,\\sigma_e^2) $ **注意：样本空间的方差不是协方差。**\n",
    "\n",
    "* 先验概率 prior：\n",
    "$$ P(\\beta) \\sim \\mathcal{N}(\\mu_{\\beta},\\text{C}_p)$$\n",
    "\n",
    "* 似然 likelihood：\n",
    "$$p(\\mathbf{y}| \\beta) \\sim \\mathcal{N}(X\\mu_{\\beta}, \\sigma_e^2)$$\n",
    "\n",
    "* 后验概率 posterior：\n",
    "$$P(\\beta| \\mathbf{y}) = p(\\mathbf{y}| \\beta)P(\\beta) \\sim \\mathcal{N}(\\mu, \\text{C})$$\n",
    "其中：\n",
    "\n",
    "    $$\\text{C} = \\left(X^\\top \\sigma_e^{-2} X + \\text{C}_p^{-1}\\right)^{-1}$$\n",
    "\n",
    "    $$\\mu = \\text{C}(X^\\top \\sigma_e^{-2} y + \\text{C}_p^{-1} \\mu_\\beta)$$\n",
    "   \n",
    "**特征之间线性无关以及先验概率均值为0情况下，上述公式等价于：**\n",
    "\n",
    "$$\n",
    "\\text{C} = \\left(\\sigma_e^{-2} X^\\top X + \\alpha^{-1}\\text{I}\\right)^{-1}\n",
    "$$ \n",
    "\n",
    "$$\n",
    "\\mu = \\text{C} \\sigma_e^{-2} X^\\top y\n",
    "$$\n",
    "\n",
    "**注意贝叶斯线性回归的后验概率的$\\mu$与正则方程（脊回归）之间的联系。**\n",
    "\n",
    "**贝叶斯线性回归求参数为MAP最大后验概率，MLE为最大似然估计。两者之间区别在于 MAP = MLE$\\times$prior（其中先验对应着l2(MLE)的正则项）。**"
   ]
  },
  {
   "cell_type": "markdown",
   "metadata": {},
   "source": [
    "<img src=\"ml_github/MAP_MLE.png\" width=\"400\" height=\"400\">"
   ]
  },
  {
   "cell_type": "markdown",
   "metadata": {},
   "source": [
    "### 2.3 Bayesian LR in python:"
   ]
  },
  {
   "cell_type": "code",
   "execution_count": 23,
   "metadata": {},
   "outputs": [
    {
     "name": "stdout",
     "output_type": "stream",
     "text": [
      "(8, 8)\n"
     ]
    },
    {
     "name": "stderr",
     "output_type": "stream",
     "text": [
      "/Applications/anaconda3/lib/python3.7/site-packages/ipykernel_launcher.py:30: RuntimeWarning: covariance is not symmetric positive-semidefinite.\n"
     ]
    },
    {
     "data": {
      "image/png": "[encoded data removed]",
      "text/plain": [
       "<Figure size 432x288 with 1 Axes>"
      ]
     },
     "metadata": {
      "needs_background": "light"
     },
     "output_type": "display_data"
    }
   ],
   "source": [
    "import numpy as np\n",
    "import pods\n",
    "from sklearn.preprocessing import PolynomialFeatures\n",
    "import matplotlib.pyplot as plt\n",
    "%matplotlib inline\n",
    "\n",
    "data = pods.datasets.olympic_marathon_men()\n",
    "x = data['X']\n",
    "y = data['Y']\n",
    "x_pred = np.linspace(1890, 2016, 100)[:, None] # draw prediction curve.\n",
    "\n",
    "degree = 7\n",
    "poly = PolynomialFeatures(degree, interaction_only = False, include_bias = True)\n",
    "res = poly.fit_transform(x)\n",
    "res_pred = poly.fit_transform(x_pred)\n",
    "\n",
    "# design matrix\n",
    "Phi, y = res, y\n",
    "Phi_pred, y = res_pred, y\n",
    "\n",
    "sigma2 = 0.01 # variance of error in dataset.\n",
    "alpha = 2 # variance of prior.\n",
    "\n",
    "# posterior. P ~ N(mu, cov)\n",
    "w_prec = 1/sigma2 * Phi.T @ Phi + 1/alpha * np.eye(degree+1) \n",
    "cov = np.linalg.inv(w_prec)\n",
    "mu = np.linalg.solve(w_prec, 1/sigma2*np.dot(Phi.T, y))\n",
    "\n",
    "for i in range(10):\n",
    "    w_sample = np.random.multivariate_normal(mu.flatten(), cov)\n",
    "    f_sample = np.dot(Phi_pred,w_sample)\n",
    "    plt.plot(x_pred.flatten(), f_sample.flatten())\n",
    "plt.plot(x, y, 'rx')\n",
    "\n",
    "print(cov.shape)"
   ]
  },
  {
   "cell_type": "code",
   "execution_count": 16,
   "metadata": {},
   "outputs": [
    {
     "data": {
      "text/plain": [
       "<matplotlib.collections.PolyCollection at 0x1a22f89b70>"
      ]
     },
     "execution_count": 16,
     "metadata": {},
     "output_type": "execute_result"
    },
    {
     "data": {
      "image/png": "[encoded data removed]",
      "text/plain": [
       "<Figure size 432x288 with 1 Axes>"
      ]
     },
     "metadata": {
      "needs_background": "light"
     },
     "output_type": "display_data"
    }
   ],
   "source": [
    "# show Condifence Interval.\n",
    "# Compute variance at function values\n",
    "f_pred_mean = Phi_pred @ mu\n",
    "f_pred_var = np.diag(Phi_pred @ cov @ Phi_pred.T) # covariance is cov rather than sigma2.\n",
    "f_pred_std = np.sqrt(f_pred_var)\n",
    "\n",
    "# plot the mean and error bars at 2 standard deviations above and below the mean\n",
    "plt.plot(x_pred, f_pred_mean, 'black')\n",
    "plt.plot(x, y, 'rx')\n",
    "plt.fill_between(np.squeeze(x_pred), \n",
    "                 np.squeeze(f_pred_mean) - 2*f_pred_std, np.squeeze(f_pred_mean) + 2*f_pred_std, alpha=0.7)"
   ]
  },
  {
   "cell_type": "code",
   "execution_count": 26,
   "metadata": {},
   "outputs": [],
   "source": [
    "# X.ravel(): no copy, X.flatten(): copy , np.squeeze(X): only for vector."
   ]
  },
  {
   "cell_type": "markdown",
   "metadata": {},
   "source": [
    "## 3. Pytorch:"
   ]
  },
  {
   "cell_type": "markdown",
   "metadata": {},
   "source": [
    "### 3.1 pytorch 动态图："
   ]
  },
  {
   "cell_type": "markdown",
   "metadata": {},
   "source": [
    "<img src=\"https://raw.githubusercontent.com/pytorch/pytorch/master/docs/source/_static/img/dynamic_graph.gif\">"
   ]
  },
  {
   "cell_type": "markdown",
   "metadata": {},
   "source": [
    "### 3.2 pytorch 线性回归："
   ]
  },
  {
   "cell_type": "code",
   "execution_count": 36,
   "metadata": {},
   "outputs": [
    {
     "name": "stdout",
     "output_type": "stream",
     "text": [
      "torch.Size([10, 4])\n",
      "torch.Size([10, 1])\n",
      "Linear(in_features=4, out_features=1, bias=True)\n"
     ]
    }
   ],
   "source": [
    "import torch\n",
    "import torch.nn.functional as F\n",
    "\n",
    "# generate (x, y) pairs.\n",
    "def get_batch(num=10, degree=4):\n",
    "    torch.manual_seed(100)\n",
    "    w_target = torch.randn(degree, 1)*10\n",
    "    b_target = torch.randn(1)*5\n",
    "    random = torch.randn(num, 1)\n",
    "    x = torch.cat([random**i for i in range(1, degree+1)], 1) # torch.cat(A, 0 or 1): 张量拼接。0：竖着拼接，1：横着拼接。\n",
    "    y = x.mm(w_target) + b_target.item() # eg. matrix multiply [10*4]*[4*1].\n",
    "    return x, y\n",
    "\n",
    "degree = 4\n",
    "X, y = get_batch(10, degree)\n",
    "print(X.shape)\n",
    "print(y.shape)\n",
    "\n",
    "# fully connected.\n",
    "fc = torch.nn.Linear(degree, 1) # fc.weight generates randomly.\n",
    "print(fc)\n",
    "i = 0\n",
    "while(loss > 0.5):\n",
    "    # forward.\n",
    "    fc.zero_grad()\n",
    "    output = F.smooth_l1_loss(fc(X), y)\n",
    "    loss = output.item()\n",
    "    # backward.\n",
    "    output.backward() \n",
    "    for param in fc.parameters(): # w, b\n",
    "        param.data.add_(-0.1 * param.grad.data) # 0.1 learning rate. \n",
    "    i = i+1\n",
    "    print(i, loss)"
   ]
  },
  {
   "cell_type": "code",
   "execution_count": null,
   "metadata": {},
   "outputs": [],
   "source": []
  }
 ],
 "metadata": {
  "kernelspec": {
   "display_name": "Python 3",
   "language": "python",
   "name": "python3"
  },
  "language_info": {
   "codemirror_mode": {
    "name": "ipython",
    "version": 3
   },
   "file_extension": ".py",
   "mimetype": "text/x-python",
   "name": "python",
   "nbconvert_exporter": "python",
   "pygments_lexer": "ipython3",
   "version": "3.7.3"
  }
 },
 "nbformat": 4,
 "nbformat_minor": 2
}
