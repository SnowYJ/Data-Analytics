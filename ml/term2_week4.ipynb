{
 "cells": [
  {
   "cell_type": "markdown",
   "metadata": {},
   "source": [
    "## 聚类"
   ]
  },
  {
   "cell_type": "markdown",
   "metadata": {},
   "source": [
    "### 1. Partitional Clustering & Hierarchical clustering\n",
    "\n",
    "1. Partitional Clustering：将数据划分为非重叠的子集，每一个子集为一个聚类。\n",
    "\n",
    "2. Hierarchical clustering：层次聚类，所有聚类之间通过树结构进行关联。每个聚类相当于叶子结点。根节点包含所有的聚类。\n",
    "\n",
    "**A hierarchical clustering can be viewed as a sequence of partitional clustering and a partitional clustering can be obtained by taking any member of the that sequences by cutting the hierarchical tree at a particular level.**"
   ]
  },
  {
   "cell_type": "markdown",
   "metadata": {},
   "source": [
    "### 2. 聚类算法：\n",
    "\n",
    "### 2.1 k-means：\n",
    "\n",
    "<img src=\"image_github/k-means.png\" width=\"500\" height=\"500\">\n",
    "\n",
    "**缺点：对初始化点非常敏感。**\n",
    "<img src=\"image_github/k-means_example.png\" width=\"300\" height=\"300\">\n",
    "\n",
    "### 2.2 k-means++：\n",
    "\n",
    "1. 随机选择数据集中某一点作为第一个聚类中心。\n",
    "2. 计算数据集中所有点距离此聚类中心的距离。\n",
    "3. **根据概率，随机选择**距离较大的点作为第二个聚类中心。\n",
    "4. 重复2，3步骤。直到选择出k个聚类中心。\n",
    "5. 将k个聚类中心作为k-means算法初始值。\n",
    "\n",
    "**注意：随机选择距离较大的点可以避免噪声。**\n",
    "<img src=\"image_github/k-means_plus.png\" width=\"400\" height=\"400\">\n",
    "<img src=\"image_github/k-means_explain.png\" width=\"400\" height=\"400\">\n",
    "\n",
    "**缺点：无法处理大数据量。**\n",
    "\n",
    "### 2.3 k-means||：\n",
    "\n",
    "k-means||与k-means++的区别在于第三步，k-means||根据概率一次随机选择出多个距离较大的点，重复多次，使用这些被选择的点进行k-means后，获得k个聚类中心。然后使用这些点作为k-means的初始值。\n",
    "\n",
    "<img src=\"image_github/k-means2_1.png\" width=\"300\" height=\"300\">\n",
    "<img src=\"image_github/k-means2_2.png\" width=\"300\" height=\"300\">\n",
    "<img src=\"image_github/k-means2_3.png\" width=\"300\" height=\"300\">"
   ]
  },
  {
   "cell_type": "markdown",
   "metadata": {},
   "source": [
    "### 3. 评估聚类算法：\n",
    "\n",
    "方法：**轮廓系数(Silhouette)**，Silhouette系数是对聚类结果有效性的解释和验证。\n",
    "\n",
    "* 簇内不相似度：计算样本i到同簇其他样本的平均距离ai。ai越小，说明样本i越应该被聚类到该簇。将ai称为样本i的簇内不相似度。簇C中所有样本的ai均值称为簇C的簇不相似度。\n",
    "\n",
    "\n",
    "* 簇间不相似度：计算样本i到其他某簇Cj的所有样本的平均距离bij，称为样本i与簇Cj 的不相似度。定义为样本i的簇间不相似度：bi = min{bi1, bi2, ..., bik}\n",
    "\n",
    "\n",
    "* 根据样本i的簇内不相似度a i 和簇间不相似度b i ，定义样本i的轮廓系数：\n",
    "\n",
    "<img src=\"image_github/Silhouette.png\" width=\"400\" height=\"400\">\n",
    "\n",
    "**si接近1，则说明样本i聚类合理；si接近-1，则说明样本i更应该分类到另外的簇；若si 近似为0，则说明样本i在两个簇的边界上。**"
   ]
  },
  {
   "cell_type": "markdown",
   "metadata": {},
   "source": [
    "### 3. pyspark:"
   ]
  },
  {
   "cell_type": "code",
   "execution_count": 1,
   "metadata": {
    "collapsed": true
   },
   "outputs": [],
   "source": [
    "import os\n",
    "import subprocess\n",
    "def module(*args):        \n",
    "    if isinstance(args[0], list):        \n",
    "        args = args[0]        \n",
    "    else:        \n",
    "        args = list(args)        \n",
    "    (output, error) = subprocess.Popen(['/usr/bin/modulecmd', 'python'] + args, stdout=subprocess.PIPE).communicate()\n",
    "    exec(output)    \n",
    "module('load', 'apps/java/jdk1.8.0_102/binary')    \n",
    "os.environ['PYSPARK_PYTHON'] = os.environ['HOME'] + '/.conda/envs/jupyter-spark/bin/python'"
   ]
  },
  {
   "cell_type": "code",
   "execution_count": 2,
   "metadata": {},
   "outputs": [],
   "source": [
    "import pyspark\n",
    "from pyspark.ml.clustering import KMeans\n",
    "from pyspark.ml.clustering import KMeansModel\n",
    "from pyspark.ml.evaluation import ClusteringEvaluator\n",
    "import matplotlib.pyplot as plt\n",
    "%matplotlib inline"
   ]
  },
  {
   "cell_type": "code",
   "execution_count": 3,
   "metadata": {
    "collapsed": true
   },
   "outputs": [],
   "source": [
    "from pyspark.sql import SparkSession\n",
    "\n",
    "spark = SparkSession.builder \\\n",
    "    .master(\"local[2]\") \\\n",
    "    .appName(\"COM6012 Kmeans clustering\") \\\n",
    "    .getOrCreate()"
   ]
  },
  {
   "cell_type": "code",
   "execution_count": 4,
   "metadata": {},
   "outputs": [
    {
     "name": "stdout",
     "output_type": "stream",
     "text": [
      "root\n",
      " |-- sepal_length: double (nullable = true)\n",
      " |-- sepal_width: double (nullable = true)\n",
      " |-- petal_length: double (nullable = true)\n",
      " |-- petal_width: double (nullable = true)\n",
      " |-- species: string (nullable = true)\n",
      "\n"
     ]
    }
   ],
   "source": [
    "df = spark.read.load(\"../Data/iris.csv\", format=\"csv\", inferSchema=\"true\", header=\"true\")\n",
    "df.printSchema()"
   ]
  },
  {
   "cell_type": "code",
   "execution_count": 5,
   "metadata": {},
   "outputs": [
    {
     "name": "stdout",
     "output_type": "stream",
     "text": [
      "+------------+-----------+------------+-----------+-------+\n",
      "|sepal_length|sepal_width|petal_length|petal_width|species|\n",
      "+------------+-----------+------------+-----------+-------+\n",
      "|         5.1|        3.5|         1.4|        0.2| setosa|\n",
      "|         4.9|        3.0|         1.4|        0.2| setosa|\n",
      "|         4.7|        3.2|         1.3|        0.2| setosa|\n",
      "|         4.6|        3.1|         1.5|        0.2| setosa|\n",
      "|         5.0|        3.6|         1.4|        0.2| setosa|\n",
      "|         5.4|        3.9|         1.7|        0.4| setosa|\n",
      "|         4.6|        3.4|         1.4|        0.3| setosa|\n",
      "|         5.0|        3.4|         1.5|        0.2| setosa|\n",
      "|         4.4|        2.9|         1.4|        0.2| setosa|\n",
      "|         4.9|        3.1|         1.5|        0.1| setosa|\n",
      "|         5.4|        3.7|         1.5|        0.2| setosa|\n",
      "|         4.8|        3.4|         1.6|        0.2| setosa|\n",
      "|         4.8|        3.0|         1.4|        0.1| setosa|\n",
      "|         4.3|        3.0|         1.1|        0.1| setosa|\n",
      "|         5.8|        4.0|         1.2|        0.2| setosa|\n",
      "|         5.7|        4.4|         1.5|        0.4| setosa|\n",
      "|         5.4|        3.9|         1.3|        0.4| setosa|\n",
      "|         5.1|        3.5|         1.4|        0.3| setosa|\n",
      "|         5.7|        3.8|         1.7|        0.3| setosa|\n",
      "|         5.1|        3.8|         1.5|        0.3| setosa|\n",
      "+------------+-----------+------------+-----------+-------+\n",
      "only showing top 20 rows\n",
      "\n"
     ]
    }
   ],
   "source": [
    "df.show()"
   ]
  },
  {
   "cell_type": "code",
   "execution_count": 7,
   "metadata": {},
   "outputs": [
    {
     "name": "stdout",
     "output_type": "stream",
     "text": [
      "+-----------------+\n",
      "|features         |\n",
      "+-----------------+\n",
      "|[5.1,3.5,1.4,0.2]|\n",
      "|[4.9,3.0,1.4,0.2]|\n",
      "|[4.7,3.2,1.3,0.2]|\n",
      "|[4.6,3.1,1.5,0.2]|\n",
      "|[5.0,3.6,1.4,0.2]|\n",
      "+-----------------+\n",
      "only showing top 5 rows\n",
      "\n"
     ]
    }
   ],
   "source": [
    "from pyspark.ml.linalg import Vectors\n",
    "# convert the data to dense vector because ml api only accept this type.\n",
    "def transData(data):\n",
    "    return data.rdd.map(lambda r: [Vectors.dense(r[:-1])]).toDF(['features'])\n",
    "\n",
    "dfFtrvec= transData(df)\n",
    "dfFtrvec.show(5, False)"
   ]
  },
  {
   "cell_type": "code",
   "execution_count": 8,
   "metadata": {},
   "outputs": [
    {
     "data": {
      "text/plain": [
       "0.3646595969004409"
      ]
     },
     "execution_count": 8,
     "metadata": {},
     "output_type": "execute_result"
    }
   ],
   "source": [
    "# 层次聚类\n",
    "from pyspark.ml.clustering import BisectingKMeans\n",
    "\n",
    "bkm = BisectingKMeans().setK(16).setMinDivisibleClusterSize(4).setSeed(1234)\n",
    "model = bkm.fit(dfFtrvec)\n",
    "predictions = model.transform(dfFtrvec)\n",
    "evaluator = ClusteringEvaluator()\n",
    "silhouette = evaluator.evaluate(predictions)\n",
    "silhouette"
   ]
  },
  {
   "cell_type": "markdown",
   "metadata": {},
   "source": [
    "**k-means||：.setInitMode(\"k-means||\") 或 k-means++：.setInitMode(\"random\")**"
   ]
  },
  {
   "cell_type": "code",
   "execution_count": 9,
   "metadata": {
    "collapsed": true
   },
   "outputs": [],
   "source": [
    "import numpy as np\n",
    "numK=10\n",
    "silhouettes = np.zeros(numK)\n",
    "costs= np.zeros(numK)\n",
    "for k in range(2,numK):\n",
    "    kmeans = KMeans().setK(k).setSeed(11) # .setInitMode(\"k-means||\") .setInitMode(\"random\")\n",
    "    model = kmeans.fit(dfFtrvec)\n",
    "    # Make predictions, i.e., get cluster index\n",
    "    predictions = model.transform(dfFtrvec)\n",
    "    # K-means cost (sum of squared distances of points to their nearest center)\n",
    "    costs[k]=model.computeCost(dfFtrvec)\n",
    "    # Evaluate clustering by computing Silhouette score\n",
    "    evaluator = ClusteringEvaluator()\n",
    "    silhouettes[k] = evaluator.evaluate(predictions)"
   ]
  },
  {
   "cell_type": "code",
   "execution_count": 12,
   "metadata": {},
   "outputs": [
    {
     "data": {
      "image/png": "[encoded data removed]",
      "text/plain": [
       "<Figure size 576x432 with 1 Axes>"
      ]
     },
     "metadata": {},
     "output_type": "display_data"
    }
   ],
   "source": [
    "fig, ax = plt.subplots(1,1, figsize =(8,6))\n",
    "ax.plot(range(2,numK),silhouettes[2:numK],marker=\"o\")\n",
    "ax.set_xlabel('$k$')\n",
    "ax.set_ylabel('silhouette')\n",
    "plt.grid()\n",
    "plt.show()"
   ]
  },
  {
   "cell_type": "markdown",
   "metadata": {},
   "source": [
    "**注意此处使用silhouette指标选择模型，而不是cost（sum of squared distances）。**"
   ]
  },
  {
   "cell_type": "markdown",
   "metadata": {},
   "source": [
    "## RFM分析：\n",
    "\n",
    "**RFM模型是网点衡量当前用户价值和客户潜在价值的重要工具和手段。RFM是Rencency（最近一次消费），Frequency（消费频率）、Monetary（消费金额）。**\n",
    "\n",
    "**R值：最近一次消费（Recency），F值：消费频率（Frequency），M值：消费金额（Monetary）。**"
   ]
  },
  {
   "cell_type": "code",
   "execution_count": 46,
   "metadata": {},
   "outputs": [],
   "source": [
    "df_raw = spark.read.load(\"../Data/online_retail.csv\", format=\"csv\", inferSchema=\"true\", header=\"true\")"
   ]
  },
  {
   "cell_type": "code",
   "execution_count": 47,
   "metadata": {},
   "outputs": [
    {
     "name": "stdout",
     "output_type": "stream",
     "text": [
      "+---+---------+---------+--------------------+--------+-------------------+---------+----------+--------------+\n",
      "|_c0|InvoiceNo|StockCode|         Description|Quantity|        InvoiceDate|UnitPrice|CustomerID|       Country|\n",
      "+---+---------+---------+--------------------+--------+-------------------+---------+----------+--------------+\n",
      "|  0|   536365|   85123A|WHITE HANGING HEA...|       6|2010-12-01 08:26:00|     2.55|   17850.0|United Kingdom|\n",
      "|  1|   536365|    71053| WHITE METAL LANTERN|       6|2010-12-01 08:26:00|     3.39|   17850.0|United Kingdom|\n",
      "|  2|   536365|   84406B|CREAM CUPID HEART...|       8|2010-12-01 08:26:00|     2.75|   17850.0|United Kingdom|\n",
      "|  3|   536365|   84029G|KNITTED UNION FLA...|       6|2010-12-01 08:26:00|     3.39|   17850.0|United Kingdom|\n",
      "|  4|   536365|   84029E|RED WOOLLY HOTTIE...|       6|2010-12-01 08:26:00|     3.39|   17850.0|United Kingdom|\n",
      "|  5|   536365|    22752|SET 7 BABUSHKA NE...|       2|2010-12-01 08:26:00|     7.65|   17850.0|United Kingdom|\n",
      "|  6|   536365|    21730|GLASS STAR FROSTE...|       6|2010-12-01 08:26:00|     4.25|   17850.0|United Kingdom|\n",
      "|  7|   536366|    22633|HAND WARMER UNION...|       6|2010-12-01 08:28:00|     1.85|   17850.0|United Kingdom|\n",
      "|  8|   536366|    22632|HAND WARMER RED P...|       6|2010-12-01 08:28:00|     1.85|   17850.0|United Kingdom|\n",
      "|  9|   536367|    84879|ASSORTED COLOUR B...|      32|2010-12-01 08:34:00|     1.69|   13047.0|United Kingdom|\n",
      "+---+---------+---------+--------------------+--------+-------------------+---------+----------+--------------+\n",
      "only showing top 10 rows\n",
      "\n"
     ]
    }
   ],
   "source": [
    "df_raw.show(10)"
   ]
  },
  {
   "cell_type": "code",
   "execution_count": 48,
   "metadata": {},
   "outputs": [
    {
     "name": "stdout",
     "output_type": "stream",
     "text": [
      "root\n",
      " |-- _c0: integer (nullable = true)\n",
      " |-- InvoiceNo: string (nullable = true)\n",
      " |-- StockCode: string (nullable = true)\n",
      " |-- Description: string (nullable = true)\n",
      " |-- Quantity: integer (nullable = true)\n",
      " |-- InvoiceDate: timestamp (nullable = true)\n",
      " |-- UnitPrice: double (nullable = true)\n",
      " |-- CustomerID: double (nullable = true)\n",
      " |-- Country: string (nullable = true)\n",
      "\n"
     ]
    }
   ],
   "source": [
    "df_raw.printSchema()"
   ]
  },
  {
   "cell_type": "code",
   "execution_count": 49,
   "metadata": {
    "collapsed": true
   },
   "outputs": [],
   "source": [
    "df = df_raw.dropna(how='any') "
   ]
  },
  {
   "cell_type": "code",
   "execution_count": 50,
   "metadata": {
    "collapsed": true
   },
   "outputs": [],
   "source": [
    "from pyspark.sql.functions import to_utc_timestamp, unix_timestamp, lit, datediff, col\n",
    "\n",
    "timeFmt = \"MM/dd/yy HH:mm\"\n",
    "df = df.withColumn('NewInvoiceDate', \\\n",
    "                   to_utc_timestamp(unix_timestamp(col('InvoiceDate'), timeFmt).cast('timestamp') , 'UTC'))"
   ]
  },
  {
   "cell_type": "code",
   "execution_count": 51,
   "metadata": {
    "scrolled": false
   },
   "outputs": [
    {
     "name": "stdout",
     "output_type": "stream",
     "text": [
      "root\n",
      " |-- _c0: integer (nullable = true)\n",
      " |-- InvoiceNo: string (nullable = true)\n",
      " |-- StockCode: string (nullable = true)\n",
      " |-- Description: string (nullable = true)\n",
      " |-- Quantity: integer (nullable = true)\n",
      " |-- InvoiceDate: timestamp (nullable = true)\n",
      " |-- UnitPrice: double (nullable = true)\n",
      " |-- CustomerID: double (nullable = true)\n",
      " |-- Country: string (nullable = true)\n",
      " |-- NewInvoiceDate: timestamp (nullable = true)\n",
      "\n"
     ]
    }
   ],
   "source": [
    "df.printSchema()"
   ]
  },
  {
   "cell_type": "code",
   "execution_count": 52,
   "metadata": {
    "collapsed": true
   },
   "outputs": [],
   "source": [
    "from pyspark.sql.functions import round\n",
    "\n",
    "df = df.withColumn('TotalPrice', round(df['Quantity'] * df['UnitPrice'], 2))"
   ]
  },
  {
   "cell_type": "code",
   "execution_count": 53,
   "metadata": {},
   "outputs": [
    {
     "name": "stdout",
     "output_type": "stream",
     "text": [
      "root\n",
      " |-- _c0: integer (nullable = true)\n",
      " |-- InvoiceNo: string (nullable = true)\n",
      " |-- StockCode: string (nullable = true)\n",
      " |-- Description: string (nullable = true)\n",
      " |-- Quantity: integer (nullable = true)\n",
      " |-- InvoiceDate: timestamp (nullable = true)\n",
      " |-- UnitPrice: double (nullable = true)\n",
      " |-- CustomerID: double (nullable = true)\n",
      " |-- Country: string (nullable = true)\n",
      " |-- NewInvoiceDate: timestamp (nullable = true)\n",
      " |-- TotalPrice: double (nullable = true)\n",
      "\n"
     ]
    }
   ],
   "source": [
    "df.printSchema()"
   ]
  },
  {
   "cell_type": "code",
   "execution_count": 68,
   "metadata": {},
   "outputs": [],
   "source": [
    "from pyspark.sql.functions import mean, min, max, sum, datediff, to_date\n",
    "\n",
    "date_max = df.select(max('NewInvoiceDate')).collect()\n",
    "\n",
    "current = to_utc_timestamp(unix_timestamp(lit(str(date_max[0][0])),'yy-MM-dd HH:mm').cast('timestamp'), 'UTC' )\n",
    "\n",
    "# Calculatre Duration\n",
    "df = df.withColumn('Duration', datediff(lit(current), 'NewInvoiceDate'))"
   ]
  },
  {
   "cell_type": "code",
   "execution_count": 69,
   "metadata": {},
   "outputs": [
    {
     "name": "stdout",
     "output_type": "stream",
     "text": [
      "root\n",
      " |-- _c0: integer (nullable = true)\n",
      " |-- InvoiceNo: string (nullable = true)\n",
      " |-- StockCode: string (nullable = true)\n",
      " |-- Description: string (nullable = true)\n",
      " |-- Quantity: integer (nullable = true)\n",
      " |-- InvoiceDate: timestamp (nullable = true)\n",
      " |-- UnitPrice: double (nullable = true)\n",
      " |-- CustomerID: double (nullable = true)\n",
      " |-- Country: string (nullable = true)\n",
      " |-- NewInvoiceDate: timestamp (nullable = true)\n",
      " |-- TotalPrice: double (nullable = true)\n",
      " |-- Duration: integer (nullable = true)\n",
      "\n"
     ]
    }
   ],
   "source": [
    "df.printSchema()"
   ]
  },
  {
   "cell_type": "code",
   "execution_count": 70,
   "metadata": {
    "collapsed": true
   },
   "outputs": [],
   "source": [
    "recency = df.groupBy('CustomerID').agg(min('Duration').alias('Recency')) "
   ]
  },
  {
   "cell_type": "code",
   "execution_count": 72,
   "metadata": {},
   "outputs": [
    {
     "name": "stdout",
     "output_type": "stream",
     "text": [
      "+----------+-------+\n",
      "|CustomerID|Recency|\n",
      "+----------+-------+\n",
      "|   16916.0|     23|\n",
      "|   17884.0|      3|\n",
      "|   13094.0|     21|\n",
      "|   16596.0|     15|\n",
      "|   17633.0|     31|\n",
      "|   18114.0|    290|\n",
      "|   13973.0|    287|\n",
      "|   14473.0|     74|\n",
      "|   13956.0|      5|\n",
      "|   13533.0|    182|\n",
      "|   13918.0|     49|\n",
      "|   12493.0|    165|\n",
      "|   14285.0|     21|\n",
      "|   15776.0|    133|\n",
      "|   14768.0|     17|\n",
      "|   17267.0|    127|\n",
      "|   14024.0|    121|\n",
      "|   16629.0|     73|\n",
      "|   14452.0|     10|\n",
      "|   16561.0|      5|\n",
      "+----------+-------+\n",
      "only showing top 20 rows\n",
      "\n"
     ]
    }
   ],
   "source": [
    "recency.show()"
   ]
  },
  {
   "cell_type": "code",
   "execution_count": 74,
   "metadata": {},
   "outputs": [],
   "source": [
    "from pyspark.sql.functions import count\n",
    "\n",
    "frequency = df.groupBy('CustomerID', 'InvoiceNo').count().groupBy('CustomerID').agg(count(\"*\").alias(\"Frequency\"))"
   ]
  },
  {
   "cell_type": "code",
   "execution_count": 75,
   "metadata": {},
   "outputs": [
    {
     "name": "stdout",
     "output_type": "stream",
     "text": [
      "+----------+---------+\n",
      "|CustomerID|Frequency|\n",
      "+----------+---------+\n",
      "|   13094.0|       16|\n",
      "|   17884.0|        4|\n",
      "|   16561.0|        2|\n",
      "|   13973.0|        1|\n",
      "|   14285.0|        4|\n",
      "|   17633.0|        6|\n",
      "|   13956.0|        5|\n",
      "|   13533.0|        3|\n",
      "|   13918.0|        2|\n",
      "|   12493.0|        3|\n",
      "|   17267.0|        2|\n",
      "|   14768.0|        3|\n",
      "|   15776.0|        1|\n",
      "|   16629.0|        2|\n",
      "|   14473.0|        2|\n",
      "|   18114.0|        1|\n",
      "|   13607.0|        1|\n",
      "|   16596.0|        2|\n",
      "|   14024.0|        2|\n",
      "|   14452.0|        2|\n",
      "+----------+---------+\n",
      "only showing top 20 rows\n",
      "\n"
     ]
    }
   ],
   "source": [
    "frequency.show()"
   ]
  },
  {
   "cell_type": "code",
   "execution_count": 76,
   "metadata": {
    "collapsed": true
   },
   "outputs": [],
   "source": [
    "monetary = df.groupBy('CustomerID').agg(round(sum('TotalPrice'), 2).alias('Monetary'))"
   ]
  },
  {
   "cell_type": "code",
   "execution_count": 77,
   "metadata": {},
   "outputs": [
    {
     "name": "stdout",
     "output_type": "stream",
     "text": [
      "+----------+--------+\n",
      "|CustomerID|Monetary|\n",
      "+----------+--------+\n",
      "|   16916.0|  576.26|\n",
      "|   17884.0|  717.45|\n",
      "|   13094.0| 1708.86|\n",
      "|   16596.0|  250.15|\n",
      "|   17633.0| 1242.34|\n",
      "|   18114.0|   220.1|\n",
      "|   13973.0|   264.7|\n",
      "|   14473.0|  234.34|\n",
      "|   13956.0| 1026.42|\n",
      "|   13533.0|  270.79|\n",
      "|   13918.0| 1212.84|\n",
      "|   12493.0|  416.79|\n",
      "|   14285.0| 1910.01|\n",
      "|   15776.0|  241.62|\n",
      "|   14768.0|   139.5|\n",
      "|   17267.0|  317.62|\n",
      "|   14024.0|   327.7|\n",
      "|   16629.0|  417.73|\n",
      "|   14452.0|  264.44|\n",
      "|   16561.0|  511.12|\n",
      "+----------+--------+\n",
      "only showing top 20 rows\n",
      "\n"
     ]
    }
   ],
   "source": [
    "monetary.show()"
   ]
  },
  {
   "cell_type": "code",
   "execution_count": 78,
   "metadata": {
    "collapsed": true
   },
   "outputs": [],
   "source": [
    "rfm = recency.join(frequency,'CustomerID', how = 'inner').join(monetary,'CustomerID', how = 'inner')"
   ]
  },
  {
   "cell_type": "code",
   "execution_count": 79,
   "metadata": {},
   "outputs": [
    {
     "name": "stdout",
     "output_type": "stream",
     "text": [
      "+----------+-------+---------+--------+\n",
      "|CustomerID|Recency|Frequency|Monetary|\n",
      "+----------+-------+---------+--------+\n",
      "|   13094.0|     21|       16| 1708.86|\n",
      "|   17884.0|      3|        4|  717.45|\n",
      "|   16561.0|      5|        2|  511.12|\n",
      "|   13973.0|    287|        1|   264.7|\n",
      "|   14285.0|     21|        4| 1910.01|\n",
      "|   17633.0|     31|        6| 1242.34|\n",
      "|   13956.0|      5|        5| 1026.42|\n",
      "|   13533.0|    182|        3|  270.79|\n",
      "|   13918.0|     49|        2| 1212.84|\n",
      "|   12493.0|    165|        3|  416.79|\n",
      "|   17267.0|    127|        2|  317.62|\n",
      "|   14768.0|     17|        3|   139.5|\n",
      "|   15776.0|    133|        1|  241.62|\n",
      "|   16629.0|     73|        2|  417.73|\n",
      "|   14473.0|     74|        2|  234.34|\n",
      "|   18114.0|    290|        1|   220.1|\n",
      "|   13607.0|     40|        1|  678.01|\n",
      "|   16596.0|     15|        2|  250.15|\n",
      "|   14024.0|    121|        2|   327.7|\n",
      "|   14452.0|     10|        2|  264.44|\n",
      "+----------+-------+---------+--------+\n",
      "only showing top 20 rows\n",
      "\n"
     ]
    }
   ],
   "source": [
    "rfm.show()"
   ]
  },
  {
   "cell_type": "markdown",
   "metadata": {},
   "source": [
    "### Determine cutting points\n",
    "\n",
    "**利用RFM模型的三个属性对客户进行打分，通过打分确定每个用户的质量，最终筛选出自己的目标用户。**\n",
    "\n",
    "<img src=\"image_github/rfm.png\" width=\"500\" height=\"500\">\n",
    "\n",
    "**计算每个客户RFM三个指标的得分，计算每个客户的总得分，并且根据总得分筛选出优质的客户。**\n",
    "\n",
    "https://www.jianshu.com/p/4b60880f24e2"
   ]
  },
  {
   "cell_type": "code",
   "execution_count": 80,
   "metadata": {
    "collapsed": true
   },
   "outputs": [],
   "source": [
    "def RScore(x): \n",
    "    if x<=16: return 1 \n",
    "    elif x<= 50: return 2\n",
    "    elif x<= 143: return 3\n",
    "    else: return 4\n",
    "    \n",
    "def FScore(x): \n",
    "    if x<=1: return 4 \n",
    "    elif x <= 3: return 3 \n",
    "    elif x <= 5: return 2\n",
    "    else: return 1\n",
    "    \n",
    "def MScore(x):\n",
    "    if x<=293: return 4 \n",
    "    elif x <= 648: return 3 \n",
    "    elif x <= 1611: return 2 \n",
    "    else: return 1\n",
    "    \n",
    "from pyspark.sql.functions import udf\n",
    "from pyspark.sql.types import StringType, DoubleType\n",
    "\n",
    "R_udf = udf(lambda x: RScore(x), StringType()) \n",
    "F_udf = udf(lambda x: FScore(x), StringType()) \n",
    "M_udf = udf(lambda x: MScore(x), StringType())"
   ]
  },
  {
   "cell_type": "code",
   "execution_count": 81,
   "metadata": {},
   "outputs": [
    {
     "name": "stdout",
     "output_type": "stream",
     "text": [
      "+----------+-------+---------+--------+-----+-----+-----+\n",
      "|CustomerID|Recency|Frequency|Monetary|r_seg|f_seg|m_seg|\n",
      "+----------+-------+---------+--------+-----+-----+-----+\n",
      "|   13094.0|     21|       16| 1708.86|    2|    1|    1|\n",
      "|   17884.0|      3|        4|  717.45|    1|    2|    2|\n",
      "|   16561.0|      5|        2|  511.12|    1|    3|    3|\n",
      "|   13973.0|    287|        1|   264.7|    4|    4|    4|\n",
      "|   14285.0|     21|        4| 1910.01|    2|    2|    1|\n",
      "+----------+-------+---------+--------+-----+-----+-----+\n",
      "only showing top 5 rows\n",
      "\n"
     ]
    }
   ],
   "source": [
    "rfm_seg = rfm.withColumn(\"r_seg\", R_udf(\"Recency\")) \n",
    "rfm_seg = rfm_seg.withColumn(\"f_seg\", F_udf(\"Frequency\")) \n",
    "rfm_seg = rfm_seg.withColumn(\"m_seg\", M_udf(\"Monetary\")) \n",
    "rfm_seg.show(5)"
   ]
  },
  {
   "cell_type": "code",
   "execution_count": 83,
   "metadata": {},
   "outputs": [
    {
     "name": "stdout",
     "output_type": "stream",
     "text": [
      "+----------+-------+---------+--------+-----+-----+-----+--------+\n",
      "|CustomerID|Recency|Frequency|Monetary|r_seg|f_seg|m_seg|RFMScore|\n",
      "+----------+-------+---------+--------+-----+-----+-----+--------+\n",
      "|   13458.0|      7|       22| 9537.92|    1|    1|    1|     111|\n",
      "|   16353.0|      3|       23| 6675.71|    1|    1|    1|     111|\n",
      "|   15750.0|      2|        9| 2451.23|    1|    1|    1|     111|\n",
      "|   17659.0|      3|       14| 2954.75|    1|    1|    1|     111|\n",
      "|   15311.0|      0|      118|59419.34|    1|    1|    1|     111|\n",
      "+----------+-------+---------+--------+-----+-----+-----+--------+\n",
      "only showing top 5 rows\n",
      "\n"
     ]
    }
   ],
   "source": [
    "from pyspark.sql import functions as F\n",
    "    \n",
    "rfm_seg = rfm_seg.withColumn('RFMScore', F.concat(F.col('r_seg'), F.col('f_seg'), F.col('m_seg'))) \n",
    "\n",
    "rfm_seg.sort(F.col('RFMScore')).show(5)"
   ]
  },
  {
   "cell_type": "code",
   "execution_count": 85,
   "metadata": {},
   "outputs": [],
   "source": [
    "from pyspark.sql import Row\n",
    "from pyspark.ml.linalg import Vectors\n",
    "\n",
    "# Method 2 (good for large features):\n",
    "def transData(data):\n",
    "    return data.rdd.map(lambda r: [r[0],Vectors.dense(r[1:])]).toDF(['CustomerID','rfm'])"
   ]
  },
  {
   "cell_type": "code",
   "execution_count": 86,
   "metadata": {},
   "outputs": [
    {
     "name": "stdout",
     "output_type": "stream",
     "text": [
      "+----------+-------------------+\n",
      "|CustomerID|                rfm|\n",
      "+----------+-------------------+\n",
      "|   13094.0|[21.0,16.0,1708.86]|\n",
      "|   17884.0|   [3.0,4.0,717.45]|\n",
      "|   16561.0|   [5.0,2.0,511.12]|\n",
      "|   13973.0|  [287.0,1.0,264.7]|\n",
      "|   14285.0| [21.0,4.0,1910.01]|\n",
      "+----------+-------------------+\n",
      "only showing top 5 rows\n",
      "\n"
     ]
    }
   ],
   "source": [
    "transformed = transData(rfm) \n",
    "transformed.show(5)"
   ]
  },
  {
   "cell_type": "markdown",
   "metadata": {},
   "source": [
    "### 数据归一化处理："
   ]
  },
  {
   "cell_type": "code",
   "execution_count": 91,
   "metadata": {},
   "outputs": [
    {
     "name": "stdout",
     "output_type": "stream",
     "text": [
      "+----------+-------------------+----------------------------------------------------------------+\n",
      "|CustomerID|rfm                |features                                                        |\n",
      "+----------+-------------------+----------------------------------------------------------------+\n",
      "|13094.0   |[21.0,16.0,1708.86]|[0.05630026809651475,0.06072874493927125,0.0211310197650159]    |\n",
      "|17884.0   |[3.0,4.0,717.45]   |[0.00804289544235925,0.012145748987854251,0.017637391941866955] |\n",
      "|16561.0   |[5.0,2.0,511.12]   |[0.013404825737265416,0.004048582995951417,0.016910306045264823]|\n",
      "|13973.0   |[287.0,1.0,264.7]  |[0.7694369973190348,0.0,0.016041947073517148]                   |\n",
      "|14285.0   |[21.0,4.0,1910.01] |[0.05630026809651475,0.012145748987854251,0.021839851869419134] |\n",
      "+----------+-------------------+----------------------------------------------------------------+\n",
      "only showing top 5 rows\n",
      "\n"
     ]
    }
   ],
   "source": [
    "from pyspark.ml.feature import MinMaxScaler \n",
    "\n",
    "scaler = MinMaxScaler(inputCol=\"rfm\",outputCol=\"features\")\n",
    "scalerModel = scaler.fit(transformed) \n",
    "scaledData = scalerModel.transform(transformed) \n",
    "scaledData.show(5,False)"
   ]
  },
  {
   "cell_type": "code",
   "execution_count": 92,
   "metadata": {
    "collapsed": true
   },
   "outputs": [],
   "source": [
    "from pyspark.ml import Pipeline\n",
    "from pyspark.ml.feature import StringIndexer, OneHotEncoder, VectorAssembler \n",
    "from pyspark.sql.functions import col, percent_rank, lit\n",
    "from pyspark.sql.window import Window\n",
    "from pyspark.sql import DataFrame, Row\n",
    "from pyspark.sql.types import StructType\n",
    "from functools import reduce # For Python 3.x\n",
    "from pyspark.ml.clustering import KMeans"
   ]
  },
  {
   "cell_type": "code",
   "execution_count": 94,
   "metadata": {},
   "outputs": [],
   "source": [
    "import numpy as np \n",
    "cost = np.zeros(20) \n",
    "for k in range(2,20):\n",
    "    kmeans = KMeans().setK(k).setSeed(1).setFeaturesCol(\"features\").setPredictionCol(\"cluster\")\n",
    "    model = kmeans.fit(scaledData)\n",
    "    cost[k] = model.computeCost(scaledData) # requires Spark 2.0 or later"
   ]
  },
  {
   "cell_type": "code",
   "execution_count": 98,
   "metadata": {},
   "outputs": [
    {
     "data": {
      "image/png": "[encoded data removed]",
      "text/plain": [
       "<Figure size 576x432 with 1 Axes>"
      ]
     },
     "metadata": {},
     "output_type": "display_data"
    }
   ],
   "source": [
    "import numpy as np\n",
    "import matplotlib.mlab as mlab\n",
    "import matplotlib.pyplot as plt\n",
    "from matplotlib.ticker import MaxNLocator\n",
    "fig, ax = plt.subplots(1,1, figsize =(8,6)) \n",
    "ax.plot(range(2,20),cost[2:20], marker = \"o\") \n",
    "ax.set_xlabel('k')\n",
    "ax.set_ylabel('cost') \n",
    "plt.show()"
   ]
  },
  {
   "cell_type": "code",
   "execution_count": 99,
   "metadata": {},
   "outputs": [
    {
     "name": "stdout",
     "output_type": "stream",
     "text": [
      "+----------+-------------------+----------------------------------------------------------------+----------+\n",
      "|CustomerID|rfm                |features                                                        |prediction|\n",
      "+----------+-------------------+----------------------------------------------------------------+----------+\n",
      "|13094.0   |[21.0,16.0,1708.86]|[0.05630026809651475,0.06072874493927125,0.0211310197650159]    |0         |\n",
      "|17884.0   |[3.0,4.0,717.45]   |[0.00804289544235925,0.012145748987854251,0.017637391941866955] |0         |\n",
      "|16561.0   |[5.0,2.0,511.12]   |[0.013404825737265416,0.004048582995951417,0.016910306045264823]|0         |\n",
      "|13973.0   |[287.0,1.0,264.7]  |[0.7694369973190348,0.0,0.016041947073517148]                   |1         |\n",
      "|14285.0   |[21.0,4.0,1910.01] |[0.05630026809651475,0.012145748987854251,0.021839851869419134] |0         |\n",
      "+----------+-------------------+----------------------------------------------------------------+----------+\n",
      "only showing top 5 rows\n",
      "\n"
     ]
    }
   ],
   "source": [
    "k=3\n",
    "kmeans = KMeans().setK(k).setSeed(1) \n",
    "model = kmeans.fit(scaledData)\n",
    "# Make predictions\n",
    "predictions = model.transform(scaledData) \n",
    "predictions.show(5,False)"
   ]
  },
  {
   "cell_type": "code",
   "execution_count": null,
   "metadata": {
    "collapsed": true
   },
   "outputs": [],
   "source": []
  }
 ],
 "metadata": {
  "anaconda-cloud": {},
  "kernelspec": {
   "display_name": "Python [conda env:jupyter-spark]",
   "language": "python",
   "name": "conda-env-jupyter-spark-py"
  },
  "language_info": {
   "codemirror_mode": {
    "name": "ipython",
    "version": 3
   },
   "file_extension": ".py",
   "mimetype": "text/x-python",
   "name": "python",
   "nbconvert_exporter": "python",
   "pygments_lexer": "ipython3",
   "version": "3.6.5"
  }
 },
 "nbformat": 4,
 "nbformat_minor": 2
}
