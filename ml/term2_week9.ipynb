{
 "cells": [
  {
   "cell_type": "markdown",
   "metadata": {},
   "source": [
    "## 指数族分布与广义线性模型："
   ]
  },
  {
   "cell_type": "markdown",
   "metadata": {},
   "source": [
    "### 1. 指数族分布：\n",
    "\n",
    "若某概率分布满足下式，称之为指数族分布：\n",
    "\n",
    "$$\n",
    "\\text{P}(x|\\theta) = \\frac{1}{\\text{Z}(\\theta)} \\text{h}(x) \\text{exp}(\\theta^T \\Phi (x))\n",
    "$$\n",
    "其中，\n",
    "$$\n",
    "z(\\theta) = \\int \\text{h}(x) \\text{exp}(\\theta^T \\Phi (x)) \\text{d}x\n",
    "$$\n",
    "\n",
    "统计中许多常见的概率分布都是指数族分布的特定形式，如：伯努利分布，高斯分布，possion 分布，Gamma 分布。\n",
    "\n",
    "1. 伯努利分布：\n",
    "\n",
    "$$\n",
    "\\text{P}(x|\\mu) = \\mu ^ x (1 - \\mu)^{1-x}\n",
    "$$\n",
    "\n",
    "$$\n",
    "\\text{P}(x|\\mu) = \\exp \\left(x \\log \\mu + (1-x) \\log (1-\\mu) \\right)\n",
    "$$\n",
    "\n",
    "$$\n",
    "\\text{P}(x|\\mu) = (1-\\mu)\\exp \\left( \\log \\left(\\frac{\\mu}{1-\\mu} \\right) x \\right)\n",
    "$$\n",
    "\n",
    "$$\n",
    "\\text{P}(x|\\mu) = \\sigma (- \\theta) \\exp \\left(\\theta x \\right)\n",
    "$$\n",
    "其中，\n",
    "$$\n",
    "\\theta = \\log \\left(\\frac{\\mu}{1-\\mu} \\right), z(\\theta) = \\frac{1}{\\sigma (- \\theta)}, \\mu = \\frac{1}{1+\\exp(- \\theta)}\n",
    "$$\n",
    "\n",
    "2. 高斯分布：\n",
    "\n",
    "<img src=\"image_github/gaussian.png\" width=\"500\" height=\"500\">\n",
    "\n",
    "3. 泊松分布：\n",
    "$$\n",
    "\\text{Poi}(x|\\lambda) = \\exp(-\\lambda) \\frac{\\lambda ^ x}{x!}\n",
    "$$\n",
    "$$\n",
    "\\text{Poi}(x|\\lambda) = \\frac{h(x)}{z(\\theta)} \\exp( \\theta x)\n",
    "$$\n",
    "其中，\n",
    "$$\n",
    "\\theta = log \\lambda, h(x) = \\frac{1}{x!}, \\text{Z}(\\theta) = \\exp(\\lambda)\n",
    "$$\n",
    "\n",
    "<img src=\"image_github/possion.png\" width=\"500\" height=\"500\">"
   ]
  },
  {
   "cell_type": "code",
   "execution_count": null,
   "metadata": {},
   "outputs": [],
   "source": []
  },
  {
   "cell_type": "markdown",
   "metadata": {},
   "source": [
    "### 2. 广义线性模型："
   ]
  },
  {
   "cell_type": "code",
   "execution_count": null,
   "metadata": {},
   "outputs": [],
   "source": []
  }
 ],
 "metadata": {
  "kernelspec": {
   "display_name": "Python 3",
   "language": "python",
   "name": "python3"
  },
  "language_info": {
   "codemirror_mode": {
    "name": "ipython",
    "version": 3
   },
   "file_extension": ".py",
   "mimetype": "text/x-python",
   "name": "python",
   "nbconvert_exporter": "python",
   "pygments_lexer": "ipython3",
   "version": "3.7.3"
  }
 },
 "nbformat": 4,
 "nbformat_minor": 2
}
