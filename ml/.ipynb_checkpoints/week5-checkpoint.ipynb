{
 "cells": [
  {
   "cell_type": "markdown",
   "metadata": {},
   "source": [
    "## Week5:\n",
    "\n",
    "1. 方差与偏差\n",
    "\n",
    "2. hold-out validation (python, sklearn)\n",
    "\n",
    "3. cross validation (python, sklearn)\n",
    "\n",
    "    3.1 k-fold\n",
    "\n",
    "    3.2 nested CV\n",
    "\n",
    "    3.3 leave one out CV"
   ]
  },
  {
   "cell_type": "markdown",
   "metadata": {},
   "source": [
    "## 1. 偏差(Bias)与方差(Variance):\n",
    "\n",
    "假设有一样本空间，在固定模型（例如：多项式）与超参数的前提下，每次从样本空间中选择固定大小的数据集，其余的为测试集。训练此模型后，在测试集上进行测试，重复上述步骤多次，其**测试误差**为：\n",
    "\n",
    "$$\\mathbb{E}\\left[ (y - f(\\mathbf{x}))^2 \\right] = \\text{bias}\\left[f(\\mathbf{x})\\right]^2 + \\text{variance}\\left[f(\\mathbf{x})\\right] +\\sigma^2.$$\n",
    "\n",
    "* 偏差(bias)：$\\text{bias}\\left[f(\\mathbf{x})\\right] = \\mathbb{E}\\left[f(\\mathbf{x}) - f^*(\\mathbf{x})\\right] = \\mathbb{E}\\left[f(\\mathbf{x})\\right] - f^*(\\mathbf{x}) .$ **$f^*(\\mathbf{x})$ 为常数，所以可以提出到括号外。**\n",
    "\n",
    "* 方差(variance)：  $\\text{variance}\\left[f(\\mathbf{x})\\right] = \\mathbb{E}\\left[\\left(f(\\mathbf{x}) -  \\mathbb{E}\\left[f(\\mathbf{x})\\right]\\right)^2\\right] .$ \n",
    "\n",
    "* 噪声($\\epsilon$)：$\\epsilon \\sim \\mathcal{N}(0,\\sigma^2) .$\n",
    "\n",
    "\n",
    "其中，y 为标记值，$f(\\mathbf{x})$ 为预测值，$f^*(\\mathbf{x})$ 为真实值。\n",
    "\n",
    "上述等式推导：\n",
    "\n",
    "$\\mathbb{E}\\left[ (y - f(\\mathbf{x}))^2 \\right] = \\mathbb{E} \\left[y^2 + f^2(\\mathbf{x}) - 2yf(\\mathbf{x})\\right] = \\mathbb{E}[y^2] + \\mathbb{E}[f^2(\\mathbf{x})] - \\mathbb{E}[2yf(\\mathbf{x})] $\n",
    "\n",
    "由于，$ \\text{variance} \\left[y\\right] = \\mathbb{E}\\left[y^2\\right] - \\mathbb{E}^2\\left[y\\right] ，\\mathbb{E}[2yf(\\mathbf{x})] = \\mathbb{E}[2(f^*(x)+\\epsilon)f(\\mathbf{x})]$\n",
    "\n",
    "$\\mathbb{E}[y^2] + \\mathbb{E}[f^2(\\mathbf{x})] - \\mathbb{E}[2yf(\\mathbf{x})] = \\text{variance}[y] + \\mathbb{E}^2[y] + \\text{variance}[f(\\mathbf{x})] + \\mathbb{E}^2[f(\\mathbf{x})] - 2f^*(x)\\mathbb{E}[f(\\mathbf{x})] - 2\\mathbb{E}[\\epsilon] \\mathbb{E}[ f(\\mathbf{x})]$\n",
    "\n",
    "= $\n",
    "\\text{variance}[y] + \\text{variance}[f(\\mathbf{x})] + (f^*(\\mathbf{x})^2 + \\mathbb{E}^2[f(\\mathbf{x})] - 2^*f(x)\\mathbb{E}[f(\\mathbf{x})])\n",
    "$\n",
    "\n",
    "= $\n",
    "\\text{variance}[y] + \\text{variance}[f(\\mathbf{x})] + (\\mathbb{E}[f(x)] - f^*(x))^2\n",
    "$\n",
    "\n",
    "= $\n",
    "\\epsilon^2 + \\text{variance} + \\text{bias}^2\n",
    "$\n",
    "\n",
    "由上述推导可得：\n",
    "\n",
    "* bias（偏差）：模型的预测值与真实值的偏离程度。\n",
    "* variance（方差）：训练集的变动导致预测值的变化。\n",
    "* $\\epsilon$（误差）：标记值与真实值的差异。\n",
    "\n",
    "**所以，偏差越大代表模型越不准确（欠拟合），方差越大代表训练集对于训练集的影响越大（过拟合）。**"
   ]
  },
  {
   "cell_type": "markdown",
   "metadata": {},
   "source": [
    "<img src=\"ml_github/bias_variance.png\" width=\"500\" height=\"500\" align=center>"
   ]
  },
  {
   "cell_type": "markdown",
   "metadata": {},
   "source": [
    "**选择相对较好的模型的顺序：方差小，偏差小 > 方差小，偏差大 > 方差大，偏差小 > 方差大，偏差大。**\n",
    "\n",
    "https://www.jianshu.com/p/8c7f033be58a"
   ]
  },
  {
   "cell_type": "code",
   "execution_count": 22,
   "metadata": {},
   "outputs": [
    {
     "data": {
      "image/png": "[encoded data removed]",
      "text/plain": [
       "<Figure size 432x288 with 1 Axes>"
      ]
     },
     "metadata": {
      "needs_background": "light"
     },
     "output_type": "display_data"
    }
   ],
   "source": [
    "import numpy as np\n",
    "import pods\n",
    "%matplotlib inline\n",
    "import pylab as plt\n",
    "\n",
    "data = pods.datasets.olympic_marathon_men()\n",
    "x = data['X']\n",
    "y = data['Y']\n",
    "plt.plot(x, y, 'rx')\n",
    "\n",
    "# return design matrix base on polynomial basis function.\n",
    "def polynomial(x, degree, offset, scale):\n",
    "    degrees = np.arange(degree+1)\n",
    "    return ((x-offset)/scale)**degrees\n",
    "\n",
    "# fit training data return w.\n",
    "def fit(x, y, basis, **kwargs):\n",
    "    Phi = basis(x, **kwargs)\n",
    "    return np.linalg.solve(np.dot(Phi.T, Phi), np.dot(Phi.T, y))\n",
    "\n",
    "# return square loss.\n",
    "def objective(w, x, y, basis, **kwargs):\n",
    "    Phi = basis(x, **kwargs)\n",
    "    f = np.dot(Phi, w)\n",
    "    return np.sum((y-f)**2)\n",
    "\n",
    "def fit_and_valid(x_train, y_train, x_valid, y_valid, basis, **kwargs):\n",
    "    w = fit(x_train, y_train, basis, **kwargs)\n",
    "    return objective(w, x_valid, y_valid, basis, **kwargs), objective(w, x_train, y_train, basis, **kwargs)\n"
   ]
  },
  {
   "cell_type": "markdown",
   "metadata": {},
   "source": [
    "## 2. hold-out validation:"
   ]
  },
  {
   "cell_type": "markdown",
   "metadata": {},
   "source": [
    "<img src=\"ml_github/train_val_test.png\" width=\"500\" height=\"500\" align=center>"
   ]
  },
  {
   "cell_type": "markdown",
   "metadata": {},
   "source": [
    "### (1) python hold-out validation:"
   ]
  },
  {
   "cell_type": "code",
   "execution_count": 11,
   "metadata": {},
   "outputs": [],
   "source": [
    "\"\"\"\n",
    "np.delete(), np.take()\n",
    "\"\"\"\n",
    "# select indices of data to 'hold out'\n",
    "indices_hold_out = np.flatnonzero(x>1980)\n",
    "\n",
    "# Create a training set.\n",
    "x_train = np.delete(x, indices_hold_out, axis=0)\n",
    "y_train = np.delete(y, indices_hold_out, axis=0)\n",
    "\n",
    "# Create a validation set.\n",
    "x_valid = np.take(x, indices_hold_out, axis=0)\n",
    "y_valid = np.take(y, indices_hold_out, axis=0)"
   ]
  },
  {
   "cell_type": "code",
   "execution_count": 12,
   "metadata": {},
   "outputs": [],
   "source": [
    "offset = 1956.\n",
    "scale = 120.\n",
    "max_degree = 17\n",
    "degrees = np.arange(max_degree+1)\n",
    "train_err = np.zeros(max_degree+1)\n",
    "valid_err = np.zeros(max_degree+1)\n",
    "\n",
    "for i, degree in enumerate(degrees):\n",
    "    valid_err[i], train_err[i] = fit_and_valid(x_train, y_train, x_valid, y_valid, basis=polynomial, degree=degree, offset=offset, scale=scale)"
   ]
  },
  {
   "cell_type": "code",
   "execution_count": 13,
   "metadata": {},
   "outputs": [
    {
     "data": {
      "image/png": "[encoded data removed]",
      "text/plain": [
       "<Figure size 1008x288 with 2 Axes>"
      ]
     },
     "metadata": {
      "needs_background": "light"
     },
     "output_type": "display_data"
    }
   ],
   "source": [
    "import matplotlib.pyplot as plt\n",
    "degrees = range(18)\n",
    "\n",
    "fig, ax = plt.subplots(nrows = 1,ncols = 2, figsize = (14, 4))\n",
    "    \n",
    "ax[0].plot(degrees,train_err,'bx-')\n",
    "ax[0].set_title(\"Training error for Hold out validation\")\n",
    "ax[0].set_xlabel(\"Degree\")\n",
    "ax[0].set_ylabel(\"Error\")\n",
    "                       \n",
    "ax[1].semilogy(degrees,valid_err,'rx-')\n",
    "ax[1].set_title(\"Validation error for hold out validation \")\n",
    "ax[1].set_xlabel(\"Degree\")\n",
    "ax[1].set_ylabel(\"Error (log)\")\n",
    "plt.show()"
   ]
  },
  {
   "cell_type": "markdown",
   "metadata": {},
   "source": [
    "**随着模型的复杂，训练集loss逐渐降低，验证集loss逐渐增加。**"
   ]
  },
  {
   "cell_type": "markdown",
   "metadata": {},
   "source": [
    "### (2) sklearn hold-out validation:"
   ]
  },
  {
   "cell_type": "code",
   "execution_count": 47,
   "metadata": {
    "scrolled": false
   },
   "outputs": [
    {
     "name": "stdout",
     "output_type": "stream",
     "text": [
      "0.9644192647362425\n",
      "0.7103320399770625\n"
     ]
    }
   ],
   "source": [
    "import numpy as np\n",
    "from sklearn.model_selection import train_test_split\n",
    "from sklearn import datasets\n",
    "from sklearn.linear_model import LinearRegression\n",
    "from sklearn.preprocessing import PolynomialFeatures\n",
    "\n",
    "# X, y = datasets.load_iris(return_X_y=True) # 鸢尾花数据集，包含四个特征：花萼长度，花萼宽度，花瓣长度，花瓣宽度。三类：山鸢尾，杂色鸢尾，维吉尼亚鸢尾。\n",
    " \n",
    "# firstly, create new features dataset based on basis function.\n",
    "poly = PolynomialFeatures(7, interaction_only = False, include_bias = True) # interaction_only = False (no interaction features), include_bias = True (power zero)\n",
    "res = poly.fit_transform(x)\n",
    "# print(poly.n_input_features_)\n",
    "# print(poly.n_output_features_)\n",
    "dataset, label = res, y\n",
    "\n",
    "# secondly, hold-out.\n",
    "X_train, X_test, y_train, y_test = train_test_split(dataset, label, test_size = 0.3, random_state = 0) \n",
    "\n",
    "# thirdly, fit dataset by linear regression.\n",
    "lin_reg = LinearRegression().fit(X_train, y_train)\n",
    "\n",
    "# fourthly, validate generalisation its performance.\n",
    "mark_train = lin_reg.score(X_train, y_train)\n",
    "mark_test = lin_reg.score(X_test, y_test)\n",
    "print(mark_train)\n",
    "print(mark_test)"
   ]
  },
  {
   "cell_type": "markdown",
   "metadata": {},
   "source": [
    "### 总结："
   ]
  },
  {
   "cell_type": "markdown",
   "metadata": {},
   "source": [
    "hold-out validation 将样本空间划分成训练集，验证集，测试集。其中，**验证集用来选择hyper-parameter或model**，例如：多项式基函数的degree。将选择的模型用于测试集判断其泛化性能。\n",
    "\n",
    "**1. 对数据浪费比较严重。因此，适用于较大的样本空间，对于样本空间较小的数据集可以采用交叉验证。**\n",
    "\n",
    "**2. 对数据划分具有偶然性，数据集不能代表总体。例如，训练集均为容易学习的数据，测试集均为复杂的数据。**\n",
    "\n",
    "**3. 无法对多个模型进行选择。**"
   ]
  },
  {
   "cell_type": "markdown",
   "metadata": {},
   "source": [
    "## 3. 交叉验证："
   ]
  },
  {
   "cell_type": "markdown",
   "metadata": {},
   "source": [
    "### 3.1 k-fold cross-validation:\n",
    "\n",
    "将训练数据划分成k份，其中k-1份为训练集。每一次训练后，计算验证集上的误差，训练k次后，得到k个loss，取平均值作为此模型的误差。选择不同模型，例如：degree，重复上述步骤，最后，选择验证集误差最小的模型作为最终模型，然后再测试集上测试。**注意：S1-S5是对同一模型进行训练。**"
   ]
  },
  {
   "cell_type": "markdown",
   "metadata": {},
   "source": [
    "<img src=\"ml_github/grid_search_cross_validation.png\" width=\"500\" height=\"300\" align=center>\n",
    "\n",
    "\n",
    "Source: https://scikit-learn.org/stable/modules/cross_validation.html"
   ]
  },
  {
   "cell_type": "markdown",
   "metadata": {},
   "source": [
    "### (1) python k-fold CV:"
   ]
  },
  {
   "cell_type": "code",
   "execution_count": 111,
   "metadata": {},
   "outputs": [],
   "source": [
    "parts = 5\n",
    "max_degree = 17\n",
    "# randomize the order of the indices to leave out\n",
    "indices = np.random.permutation(x.shape[0])\n",
    "# define partition boundaries on the random order\n",
    "boundary = np.around(np.linspace(0, x.shape[0], parts+1))\n",
    "\n",
    "valid_err = np.zeros(max_degree+1)\n",
    "train_err = np.zeros(max_degree+1)\n",
    "degrees = np.arange(max_degree+1)\n",
    "\n",
    "def leave_out(x, y, indices):\n",
    "    # Create a training set\n",
    "    x_train = np.delete(x, indices, axis=0)\n",
    "    y_train = np.delete(y, indices, axis=0)\n",
    "\n",
    "    # Create a hold out set\n",
    "    x_valid = np.take(x, indices, axis=0)\n",
    "    y_valid = np.take(y, indices, axis=0)\n",
    "    \n",
    "    return x_train, y_train, x_valid, y_valid\n",
    "\n",
    "for i, degree in enumerate(degrees):\n",
    "    for part in range(parts):\n",
    "        # leave out the following part\n",
    "        part_indices = indices[int(boundary[part]):int(boundary[part+1])]\n",
    "        x_train, y_train, x_valid, y_valid = leave_out(x, y, part_indices)\n",
    "        # compute validation error\n",
    "        valid_err[i] += fit_and_valid(x_train, y_train, x_valid, y_valid, polynomial, degree=degree, offset=offset, scale=scale)[0]\n",
    "        train_err[i] += fit_and_valid(x_train, y_train, x_valid, y_valid, polynomial, degree=degree, offset=offset, scale=scale)[1]\n",
    "    valid_err[i] /= parts \n",
    "    train_err[i] /= parts"
   ]
  },
  {
   "cell_type": "code",
   "execution_count": 26,
   "metadata": {},
   "outputs": [
    {
     "data": {
      "image/png": "[encoded data removed]",
      "text/plain": [
       "<Figure size 1008x288 with 2 Axes>"
      ]
     },
     "metadata": {
      "needs_background": "light"
     },
     "output_type": "display_data"
    }
   ],
   "source": [
    "import matplotlib.pyplot as plt\n",
    "degrees = range(18)\n",
    "\n",
    "fig, ax = plt.subplots(nrows = 1,ncols = 2, figsize = (14, 4))\n",
    "    \n",
    "ax[0].plot(degrees,train_err,'bx-')\n",
    "ax[0].set_title(\"Training error for Hold out validation\")\n",
    "ax[0].set_xlabel(\"Degree\")\n",
    "ax[0].set_ylabel(\"Error\")\n",
    "                       \n",
    "ax[1].semilogy(degrees,valid_err,'rx-')\n",
    "ax[1].set_title(\"Validation error for hold out validation \")\n",
    "ax[1].set_xlabel(\"Degree\")\n",
    "ax[1].set_ylabel(\"Error (log)\")\n",
    "plt.show()"
   ]
  },
  {
   "cell_type": "markdown",
   "metadata": {},
   "source": [
    "### (2) sklearn k-fold CV:"
   ]
  },
  {
   "cell_type": "code",
   "execution_count": 71,
   "metadata": {},
   "outputs": [
    {
     "name": "stdout",
     "output_type": "stream",
     "text": [
      "mean train score :  [0.85825611]\n",
      "mean test score :  [0.40041569]\n"
     ]
    }
   ],
   "source": [
    "from sklearn.model_selection import KFold\n",
    "\n",
    "k = 5\n",
    "kf = KFold(n_splits=k)\n",
    "train_score = 0\n",
    "test_score = 0\n",
    "\n",
    "for train_index, test_index in kf.split(dataset):\n",
    "    X_train, y_train = dataset[train_index], label[train_index]\n",
    "    X_test, y_test = dataset[test_index], label[test_index]\n",
    "    lin_reg = LinearRegression().fit(X_train, y_train)\n",
    "    y_pred_train, y_pred_test = lin_reg.predict(X_train), lin_reg.predict(X_test)\n",
    "    train_score += sum((y_pred_train - y_train)**2)\n",
    "    test_score += sum((y_pred_test - y_test)**2)\n",
    "    \n",
    "print(\"mean train score : \", train_score/k)\n",
    "print(\"mean test score : \", test_score/k)\n",
    "\n",
    "# lin_reg.score() return what ?"
   ]
  },
  {
   "cell_type": "markdown",
   "metadata": {},
   "source": [
    "### 总结：\n",
    "\n",
    "1. 可以进行模型的选择。\n",
    "\n",
    "2. 可以节省训练集。\n",
    "\n",
    "3. 训练时间增加。\n",
    "\n",
    "4. "
   ]
  },
  {
   "cell_type": "markdown",
   "metadata": {},
   "source": [
    "### 3.2 Nested cross-validation:  评估模型稳定性\n",
    "\n",
    "outer-loop:\n",
    "1. k-fold cross validation\n",
    "\n",
    "inner-loop: **choose hyperparameter or algorithm** eg. choose degree of polynomial of basis function. degree: 2or3\n",
    "\n",
    "degree is 2:\n",
    "    1. valid_error\n",
    "    2. valid_error\n",
    "    3. valid_error\n",
    "    4. valid_error\n",
    "\n",
    "avg_error of degree2.\n",
    "\n",
    "degree is 3:\n",
    "    1. valid_error\n",
    "    2. valid_error\n",
    "    3. valid_error\n",
    "    4. valid_error\n",
    "    \n",
    "avg_error of degree3.\n",
    "\n",
    "**choose a degree and calculate its generalisation performace in texting set.**\n",
    "\n",
    "2. k-fold cross validation\n",
    "3. k-fold cross validation\n",
    "4. k-fold cross validation\n",
    "\n",
    "**finally, have 4 different or the same degree (2, 3) and generalisation performance in texting set.**\n",
    "\n",
    "**如果，4次outer loop选择的hyper parameter 参数相同，则模型相对稳定，使用全部数据对其进行训练优化模型参数。**\n",
    "\n",
    "https://stats.stackexchange.com/questions/65128/nested-cross-validation-for-model-selection"
   ]
  },
  {
   "cell_type": "markdown",
   "metadata": {},
   "source": [
    "<img src=\"ml_github/nested_cross_val.png\" width=\"500\" height=\"200\" align=center>"
   ]
  },
  {
   "cell_type": "markdown",
   "metadata": {},
   "source": [
    "### (1) python nested CV:"
   ]
  },
  {
   "cell_type": "code",
   "execution_count": 123,
   "metadata": {},
   "outputs": [],
   "source": [
    "max_degree = 17\n",
    "parts = 3\n",
    "indices = np.random.permutation(x.shape[0])\n",
    "valid_err = np.zeros(max_degree+1)\n",
    "train_err = np.zeros(max_degree+1)\n",
    "degrees = np.arange(max_degree+1)\n",
    "boundary = np.around(np.linspace(0, x.shape[0], parts+1))\n",
    "\n",
    "for i, degree in enumerate(degrees):\n",
    "    for j in range(parts):\n",
    "        # devide train and test.\n",
    "        part_indices = indices[int(boundary[j]):int(boundary[j+1])]\n",
    "        x_train_part, y_train_part, _, _ = leave_out(x, y, part_indices)\n",
    "        indices_new = np.random.permutation(x_train.shape[0])\n",
    "        boundary_new = np.around(np.linspace(0, x_train.shape[0], parts+1))\n",
    "        for k in range(parts):\n",
    "            # devide train and valid\n",
    "            part_indices_new = indices_new[int(boundary_new[k]):int(boundary_new[k+1])]\n",
    "            x_train, y_train, x_valid, y_valid = leave_out(x_train_part, y_train_part, part_indices_new)\n",
    "            valid_err[i] += fit_and_valid(x_train, y_train, x_valid, y_valid, polynomial, degree=degree, offset=offset, scale=scale)[0]\n",
    "            train_err[i] += fit_and_valid(x_train, y_train, x_valid, y_valid, polynomial, degree=degree, offset=offset, scale=scale)[1]\n",
    "    train_err /= (parts*parts)\n",
    "    valid_err /= (parts*parts)"
   ]
  },
  {
   "cell_type": "code",
   "execution_count": 124,
   "metadata": {},
   "outputs": [
    {
     "data": {
      "image/png": "[encoded data removed]",
      "text/plain": [
       "<Figure size 1008x288 with 2 Axes>"
      ]
     },
     "metadata": {
      "needs_background": "light"
     },
     "output_type": "display_data"
    }
   ],
   "source": [
    "import matplotlib.pyplot as plt\n",
    "degrees = range(18)\n",
    "\n",
    "fig, ax = plt.subplots(nrows = 1,ncols = 2, figsize = (14, 4))\n",
    "    \n",
    "ax[0].plot(degrees,train_err,'bx-')\n",
    "ax[0].set_title(\"Training error for Hold out validation\")\n",
    "ax[0].set_xlabel(\"Degree\")\n",
    "ax[0].set_ylabel(\"Error\")\n",
    "                       \n",
    "ax[1].semilogy(degrees,valid_err,'rx-')\n",
    "ax[1].set_title(\"Validation error for hold out validation \")\n",
    "ax[1].set_xlabel(\"Degree\")\n",
    "ax[1].set_ylabel(\"Error (log)\")\n",
    "plt.show()"
   ]
  },
  {
   "cell_type": "markdown",
   "metadata": {},
   "source": [
    "### (2) sklearn nested CV:"
   ]
  },
  {
   "cell_type": "code",
   "execution_count": 67,
   "metadata": {},
   "outputs": [],
   "source": [
    "# pass"
   ]
  },
  {
   "cell_type": "markdown",
   "metadata": {},
   "source": [
    "### 3.3 leave one out cross-validation:"
   ]
  },
  {
   "cell_type": "markdown",
   "metadata": {},
   "source": [
    "假设样本空间大小为N，每次选择一个样本用于验证。"
   ]
  },
  {
   "cell_type": "markdown",
   "metadata": {},
   "source": [
    "### (1) python LOO:"
   ]
  },
  {
   "cell_type": "code",
   "execution_count": 21,
   "metadata": {},
   "outputs": [
    {
     "data": {
      "image/png": "[encoded data removed]",
      "text/plain": [
       "<Figure size 1008x288 with 2 Axes>"
      ]
     },
     "metadata": {
      "needs_background": "light"
     },
     "output_type": "display_data"
    }
   ],
   "source": [
    "max_degree = 17\n",
    "valid_err = np.zeros(max_degree+1)\n",
    "train_err = np.zeros(max_degree+1)\n",
    "degrees = np.arange(max_degree+1)\n",
    "\n",
    "for i, degree in enumerate(degrees):\n",
    "    for j in range(x.shape[0]):\n",
    "        x_train, y_train, x_valid, y_valid = leave_out(x, y, j)# select indices of data to 'hold out'\n",
    "        valid_err[i] += fit_and_valid(x_train, y_train, x_valid, y_valid, polynomial, degree=degree, offset=offset, scale=scale)[0]\n",
    "        train_err[i] += fit_and_valid(x_train, y_train, x_valid, y_valid, polynomial, degree=degree, offset=offset, scale=scale)[1]\n",
    "    valid_err[i]/=x.shape[0] # different from k fold.\n",
    "    train_err[i]/=x.shape[0]\n",
    "\n",
    "fig, ax = plt.subplots(nrows = 1,ncols = 2, figsize = (14, 4))\n",
    "    \n",
    "ax[0].plot(degrees,train_err,'bx-')\n",
    "ax[0].set_title(\"Training error for leave one out corss validation \")\n",
    "ax[0].set_xlabel(\"Degree\")\n",
    "ax[0].set_ylabel(\"Error\")\n",
    "                          \n",
    "ax[1].semilogy(degrees,valid_err,'rx-')\n",
    "ax[1].set_title(\"Validation error for leave one out cross validation \")\n",
    "ax[1].set_xlabel(\"Degree\")\n",
    "ax[1].set_ylabel(\"Error (log)\")\n",
    "plt.show()"
   ]
  },
  {
   "cell_type": "markdown",
   "metadata": {},
   "source": [
    "### (2) sklearn LOO:"
   ]
  },
  {
   "cell_type": "code",
   "execution_count": 70,
   "metadata": {},
   "outputs": [
    {
     "name": "stdout",
     "output_type": "stream",
     "text": [
      "mean train score :  [2.23269552]\n",
      "mean test score :  [0.19288531]\n"
     ]
    }
   ],
   "source": [
    "from sklearn.model_selection import LeaveOneOut\n",
    "\n",
    "loo = LeaveOneOut()\n",
    "for train_index, test_index in loo.split(dataset):\n",
    "    X_train, y_train = dataset[train_index], label[train_index]\n",
    "    X_test, y_test = dataset[test_index], label[test_index]\n",
    "    lin_reg = LinearRegression().fit(X_train, y_train)\n",
    "    y_pred_train, y_pred_test = lin_reg.predict(X_train), lin_reg.predict(X_test)\n",
    "    train_score += sum((y_pred_train - y_train)**2)\n",
    "    test_score += sum((y_pred_test - y_test)**2)\n",
    "\n",
    "print(\"mean train score : \", train_score/dataset.shape[0])\n",
    "print(\"mean test score : \", test_score/dataset.shape[0])"
   ]
  },
  {
   "cell_type": "code",
   "execution_count": null,
   "metadata": {},
   "outputs": [],
   "source": []
  }
 ],
 "metadata": {
  "kernelspec": {
   "display_name": "Python 3",
   "language": "python",
   "name": "python3"
  },
  "language_info": {
   "codemirror_mode": {
    "name": "ipython",
    "version": 3
   },
   "file_extension": ".py",
   "mimetype": "text/x-python",
   "name": "python",
   "nbconvert_exporter": "python",
   "pygments_lexer": "ipython3",
   "version": "3.7.3"
  }
 },
 "nbformat": 4,
 "nbformat_minor": 2
}
