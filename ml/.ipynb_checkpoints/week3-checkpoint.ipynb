{
 "cells": [
  {
   "cell_type": "markdown",
   "metadata": {},
   "source": [
    "## Week3：\n",
    "1. 最小二乘法，极大似然估计，梯度下降\n",
    "2. 极大似然估计 (Negative log likelihood)\n",
    "3. 最小二乘法 （minimize sum of squares error）\n",
    "4. 逆矩阵 \n",
    "5. QR分解\n",
    "6. 坐标下降 (Coordinate Descent)"
   ]
  },
  {
   "cell_type": "markdown",
   "metadata": {},
   "source": [
    "### 1. 最小二乘法介绍：（Normal Equation）\n",
    "\n",
    "#### 1. 最小二乘法与极大似然估计：\n",
    "\n",
    "极大似然估计是从概率角度出发，寻找使这个结果出现的可能性最大的参数。\n",
    "\n",
    "最小二乘法是从loss function 角度出发，寻找 loss function 的最小值，也就是**Normal Equation（求导等于0）**。**基于均方误差最小化来进行模型求解的方法称为最小二乘法**。\n",
    "\n",
    "#### 2. 最小二乘法与梯度下降：\n",
    "\n",
    "最小二乘法与梯度下降的相同点：目标函数相同，并且都是对参数求偏导。 \n",
    "\n",
    "最小二乘法与梯度下降的不同点：最小二乘法为非迭代方法，梯度下降为迭代方法。\n",
    "\n",
    "#### 3. 最小二乘法优缺点：\n",
    "\n",
    "最小二乘法优点：\n",
    "\n",
    "    1. 与梯度下降相比，最小二乘法不需要考虑learning rate。\n",
    "\n",
    "最小二乘法缺点：\n",
    "\n",
    "    1. 最小二乘法因为需要求逆矩阵，当特征数量较大时，逆矩阵计算比较耗时。\n",
    "     \n",
    "    2. 最小二乘法只适用于线性回归。"
   ]
  },
  {
   "cell_type": "markdown",
   "metadata": {},
   "source": [
    "### 2. Negative Log Likelihood （MLE）\n",
    "\n",
    "1.**一个特征值的**公式推导如下：\n",
    "\n",
    "$ f\\left(x_i\\right) = mx_i + c$, $y_i = f\\left(x_i\\right)+\\epsilon_i$, 其中 $\\epsilon_i$ 服从正态分布 $\\epsilon_i \\sim \\mathcal{N}(0, \\sigma^2)$\n",
    "\n",
    "\n",
    "因为$y_i = mx_i + c$ 为常数，所以 $y_i = f\\left(x_i\\right)+\\epsilon_i$ 服从正态分布 $y_i\\sim \\mathcal{N}(mx_i + c, \\sigma^2)$\n",
    "\n",
    "\n",
    "根据正态分布概率密度函数可知：$p\\left(y_i|x_i,m,c, \\sigma^2\\right)=\\frac{1}{\\sqrt{2\\pi \\sigma^2}}\n",
    "             \\exp \\left(-\\frac{\\left(y_i-mx_i-c\\right)^{2}}{2\\sigma^2}\\right).$\n",
    "             \n",
    "             \n",
    "假设 $y_i$ 服从独立同分布 **IID Assumption**，所以 $p(\\mathbf{y}|\\mathbf{x}, m, c,\\sigma^2) = \\prod_{i=1}^n p(y_i|x_i, m, c, \\sigma^2)$ = $p(\\mathbf{y}|\\mathbf{x}, m, c, \\sigma^2) = \\prod_{i=1}^n \\frac{1}{\\sqrt{2\\pi \\sigma^2}}\\exp \\left(-\\frac{\\left(y_i-mx_i- c\\right)^{2}}{2\\sigma^2}\\right)$\n",
    "\n",
    "所以，$p(\\mathbf{y}|\\mathbf{x}, m, c, \\sigma^2) = \\frac{1}{\\left(2\\pi \\sigma^2\\right)^{\\frac{n}{2}}}\\exp \\left(-  \n",
    "                                      \\frac{\\sum_{i=1}^n\\left(y_i-mx_i-c\\right)^{2}}{2\\sigma^2}\\right).$\n",
    "\n",
    "等式两边同时取log可得：\n",
    "\n",
    "$L(m,c,\\sigma^{2})=-\\frac{n}{2}\\log 2\\pi -\\frac{n}{2}\\log \\sigma^2 -\\sum _{i=1}^{n}\\frac{\\left(y_i-mx_i-    \n",
    "        c\\right)^{2}}{2\\sigma^2}.$\n",
    "        \n",
    "去掉常数项，**同时取负号(Negative)**：\n",
    "\n",
    "$E(m,c,\\sigma^{2}) \\propto \\sum _{i=1}^{n}\\left(y_i- mx_i-c\\right)^{2}.$\n",
    "\n",
    "\n",
    "\n",
    "\n",
    "2.**n个特征值的**公式推导如下：\n",
    "\n",
    "预测函数：\n",
    "\n",
    "$$ y = \\mathbf{w}^\\top \\mathbf{X}.$$\n",
    "\n",
    "其中 w 为列向量, x 为 **design matrix**。\n",
    "$$\n",
    "\\mathbf{w} = \\begin{bmatrix} \n",
    "\\mathbf{w}_0 \\\\\\ \n",
    "\\mathbf{w}_1 \\\\\\ \n",
    "\\vdots \\\\\\\n",
    "\\mathbf{w}_n\n",
    "\\end{bmatrix},\n",
    "\\mathbf{X} = \n",
    "            \\begin{bmatrix} \n",
    "                1 & 1 & \\cdots & 1\\\\\n",
    "                \\mathbf{x}_1^1 & \\mathbf{x}_2^1 & \\cdots & \\mathbf{x}_m^1\\\\\n",
    "                \\vdots \\\\\n",
    "                \\mathbf{x}_1^n & \\mathbf{x}_2^n & \\cdots & \\mathbf{x}_m^n\\\\\n",
    "             \\end{bmatrix} \n",
    "$$\n",
    "\n",
    "代价函数：\n",
    "\n",
    "$$E(\\mathbf{w},\\sigma^2)  = \\frac{n}{2}\\log \\sigma^2 + \\frac{1}{2\\sigma^2}\\sum \n",
    "                              _{i=1}^{n}y_i^{2}-\\frac{1}{\\sigma^2}\n",
    "                             \\mathbf{w}^\\top\\sum_{i=1}^{n}\\mathbf{x}_iy_i\n",
    "                             +\\frac{1}{2\\sigma^2} \n",
    "                           \\mathbf{w}^{\\top}\\left[\\sum_{i=1}^{n}\\mathbf{x}_i\n",
    "                           \\mathbf{x}_i^{\\top}\\right]\\mathbf{w}.$$\n",
    "\n",
    "对w求偏导：\n",
    "\n",
    "$$\\frac{\\partial E\\left(\\mathbf{w},\\sigma^2 \\right)}{\\partial \\mathbf{w}}=-\\frac{1}{\\sigma^2} \\sum _{i=1}^{n}\\mathbf{x}_iy_i+\\frac{1}{\\sigma^2} \\left[\\sum _{i=1}^{n}\\mathbf{x}_i\\mathbf{x}_i^{\\top}\\right]\\mathbf{w}$$\n",
    "\n",
    "令等式为0:\n",
    "\n",
    "$$\\mathbf{w} = \\left[\\sum _{i=1}^{n}\\mathbf{x}_i\\mathbf{x}_i^{\\top}\\right]^{-1}\\sum _{i=1}^{n}\\mathbf{x}_iy_i.$$\n",
    "\n",
    "其中：\n",
    "\n",
    "$$\\sum _{i=1}^{n}\\mathbf{x}_i\\mathbf{x}_i^\\top = \\mathbf{X}^\\top \\mathbf{X}\\qquad \\sum _{i=1}^{n}\\mathbf{x}_iy_i = \\mathbf{X}^\\top \\mathbf{y}$$\n",
    "\n",
    "最后 w 为：\n",
    "\n",
    "$$\\mathbf{w} = \\left(\\mathbf{X}^\\top \\mathbf{X}\\right)^{-1} \\mathbf{X}^\\top \\mathbf{y}$$\n"
   ]
  },
  {
   "cell_type": "markdown",
   "metadata": {},
   "source": [
    "### 3. Normal Equation（注意矩阵求导）："
   ]
  },
  {
   "cell_type": "markdown",
   "metadata": {},
   "source": [
    "$$\n",
    "E(\\mathbf{w})= (\\mathbf{y} - \\mathbf{X}\\mathbf{w})^\\top (\\mathbf{y} - \\mathbf{X}\\mathbf{w})\n",
    "$$\n",
    "\n",
    "$$\n",
    "E(\\mathbf{w})= \\mathbf{y}^\\top\\mathbf{y} - 2\\mathbf{y}^\\top\\mathbf{X}\\mathbf{w} + \\mathbf{w}^\\top\\mathbf{X}^\\top\\mathbf{X}\\mathbf{w}\n",
    "$$\n",
    "\n",
    "$$\n",
    "\\frac{\\text{d}}{\\text{d}\\mathbf{w}}E(\\mathbf{w})=- 2\\mathbf{X}^\\top \\mathbf{y} + 2\\mathbf{X}^\\top\\mathbf{X}\\mathbf{w} = 0\n",
    "$$\n",
    "\n",
    "$$\\mathbf{w} = \\left(\\mathbf{X}^\\top \\mathbf{X}\\right)^{-1} \\mathbf{X}^\\top \\mathbf{y}$$\n",
    "\n",
    "**python 中使用 w = np.linalg.solve(np.dot(X.T, X), np.dot(X.T, y))**\n",
    "\n",
    "**上述公式需要注意矩阵可逆的问题。此外，上述公式需要计算$\\mathbf{X}^\\top \\mathbf{X}$，然而平方计算会降低计算精确性，通过QR分解可以避免。**"
   ]
  },
  {
   "cell_type": "markdown",
   "metadata": {},
   "source": [
    "#### 矩阵求导：\n",
    "\n",
    "$$\n",
    "\\frac{\\text{d} \\mathbf{y}^\\top\\mathbf{X}\\mathbf{w}}{\\text{d} \\mathbf{w}} = \\left(\\mathbf{y}^\\top\\mathbf{X}\\right)^\\top = \\mathbf{X}^\\top \\mathbf{y}\n",
    "$$\n",
    "\n",
    "$$\n",
    "\\frac{\\text{d} \\mathbf{w}^\\top \\mathbf{A} \\mathbf{w}}{\\text{d} \\mathbf{w}} = 2 \\mathbf{Aw}\n",
    "$$"
   ]
  },
  {
   "cell_type": "markdown",
   "metadata": {},
   "source": [
    "### 4. 逆矩阵："
   ]
  },
  {
   "cell_type": "markdown",
   "metadata": {},
   "source": [
    "(1) **什么样的矩阵可逆？**\n",
    "\n",
    "非奇异矩阵，也就是**行列式不为零**的**方阵**。**non-singular (e.g. determinat different from zero, or has full-rank).**\n",
    "\n",
    "可逆矩阵 = 非奇异矩阵 = 满秩矩阵（行向量或列向量线性无关）\n",
    "\n",
    "(2) **在什么情况下$\\mathbf{X}^\\top\\mathbf{X}$不可逆？**\n",
    "\n",
    "1. 样本的数量小于特征的数量。此时，回归系数会变得很大，无法求解。在统计学上，可证明A的最小二乘解为无偏估计，即多次得到的采样值X而计算出来的多个系数估计值向量 的平均值将无限接近于真实值向量β。\n",
    "https://blog.csdn.net/Dang_boy/article/details/78504258\n",
    "\n",
    "\n",
    "2. 特征中存在至少两个特征之间线性相关 (不满足满秩矩阵的性质)。\n",
    "\n",
    "(3) **如何解决不可逆情况？**\n",
    "\n",
    "1. 增加样本数量。\n",
    "\n",
    "2. 采用正则化方法 **脊回归**。\n",
    "\n",
    "3. 删除线性相关的特征 **降维**。"
   ]
  },
  {
   "cell_type": "markdown",
   "metadata": {},
   "source": [
    "### 5. QR 分解："
   ]
  },
  {
   "cell_type": "markdown",
   "metadata": {},
   "source": [
    "将一个矩阵分解为一个正交矩阵与一个上三角矩阵的乘积。QR分解也有若干种算法，常见包括：Gram-Schmidt, Householder, Givens等。\n",
    "\n",
    "$$\n",
    "\\mathbf{X}^\\top \\mathbf{X} \\mathbf{W} = \\mathbf{X}^\\top \\mathbf{y}\n",
    "$$\n",
    "\n",
    "$$\n",
    "(\\mathbf{Q}\\mathbf{R})^\\top (\\mathbf{Q}\\mathbf{R})\\mathbf{W} = (\\mathbf{Q}\\mathbf{R})^\\top \\mathbf{y}\n",
    "$$\n",
    "\n",
    "$$\n",
    "\\mathbf{R}^\\top (\\mathbf{Q}^\\top \\mathbf{Q}) \\mathbf{R} \\mathbf{W} = \\mathbf{R}^\\top \\mathbf{Q}^\\top \\mathbf{y}\n",
    "$$\n",
    "\n",
    "$$\n",
    "\\mathbf{R}^\\top \\mathbf{R} \\mathbf{W} = \\mathbf{R}^\\top \\mathbf{Q}^\\top \\mathbf{y}\n",
    "$$\n",
    "\n",
    "$$\n",
    "\\mathbf{R} \\mathbf{W} = \\mathbf{Q}^\\top \\mathbf{y}\n",
    "$$"
   ]
  },
  {
   "cell_type": "code",
   "execution_count": null,
   "metadata": {},
   "outputs": [],
   "source": [
    "# QR decomposition.\n",
    "import scipy as sp\n",
    "Q, R = np.linalg.qr(X)\n",
    "w = sp.linalg.solve_triangular(R, np.dot(Q.T, y))"
   ]
  },
  {
   "cell_type": "markdown",
   "metadata": {},
   "source": [
    "## 6. 坐标下降 Coordinate Descent: "
   ]
  },
  {
   "cell_type": "markdown",
   "metadata": {},
   "source": [
    "坐标下降属于非梯度优化算法，与梯度下降优化算法沿着梯度最快下降方向寻找函数极值不同，坐标下降算法依次沿着坐标轴的方向最小化目标函数。\n",
    "\n",
    "$$f(x) = \\mathbf{w}_0\\mathbf{x}_0 + \\mathbf{w}_1\\mathbf{x}_1 + ... + \\mathbf{w}_n\\mathbf{x}_n （x为特征值）$$\n",
    "\n",
    "$$E(\\mathbf{w}) =  \\sum_{i=1}^n(y_i-f(x_i))^2$$\n",
    "\n",
    "**注意：坐标下降目标函数与梯度下降目标函数相同。**\n",
    "\n",
    "坐标下降步骤：\n",
    "\n",
    "初始化 $\\mathbf{w}$。\n",
    "\n",
    "更新 $\\mathbf{w}$: {\n",
    "\n",
    "* 更新 $\\mathbf{w}_1$，$\\frac{\\text{d}}{\\text{d}\\mathbf{w}}E(\\mathbf{w}_1)=0 $，其中 $\\mathbf{w}_0, \\mathbf{w}_2, ..., \\mathbf{w}_n$ 已知。\n",
    "* 更新 $\\mathbf{w}_2$，$\\frac{\\text{d}}{\\text{d}\\mathbf{w}}E(\\mathbf{w}_2)=0 $，其中 $\\mathbf{w}_1$ 为更新后的值，$\\mathbf{w}_0, \\mathbf{w}_3, ..., \\mathbf{w}_n$ 已知。\n",
    "* 更新 $\\mathbf{w}_3$，$\\frac{\\text{d}}{\\text{d}\\mathbf{w}}E(\\mathbf{w}_3)=0 $，其中 $\\mathbf{w}_1, \\mathbf{w}_2$ 为更新后的值，$\\mathbf{w}_0, \\mathbf{w}_3, ..., \\mathbf{w}_n $ 已知。\n",
    "* ...\n",
    "* 更新 $\\mathbf{w}_n$，$\\frac{\\text{d}}{\\text{d}\\mathbf{w}}E(\\mathbf{w}_n)=0 $，其中 $\\mathbf{w}_0, \\mathbf{w}_2, ..., \\mathbf{w}_{n-1}$ 为更新后的值。\n",
    "\n",
    "}"
   ]
  },
  {
   "cell_type": "code",
   "execution_count": 5,
   "metadata": {},
   "outputs": [
    {
     "name": "stdout",
     "output_type": "stream",
     "text": [
      "Error :  1.998749250259151\n"
     ]
    },
    {
     "data": {
      "image/png": "[encoded data removed]",
      "text/plain": [
       "<Figure size 360x360 with 1 Axes>"
      ]
     },
     "metadata": {
      "needs_background": "light"
     },
     "output_type": "display_data"
    }
   ],
   "source": [
    "import pods\n",
    "%matplotlib inline \n",
    "import pylab as plt\n",
    "from IPython import display\n",
    "import numpy as np\n",
    "\n",
    "data = pods.datasets.olympic_marathon_men()\n",
    "x = data['X']\n",
    "y = data['Y']\n",
    "\n",
    "m = -0.4\n",
    "c = 80 \n",
    "x_test = np.linspace(1890, 2020, 10)[:, None]\n",
    "\n",
    "def linear_regression(m, c):\n",
    "    for i in np.arange(100):\n",
    "        m = ((y - c)*x).sum()/(x*x).sum() # only one feature y = m*x + c\n",
    "        c = (y-m*x).sum()/y.shape[0] \n",
    "    E = ( (y - (m*x + c))**2 ).sum()\n",
    "    return m, c, E\n",
    "\n",
    "def run_LR(x_test, n, m, c):\n",
    "    cond = True\n",
    "    while cond:\n",
    "        m, c, E = linear_regression(m, c)\n",
    "        f_test = m*x_test + c\n",
    "        if E < 2:\n",
    "            cond = False\n",
    "        display.clear_output(wait = True)\n",
    "        print(\"Error : \", E)\n",
    "        plt.figure(figsize = (5, 5))\n",
    "        plt.plot(x_test, f_test, 'b-')\n",
    "        plt.plot(x, y, 'rx')\n",
    "        plt.xlim(1890, 2020)\n",
    "        plt.ylim(2, 6)\n",
    "        plt.pause(1.5)\n",
    "    \n",
    "run_LR(x_test, 10, m, c)"
   ]
  },
  {
   "cell_type": "code",
   "execution_count": null,
   "metadata": {},
   "outputs": [],
   "source": []
  }
 ],
 "metadata": {
  "kernelspec": {
   "display_name": "Python 3",
   "language": "python",
   "name": "python3"
  },
  "language_info": {
   "codemirror_mode": {
    "name": "ipython",
    "version": 3
   },
   "file_extension": ".py",
   "mimetype": "text/x-python",
   "name": "python",
   "nbconvert_exporter": "python",
   "pygments_lexer": "ipython3",
   "version": "3.7.3"
  }
 },
 "nbformat": 4,
 "nbformat_minor": 2
}
