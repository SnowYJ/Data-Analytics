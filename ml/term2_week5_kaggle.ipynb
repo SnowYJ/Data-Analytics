{
 "cells": [
  {
   "cell_type": "markdown",
   "metadata": {},
   "source": [
    "## Kaggle - HR Analysis\n",
    "\n",
    "**A company is trying to figure out why their best and experienced employees are leaving prematurely.**"
   ]
  },
  {
   "cell_type": "code",
   "execution_count": 1,
   "metadata": {
    "collapsed": true
   },
   "outputs": [],
   "source": [
    "import os\n",
    "import subprocess\n",
    "def module(*args):        \n",
    "    if isinstance(args[0], list):        \n",
    "        args = args[0]        \n",
    "    else:        \n",
    "        args = list(args)        \n",
    "    (output, error) = subprocess.Popen(['/usr/bin/modulecmd', 'python'] + args, stdout=subprocess.PIPE).communicate()\n",
    "    exec(output)    \n",
    "module('load', 'apps/java/jdk1.8.0_102/binary')    \n",
    "os.environ['PYSPARK_PYTHON'] = os.environ['HOME'] + '/.conda/envs/jupyter-spark/bin/python'"
   ]
  },
  {
   "cell_type": "code",
   "execution_count": 2,
   "metadata": {
    "collapsed": true
   },
   "outputs": [],
   "source": [
    "import pyspark\n",
    "from pyspark.sql import SparkSession\n",
    "\n",
    "spark = SparkSession.builder \\\n",
    "    .master(\"local[2]\") \\\n",
    "    .appName(\"COM6012 PCA\") \\\n",
    "    .getOrCreate()\n",
    "\n",
    "sc = spark.sparkContext"
   ]
  },
  {
   "cell_type": "code",
   "execution_count": 3,
   "metadata": {},
   "outputs": [
    {
     "name": "stdout",
     "output_type": "stream",
     "text": [
      "+------------------+---------------+--------------+--------------------+------------------+-------------+----+---------------------+-----+------+\n",
      "|satisfaction_level|last_evaluation|number_project|average_montly_hours|time_spend_company|Work_accident|left|promotion_last_5years|sales|salary|\n",
      "+------------------+---------------+--------------+--------------------+------------------+-------------+----+---------------------+-----+------+\n",
      "|              0.38|           0.53|             2|                 157|                 3|            0|   1|                    0|sales|   low|\n",
      "|               0.8|           0.86|             5|                 262|                 6|            0|   1|                    0|sales|medium|\n",
      "|              0.11|           0.88|             7|                 272|                 4|            0|   1|                    0|sales|medium|\n",
      "|              0.72|           0.87|             5|                 223|                 5|            0|   1|                    0|sales|   low|\n",
      "|              0.37|           0.52|             2|                 159|                 3|            0|   1|                    0|sales|   low|\n",
      "+------------------+---------------+--------------+--------------------+------------------+-------------+----+---------------------+-----+------+\n",
      "only showing top 5 rows\n",
      "\n"
     ]
    }
   ],
   "source": [
    "df = spark.read.csv(\"../Data/HR_comma_sep.csv\", header=\"true\",inferSchema=\"true\")\n",
    "\n",
    "df.show(5)"
   ]
  },
  {
   "cell_type": "code",
   "execution_count": 4,
   "metadata": {},
   "outputs": [
    {
     "name": "stdout",
     "output_type": "stream",
     "text": [
      "root\n",
      " |-- satisfaction_level: double (nullable = true)\n",
      " |-- last_evaluation: double (nullable = true)\n",
      " |-- number_project: integer (nullable = true)\n",
      " |-- average_montly_hours: integer (nullable = true)\n",
      " |-- time_spend_company: integer (nullable = true)\n",
      " |-- Work_accident: integer (nullable = true)\n",
      " |-- left: integer (nullable = true)\n",
      " |-- promotion_last_5years: integer (nullable = true)\n",
      " |-- sales: string (nullable = true)\n",
      " |-- salary: string (nullable = true)\n",
      "\n"
     ]
    }
   ],
   "source": [
    "df.printSchema()"
   ]
  },
  {
   "cell_type": "code",
   "execution_count": 5,
   "metadata": {},
   "outputs": [
    {
     "name": "stderr",
     "output_type": "stream",
     "text": [
      "/home/acz19yz/.conda/envs/jupyter-spark/lib/python3.6/site-packages/statsmodels/tools/_testing.py:19: FutureWarning: pandas.util.testing is deprecated. Use the functions in the public API at pandas.testing instead.\n",
      "  import pandas.util.testing as tm\n"
     ]
    }
   ],
   "source": [
    "import seaborn as sns # install package under jupyter-spark in HPC."
   ]
  },
  {
   "cell_type": "markdown",
   "metadata": {},
   "source": [
    "### Pyspark Dataframe 计算相关系数：df.stat.corr()\n",
    "\n",
    "**相关系数为一种特殊的协方差，其消除了两个变量变化幅度的影响，而只是单纯反应两个变量每单位变化时的相似程度。如下图所示：**\n",
    "\n",
    "<img src=\"image_github/corr.png\" width=\"500\" height=\"500\">"
   ]
  },
  {
   "cell_type": "code",
   "execution_count": 6,
   "metadata": {
    "collapsed": true
   },
   "outputs": [],
   "source": [
    "import pandas as pd\n",
    "\n",
    "corr_df = pd.DataFrame(columns=df.columns[:8], dtype=float)\n",
    "\n",
    "for i, row in enumerate(df.columns[:8]):\n",
    "    for col in df.columns[:8]:\n",
    "        corr_df.loc[i, col] = df.stat.corr(row, col) # value type object.\n",
    "    # corr_df.loc[i].astype(float)\n",
    "    \n",
    "corr_df.index = df.columns[:8]"
   ]
  },
  {
   "cell_type": "code",
   "execution_count": 7,
   "metadata": {},
   "outputs": [
    {
     "data": {
      "text/html": [
       "<div>\n",
       "<style scoped>\n",
       "    .dataframe tbody tr th:only-of-type {\n",
       "        vertical-align: middle;\n",
       "    }\n",
       "\n",
       "    .dataframe tbody tr th {\n",
       "        vertical-align: top;\n",
       "    }\n",
       "\n",
       "    .dataframe thead th {\n",
       "        text-align: right;\n",
       "    }\n",
       "</style>\n",
       "<table border=\"1\" class=\"dataframe\">\n",
       "  <thead>\n",
       "    <tr style=\"text-align: right;\">\n",
       "      <th></th>\n",
       "      <th>satisfaction_level</th>\n",
       "      <th>last_evaluation</th>\n",
       "      <th>number_project</th>\n",
       "      <th>average_montly_hours</th>\n",
       "      <th>time_spend_company</th>\n",
       "      <th>Work_accident</th>\n",
       "      <th>left</th>\n",
       "      <th>promotion_last_5years</th>\n",
       "    </tr>\n",
       "  </thead>\n",
       "  <tbody>\n",
       "    <tr>\n",
       "      <th>satisfaction_level</th>\n",
       "      <td>1.000000</td>\n",
       "      <td>0.105021</td>\n",
       "      <td>-0.142970</td>\n",
       "      <td>-0.020048</td>\n",
       "      <td>-0.100866</td>\n",
       "      <td>0.058697</td>\n",
       "      <td>-0.388375</td>\n",
       "      <td>0.025605</td>\n",
       "    </tr>\n",
       "    <tr>\n",
       "      <th>last_evaluation</th>\n",
       "      <td>0.105021</td>\n",
       "      <td>1.000000</td>\n",
       "      <td>0.349333</td>\n",
       "      <td>0.339742</td>\n",
       "      <td>0.131591</td>\n",
       "      <td>-0.007104</td>\n",
       "      <td>0.006567</td>\n",
       "      <td>-0.008684</td>\n",
       "    </tr>\n",
       "    <tr>\n",
       "      <th>number_project</th>\n",
       "      <td>-0.142970</td>\n",
       "      <td>0.349333</td>\n",
       "      <td>1.000000</td>\n",
       "      <td>0.417211</td>\n",
       "      <td>0.196786</td>\n",
       "      <td>-0.004741</td>\n",
       "      <td>0.023787</td>\n",
       "      <td>-0.006064</td>\n",
       "    </tr>\n",
       "    <tr>\n",
       "      <th>average_montly_hours</th>\n",
       "      <td>-0.020048</td>\n",
       "      <td>0.339742</td>\n",
       "      <td>0.417211</td>\n",
       "      <td>1.000000</td>\n",
       "      <td>0.127755</td>\n",
       "      <td>-0.010143</td>\n",
       "      <td>0.071287</td>\n",
       "      <td>-0.003544</td>\n",
       "    </tr>\n",
       "    <tr>\n",
       "      <th>time_spend_company</th>\n",
       "      <td>-0.100866</td>\n",
       "      <td>0.131591</td>\n",
       "      <td>0.196786</td>\n",
       "      <td>0.127755</td>\n",
       "      <td>1.000000</td>\n",
       "      <td>0.002120</td>\n",
       "      <td>0.144822</td>\n",
       "      <td>0.067433</td>\n",
       "    </tr>\n",
       "    <tr>\n",
       "      <th>Work_accident</th>\n",
       "      <td>0.058697</td>\n",
       "      <td>-0.007104</td>\n",
       "      <td>-0.004741</td>\n",
       "      <td>-0.010143</td>\n",
       "      <td>0.002120</td>\n",
       "      <td>1.000000</td>\n",
       "      <td>-0.154622</td>\n",
       "      <td>0.039245</td>\n",
       "    </tr>\n",
       "    <tr>\n",
       "      <th>left</th>\n",
       "      <td>-0.388375</td>\n",
       "      <td>0.006567</td>\n",
       "      <td>0.023787</td>\n",
       "      <td>0.071287</td>\n",
       "      <td>0.144822</td>\n",
       "      <td>-0.154622</td>\n",
       "      <td>1.000000</td>\n",
       "      <td>-0.061788</td>\n",
       "    </tr>\n",
       "    <tr>\n",
       "      <th>promotion_last_5years</th>\n",
       "      <td>0.025605</td>\n",
       "      <td>-0.008684</td>\n",
       "      <td>-0.006064</td>\n",
       "      <td>-0.003544</td>\n",
       "      <td>0.067433</td>\n",
       "      <td>0.039245</td>\n",
       "      <td>-0.061788</td>\n",
       "      <td>1.000000</td>\n",
       "    </tr>\n",
       "  </tbody>\n",
       "</table>\n",
       "</div>"
      ],
      "text/plain": [
       "                       satisfaction_level  last_evaluation  number_project  \\\n",
       "satisfaction_level               1.000000         0.105021       -0.142970   \n",
       "last_evaluation                  0.105021         1.000000        0.349333   \n",
       "number_project                  -0.142970         0.349333        1.000000   \n",
       "average_montly_hours            -0.020048         0.339742        0.417211   \n",
       "time_spend_company              -0.100866         0.131591        0.196786   \n",
       "Work_accident                    0.058697        -0.007104       -0.004741   \n",
       "left                            -0.388375         0.006567        0.023787   \n",
       "promotion_last_5years            0.025605        -0.008684       -0.006064   \n",
       "\n",
       "                       average_montly_hours  time_spend_company  \\\n",
       "satisfaction_level                -0.020048           -0.100866   \n",
       "last_evaluation                    0.339742            0.131591   \n",
       "number_project                     0.417211            0.196786   \n",
       "average_montly_hours               1.000000            0.127755   \n",
       "time_spend_company                 0.127755            1.000000   \n",
       "Work_accident                     -0.010143            0.002120   \n",
       "left                               0.071287            0.144822   \n",
       "promotion_last_5years             -0.003544            0.067433   \n",
       "\n",
       "                       Work_accident      left  promotion_last_5years  \n",
       "satisfaction_level          0.058697 -0.388375               0.025605  \n",
       "last_evaluation            -0.007104  0.006567              -0.008684  \n",
       "number_project             -0.004741  0.023787              -0.006064  \n",
       "average_montly_hours       -0.010143  0.071287              -0.003544  \n",
       "time_spend_company          0.002120  0.144822               0.067433  \n",
       "Work_accident               1.000000 -0.154622               0.039245  \n",
       "left                       -0.154622  1.000000              -0.061788  \n",
       "promotion_last_5years       0.039245 -0.061788               1.000000  "
      ]
     },
     "execution_count": 7,
     "metadata": {},
     "output_type": "execute_result"
    }
   ],
   "source": [
    "corr_df"
   ]
  },
  {
   "cell_type": "code",
   "execution_count": 8,
   "metadata": {},
   "outputs": [
    {
     "data": {
      "text/plain": [
       "Text(0.5, 1, 'Correlation between different fearures')"
      ]
     },
     "execution_count": 8,
     "metadata": {},
     "output_type": "execute_result"
    },
    {
     "data": {
      "image/png": "[encoded data removed]",
      "text/plain": [
       "<Figure size 720x720 with 2 Axes>"
      ]
     },
     "metadata": {},
     "output_type": "display_data"
    }
   ],
   "source": [
    "import matplotlib.pyplot as plt\n",
    "%matplotlib inline\n",
    "\n",
    "plt.figure(figsize=(10,10))\n",
    "sns.heatmap(corr_df, square=True, annot=True)\n",
    "\n",
    "plt.title('Correlation between different fearures')"
   ]
  },
  {
   "cell_type": "markdown",
   "metadata": {},
   "source": [
    "### 展示岗位种类："
   ]
  },
  {
   "cell_type": "code",
   "execution_count": 9,
   "metadata": {},
   "outputs": [
    {
     "data": {
      "text/plain": [
       "10"
      ]
     },
     "execution_count": 9,
     "metadata": {},
     "output_type": "execute_result"
    }
   ],
   "source": [
    "df.select(df.sales).distinct().count()"
   ]
  },
  {
   "cell_type": "code",
   "execution_count": 10,
   "metadata": {},
   "outputs": [
    {
     "name": "stdout",
     "output_type": "stream",
     "text": [
      "+-----------+-----+\n",
      "|      sales|count|\n",
      "+-----------+-----+\n",
      "| management|  630|\n",
      "|product_mng|  902|\n",
      "|  marketing|  858|\n",
      "|      sales| 4140|\n",
      "|         hr|  739|\n",
      "| accounting|  767|\n",
      "|    support| 2229|\n",
      "|         IT| 1227|\n",
      "|  technical| 2720|\n",
      "|      RandD|  787|\n",
      "+-----------+-----+\n",
      "\n"
     ]
    }
   ],
   "source": [
    "df.groupBy('sales').count().show()"
   ]
  },
  {
   "cell_type": "code",
   "execution_count": 11,
   "metadata": {
    "collapsed": true
   },
   "outputs": [],
   "source": [
    "from pyspark.sql import functions as F\n",
    "\n",
    "df_stat = df.groupBy('sales').agg(\n",
    "    F.bround(F.mean('last_evaluation'), scale=4).alias('last_evaluation'), \n",
    "    F.bround(F.mean('satisfaction_level'), scale=4).alias('satisfaction_level'),\n",
    "    F.bround(F.mean('number_project'), scale=4).alias('number_project'),\n",
    "    F.bround(F.mean('average_montly_hours'), scale=4).alias('average_montly_hours'),\n",
    "    F.bround(F.mean('time_spend_company'), scale=4).alias('time_spend_company'),\n",
    "    F.bround(F.mean('Work_accident'), scale=4).alias('Work_accident'),\n",
    "    F.bround(F.mean('left'), scale=4).alias('left'),\n",
    "    F.bround(F.mean('promotion_last_5years'), scale=4).alias('promotion_last_5years')\n",
    ")\n",
    "\n",
    "pd_stat = df_stat.toPandas() # avoid new line. convert pyspark dataframe to pandas dataframe."
   ]
  },
  {
   "cell_type": "code",
   "execution_count": 12,
   "metadata": {},
   "outputs": [
    {
     "data": {
      "text/html": [
       "<div>\n",
       "<style scoped>\n",
       "    .dataframe tbody tr th:only-of-type {\n",
       "        vertical-align: middle;\n",
       "    }\n",
       "\n",
       "    .dataframe tbody tr th {\n",
       "        vertical-align: top;\n",
       "    }\n",
       "\n",
       "    .dataframe thead th {\n",
       "        text-align: right;\n",
       "    }\n",
       "</style>\n",
       "<table border=\"1\" class=\"dataframe\">\n",
       "  <thead>\n",
       "    <tr style=\"text-align: right;\">\n",
       "      <th></th>\n",
       "      <th>sales</th>\n",
       "      <th>last_evaluation</th>\n",
       "      <th>satisfaction_level</th>\n",
       "      <th>number_project</th>\n",
       "      <th>average_montly_hours</th>\n",
       "      <th>time_spend_company</th>\n",
       "      <th>Work_accident</th>\n",
       "      <th>left</th>\n",
       "      <th>promotion_last_5years</th>\n",
       "    </tr>\n",
       "  </thead>\n",
       "  <tbody>\n",
       "    <tr>\n",
       "      <th>0</th>\n",
       "      <td>management</td>\n",
       "      <td>0.7240</td>\n",
       "      <td>0.6213</td>\n",
       "      <td>3.8603</td>\n",
       "      <td>201.2492</td>\n",
       "      <td>4.3032</td>\n",
       "      <td>0.1635</td>\n",
       "      <td>0.1444</td>\n",
       "      <td>0.1095</td>\n",
       "    </tr>\n",
       "    <tr>\n",
       "      <th>1</th>\n",
       "      <td>product_mng</td>\n",
       "      <td>0.7148</td>\n",
       "      <td>0.6196</td>\n",
       "      <td>3.8071</td>\n",
       "      <td>199.9656</td>\n",
       "      <td>3.4756</td>\n",
       "      <td>0.1463</td>\n",
       "      <td>0.2195</td>\n",
       "      <td>0.0000</td>\n",
       "    </tr>\n",
       "    <tr>\n",
       "      <th>2</th>\n",
       "      <td>marketing</td>\n",
       "      <td>0.7159</td>\n",
       "      <td>0.6186</td>\n",
       "      <td>3.6876</td>\n",
       "      <td>199.3858</td>\n",
       "      <td>3.5699</td>\n",
       "      <td>0.1608</td>\n",
       "      <td>0.2366</td>\n",
       "      <td>0.0501</td>\n",
       "    </tr>\n",
       "    <tr>\n",
       "      <th>3</th>\n",
       "      <td>sales</td>\n",
       "      <td>0.7097</td>\n",
       "      <td>0.6144</td>\n",
       "      <td>3.7763</td>\n",
       "      <td>200.9114</td>\n",
       "      <td>3.5341</td>\n",
       "      <td>0.1418</td>\n",
       "      <td>0.2449</td>\n",
       "      <td>0.0242</td>\n",
       "    </tr>\n",
       "    <tr>\n",
       "      <th>4</th>\n",
       "      <td>hr</td>\n",
       "      <td>0.7088</td>\n",
       "      <td>0.5988</td>\n",
       "      <td>3.6549</td>\n",
       "      <td>198.6847</td>\n",
       "      <td>3.3559</td>\n",
       "      <td>0.1204</td>\n",
       "      <td>0.2909</td>\n",
       "      <td>0.0203</td>\n",
       "    </tr>\n",
       "    <tr>\n",
       "      <th>5</th>\n",
       "      <td>accounting</td>\n",
       "      <td>0.7177</td>\n",
       "      <td>0.5822</td>\n",
       "      <td>3.8253</td>\n",
       "      <td>201.1630</td>\n",
       "      <td>3.5228</td>\n",
       "      <td>0.1252</td>\n",
       "      <td>0.2660</td>\n",
       "      <td>0.0183</td>\n",
       "    </tr>\n",
       "    <tr>\n",
       "      <th>6</th>\n",
       "      <td>support</td>\n",
       "      <td>0.7231</td>\n",
       "      <td>0.6183</td>\n",
       "      <td>3.8039</td>\n",
       "      <td>200.7582</td>\n",
       "      <td>3.3930</td>\n",
       "      <td>0.1548</td>\n",
       "      <td>0.2490</td>\n",
       "      <td>0.0090</td>\n",
       "    </tr>\n",
       "    <tr>\n",
       "      <th>7</th>\n",
       "      <td>IT</td>\n",
       "      <td>0.7168</td>\n",
       "      <td>0.6181</td>\n",
       "      <td>3.8166</td>\n",
       "      <td>202.2160</td>\n",
       "      <td>3.4686</td>\n",
       "      <td>0.1337</td>\n",
       "      <td>0.2225</td>\n",
       "      <td>0.0024</td>\n",
       "    </tr>\n",
       "    <tr>\n",
       "      <th>8</th>\n",
       "      <td>technical</td>\n",
       "      <td>0.7211</td>\n",
       "      <td>0.6079</td>\n",
       "      <td>3.8779</td>\n",
       "      <td>202.4974</td>\n",
       "      <td>3.4114</td>\n",
       "      <td>0.1401</td>\n",
       "      <td>0.2562</td>\n",
       "      <td>0.0103</td>\n",
       "    </tr>\n",
       "    <tr>\n",
       "      <th>9</th>\n",
       "      <td>RandD</td>\n",
       "      <td>0.7121</td>\n",
       "      <td>0.6198</td>\n",
       "      <td>3.8539</td>\n",
       "      <td>200.8005</td>\n",
       "      <td>3.3672</td>\n",
       "      <td>0.1703</td>\n",
       "      <td>0.1537</td>\n",
       "      <td>0.0343</td>\n",
       "    </tr>\n",
       "  </tbody>\n",
       "</table>\n",
       "</div>"
      ],
      "text/plain": [
       "         sales  last_evaluation  satisfaction_level  number_project  \\\n",
       "0   management           0.7240              0.6213          3.8603   \n",
       "1  product_mng           0.7148              0.6196          3.8071   \n",
       "2    marketing           0.7159              0.6186          3.6876   \n",
       "3        sales           0.7097              0.6144          3.7763   \n",
       "4           hr           0.7088              0.5988          3.6549   \n",
       "5   accounting           0.7177              0.5822          3.8253   \n",
       "6      support           0.7231              0.6183          3.8039   \n",
       "7           IT           0.7168              0.6181          3.8166   \n",
       "8    technical           0.7211              0.6079          3.8779   \n",
       "9        RandD           0.7121              0.6198          3.8539   \n",
       "\n",
       "   average_montly_hours  time_spend_company  Work_accident    left  \\\n",
       "0              201.2492              4.3032         0.1635  0.1444   \n",
       "1              199.9656              3.4756         0.1463  0.2195   \n",
       "2              199.3858              3.5699         0.1608  0.2366   \n",
       "3              200.9114              3.5341         0.1418  0.2449   \n",
       "4              198.6847              3.3559         0.1204  0.2909   \n",
       "5              201.1630              3.5228         0.1252  0.2660   \n",
       "6              200.7582              3.3930         0.1548  0.2490   \n",
       "7              202.2160              3.4686         0.1337  0.2225   \n",
       "8              202.4974              3.4114         0.1401  0.2562   \n",
       "9              200.8005              3.3672         0.1703  0.1537   \n",
       "\n",
       "   promotion_last_5years  \n",
       "0                 0.1095  \n",
       "1                 0.0000  \n",
       "2                 0.0501  \n",
       "3                 0.0242  \n",
       "4                 0.0203  \n",
       "5                 0.0183  \n",
       "6                 0.0090  \n",
       "7                 0.0024  \n",
       "8                 0.0103  \n",
       "9                 0.0343  "
      ]
     },
     "execution_count": 12,
     "metadata": {},
     "output_type": "execute_result"
    }
   ],
   "source": [
    "pd_stat"
   ]
  },
  {
   "cell_type": "code",
   "execution_count": 13,
   "metadata": {},
   "outputs": [
    {
     "data": {
      "text/plain": [
       "Text(0.5, 1.0, 'Mean Satisfaction Level of each department')"
      ]
     },
     "execution_count": 13,
     "metadata": {},
     "output_type": "execute_result"
    },
    {
     "data": {
      "image/png": "[encoded data removed]",
      "text/plain": [
       "<Figure size 432x288 with 1 Axes>"
      ]
     },
     "metadata": {},
     "output_type": "display_data"
    }
   ],
   "source": [
    "import numpy as np\n",
    "satis_level = np.array(pd_stat['satisfaction_level'])\n",
    "y_pos = np.arange(satis_level.shape[0])\n",
    "plt.barh(y_pos, satis_level, align='center', alpha=0.8)\n",
    "plt.yticks(y_pos,list(pd_stat['sales']))\n",
    "plt.xlabel('Satisfaction level')\n",
    "plt.title('Mean Satisfaction Level of each department')"
   ]
  },
  {
   "cell_type": "markdown",
   "metadata": {},
   "source": [
    "### PCA：\n",
    "\n",
    "**satisfaction_level, last_evaluation, number_project, average_montly_hours, time_spend_company, Work_accident, promotion_last_5years**"
   ]
  },
  {
   "cell_type": "code",
   "execution_count": 14,
   "metadata": {
    "collapsed": true
   },
   "outputs": [],
   "source": [
    "data = df.select('satisfaction_level',\n",
    " 'last_evaluation',\n",
    " 'number_project',\n",
    " 'average_montly_hours',\n",
    " 'time_spend_company',\n",
    " 'Work_accident',\n",
    " 'promotion_last_5years',\n",
    "    'left')"
   ]
  },
  {
   "cell_type": "code",
   "execution_count": 15,
   "metadata": {},
   "outputs": [
    {
     "name": "stdout",
     "output_type": "stream",
     "text": [
      "+---------------------------------+-----+\n",
      "|features                         |label|\n",
      "+---------------------------------+-----+\n",
      "|[0.38,0.53,2.0,157.0,3.0,0.0,0.0]|1    |\n",
      "|[0.8,0.86,5.0,262.0,6.0,0.0,0.0] |1    |\n",
      "|[0.11,0.88,7.0,272.0,4.0,0.0,0.0]|1    |\n",
      "|[0.72,0.87,5.0,223.0,5.0,0.0,0.0]|1    |\n",
      "|[0.37,0.52,2.0,159.0,3.0,0.0,0.0]|1    |\n",
      "+---------------------------------+-----+\n",
      "only showing top 5 rows\n",
      "\n"
     ]
    }
   ],
   "source": [
    "from pyspark.ml.linalg import Vectors\n",
    "# convert the data to dense vector because ml api only accept this type.\n",
    "def transData(data):\n",
    "    return data.rdd.map(lambda r: [Vectors.dense(r[:-1]), r[-1]]).toDF(['features', 'label'])\n",
    "\n",
    "dfFtrvec = transData(data)\n",
    "dfFtrvec.show(5, False)"
   ]
  },
  {
   "cell_type": "code",
   "execution_count": 16,
   "metadata": {},
   "outputs": [
    {
     "name": "stdout",
     "output_type": "stream",
     "text": [
      "+----------------------------------------------------------------------------------------------------+\n",
      "|pcaFeatures                                                                                         |\n",
      "+----------------------------------------------------------------------------------------------------+\n",
      "|[157.02286349066927,2.421718772554353,-0.291751541737425,0.04514351747886546,0.4861679224330148]    |\n",
      "|[262.05895025799697,5.445974974458119,0.8339131239998299,0.09359795893203786,1.0231940432246271]    |\n",
      "|[272.0715604823676,4.018340905596155,3.2323834212257108,0.04477673178011242,0.3713744654761304]     |\n",
      "|[223.0575997367518,4.736602350161396,1.457484509028622,0.08546384569244313,0.9504138819924157]      |\n",
      "|[159.02273136503214,2.4089339520664725,-0.30963094990360895,0.04440076617685105,0.47380193645062746]|\n",
      "+----------------------------------------------------------------------------------------------------+\n",
      "only showing top 5 rows\n",
      "\n"
     ]
    }
   ],
   "source": [
    "from pyspark.ml.feature import PCA\n",
    "pca = PCA(k=5, inputCol=\"features\", outputCol=\"pcaFeatures\")\n",
    "model = pca.fit(dfFtrvec)\n",
    "\n",
    "result = model.transform(dfFtrvec).select(\"pcaFeatures\")\n",
    "result.show(5, truncate=False)"
   ]
  },
  {
   "cell_type": "code",
   "execution_count": 17,
   "metadata": {},
   "outputs": [
    {
     "data": {
      "text/plain": [
       "DenseVector([0.9986, 0.0009, 0.0005, 0.0, 0.0])"
      ]
     },
     "execution_count": 17,
     "metadata": {},
     "output_type": "execute_result"
    }
   ],
   "source": [
    "model.explainedVariance"
   ]
  },
  {
   "cell_type": "markdown",
   "metadata": {},
   "source": [
    "### Logistic Regression："
   ]
  },
  {
   "cell_type": "code",
   "execution_count": 18,
   "metadata": {},
   "outputs": [
    {
     "name": "stdout",
     "output_type": "stream",
     "text": [
      "+--------------------+-----+--------------------+\n",
      "|            features|label|     Scaled_features|\n",
      "+--------------------+-----+--------------------+\n",
      "|[0.38,0.53,2.0,15...|    1|[1.52837149554240...|\n",
      "|[0.8,0.86,5.0,262...|    1|[3.21762420114190...|\n",
      "|[0.11,0.88,7.0,27...|    1|[0.44242332765701...|\n",
      "|[0.72,0.87,5.0,22...|    1|[2.89586178102771...|\n",
      "|[0.37,0.52,2.0,15...|    1|[1.48815119302813...|\n",
      "+--------------------+-----+--------------------+\n",
      "only showing top 5 rows\n",
      "\n"
     ]
    }
   ],
   "source": [
    "from pyspark.ml.feature import StandardScaler\n",
    "\n",
    "standardscaler=StandardScaler().setInputCol(\"features\").setOutputCol(\"Scaled_features\")\n",
    "raw_data=standardscaler.fit(dfFtrvec).transform(dfFtrvec)\n",
    "raw_data.show(5)"
   ]
  },
  {
   "cell_type": "code",
   "execution_count": 19,
   "metadata": {
    "collapsed": true
   },
   "outputs": [],
   "source": [
    "from pyspark.ml.classification import LogisticRegression\n",
    "\n",
    "lr = LogisticRegression(labelCol=\"label\", featuresCol=\"Scaled_features\", maxIter=10)\n",
    "model=lr.fit(raw_data)"
   ]
  },
  {
   "cell_type": "code",
   "execution_count": 20,
   "metadata": {},
   "outputs": [
    {
     "data": {
      "text/plain": [
       "DenseVector([-1.046, 0.2245, -0.4373, 0.337, 0.3635, -0.5176, -0.311])"
      ]
     },
     "execution_count": 20,
     "metadata": {},
     "output_type": "execute_result"
    }
   ],
   "source": [
    "model.coefficients"
   ]
  },
  {
   "cell_type": "code",
   "execution_count": 21,
   "metadata": {},
   "outputs": [
    {
     "data": {
      "text/plain": [
       "{'Work_accident': -0.5176387225548083,\n",
       " 'average_montly_hours': 0.3369899840010184,\n",
       " 'last_evaluation': 0.2244698409381416,\n",
       " 'number_project': -0.43730696860957263,\n",
       " 'promotion_last_5years': -0.31095491947415643,\n",
       " 'satisfaction_level': -1.0460228336700277,\n",
       " 'time_spend_company': 0.3635246074193957}"
      ]
     },
     "execution_count": 21,
     "metadata": {},
     "output_type": "execute_result"
    }
   ],
   "source": [
    "dict(zip(data.columns[:-1], model.coefficients))"
   ]
  },
  {
   "cell_type": "code",
   "execution_count": null,
   "metadata": {
    "collapsed": true
   },
   "outputs": [],
   "source": []
  }
 ],
 "metadata": {
  "anaconda-cloud": {},
  "kernelspec": {
   "display_name": "Python [conda env:jupyter-spark]",
   "language": "python",
   "name": "conda-env-jupyter-spark-py"
  },
  "language_info": {
   "codemirror_mode": {
    "name": "ipython",
    "version": 3
   },
   "file_extension": ".py",
   "mimetype": "text/x-python",
   "name": "python",
   "nbconvert_exporter": "python",
   "pygments_lexer": "ipython3",
   "version": "3.6.5"
  }
 },
 "nbformat": 4,
 "nbformat_minor": 2
}
