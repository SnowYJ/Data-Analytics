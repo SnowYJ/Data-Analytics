{
 "cells": [
  {
   "cell_type": "markdown",
   "metadata": {},
   "source": [
    "## 逻辑回归："
   ]
  },
  {
   "cell_type": "markdown",
   "metadata": {},
   "source": [
    "* sigmoid 表达式：\n",
    "$$\n",
    "\\sigma (x) = \\frac{1}{1+e^x}\n",
    "$$\n",
    "* 逻辑回归表达式：\n",
    "\n",
    "$$\n",
    "p = \\sigma (\\text{w}^T x) = \\frac{1}{1 + e^{- \\text{w}^T x}}\n",
    "$$"
   ]
  },
  {
   "cell_type": "markdown",
   "metadata": {},
   "source": [
    "### 1. 二分类逻辑回归：\n",
    "\n"
   ]
  },
  {
   "cell_type": "markdown",
   "metadata": {},
   "source": [
    "二分类问题，公式如下：\n",
    "$$\n",
    "P(y|x) = \n",
    "\\begin{cases}  \n",
    "p, y = 1 \\\\\n",
    "1-p, y = 0\n",
    "\\end{cases}\n",
    "$$\n",
    "\n",
    "等价于：\n",
    "$$\n",
    "P(y|x) = \\text{p}^y (1-\\text{p})^{1-y}\n",
    "$$\n",
    "\n",
    "损失函数：\n",
    "\n",
    "$$\n",
    "\\text{Loss} = - \\ln \\left( \\prod_{i=1}^N \\text{p}_i \\right) = - \\ln \\left( \\prod_{i=1}^N \\text{p}^{y_i} (1-\\text{p})^{1-y_i} \\right) = - \\sum_{i=1}^n \\ln \\left( \\text{p}^y_i (1-\\text{p})^{1-y_i} \\right) = - \\sum_{i=1}^n \\left( y_i \\ln (\\text{p}_i) + (1-y_i) \\ln (1 - \\text{p}_i) \\right)\n",
    "$$\n",
    "\n",
    "损失函数的偏导如下：\n",
    "$$\n",
    "\\text{L}^\\prime(\\text{w}) = - \\nabla \\sum_{i=1}^n \\left( y_i \\ln (\\text{p}_i) + (1-y_i) \\ln (1 - \\text{p}_i) \\right)\n",
    "$$\n",
    "$$\n",
    "= - \\sum_{i=1}^n \\left( y_i \\ln^\\prime(\\text{p}_i) + (1-y_i) \\ln^\\prime(1 - \\text{p}_i) \\right)\n",
    "$$\n",
    "$$\n",
    "= - \\sum_{i=1}^n \\left( \\frac{1}{\\text{p}_i} \\text{p}_i^\\prime + (1-y_i)\\frac{1}{1 -\\text{p}_i}(1 - \\text{p}_i)^\\prime \\right)\n",
    "$$\n",
    "$$\n",
    "= - \\sum_{i=1}^n \\left( y_i(1-\\text{p}_i)x_i - (1-y_i)\\text{p}_i x_i \\right)\n",
    "$$\n",
    "$$\n",
    "= \\sum_{i=1}^n \\left(\\text{p}_i - y_i \\right) x_i\n",
    "$$\n",
    "\n",
    "<img src=\"NLP_github/logistic_regression.png\" width=\"500\" height=\"500\">\n",
    "\n",
    "https://zhuanlan.zhihu.com/p/45305497"
   ]
  },
  {
   "cell_type": "markdown",
   "metadata": {},
   "source": [
    "### 2. 多分类逻辑回归： "
   ]
  },
  {
   "cell_type": "markdown",
   "metadata": {},
   "source": [
    "* **softmax 函数公式如下：**\n",
    "\n",
    "$$\n",
    "\\text{P}(y=c|x, w) = \\text{softmax}(z_i) = \\frac{exp(z_i)}{\\sum_{i=1}^n exp(z_i)}\n",
    "$$\n",
    "\n",
    "* **概率如下：**\n",
    "$$\n",
    "\\text{P} = \\prod_{i=1}^N \\text{P}(y=c_i|x, w) = \\prod_{i=1}^N \\frac{exp(z_i)}{\\sum_{i=1}^n exp(z_i)}\n",
    "$$\n",
    "\n",
    "* **损失函数：**\n",
    "$$\n",
    "\\text{Loss} = - \\ln \\text{P} = - \\ln \\left( \\prod_{i=1}^N \\text{softmax}(z_i) \\right) = - \\ln \\left( \\prod_{i=1}^N \\frac{exp(z_j)}{\\sum_{i=1}^n exp(z_i)} \\right) = - \\sum_{i=1}^n \\ln \\frac{exp(z_j)}{\\sum_{i=1}^n exp(z_i)} = \\sum_{i=1}^n \\ln \\frac{\\sum_{i=1}^n exp(z_i)}{exp(z_j)}\n",
    "$$\n",
    "\n",
    "$$\n",
    "= \\sum_{i=1}^n \\ln \\frac{exp(z_1)+ \\dots + exp(z_n)}{exp(z_j)} = \\sum_{i=1}^n \\ln \\left( 1 + \\sum_{i\\neq j} exp(z_i - z_j) \\right)\n",
    "$$\n",
    "其中，索引j代表属于那个分类。\n",
    "\n",
    "* **损失函数的偏导如下：两种情况**\n",
    "\n",
    "\n",
    "1. 对其他类别求偏导:\n",
    "\n",
    ">$$\n",
    "\\text{L}^\\prime(w_i) = \\text{p}(y=c_i|x, w) \\times x_n^T\n",
    "$$\n",
    "\n",
    "2. 对当前的分类求偏导\n",
    "\n",
    ">$$\n",
    "\\text{L}^\\prime(w_i) = \\left(\\text{p}(y=c_j|x, w) - 1 \\right) \\times x_n^T\n",
    "$$\n",
    "\n",
    "* **最终向量形式如下：**\n",
    "$$\n",
    "W = W - \\eta \\begin{align*}\n",
    "            \\begin{bmatrix}\n",
    "                \\text{p}_1\\\\\n",
    "                \\text{p}_j - 1\\\\\n",
    "                \\vdots\\\\\n",
    "                \\text{p}_n\n",
    "            \\end{bmatrix} x_n^T\n",
    "\\end{align*}\n",
    "$$"
   ]
  },
  {
   "cell_type": "markdown",
   "metadata": {},
   "source": [
    "代码参考：term2_NLP_assignment1."
   ]
  },
  {
   "cell_type": "code",
   "execution_count": null,
   "metadata": {},
   "outputs": [],
   "source": []
  }
 ],
 "metadata": {
  "kernelspec": {
   "display_name": "Python 3",
   "language": "python",
   "name": "python3"
  },
  "language_info": {
   "codemirror_mode": {
    "name": "ipython",
    "version": 3
   },
   "file_extension": ".py",
   "mimetype": "text/x-python",
   "name": "python",
   "nbconvert_exporter": "python",
   "pygments_lexer": "ipython3",
   "version": "3.7.3"
  }
 },
 "nbformat": 4,
 "nbformat_minor": 2
}
