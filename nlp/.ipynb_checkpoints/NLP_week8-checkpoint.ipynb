{
 "cells": [
  {
   "cell_type": "markdown",
   "metadata": {},
   "source": [
    "## Seq2Seq:"
   ]
  },
  {
   "cell_type": "markdown",
   "metadata": {},
   "source": [
    "sequence-to-sequence模型是一类End-to-End的算法框架，也就是从序列到序列的转换模型框架，应用在机器翻译，自动应答等场景。Seq2Seq一般是通过Encoder-Decoder（编码-解码）框架实现，Encoder和Decoder部分可以是任意的文字，语音，图像，视频数据，模型可以采用CNN、RNN、LSTM、GRU、BLSTM等等。"
   ]
  },
  {
   "cell_type": "markdown",
   "metadata": {},
   "source": [
    "## 1. seq2seq应用 - 机器翻译："
   ]
  },
  {
   "cell_type": "markdown",
   "metadata": {},
   "source": [
    "### 1.1 Seq2Seq - RNN\n",
    "\n",
    "* 训练阶段：decoder输入为目标句子（监督学习）内单词的word embedding。\n",
    "* 预测阶段：decoder输入为上一时刻的输出。\n",
    "\n",
    "<img src=\"NLP_github/mt.png\" width=\"600\">\n",
    "<img src=\"NLP_github/mt2.png\" width=\"600\">\n",
    "\n",
    "* 贪心搜索（greedy search）：贪心算法是先挑出一个最可能的词，在此基础上再挑出第二个最有可能的词，以此类推，使每个词的概率最大化。\n",
    "* 集束搜索（beam search）：是站在整个词序列整体的角度上使其概率最大化。典型的结果是，通过贪心搜索得到的翻译结果可能会包含一些日常使用中词频较高的词。\n",
    "\n",
    "下面展示了encoder-decoder在机器翻译任务中的大概流程，其中每个单词依次作为输入传到RNN中，最后encoder将整个句子的编码作为输出传到decoder中。decoder中每个RNN的输出作为下一个输入。\n",
    "\n",
    "<img src=\"https://img-blog.csdnimg.cn/20191017230042619.gif\" width=\"700\">\n",
    "\n",
    "<img src=\"https://img-blog.csdnimg.cn/20191017230552106.gif\" width=\"700\">\n",
    "\n",
    "<img src=\"https://img-blog.csdnimg.cn/20191017231103862.gif\" width=\"700\">"
   ]
  },
  {
   "cell_type": "markdown",
   "metadata": {},
   "source": [
    "### 1.2 Seq2Seq - RNN + Attention \n",
    "\n",
    ">Attention 注意力机制提供了一个可以和远距离单词保持联系的方式， 解决了一个vector保存信息不足的问题。\n",
    ">\n",
    ">1. 首先decoder的hidden state和encoder所有的hidden state进行softmax，计算出attention weights，从而计算出attention output（encoder hidden state乘score然后求和）。\n",
    "2. attention output与decoder的hidden state拼接，传入全联接层最后通过softmax计算概率。\n",
    "3. Attention output与下一个单词的word embedding拼接，作为下一时刻的输入。（在预测阶段，attention output直接作为输入）\n",
    "\n",
    "<img src=\"NLP_github/seq2seq_attention_1.png\" width=\"700\">\n",
    "\n",
    "**Attention 中计算权重（score）以及最后attention的输出（上下文向量）。**\n",
    "><img src=\"https://img-blog.csdnimg.cn/20191017231657773.gif\" width=\"700\">\n",
    ">其中，向量点乘类似于求出cosine相似度。\n",
    "><img src=\"NLP_github/score.png\" width=\"700\">\n",
    "\n",
    "**大致流程如下：**\n",
    "<img src=\"https://img-blog.csdnimg.cn/20191017232637302.gif\" width=\"700\">"
   ]
  },
  {
   "cell_type": "markdown",
   "metadata": {},
   "source": [
    "### Reference:\n",
    "\n",
    "* [图片来源](https://blog.csdn.net/weixin_44388679/article/details/102575223?utm_medium=distribute.pc_relevant.none-task-blog-BlogCommendFromBaidu-18.nonecase&depth_1-utm_source=distribute.pc_relevant.none-task-blog-BlogCommendFromBaidu-18.nonecase)\n",
    "\n",
    "* [Seq2seq+attention](https://zhuanlan.zhihu.com/p/40920384)\n",
    "\n",
    "* [Attention介绍](https://mp.weixin.qq.com/s?__biz=Mzg5ODAzMTkyMg==&mid=2247485860&idx=1&sn=e926a739784090b3779711164217b968&chksm=c06981f9f71e08efb5f57441444f71a09f1d27fc667af656a5ad1173e32ad394201d02195a3a&mpshare=1&scene=1&srcid=0618HMAYi4gzzwWfedLoOuSD&key=cb6098335ab487a8ec84c95399379f16f975d33ce91588d73ecf857c54b543666b5927e231ad3a9b17bff0c20fff20fc49c262912dca050dee9465801de8a4cdc79e3d8f4fbc058345331fb691bcbacb&ascene=1&uin=MTE3NTM4MTY0NA%3D%3D&devicetype=Windows+10&version=62060833&lang=zh_CN&pass_ticket=ikhBXxX7PL%2Fal9hbIGXbRFA96ei74EF%2BcP8KdbP6UcV6mIpOfPWzVuju%2Bqw86q5r)"
   ]
  },
  {
   "cell_type": "code",
   "execution_count": null,
   "metadata": {},
   "outputs": [],
   "source": []
  }
 ],
 "metadata": {
  "kernelspec": {
   "display_name": "Python 3",
   "language": "python",
   "name": "python3"
  },
  "language_info": {
   "codemirror_mode": {
    "name": "ipython",
    "version": 3
   },
   "file_extension": ".py",
   "mimetype": "text/x-python",
   "name": "python",
   "nbconvert_exporter": "python",
   "pygments_lexer": "ipython3",
   "version": "3.7.3"
  }
 },
 "nbformat": 4,
 "nbformat_minor": 2
}
