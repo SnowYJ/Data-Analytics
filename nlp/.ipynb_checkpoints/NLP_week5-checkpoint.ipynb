{
 "cells": [
  {
   "cell_type": "markdown",
   "metadata": {},
   "source": [
    "## 句法结构分析 -  Dependency Parsing："
   ]
  },
  {
   "cell_type": "markdown",
   "metadata": {},
   "source": [
    "## 1. Graph-based（全局）:\n",
    "\n",
    "### 1.1 训练数据：Sentences + Dependency parse\n",
    "\n",
    "#### Dependency parse (or tree)：\n",
    "\n",
    "* Nodes or Vertices：节点，如下图中的每个单词均为一个节点。\n",
    "* Edges or Arcs：边，表示每个单词的关系。\n",
    "\n",
    "<img src=\"NLP_github/DP_example_1.png\" width=\"600\" height=\"500\">\n",
    "\n",
    "根据上图的 Dependency parse 构建图结构 (**Connected，Acyclic，Single-Head**)，通过添加root节点并且该节点指向无head的节点（主要包括动词以及标点符号）。\n",
    "\n",
    "<img src=\"NLP_github/well_formed_DP.png\" width=\"600\" height=\"500\">\n",
    "\n",
    "### 1.2 目标函数：\n",
    "\n",
    "学到一种模型使得目标函数最大，其中$G_x$为dependency tree。\n",
    "\n",
    "<img src=\"NLP_github/DP_model.png\" width=\"300\" height=\"300\">\n",
    "\n",
    "#### 如何获得 $G_x$ （树结构）？\n",
    "\n",
    "使用**Chu-Liu-Edmonds算法**提取**有向图**中最大生成树，**注意：克鲁斯卡尔算法用于无向图最小生成树**。\n",
    "\n",
    "<img src=\"NLP_github/maximum_spam_tree.png\" width=\"500\" height=\"500\">\n",
    "\n",
    "\n",
    "**Chu-Liu-Edmonds算法: 消环**\n",
    "\n",
    "1. 首先，对于所有节点找到最大的**入边（指向此节点的边）**，如下所示。\n",
    "\n",
    "<img src=\"NLP_github/MST_1.png\" width=\"400\" height=\"400\">\n",
    "\n",
    "2. 判断是否有环，如果有环对边的权重进行修改（节点所有的入边减去此节点最大的入边），如下图所示。\n",
    "\n",
    "<img src=\"NLP_github/MST_2.png\" width=\"400\" height=\"400\">\n",
    "\n",
    "3. 将有环的点进行合并（例如：将“that”与“flight”合并），如下所示。\n",
    "<img src=\"NLP_github/MST_3.png\" width=\"400\" height=\"400\">\n",
    "\n",
    "4. 重复步骤1，2，3，如下图所示。\n",
    "<img src=\"NLP_github/MST_4.png\" width=\"400\" height=\"400\">\n",
    "\n",
    "5. 还原被合并的节点，并将这些节点连接（注意：由flight指向that **入边**），如下图所示。\n",
    "<img src=\"NLP_github/MST_5.png\" width=\"400\" height=\"400\">\n",
    "\n",
    "### 1.3 优化算法：\n",
    "\n",
    "至此，每个句子x都可以得到一种生成树结构，这些树结构就是对应的特征函数f，将这些特征函数构成特征函数集，通过**条件随机场**学习权重$\\lambda$（参考week4）。\n",
    "\n",
    "<img src=\"NLP_github/DP_CRF.png\" width=\"400\" height=\"400\">"
   ]
  },
  {
   "cell_type": "markdown",
   "metadata": {},
   "source": [
    "## 2. Transition-based（局部）:\n",
    "\n",
    "**设计一系列action，其就是有方向带类型的边，接着从左向右依次解析句子中的每一个词，解析词的同时通过选择某一个action开始增量构建依存树，直到句子中的词解析完。**\n",
    "\n",
    "### 2.1 Arc-eager transition system:\n",
    "\n",
    "* shift: 入栈操作。\n",
    "* left_arc: 如果栈顶元素与栈内元素存在父子关系，并且此子节点不是父节点，将此节点从栈中删除。\n",
    "* right_arc: 如果栈顶元素与队列中某元素存在父子关系，进行shift操作。否则，删除栈顶元素。\n",
    "\n",
    "<img src=\"NLP_github/DP_tree.png\" width=\"500\" height=\"500\">\n",
    "\n",
    "操作过程如下：\n",
    "\n",
    "<img src=\"NLP_github/DP_transition.png\" width=\"500\" height=\"500\">\n",
    "\n",
    "### 2.2 Others:\n",
    "\n",
    "<img src=\"NLP_github/other_transition.png\" width=\"400\" height=\"400\">\n",
    "\n",
    "### 2.3 流程：\n",
    "\n",
    "<img src=\"NLP_github/steps.png\" width=\"400\" height=\"400\">\n",
    "\n",
    "**$\\alpha$为action，例如：shift，left_arc，right_arc等。**\n",
    "\n",
    "https://blog.csdn.net/Despacit0/article/details/92835286"
   ]
  },
  {
   "cell_type": "code",
   "execution_count": null,
   "metadata": {},
   "outputs": [],
   "source": []
  }
 ],
 "metadata": {
  "kernelspec": {
   "display_name": "Python 3",
   "language": "python",
   "name": "python3"
  },
  "language_info": {
   "codemirror_mode": {
    "name": "ipython",
    "version": 3
   },
   "file_extension": ".py",
   "mimetype": "text/x-python",
   "name": "python",
   "nbconvert_exporter": "python",
   "pygments_lexer": "ipython3",
   "version": "3.7.3"
  }
 },
 "nbformat": 4,
 "nbformat_minor": 2
}
