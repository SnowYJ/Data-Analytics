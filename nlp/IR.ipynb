{
 "cells": [
  {
   "cell_type": "markdown",
   "metadata": {},
   "source": [
    "## week4 信息检索："
   ]
  },
  {
   "cell_type": "markdown",
   "metadata": {},
   "source": [
    "### 1. 信息检索介绍：\n",
    "\n",
    "* 信息检索任务：从大量文本中寻找出与用户询问有关的文本。\n",
    "\n",
    "<img src=\"TP_github/IR.png\" width=\"500\" height=\"500\">\n",
    "\n",
    "**将文本用索引形式表达，通过对索引的检索可以获得相应的文本。**\n",
    "\n",
    "* 创建文本的索引：手动或自动创建。\n",
    "\n",
    "\n",
    "    (1) 手动创建索引：ACM, MeSH, Library of Congress Subject Headings, Dewey Decimal System。\n",
    "    \n",
    "    例如：MeSH 医疗主题标题用于描述医疗文本，每个文本有10到15个索引所表示，用户可以使用PubMed搜索文件。\n",
    "\n",
    "<img src=\"TP_github/MeSH_1.png\" width=\"400\" height=\"400\">\n",
    "\n",
    "<img src=\"TP_github/MeSH_2.png\" width=\"400\" height=\"400\">\n",
    "\n",
    "<img src=\"TP_github/MeSH_3.png\" width=\"400\" height=\"400\">\n",
    "\n",
    "<img src=\"TP_github/MeSH_4.png\" width=\"400\" height=\"400\">\n",
    "\n",
    "**这种索引方式有较高的精确性。但是，这种方式需要用户对一些专业术语有所了解。索引需要由专业人员进行命名。目录需要实时进行更新。**\n",
    "\n",
    "    (2) 自动创建索引：统计文本中单词出现的次数或记录单词的位置。\n",
    "<img src=\"TP_github/inverted_file_2.png\" width=\"600\" height=\"400\">    \n",
    "<img src=\"TP_github/inverted_file.png\" width=\"600\" height=\"400\">\n",
    "\n",
    "**第二种索引方式用于搜索文本中的相关段落或者匹配query中的词组，例如：the university of sheffield。**"
   ]
  },
  {
   "cell_type": "markdown",
   "metadata": {},
   "source": [
    "### 2. 检索模型：\n",
    "\n",
    "**Bag-of-Words Approach：忽略单词之间的关系，下面提及的两种方法均为 Bag-of-Words Approach。**"
   ]
  },
  {
   "cell_type": "markdown",
   "metadata": {},
   "source": [
    "### 2.1 boolean search: \n",
    "使用布尔运算符表达query，例如：\n",
    "<img src=\"TP_github/boolean.png\" width=\"500\" height=\"500\">\n",
    "**然而，这种方法并不适用于所有用户，并且，返回的文本是无序的。**\n",
    "\n",
    "### 2.2 ranked algorithm:\n",
    "**vector space model: 通过高维向量表示文本以及query，然后计算文本与query的cosin即为相似度。**\n",
    "<img src=\"TP_github/vector_space_model.png\" width=\"500\" height=\"300\">\n",
    "\n",
    "**term weight: 可以是binary, tf, tf.idf。**\n",
    "<img src=\"TP_github/vector_space.png\" width=\"500\" height=\"500\">\n",
    "<img src=\"TP_github/cosin.png\" width=\"500\" height=\"500\">"
   ]
  },
  {
   "cell_type": "markdown",
   "metadata": {},
   "source": [
    "### 3. Term Manipulation:"
   ]
  },
  {
   "cell_type": "markdown",
   "metadata": {},
   "source": [
    "**在使用某个模型前，需要对数据进行处理，例如：Tokenisation，Capitalisation，Lemmatisation，Stemming，Normalisation。**\n",
    "\n",
    "* Tokenisation：去标点符号get rid of punctuation，例如：word-based -> word based。\n",
    "\n",
    "\n",
    "* Capitalisation：大小写保持一致对于所有单词，但是，这种方法会导致一些单词混淆，例如：Turkey, turkey。\n",
    "\n",
    "\n",
    "* Lemmatisation：词形还原，一些单词的变形视为其基本形式，例如：has，have，had -> have。\n",
    "\n",
    "\n",
    "* Stemming：词干化，将词转换为其词干形式，例如：conntecing, connected, connection -> connect。\n",
    "\n",
    "\n",
    "* Normalisation：标准化，对有多种表达形式的名词标准化，例如：U.S.A，U S A -> USA。"
   ]
  },
  {
   "cell_type": "markdown",
   "metadata": {},
   "source": [
    "<img src=\"TP_github/ir_curve.png\" width=\"500\" height=\"500\">\n",
    "\n",
    "如上图所示，一些常见以及罕见的单词对于检索来所作用不大，例如：the, a, an, to。因此，可以使用**stop list**来忽略这些单词，stop list可以减小文件索引的尺寸，但是也会造成一些问题，如何搜索此句子：“to be or not to be”？"
   ]
  },
  {
   "cell_type": "markdown",
   "metadata": {},
   "source": [
    "### 4. Term Weight:\n",
    "\n",
    "<img src=\"Tp_github/term_weight.png\" width=\"500\" height=\"500\">"
   ]
  },
  {
   "cell_type": "markdown",
   "metadata": {},
   "source": [
    "通常情况下，不常见的单词的信息量越大，常见的单词信息量越小。**如果某个词比较少见（idf）**，但是它**在这篇文章中多次出现（tf）**，那么它很可能就反映了这篇文章的特性，正是我们所需要的关键词。\n",
    "\n",
    "* **逆向文件频率 Inverse document frequency：** \n",
    "$$\n",
    "\\text{idf}_{w, D} = \\log \\frac{|\\text{D}|}{df_w}\n",
    "$$\n",
    "\n",
    "**idf体现单词在全部文本中的罕见程度。不常见单词对应的idf值更大，然而，为了避免某些罕见单词的权重过大，取log可以避免。**\n",
    "\n",
    "* **tf.idf：**\n",
    "\n",
    "$$\n",
    "\\text{tf.idf}_{w, d, D} = \\text{tf}_{w, d} \\times \\text{idf}_{w, D}\n",
    "$$"
   ]
  },
  {
   "cell_type": "markdown",
   "metadata": {},
   "source": [
    "### 5. Web Search Ranking:"
   ]
  },
  {
   "cell_type": "markdown",
   "metadata": {},
   "source": [
    "相比于普通文本，网络上的超文本通常包含更多有用的信息，例如：**HTML中的head, title标签, 链接标签，一些字体颜色，加粗等特殊的形式。**\n",
    "\n",
    "**PageRank Algorithm: 根据网页中超链接计算page rank score，然后排名的一种算法。**\n",
    "\n",
    "* 如果文本A有一个链接到文本B，B文本通常比A更加权威。\n",
    "* 一个文本的PageRank score取决于包含这个文本链接的其他文本。（递归）\n",
    "\n",
    "例如：https://blog.csdn.net/leadai/article/details/81230557\n",
    "\n",
    "<img src=\"TP_github/page_rank_example.png\" width=\"800\" height=\"600\">\n",
    "\n",
    "计算某一页面page rank score的公式为：\n",
    "\n",
    "$$\n",
    "\\text{PR(A)} = (1 - \\text{d}) + \\text{d} \\left(\\frac{\\text{PR}(\\text{T}_1)}{\\text{C}(\\text{T}_1)} + \\dots +\\frac{\\text{PR}(\\text{T}_n)}{\\text{C}(\\text{T}_n)} \\right)\n",
    "$$\n",
    "\n",
    "* d 为阻尼系数，其意义是，在任意时刻，用户到达某页面后并继续向后浏览的概率。\n",
    "* C(Ti)是页面Ti的出度，也就是Ti指向其他页面的边的个数。\n",
    "* $\\frac{PR(T_i)}{C(T_i)}$ 为从$T_i$页面随机访问到页面A的概率。（忽略了用户偏好）\n",
    "\n",
    "**需要设置初始值以及收敛条件。**\n",
    "\n",
    "**最后某一文本的得分取决于pageRank score以及IR score。**"
   ]
  },
  {
   "cell_type": "markdown",
   "metadata": {},
   "source": [
    "### 6. Evaluation：\n",
    "\n",
    "使用 benchmarking corpus，gold-standard dataset，来评估检索模型性能。"
   ]
  },
  {
   "cell_type": "markdown",
   "metadata": {},
   "source": [
    "<img src=\"TP_github/evaluation.png\" width=\"400\" height=\"300\">"
   ]
  },
  {
   "cell_type": "markdown",
   "metadata": {},
   "source": [
    "recall = $ \\frac{A}{A+C} $，precision = $\\frac{A}{A+B}$\n",
    "\n",
    "**There is always a trade-off between precision and recall:**\n",
    "<img src=\"TP_github/evaluation_1.png\" width=\"400\" height=\"400\">\n",
    "\n",
    "**由于recall, precision相互制约，因此，使用$F_\\beta$反映模型性能。$F_\\beta$为recall, precision的加权调和平均。**\n",
    "\n",
    "$$F_\\beta = \\frac{(\\beta^2 + 1)PR}{\\beta^2P+R}$$"
   ]
  },
  {
   "cell_type": "code",
   "execution_count": null,
   "metadata": {},
   "outputs": [],
   "source": []
  }
 ],
 "metadata": {
  "kernelspec": {
   "display_name": "Python 3",
   "language": "python",
   "name": "python3"
  },
  "language_info": {
   "codemirror_mode": {
    "name": "ipython",
    "version": 3
   },
   "file_extension": ".py",
   "mimetype": "text/x-python",
   "name": "python",
   "nbconvert_exporter": "python",
   "pygments_lexer": "ipython3",
   "version": "3.7.3"
  }
 },
 "nbformat": 4,
 "nbformat_minor": 2
}
